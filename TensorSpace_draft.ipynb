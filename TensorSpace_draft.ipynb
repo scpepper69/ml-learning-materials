{
  "nbformat": 4,
  "nbformat_minor": 0,
  "metadata": {
    "colab": {
      "name": "TensorSpace_draft.ipynb",
      "version": "0.3.2",
      "provenance": [],
      "include_colab_link": true
    },
    "kernelspec": {
      "name": "python3",
      "display_name": "Python 3"
    }
  },
  "cells": [
    {
      "cell_type": "markdown",
      "metadata": {
        "id": "view-in-github",
        "colab_type": "text"
      },
      "source": [
        "<a href=\"https://colab.research.google.com/github/scpepper69/ml-learning-materials/blob/master/TensorSpace_draft.ipynb\" target=\"_parent\"><img src=\"https://colab.research.google.com/assets/colab-badge.svg\" alt=\"Open In Colab\"/></a>"
      ]
    },
    {
      "cell_type": "code",
      "metadata": {
        "id": "8kYl_6okGMxe",
        "colab_type": "code",
        "outputId": "7ff11257-d51e-4b18-9002-a115ede4b278",
        "colab": {
          "base_uri": "https://localhost:8080/",
          "height": 124
        }
      },
      "source": [
        "# モデルファイル共有用Googleドライブの準備\n",
        "import os, shutil\n",
        "from google.colab import drive\n",
        "drive.mount('/content/drive/')\n",
        "gdrive_base='/content/drive/My Drive/Colab Notebooks/'"
      ],
      "execution_count": 1,
      "outputs": [
        {
          "output_type": "stream",
          "text": [
            "Go to this URL in a browser: https://accounts.google.com/o/oauth2/auth?client_id=947318989803-6bn6qk8qdgf4n4g3pfee6491hc0brc4i.apps.googleusercontent.com&redirect_uri=urn%3Aietf%3Awg%3Aoauth%3A2.0%3Aoob&scope=email%20https%3A%2F%2Fwww.googleapis.com%2Fauth%2Fdocs.test%20https%3A%2F%2Fwww.googleapis.com%2Fauth%2Fdrive%20https%3A%2F%2Fwww.googleapis.com%2Fauth%2Fdrive.photos.readonly%20https%3A%2F%2Fwww.googleapis.com%2Fauth%2Fpeopleapi.readonly&response_type=code\n",
            "\n",
            "Enter your authorization code:\n",
            "··········\n",
            "Mounted at /content/drive/\n"
          ],
          "name": "stdout"
        }
      ]
    },
    {
      "cell_type": "code",
      "metadata": {
        "id": "NN9GBqUZGPvC",
        "colab_type": "code",
        "outputId": "26775f46-5a14-4989-922a-e962405a37f2",
        "colab": {
          "base_uri": "https://localhost:8080/",
          "height": 1000
        }
      },
      "source": [
        "# TensorSpaceのインストールおよびライブラリバージョン調整\n",
        "!npm install tensorspace\n",
        "!git clone https://github.com/tensorspace-team/tensorspace.git\n",
        "\n",
        "!pip install tensorspacejs\n",
        "!pip install keras==2.2.4"
      ],
      "execution_count": 2,
      "outputs": [
        {
          "output_type": "stream",
          "text": [
            "\u001b[K\u001b[?25h\u001b[37;40mnpm\u001b[0m \u001b[0m\u001b[30;43mWARN\u001b[0m \u001b[0m\u001b[35msaveError\u001b[0m ENOENT: no such file or directory, open '/content/package.json'\n",
            "\u001b[K\u001b[?25h\u001b[37;40mnpm\u001b[0m \u001b[0m\u001b[34;40mnotice\u001b[0m\u001b[35m\u001b[0m created a lockfile as package-lock.json. You should commit this file.\n",
            "\u001b[0m\u001b[37;40mnpm\u001b[0m \u001b[0m\u001b[30;43mWARN\u001b[0m \u001b[0m\u001b[35menoent\u001b[0m ENOENT: no such file or directory, open '/content/package.json'\n",
            "\u001b[0m\u001b[37;40mnpm\u001b[0m \u001b[0m\u001b[30;43mWARN\u001b[0m\u001b[35m\u001b[0m three-trackballcontrols@0.0.7 requires a peer of three@^0.86.0 but none is installed. You must install peer dependencies yourself.\n",
            "\u001b[0m\u001b[37;40mnpm\u001b[0m \u001b[0m\u001b[30;43mWARN\u001b[0m\u001b[35m\u001b[0m rollup-plugin-visualizer@1.1.1 requires a peer of rollup@>=0.60.0 but none is installed. You must install peer dependencies yourself.\n",
            "\u001b[0m\u001b[37;40mnpm\u001b[0m \u001b[0m\u001b[30;43mWARN\u001b[0m\u001b[35m\u001b[0m content No description\n",
            "\u001b[0m\u001b[37;40mnpm\u001b[0m \u001b[0m\u001b[30;43mWARN\u001b[0m\u001b[35m\u001b[0m content No repository field.\n",
            "\u001b[0m\u001b[37;40mnpm\u001b[0m \u001b[0m\u001b[30;43mWARN\u001b[0m\u001b[35m\u001b[0m content No README data\n",
            "\u001b[0m\u001b[37;40mnpm\u001b[0m \u001b[0m\u001b[30;43mWARN\u001b[0m\u001b[35m\u001b[0m content No license field.\n",
            "\u001b[0m\n",
            "+ tensorspace@0.6.1\n",
            "added 450 packages from 900 contributors in 12.899s\n",
            "Cloning into 'tensorspace'...\n",
            "remote: Enumerating objects: 308, done.\u001b[K\n",
            "remote: Counting objects: 100% (308/308), done.\u001b[K\n",
            "remote: Compressing objects: 100% (211/211), done.\u001b[K\n",
            "remote: Total 7729 (delta 132), reused 231 (delta 82), pack-reused 7421\u001b[K\n",
            "Receiving objects: 100% (7729/7729), 1.10 GiB | 35.29 MiB/s, done.\n",
            "Resolving deltas: 100% (4989/4989), done.\n",
            "Checking out files: 100% (650/650), done.\n",
            "Collecting tensorspacejs\n",
            "\u001b[?25l  Downloading https://files.pythonhosted.org/packages/0a/68/4cd1d0dffe6a6f41ef128723e999991dbd822e92df28ea8b2d4b7e342ab6/tensorspacejs-0.2.0-py3-none-any.whl (62kB)\n",
            "\u001b[K     |████████████████████████████████| 71kB 2.7MB/s \n",
            "\u001b[?25hCollecting keras==2.2.2 (from tensorspacejs)\n",
            "\u001b[?25l  Downloading https://files.pythonhosted.org/packages/34/7d/b1dedde8af99bd82f20ed7e9697aac0597de3049b1f786aa2aac3b9bd4da/Keras-2.2.2-py2.py3-none-any.whl (299kB)\n",
            "\u001b[K     |████████████████████████████████| 307kB 7.7MB/s \n",
            "\u001b[?25hCollecting tensorflow==1.12.0 (from tensorspacejs)\n",
            "\u001b[?25l  Downloading https://files.pythonhosted.org/packages/22/cc/ca70b78087015d21c5f3f93694107f34ebccb3be9624385a911d4b52ecef/tensorflow-1.12.0-cp36-cp36m-manylinux1_x86_64.whl (83.1MB)\n",
            "\u001b[K     |████████████████████████████████| 83.1MB 1.2MB/s \n",
            "\u001b[?25hCollecting tensorflowjs==0.8.0 (from tensorspacejs)\n",
            "  Downloading https://files.pythonhosted.org/packages/6b/0c/89f4b64a9c55a161287781f8c63e4492f6cb2faa01195c9f8990291c1404/tensorflowjs-0.8.0-py3-none-any.whl\n",
            "Requirement already satisfied: h5py in /usr/local/lib/python3.6/dist-packages (from keras==2.2.2->tensorspacejs) (2.8.0)\n",
            "Collecting keras-applications==1.0.4 (from keras==2.2.2->tensorspacejs)\n",
            "\u001b[?25l  Downloading https://files.pythonhosted.org/packages/54/90/8f327deaa37a71caddb59b7b4aaa9d4b3e90c0e76f8c2d1572005278ddc5/Keras_Applications-1.0.4-py2.py3-none-any.whl (43kB)\n",
            "\u001b[K     |████████████████████████████████| 51kB 15.9MB/s \n",
            "\u001b[?25hRequirement already satisfied: pyyaml in /usr/local/lib/python3.6/dist-packages (from keras==2.2.2->tensorspacejs) (3.13)\n",
            "Collecting keras-preprocessing==1.0.2 (from keras==2.2.2->tensorspacejs)\n",
            "  Downloading https://files.pythonhosted.org/packages/71/26/1e778ebd737032749824d5cba7dbd3b0cf9234b87ab5ec79f5f0403ca7e9/Keras_Preprocessing-1.0.2-py2.py3-none-any.whl\n",
            "Requirement already satisfied: numpy>=1.9.1 in /usr/local/lib/python3.6/dist-packages (from keras==2.2.2->tensorspacejs) (1.16.4)\n",
            "Requirement already satisfied: six>=1.9.0 in /usr/local/lib/python3.6/dist-packages (from keras==2.2.2->tensorspacejs) (1.12.0)\n",
            "Requirement already satisfied: scipy>=0.14 in /usr/local/lib/python3.6/dist-packages (from keras==2.2.2->tensorspacejs) (1.3.0)\n",
            "Requirement already satisfied: termcolor>=1.1.0 in /usr/local/lib/python3.6/dist-packages (from tensorflow==1.12.0->tensorspacejs) (1.1.0)\n",
            "Collecting tensorboard<1.13.0,>=1.12.0 (from tensorflow==1.12.0->tensorspacejs)\n",
            "\u001b[?25l  Downloading https://files.pythonhosted.org/packages/07/53/8d32ce9471c18f8d99028b7cef2e5b39ea8765bd7ef250ca05b490880971/tensorboard-1.12.2-py3-none-any.whl (3.0MB)\n",
            "\u001b[K     |████████████████████████████████| 3.1MB 45.1MB/s \n",
            "\u001b[?25hRequirement already satisfied: absl-py>=0.1.6 in /usr/local/lib/python3.6/dist-packages (from tensorflow==1.12.0->tensorspacejs) (0.7.1)\n",
            "Requirement already satisfied: wheel>=0.26 in /usr/local/lib/python3.6/dist-packages (from tensorflow==1.12.0->tensorspacejs) (0.33.4)\n",
            "Requirement already satisfied: protobuf>=3.6.1 in /usr/local/lib/python3.6/dist-packages (from tensorflow==1.12.0->tensorspacejs) (3.7.1)\n",
            "Requirement already satisfied: gast>=0.2.0 in /usr/local/lib/python3.6/dist-packages (from tensorflow==1.12.0->tensorspacejs) (0.2.2)\n",
            "Requirement already satisfied: astor>=0.6.0 in /usr/local/lib/python3.6/dist-packages (from tensorflow==1.12.0->tensorspacejs) (0.8.0)\n",
            "Requirement already satisfied: grpcio>=1.8.6 in /usr/local/lib/python3.6/dist-packages (from tensorflow==1.12.0->tensorspacejs) (1.15.0)\n",
            "Collecting tensorflow-hub==0.1.1 (from tensorflowjs==0.8.0->tensorspacejs)\n",
            "\u001b[?25l  Downloading https://files.pythonhosted.org/packages/5f/22/64f246ef80e64b1a13b2f463cefa44f397a51c49a303294f5f3d04ac39ac/tensorflow_hub-0.1.1-py2.py3-none-any.whl (52kB)\n",
            "\u001b[K     |████████████████████████████████| 61kB 22.9MB/s \n",
            "\u001b[?25hRequirement already satisfied: werkzeug>=0.11.10 in /usr/local/lib/python3.6/dist-packages (from tensorboard<1.13.0,>=1.12.0->tensorflow==1.12.0->tensorspacejs) (0.15.4)\n",
            "Requirement already satisfied: markdown>=2.6.8 in /usr/local/lib/python3.6/dist-packages (from tensorboard<1.13.0,>=1.12.0->tensorflow==1.12.0->tensorspacejs) (3.1.1)\n",
            "Requirement already satisfied: setuptools in /usr/local/lib/python3.6/dist-packages (from protobuf>=3.6.1->tensorflow==1.12.0->tensorspacejs) (41.0.1)\n",
            "\u001b[31mERROR: tensorflow 1.12.0 has requirement keras-applications>=1.0.6, but you'll have keras-applications 1.0.4 which is incompatible.\u001b[0m\n",
            "\u001b[31mERROR: tensorflow 1.12.0 has requirement keras-preprocessing>=1.0.5, but you'll have keras-preprocessing 1.0.2 which is incompatible.\u001b[0m\n",
            "\u001b[31mERROR: tensorflowjs 0.8.0 has requirement numpy==1.15.1, but you'll have numpy 1.16.4 which is incompatible.\u001b[0m\n",
            "\u001b[31mERROR: tensorflowjs 0.8.0 has requirement six==1.11.0, but you'll have six 1.12.0 which is incompatible.\u001b[0m\n",
            "Installing collected packages: keras-applications, keras-preprocessing, keras, tensorboard, tensorflow, tensorflow-hub, tensorflowjs, tensorspacejs\n",
            "  Found existing installation: Keras-Applications 1.0.8\n",
            "    Uninstalling Keras-Applications-1.0.8:\n",
            "      Successfully uninstalled Keras-Applications-1.0.8\n",
            "  Found existing installation: Keras-Preprocessing 1.1.0\n",
            "    Uninstalling Keras-Preprocessing-1.1.0:\n",
            "      Successfully uninstalled Keras-Preprocessing-1.1.0\n",
            "  Found existing installation: Keras 2.2.4\n",
            "    Uninstalling Keras-2.2.4:\n",
            "      Successfully uninstalled Keras-2.2.4\n",
            "  Found existing installation: tensorboard 1.14.0\n",
            "    Uninstalling tensorboard-1.14.0:\n",
            "      Successfully uninstalled tensorboard-1.14.0\n",
            "  Found existing installation: tensorflow 1.14.0\n",
            "    Uninstalling tensorflow-1.14.0:\n",
            "      Successfully uninstalled tensorflow-1.14.0\n",
            "  Found existing installation: tensorflow-hub 0.4.0\n",
            "    Uninstalling tensorflow-hub-0.4.0:\n",
            "      Successfully uninstalled tensorflow-hub-0.4.0\n",
            "Successfully installed keras-2.2.2 keras-applications-1.0.4 keras-preprocessing-1.0.2 tensorboard-1.12.2 tensorflow-1.12.0 tensorflow-hub-0.1.1 tensorflowjs-0.8.0 tensorspacejs-0.2.0\n",
            "Collecting keras==2.2.4\n",
            "\u001b[?25l  Downloading https://files.pythonhosted.org/packages/5e/10/aa32dad071ce52b5502266b5c659451cfd6ffcbf14e6c8c4f16c0ff5aaab/Keras-2.2.4-py2.py3-none-any.whl (312kB)\n",
            "\u001b[K     |████████████████████████████████| 317kB 2.8MB/s \n",
            "\u001b[?25hCollecting keras-preprocessing>=1.0.5 (from keras==2.2.4)\n",
            "\u001b[?25l  Downloading https://files.pythonhosted.org/packages/28/6a/8c1f62c37212d9fc441a7e26736df51ce6f0e38455816445471f10da4f0a/Keras_Preprocessing-1.1.0-py2.py3-none-any.whl (41kB)\n",
            "\u001b[K     |████████████████████████████████| 51kB 19.8MB/s \n",
            "\u001b[?25hCollecting keras-applications>=1.0.6 (from keras==2.2.4)\n",
            "\u001b[?25l  Downloading https://files.pythonhosted.org/packages/71/e3/19762fdfc62877ae9102edf6342d71b28fbfd9dea3d2f96a882ce099b03f/Keras_Applications-1.0.8-py3-none-any.whl (50kB)\n",
            "\u001b[K     |████████████████████████████████| 51kB 18.8MB/s \n",
            "\u001b[?25hRequirement already satisfied: numpy>=1.9.1 in /usr/local/lib/python3.6/dist-packages (from keras==2.2.4) (1.16.4)\n",
            "Requirement already satisfied: h5py in /usr/local/lib/python3.6/dist-packages (from keras==2.2.4) (2.8.0)\n",
            "Requirement already satisfied: pyyaml in /usr/local/lib/python3.6/dist-packages (from keras==2.2.4) (3.13)\n",
            "Requirement already satisfied: scipy>=0.14 in /usr/local/lib/python3.6/dist-packages (from keras==2.2.4) (1.3.0)\n",
            "Requirement already satisfied: six>=1.9.0 in /usr/local/lib/python3.6/dist-packages (from keras==2.2.4) (1.12.0)\n",
            "\u001b[31mERROR: tensorspacejs 0.2.0 has requirement keras==2.2.2, but you'll have keras 2.2.4 which is incompatible.\u001b[0m\n",
            "\u001b[31mERROR: tensorflowjs 0.8.0 has requirement keras==2.2.2, but you'll have keras 2.2.4 which is incompatible.\u001b[0m\n",
            "\u001b[31mERROR: tensorflowjs 0.8.0 has requirement numpy==1.15.1, but you'll have numpy 1.16.4 which is incompatible.\u001b[0m\n",
            "\u001b[31mERROR: tensorflowjs 0.8.0 has requirement six==1.11.0, but you'll have six 1.12.0 which is incompatible.\u001b[0m\n",
            "Installing collected packages: keras-preprocessing, keras-applications, keras\n",
            "  Found existing installation: Keras-Preprocessing 1.0.2\n",
            "    Uninstalling Keras-Preprocessing-1.0.2:\n",
            "      Successfully uninstalled Keras-Preprocessing-1.0.2\n",
            "  Found existing installation: Keras-Applications 1.0.4\n",
            "    Uninstalling Keras-Applications-1.0.4:\n",
            "      Successfully uninstalled Keras-Applications-1.0.4\n",
            "  Found existing installation: Keras 2.2.2\n",
            "    Uninstalling Keras-2.2.2:\n",
            "      Successfully uninstalled Keras-2.2.2\n",
            "Successfully installed keras-2.2.4 keras-applications-1.0.8 keras-preprocessing-1.1.0\n"
          ],
          "name": "stdout"
        }
      ]
    },
    {
      "cell_type": "code",
      "metadata": {
        "id": "KTwzAcl7HpxS",
        "colab_type": "code",
        "outputId": "1b77636e-0bc2-4e49-9087-4e7684d05aee",
        "colab": {
          "base_uri": "https://localhost:8080/",
          "height": 471
        }
      },
      "source": [
        "# Converter初期化処理\n",
        "!tensorspacejs_converter -init"
      ],
      "execution_count": 3,
      "outputs": [
        {
          "output_type": "stream",
          "text": [
            "Using TensorFlow backend.\n",
            "Initializing TensorSpace Converter...\n",
            "\u001b[K\u001b[?25h\n",
            "> @tensorflow/tfjs-node@1.0.0-alpha2 install /usr/local/lib/python3.6/dist-packages/tensorspacejs/tfjs/node_modules/@tensorflow/tfjs-node\n",
            "> node scripts/install.js\n",
            "\n",
            "* Downloading libtensorflow\n",
            "\u001b[1G[] Infinity/bps 0% 0.0s\u001b[0K\u001b[1G[] 436813/bps 0% 94.6s\u001b[0K\u001b[1G[] 2010406/bps 0% 20.5s\u001b[0K\u001b[1G[] 2649625/bps 0% 15.6s\u001b[0K\u001b[1G[] 2925031/bps 0% 14.1s\u001b[0K\u001b[1G[] 3036111/bps 0% 13.5s\u001b[0K\u001b[1G[] 3309608/bps 0% 12.4s\u001b[0K\u001b[1G[] 3251558/bps 0% 12.6s\u001b[0K\u001b[1G[] 3280015/bps 1% 12.5s\u001b[0K\u001b[1G[] 3414818/bps 1% 12.0s\u001b[0K\u001b[1G[] 3439232/bps 1% 11.9s\u001b[0K\u001b[1G[] 3418243/bps 1% 11.9s\u001b[0K\u001b[1G[] 3591041/bps 1% 11.3s\u001b[0K\u001b[1G[] 3648009/bps 1% 11.1s\u001b[0K\u001b[1G[] 3667043/bps 2% 11.0s\u001b[0K\u001b[1G[] 3694718/bps 2% 10.9s\u001b[0K\u001b[1G[] 3765739/bps 2% 10.7s\u001b[0K\u001b[1G[] 4033150/bps 2% 10.0s\u001b[0K\u001b[1G[] 4894493/bps 3% 8.1s\u001b[0K\u001b[1G[] 5448890/bps 4% 7.3s\u001b[0K\u001b[1G[] 6072703/bps 4% 6.5s\u001b[0K\u001b[1G[] 6662791/bps 5% 5.9s\u001b[0K\u001b[1G[] 7223589/bps 6% 5.4s\u001b[0K\u001b[1G[] 7543774/bps 6% 5.1s\u001b[0K\u001b[1G[] 7736126/bps 7% 4.9s\u001b[0K\u001b[1G[] 7793319/bps 7% 4.9s\u001b[0K\u001b[1G[] 8112972/bps 8% 4.7s\u001b[0K\u001b[1G[] 8281117/bps 8% 4.5s\u001b[0K\u001b[1G[] 8739052/bps 9% 4.3s\u001b[0K\u001b[1G[] 8943536/bps 10% 4.1s\u001b[0K\u001b[1G[] 9300603/bps 11% 4.0s\u001b[0K\u001b[1G[] 9651329/bps 11% 3.8s\u001b[0K\u001b[1G[] 9591365/bps 12% 3.8s\u001b[0K\u001b[1G[] 9670970/bps 12% 3.7s\u001b[0K\u001b[1G[] 9606278/bps 13% 3.7s\u001b[0K\u001b[1G[] 9879407/bps 13% 3.6s\u001b[0K\u001b[1G[] 10053033/bps 14% 3.5s\u001b[0K\u001b[1G[] 10404798/bps 15% 3.4s\u001b[0K\u001b[1G[] 10647673/bps 16% 3.3s\u001b[0K\u001b[1G[] 10967285/bps 17% 3.1s\u001b[0K\u001b[1G[] 11234323/bps 17% 3.0s\u001b[0K\u001b[1G[] 11512923/bps 18% 2.9s\u001b[0K\u001b[1G[] 11707853/bps 19% 2.8s\u001b[0K\u001b[1G[] 11974763/bps 20% 2.7s\u001b[0K\u001b[1G[] 11925248/bps 20% 2.7s\u001b[0K\u001b[1G[] 11910989/bps 21% 2.7s\u001b[0K\u001b[1G[] 12124288/bps 22% 2.7s\u001b[0K\u001b[1G[] 12328767/bps 23% 2.6s\u001b[0K\u001b[1G[] 12240462/bps 23% 2.6s\u001b[0K\u001b[1G[] 12192196/bps 24% 2.6s\u001b[0K\u001b[1G[] 12310908/bps 25% 2.5s\u001b[0K\u001b[1G[] 12320040/bps 25% 2.5s\u001b[0K\u001b[1G[] 12535278/bps 26% 2.4s\u001b[0K\u001b[1G[] 12733555/bps 27% 2.4s\u001b[0K\u001b[1G[] 12942924/bps 28% 2.3s\u001b[0K\u001b[1G[] 13136124/bps 29% 2.2s\u001b[0K\u001b[1G[] 13279012/bps 30% 2.2s\u001b[0K\u001b[1G[] 13434294/bps 30% 2.1s\u001b[0K\u001b[1G[] 13559086/bps 31% 2.1s\u001b[0K\u001b[1G[] 13729724/bps 32% 2.0s\u001b[0K\u001b[1G[] 13894907/bps 33% 2.0s\u001b[0K\u001b[1G[] 13990452/bps 34% 1.9s\u001b[0K\u001b[1G[] 13853059/bps 34% 2.0s\u001b[0K\u001b[1G[] 13899472/bps 35% 1.9s\u001b[0K\u001b[1G[] 13944490/bps 35% 1.9s\u001b[0K\u001b[1G[] 14101848/bps 36% 1.9s\u001b[0K\u001b[1G[] 14232213/bps 37% 1.8s\u001b[0K\u001b[1G[] 14329389/bps 38% 1.8s\u001b[0K\u001b[1G[] 14336739/bps 39% 1.8s\u001b[0K\u001b[1G[] 14358192/bps 39% 1.7s\u001b[0K\u001b[1G[] 14386110/bps 40% 1.7s\u001b[0K\u001b[1G[] 14420229/bps 41% 1.7s\u001b[0K\u001b[1G[] 14405366/bps 41% 1.7s\u001b[0K\u001b[1G[] 14465431/bps 42% 1.6s\u001b[0K\u001b[1G[] 14490490/bps 42% 1.6s\u001b[0K\u001b[1G[] 14435689/bps 43% 1.6s\u001b[0K\u001b[1G[] 14525660/bps 44% 1.6s\u001b[0K\u001b[1G[] 14531166/bps 44% 1.6s\u001b[0K\u001b[1G[] 14598600/bps 45% 1.5s\u001b[0K\u001b[1G[] 14714562/bps 46% 1.5s\u001b[0K\u001b[1G[] 14815324/bps 47% 1.5s\u001b[0K\u001b[1G[] 14766734/bps 47% 1.5s\u001b[0K\u001b[1G[] 14719292/bps 48% 1.5s\u001b[0K\u001b[1G[] 14515395/bps 48% 1.5s\u001b[0K\u001b[1G[] 14510178/bps 49% 1.4s\u001b[0K\u001b[1G[] 14548599/bps 49% 1.4s\u001b[0K\u001b[1G[] 14529116/bps 50% 1.4s\u001b[0K\u001b[1G[] 14577764/bps 51% 1.4s\u001b[0K\u001b[1G[] 14603031/bps 51% 1.4s\u001b[0K\u001b[1G[] 14627753/bps 52% 1.3s\u001b[0K\u001b[1G[] 14479343/bps 52% 1.3s\u001b[0K\u001b[1G[] 27429004/bps 100% 0.0s\u001b[0K\n",
            "* Building TensorFlow Node.js bindings\n",
            "\u001b[K\u001b[?25hadded 44 packages from 61 contributors in 9.721s\n",
            "\n",
            "\u001b[33m\u001b[39m\n",
            "\u001b[33m   ╭─────────────────────────────────────╮\u001b[39m\n",
            "   \u001b[33m│\u001b[39m                                     \u001b[33m│\u001b[39m\n",
            "   \u001b[33m│\u001b[39m   Update available \u001b[2m5.7.1\u001b[22m\u001b[0m → \u001b[0m\u001b[32m6.9.2\u001b[39m    \u001b[33m│\u001b[39m\n",
            "   \u001b[33m│\u001b[39m     Run \u001b[36mnpm i -g npm\u001b[39m to update      \u001b[33m│\u001b[39m\n",
            "   \u001b[33m│\u001b[39m                                     \u001b[33m│\u001b[39m\n",
            "\u001b[33m   ╰─────────────────────────────────────╯\u001b[39m\n",
            "\u001b[33m\u001b[39m\n",
            "\u001b[K\u001b[?25h\n",
            "> protobufjs@6.8.8 postinstall /usr/local/lib/python3.6/dist-packages/tensorspacejs/tf/pb2json/node_modules/protobufjs\n",
            "> node scripts/postinstall\n",
            "\n",
            "added 41 packages from 92 contributors in 1.949s\n",
            "TensorSpace Converter Initialization Completed!\n"
          ],
          "name": "stdout"
        }
      ]
    },
    {
      "cell_type": "code",
      "metadata": {
        "id": "pA0EqU0WGi6-",
        "colab_type": "code",
        "outputId": "b3749504-c953-46d9-afaf-e5f69f4453f6",
        "colab": {
          "base_uri": "https://localhost:8080/",
          "height": 208
        }
      },
      "source": [
        "# ディレクトリ作成\n",
        "if not os.path.isdir( \"./tensorspace/examples/my_model\" ):\n",
        "    os.makedirs( \"./tensorspace/examples/my_model\" )\n",
        "if not os.path.isdir( \"./tensorspace/examples/my_model/convertedModel\" ):\n",
        "    os.makedirs( \"./tensorspace/examples/my_model/convertedModel\" )\n",
        "if not os.path.isdir( \"./tensorspace/examples/my_model/data\" ):\n",
        "    os.makedirs( \"./tensorspace/examples/my_model/data\" )\n",
        "\n",
        "# pbファイルからTensorSpace用モデルファイルの生成\n",
        "#!tensorspacejs_converter --input_model_from=\"tensorflow\" --input_model_format=\"tf_frozen\" --output_layer_names=\"conv2d/Conv2D,conv2d_1/Conv2D,max_pooling2d/MaxPool,dense/MatMul,dense_1/MatMul,activation_3/Softmax\" \"/content/drive/My Drive/Colab Notebooks/ImageClassification/model/CNN_MNIST_10_frozen_graph.pb\" ./tensorspace/examples/my_model/convertedModel\n",
        "!tensorspacejs_converter --input_model_from=\"tensorflow\" --input_model_format=\"tf_keras\" --output_layer_names=\"conv2d,conv2d_1,max_pooling2d,dense,dense_1,activation_3\" \"/content/drive/My Drive/Colab Notebooks/ImageClassification/model/CNN_MNIST_10_frozen_graph.h5\" ./tensorspace/examples/my_model/convertedModel"
      ],
      "execution_count": 12,
      "outputs": [
        {
          "output_type": "stream",
          "text": [
            "Using TensorFlow backend.\n",
            "2019-07-02 12:03:04.703124: I tensorflow/core/platform/cpu_feature_guard.cc:141] Your CPU supports instructions that this TensorFlow binary was not compiled to use: AVX2 FMA\n",
            "Preprocessing hdf5 combined model...\n",
            "Loading .h5 model into memory...\n",
            "WARNING:tensorflow:No training configuration found in save file: the model was *not* compiled. Compile it manually.\n",
            "Generating multi-output encapsulated model...\n",
            "Saving temp multi-output .h5 model...\n",
            "Converting .h5 to web friendly format...\n",
            "Using TensorFlow backend.\n",
            "Deleting temp .h5 model...\n",
            "Mission Complete!!!\n"
          ],
          "name": "stdout"
        }
      ]
    },
    {
      "cell_type": "code",
      "metadata": {
        "id": "ukooDOGo-FVE",
        "colab_type": "code",
        "colab": {
          "base_uri": "https://localhost:8080/",
          "height": 260
        },
        "outputId": "1b6f1bb9-b0bf-44ec-bb49-e6423cbd0aba"
      },
      "source": [
        "# Web参照用ngrokのセットアップ\n",
        "!wget https://bin.equinox.io/c/4VmDzA7iaHb/ngrok-stable-linux-amd64.zip\n",
        "!unzip ngrok-stable-linux-amd64.zip\n",
        "\n",
        "get_ipython().system_raw('./ngrok http 6006 &')"
      ],
      "execution_count": 5,
      "outputs": [
        {
          "output_type": "stream",
          "text": [
            "--2019-07-02 11:53:54--  https://bin.equinox.io/c/4VmDzA7iaHb/ngrok-stable-linux-amd64.zip\n",
            "Resolving bin.equinox.io (bin.equinox.io)... 52.200.123.104, 52.207.111.186, 52.86.186.182, ...\n",
            "Connecting to bin.equinox.io (bin.equinox.io)|52.200.123.104|:443... connected.\n",
            "HTTP request sent, awaiting response... 200 OK\n",
            "Length: 17556757 (17M) [application/octet-stream]\n",
            "Saving to: ‘ngrok-stable-linux-amd64.zip’\n",
            "\n",
            "\r          ngrok-sta   0%[                    ]       0  --.-KB/s               \rngrok-stable-linux- 100%[===================>]  16.74M  87.3MB/s    in 0.2s    \n",
            "\n",
            "2019-07-02 11:53:55 (87.3 MB/s) - ‘ngrok-stable-linux-amd64.zip’ saved [17556757/17556757]\n",
            "\n",
            "Archive:  ngrok-stable-linux-amd64.zip\n",
            "  inflating: ngrok                   \n",
            "https://9a659ef7.ngrok.io\n"
          ],
          "name": "stdout"
        }
      ]
    },
    {
      "cell_type": "code",
      "metadata": {
        "id": "1MvggBUutdOP",
        "colab_type": "code",
        "colab": {}
      },
      "source": [
        "!cp ./tensorspace/examples/helloworld/data/5.json ./tensorspace/examples/my_model/data/5.json"
      ],
      "execution_count": 0,
      "outputs": []
    },
    {
      "cell_type": "code",
      "metadata": {
        "id": "ZOCYNkUOXU8k",
        "colab_type": "code",
        "colab": {}
      },
      "source": [
        "import os ,sys\n",
        "\n",
        "# ビジュアライズを行うHTMLファイルの生成\n",
        "# モデルの構造やファイルパスなどを書き換えて使ってください。\n",
        "\n",
        "out_html = \"\"\"\n",
        "<!DOCTYPE html>\n",
        "<html lang=\"en\">\n",
        "<head>\n",
        "    <meta charset=\"UTF-8\">\n",
        "    <title>TensorSpace - Hello World</title>\n",
        "    <meta name=\"author\" content=\"syt123450 / https://github.com/syt123450\">\n",
        "    <script src=\"../lib/three.min.js\"></script>\n",
        "    <script src=\"../lib/tween.min.js\"></script>\n",
        "    <script src=\"../lib/tf.min.js\"></script>\n",
        "    <script src=\"../lib/TrackballControls.js\"></script>\n",
        "    <script src=\"../../dist/tensorspace.min.js\"></script>\n",
        "    <script src=\"../lib/jquery.min.js\"></script>\n",
        "    <style>\n",
        "        html, body {\n",
        "            margin: 0;\n",
        "            padding: 0;\n",
        "            width: 100%;\n",
        "            height: 100%;\n",
        "        }\n",
        "        #container {\n",
        "            width: 100%;\n",
        "            height: 100%;\n",
        "        }\n",
        "    </style>\n",
        "</head>\n",
        "<body>\n",
        "<div id=\"container\"></div>\n",
        "<script>\n",
        "    $(function() {\n",
        "\t\tlet modelContainer = document.getElementById( \"container\" );\n",
        "\t\tlet model = new TSP.models.Sequential( modelContainer );\n",
        "\t\tmodel.add( new TSP.layers.GreyscaleInput() );\n",
        "\t\tmodel.add( new TSP.layers.Padding2d() );\n",
        "\t\tmodel.add( new TSP.layers.Conv2d() );\n",
        "\t\tmodel.add( new TSP.layers.Conv2d() );\n",
        "\t\tmodel.add( new TSP.layers.Pooling2d() );\n",
        "\t\tmodel.add( new TSP.layers.Dense() );\n",
        "\t\tmodel.add( new TSP.layers.Dense() );\n",
        "\t\tmodel.add( new TSP.layers.Output1d({\n",
        "\t\t\toutputs: [\"0\", \"1\", \"2\", \"3\", \"4\", \"5\", \"6\", \"7\", \"8\", \"9\"]\n",
        "\t\t}) );\n",
        "\n",
        "\t\tmodel.load({\n",
        "\t\t\ttype: \"tensorflow\",\n",
        "\t\t\turl: './convertedModel/model.json'\n",
        "\t\t});\n",
        "\n",
        "\t\tmodel.init( function() {\n",
        "\t\t\t$.ajax({\n",
        "\t\t\t\turl: \"./data/5.json\",\n",
        "\t\t\t\ttype: 'GET',\n",
        "\t\t\t\tasync: true,\n",
        "\t\t\t\tdataType: 'json',\n",
        "\t\t\t\tsuccess: function (data) {\n",
        "\t\t\t\t\tmodel.predict( data );\n",
        "\t\t\t\t}\n",
        "\t\t\t});\n",
        "\t\t} );\n",
        "    });\n",
        "</script>\n",
        "</body>\n",
        "</html>\n",
        "\"\"\"\n",
        "\n",
        "#Saving html file\n",
        "with open(\"./tensorspace/examples/my_model/vis_model.html\", mode='w') as f:\n",
        "    f.write(out_html)\n"
      ],
      "execution_count": 0,
      "outputs": []
    },
    {
      "cell_type": "code",
      "metadata": {
        "id": "lmNaIp1fYtQx",
        "colab_type": "code",
        "colab": {
          "base_uri": "https://localhost:8080/",
          "height": 86
        },
        "outputId": "ae6a7e55-ade5-42d5-ef80-829c9290ffdd"
      },
      "source": [
        "# Webサーバーの立ち上げ\n",
        "! curl -s http://localhost:4040/api/tunnels | python3 -c \"import sys, json; print(json.load(sys.stdin)['tunnels'][0]['public_url'])\"\n",
        "!python -m http.server 6006"
      ],
      "execution_count": 10,
      "outputs": [
        {
          "output_type": "stream",
          "text": [
            "Serving HTTP on 0.0.0.0 port 6006 (http://0.0.0.0:6006/) ...\n",
            "\n",
            "Keyboard interrupt received, exiting.\n",
            "^C\n"
          ],
          "name": "stdout"
        }
      ]
    },
    {
      "cell_type": "code",
      "metadata": {
        "id": "QT3MNA-geodo",
        "colab_type": "code",
        "colab": {}
      },
      "source": [
        ""
      ],
      "execution_count": 0,
      "outputs": []
    }
  ]
}