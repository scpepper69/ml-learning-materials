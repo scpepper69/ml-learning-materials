{
  "nbformat": 4,
  "nbformat_minor": 0,
  "metadata": {
    "colab": {
      "name": "TensorSpace_for_CNN_MNIST.ipynb",
      "version": "0.3.2",
      "provenance": [],
      "include_colab_link": true
    },
    "kernelspec": {
      "name": "python3",
      "display_name": "Python 3"
    }
  },
  "cells": [
    {
      "cell_type": "markdown",
      "metadata": {
        "id": "view-in-github",
        "colab_type": "text"
      },
      "source": [
        "<a href=\"https://colab.research.google.com/github/scpepper69/ml-learning-materials/blob/master/TensorSpace_for_CNN_MNIST.ipynb\" target=\"_parent\"><img src=\"https://colab.research.google.com/assets/colab-badge.svg\" alt=\"Open In Colab\"/></a>"
      ]
    },
    {
      "cell_type": "markdown",
      "metadata": {
        "id": "0LpBcCyPgCtX",
        "colab_type": "text"
      },
      "source": [
        "# TensorSpaceトライアル\n",
        "\n",
        "「TensorFlow_Keras_ImageClassificatioin_01.ipynb」にて生成した、MNISTのモデルをTensorSpaceにて3D可視化するためのNotebookです。\n",
        "\n",
        "※TensorSpaceに必要なライブラリ群とバージョン差異があったため、個別Notebookとしています。\n",
        "\n",
        "Google Colaboratory上にWebサーバを立て、参照する形になります。\n",
        "\n",
        "TensorSpaceの詳細については、下記GitHubを参照してください。\n",
        "\n",
        "- [tensorspace-team/tensorspace](https://github.com/tensorspace-team/tensorspace)\n",
        "- [tensorspace-team/tensorspace-converter](https://github.com/tensorspace-team/tensorspace-converter)\n",
        "\n",
        "\n"
      ]
    },
    {
      "cell_type": "markdown",
      "metadata": {
        "id": "41pDTz4zmiAn",
        "colab_type": "text"
      },
      "source": [
        "\n",
        "\n",
        "---\n",
        "\n",
        "\n",
        "### 1. 環境準備\n",
        "\n",
        "「TensorFlow_Keras_ImageClassificatioin_01.ipynb」にて生成したモデルを参照できるよう、Google Driveをマウントします。"
      ]
    },
    {
      "cell_type": "code",
      "metadata": {
        "id": "8kYl_6okGMxe",
        "colab_type": "code",
        "colab": {}
      },
      "source": [
        "# モデルファイル共有用Googleドライブの準備\n",
        "import os, shutil\n",
        "from google.colab import drive\n",
        "drive.mount('/content/drive/')\n",
        "gdrive_base='/content/drive/My Drive/Colab Notebooks/'"
      ],
      "execution_count": 0,
      "outputs": []
    },
    {
      "cell_type": "markdown",
      "metadata": {
        "id": "zGaozaR4lzyD",
        "colab_type": "text"
      },
      "source": [
        "TensorSpaceのインストールおよびライブラリのバージョン調整を行います。\n",
        "\n",
        "TesnorSpaceでは、Kerasのバージョンが2.2.2が要求されていますが、エラーが発生し、2.2.4で解消できたため、敢えて2.2.4としています。\n",
        "\n"
      ]
    },
    {
      "cell_type": "code",
      "metadata": {
        "id": "NN9GBqUZGPvC",
        "colab_type": "code",
        "outputId": "c733a9d2-84f7-4fd4-a892-a2d1e4362e8d",
        "colab": {
          "base_uri": "https://localhost:8080/",
          "height": 1000
        }
      },
      "source": [
        "# TensorSpaceのインストールおよびライブラリバージョン調整\n",
        "!npm install tensorspace\n",
        "!git clone https://github.com/tensorspace-team/tensorspace.git\n",
        "\n",
        "!pip install tensorspacejs\n",
        "!pip install keras==2.2.4"
      ],
      "execution_count": 2,
      "outputs": [
        {
          "output_type": "stream",
          "text": [
            "\u001b[K\u001b[?25h\u001b[37;40mnpm\u001b[0m \u001b[0m\u001b[30;43mWARN\u001b[0m \u001b[0m\u001b[35msaveError\u001b[0m ENOENT: no such file or directory, open '/content/package.json'\n",
            "\u001b[K\u001b[?25h\u001b[37;40mnpm\u001b[0m \u001b[0m\u001b[34;40mnotice\u001b[0m\u001b[35m\u001b[0m created a lockfile as package-lock.json. You should commit this file.\n",
            "\u001b[0m\u001b[37;40mnpm\u001b[0m \u001b[0m\u001b[30;43mWARN\u001b[0m \u001b[0m\u001b[35menoent\u001b[0m ENOENT: no such file or directory, open '/content/package.json'\n",
            "\u001b[0m\u001b[37;40mnpm\u001b[0m \u001b[0m\u001b[30;43mWARN\u001b[0m\u001b[35m\u001b[0m three-trackballcontrols@0.0.7 requires a peer of three@^0.86.0 but none is installed. You must install peer dependencies yourself.\n",
            "\u001b[0m\u001b[37;40mnpm\u001b[0m \u001b[0m\u001b[30;43mWARN\u001b[0m\u001b[35m\u001b[0m rollup-plugin-visualizer@1.1.1 requires a peer of rollup@>=0.60.0 but none is installed. You must install peer dependencies yourself.\n",
            "\u001b[0m\u001b[37;40mnpm\u001b[0m \u001b[0m\u001b[30;43mWARN\u001b[0m\u001b[35m\u001b[0m content No description\n",
            "\u001b[0m\u001b[37;40mnpm\u001b[0m \u001b[0m\u001b[30;43mWARN\u001b[0m\u001b[35m\u001b[0m content No repository field.\n",
            "\u001b[0m\u001b[37;40mnpm\u001b[0m \u001b[0m\u001b[30;43mWARN\u001b[0m\u001b[35m\u001b[0m content No README data\n",
            "\u001b[0m\u001b[37;40mnpm\u001b[0m \u001b[0m\u001b[30;43mWARN\u001b[0m\u001b[35m\u001b[0m content No license field.\n",
            "\u001b[0m\n",
            "+ tensorspace@0.6.1\n",
            "added 450 packages from 900 contributors in 12.711s\n",
            "Cloning into 'tensorspace'...\n",
            "remote: Enumerating objects: 308, done.\u001b[K\n",
            "remote: Counting objects: 100% (308/308), done.\u001b[K\n",
            "remote: Compressing objects: 100% (211/211), done.\u001b[K\n",
            "remote: Total 7729 (delta 132), reused 231 (delta 82), pack-reused 7421\u001b[K\n",
            "Receiving objects: 100% (7729/7729), 1.10 GiB | 35.43 MiB/s, done.\n",
            "Resolving deltas: 100% (4989/4989), done.\n",
            "Checking out files: 100% (650/650), done.\n",
            "Collecting tensorspacejs\n",
            "\u001b[?25l  Downloading https://files.pythonhosted.org/packages/0a/68/4cd1d0dffe6a6f41ef128723e999991dbd822e92df28ea8b2d4b7e342ab6/tensorspacejs-0.2.0-py3-none-any.whl (62kB)\n",
            "\u001b[K     |████████████████████████████████| 71kB 2.9MB/s \n",
            "\u001b[?25hCollecting keras==2.2.2 (from tensorspacejs)\n",
            "\u001b[?25l  Downloading https://files.pythonhosted.org/packages/34/7d/b1dedde8af99bd82f20ed7e9697aac0597de3049b1f786aa2aac3b9bd4da/Keras-2.2.2-py2.py3-none-any.whl (299kB)\n",
            "\u001b[K     |████████████████████████████████| 307kB 8.7MB/s \n",
            "\u001b[?25hCollecting tensorflow==1.12.0 (from tensorspacejs)\n",
            "\u001b[?25l  Downloading https://files.pythonhosted.org/packages/22/cc/ca70b78087015d21c5f3f93694107f34ebccb3be9624385a911d4b52ecef/tensorflow-1.12.0-cp36-cp36m-manylinux1_x86_64.whl (83.1MB)\n",
            "\u001b[K     |████████████████████████████████| 83.1MB 302kB/s \n",
            "\u001b[?25hCollecting tensorflowjs==0.8.0 (from tensorspacejs)\n",
            "  Downloading https://files.pythonhosted.org/packages/6b/0c/89f4b64a9c55a161287781f8c63e4492f6cb2faa01195c9f8990291c1404/tensorflowjs-0.8.0-py3-none-any.whl\n",
            "Requirement already satisfied: scipy>=0.14 in /usr/local/lib/python3.6/dist-packages (from keras==2.2.2->tensorspacejs) (1.3.0)\n",
            "Requirement already satisfied: six>=1.9.0 in /usr/local/lib/python3.6/dist-packages (from keras==2.2.2->tensorspacejs) (1.12.0)\n",
            "Requirement already satisfied: pyyaml in /usr/local/lib/python3.6/dist-packages (from keras==2.2.2->tensorspacejs) (3.13)\n",
            "Collecting keras-applications==1.0.4 (from keras==2.2.2->tensorspacejs)\n",
            "\u001b[?25l  Downloading https://files.pythonhosted.org/packages/54/90/8f327deaa37a71caddb59b7b4aaa9d4b3e90c0e76f8c2d1572005278ddc5/Keras_Applications-1.0.4-py2.py3-none-any.whl (43kB)\n",
            "\u001b[K     |████████████████████████████████| 51kB 20.3MB/s \n",
            "\u001b[?25hCollecting keras-preprocessing==1.0.2 (from keras==2.2.2->tensorspacejs)\n",
            "  Downloading https://files.pythonhosted.org/packages/71/26/1e778ebd737032749824d5cba7dbd3b0cf9234b87ab5ec79f5f0403ca7e9/Keras_Preprocessing-1.0.2-py2.py3-none-any.whl\n",
            "Requirement already satisfied: numpy>=1.9.1 in /usr/local/lib/python3.6/dist-packages (from keras==2.2.2->tensorspacejs) (1.16.4)\n",
            "Requirement already satisfied: h5py in /usr/local/lib/python3.6/dist-packages (from keras==2.2.2->tensorspacejs) (2.8.0)\n",
            "Requirement already satisfied: wheel>=0.26 in /usr/local/lib/python3.6/dist-packages (from tensorflow==1.12.0->tensorspacejs) (0.33.4)\n",
            "Requirement already satisfied: astor>=0.6.0 in /usr/local/lib/python3.6/dist-packages (from tensorflow==1.12.0->tensorspacejs) (0.8.0)\n",
            "Requirement already satisfied: absl-py>=0.1.6 in /usr/local/lib/python3.6/dist-packages (from tensorflow==1.12.0->tensorspacejs) (0.7.1)\n",
            "Requirement already satisfied: protobuf>=3.6.1 in /usr/local/lib/python3.6/dist-packages (from tensorflow==1.12.0->tensorspacejs) (3.7.1)\n",
            "Requirement already satisfied: termcolor>=1.1.0 in /usr/local/lib/python3.6/dist-packages (from tensorflow==1.12.0->tensorspacejs) (1.1.0)\n",
            "Collecting tensorboard<1.13.0,>=1.12.0 (from tensorflow==1.12.0->tensorspacejs)\n",
            "\u001b[?25l  Downloading https://files.pythonhosted.org/packages/07/53/8d32ce9471c18f8d99028b7cef2e5b39ea8765bd7ef250ca05b490880971/tensorboard-1.12.2-py3-none-any.whl (3.0MB)\n",
            "\u001b[K     |████████████████████████████████| 3.1MB 29.6MB/s \n",
            "\u001b[?25hRequirement already satisfied: gast>=0.2.0 in /usr/local/lib/python3.6/dist-packages (from tensorflow==1.12.0->tensorspacejs) (0.2.2)\n",
            "Requirement already satisfied: grpcio>=1.8.6 in /usr/local/lib/python3.6/dist-packages (from tensorflow==1.12.0->tensorspacejs) (1.15.0)\n",
            "Collecting tensorflow-hub==0.1.1 (from tensorflowjs==0.8.0->tensorspacejs)\n",
            "\u001b[?25l  Downloading https://files.pythonhosted.org/packages/5f/22/64f246ef80e64b1a13b2f463cefa44f397a51c49a303294f5f3d04ac39ac/tensorflow_hub-0.1.1-py2.py3-none-any.whl (52kB)\n",
            "\u001b[K     |████████████████████████████████| 61kB 22.9MB/s \n",
            "\u001b[?25hRequirement already satisfied: setuptools in /usr/local/lib/python3.6/dist-packages (from protobuf>=3.6.1->tensorflow==1.12.0->tensorspacejs) (41.0.1)\n",
            "Requirement already satisfied: markdown>=2.6.8 in /usr/local/lib/python3.6/dist-packages (from tensorboard<1.13.0,>=1.12.0->tensorflow==1.12.0->tensorspacejs) (3.1.1)\n",
            "Requirement already satisfied: werkzeug>=0.11.10 in /usr/local/lib/python3.6/dist-packages (from tensorboard<1.13.0,>=1.12.0->tensorflow==1.12.0->tensorspacejs) (0.15.4)\n",
            "\u001b[31mERROR: tensorflow 1.12.0 has requirement keras-applications>=1.0.6, but you'll have keras-applications 1.0.4 which is incompatible.\u001b[0m\n",
            "\u001b[31mERROR: tensorflow 1.12.0 has requirement keras-preprocessing>=1.0.5, but you'll have keras-preprocessing 1.0.2 which is incompatible.\u001b[0m\n",
            "\u001b[31mERROR: tensorflowjs 0.8.0 has requirement numpy==1.15.1, but you'll have numpy 1.16.4 which is incompatible.\u001b[0m\n",
            "\u001b[31mERROR: tensorflowjs 0.8.0 has requirement six==1.11.0, but you'll have six 1.12.0 which is incompatible.\u001b[0m\n",
            "Installing collected packages: keras-applications, keras-preprocessing, keras, tensorboard, tensorflow, tensorflow-hub, tensorflowjs, tensorspacejs\n",
            "  Found existing installation: Keras-Applications 1.0.8\n",
            "    Uninstalling Keras-Applications-1.0.8:\n",
            "      Successfully uninstalled Keras-Applications-1.0.8\n",
            "  Found existing installation: Keras-Preprocessing 1.1.0\n",
            "    Uninstalling Keras-Preprocessing-1.1.0:\n",
            "      Successfully uninstalled Keras-Preprocessing-1.1.0\n",
            "  Found existing installation: Keras 2.2.4\n",
            "    Uninstalling Keras-2.2.4:\n",
            "      Successfully uninstalled Keras-2.2.4\n",
            "  Found existing installation: tensorboard 1.14.0\n",
            "    Uninstalling tensorboard-1.14.0:\n",
            "      Successfully uninstalled tensorboard-1.14.0\n",
            "  Found existing installation: tensorflow 1.14.0\n",
            "    Uninstalling tensorflow-1.14.0:\n",
            "      Successfully uninstalled tensorflow-1.14.0\n",
            "  Found existing installation: tensorflow-hub 0.4.0\n",
            "    Uninstalling tensorflow-hub-0.4.0:\n",
            "      Successfully uninstalled tensorflow-hub-0.4.0\n",
            "Successfully installed keras-2.2.2 keras-applications-1.0.4 keras-preprocessing-1.0.2 tensorboard-1.12.2 tensorflow-1.12.0 tensorflow-hub-0.1.1 tensorflowjs-0.8.0 tensorspacejs-0.2.0\n",
            "Collecting keras==2.2.4\n",
            "\u001b[?25l  Downloading https://files.pythonhosted.org/packages/5e/10/aa32dad071ce52b5502266b5c659451cfd6ffcbf14e6c8c4f16c0ff5aaab/Keras-2.2.4-py2.py3-none-any.whl (312kB)\n",
            "\u001b[K     |████████████████████████████████| 317kB 2.8MB/s \n",
            "\u001b[?25hCollecting keras-applications>=1.0.6 (from keras==2.2.4)\n",
            "\u001b[?25l  Downloading https://files.pythonhosted.org/packages/71/e3/19762fdfc62877ae9102edf6342d71b28fbfd9dea3d2f96a882ce099b03f/Keras_Applications-1.0.8-py3-none-any.whl (50kB)\n",
            "\u001b[K     |████████████████████████████████| 51kB 19.3MB/s \n",
            "\u001b[?25hRequirement already satisfied: six>=1.9.0 in /usr/local/lib/python3.6/dist-packages (from keras==2.2.4) (1.12.0)\n",
            "Requirement already satisfied: pyyaml in /usr/local/lib/python3.6/dist-packages (from keras==2.2.4) (3.13)\n",
            "Collecting keras-preprocessing>=1.0.5 (from keras==2.2.4)\n",
            "\u001b[?25l  Downloading https://files.pythonhosted.org/packages/28/6a/8c1f62c37212d9fc441a7e26736df51ce6f0e38455816445471f10da4f0a/Keras_Preprocessing-1.1.0-py2.py3-none-any.whl (41kB)\n",
            "\u001b[K     |████████████████████████████████| 51kB 20.4MB/s \n",
            "\u001b[?25hRequirement already satisfied: numpy>=1.9.1 in /usr/local/lib/python3.6/dist-packages (from keras==2.2.4) (1.16.4)\n",
            "Requirement already satisfied: scipy>=0.14 in /usr/local/lib/python3.6/dist-packages (from keras==2.2.4) (1.3.0)\n",
            "Requirement already satisfied: h5py in /usr/local/lib/python3.6/dist-packages (from keras==2.2.4) (2.8.0)\n",
            "\u001b[31mERROR: tensorspacejs 0.2.0 has requirement keras==2.2.2, but you'll have keras 2.2.4 which is incompatible.\u001b[0m\n",
            "\u001b[31mERROR: tensorflowjs 0.8.0 has requirement keras==2.2.2, but you'll have keras 2.2.4 which is incompatible.\u001b[0m\n",
            "\u001b[31mERROR: tensorflowjs 0.8.0 has requirement numpy==1.15.1, but you'll have numpy 1.16.4 which is incompatible.\u001b[0m\n",
            "\u001b[31mERROR: tensorflowjs 0.8.0 has requirement six==1.11.0, but you'll have six 1.12.0 which is incompatible.\u001b[0m\n",
            "Installing collected packages: keras-applications, keras-preprocessing, keras\n",
            "  Found existing installation: Keras-Applications 1.0.4\n",
            "    Uninstalling Keras-Applications-1.0.4:\n",
            "      Successfully uninstalled Keras-Applications-1.0.4\n",
            "  Found existing installation: Keras-Preprocessing 1.0.2\n",
            "    Uninstalling Keras-Preprocessing-1.0.2:\n",
            "      Successfully uninstalled Keras-Preprocessing-1.0.2\n",
            "  Found existing installation: Keras 2.2.2\n",
            "    Uninstalling Keras-2.2.2:\n",
            "      Successfully uninstalled Keras-2.2.2\n",
            "Successfully installed keras-2.2.4 keras-applications-1.0.8 keras-preprocessing-1.1.0\n"
          ],
          "name": "stdout"
        }
      ]
    },
    {
      "cell_type": "markdown",
      "metadata": {
        "id": "Rx31SI-VmyUd",
        "colab_type": "text"
      },
      "source": [
        "### 2. モデルのコンバート\n",
        "\n",
        "tensorspacejs_converterコマンドを用いて、モデルファイルをTensorSpaceにて扱うことができる形式にコンバートします。\n",
        "\n",
        "コマンド実行に際して、モデルの形式やoutput layerを指定する必要があります。\n",
        "\n",
        "形式や構造の異なるモデルを使う場合は、モデルに合わせた値を設定してください。\n",
        "\n"
      ]
    },
    {
      "cell_type": "code",
      "metadata": {
        "id": "pA0EqU0WGi6-",
        "colab_type": "code",
        "outputId": "1784b5ba-086e-405f-f76e-449bbf6c7db8",
        "colab": {
          "base_uri": "https://localhost:8080/",
          "height": 649
        }
      },
      "source": [
        "# Converter初期化処理\n",
        "!tensorspacejs_converter -init\n",
        "\n",
        "# モデル配置用ディレクトリ作成\n",
        "if not os.path.isdir( \"./tensorspace/examples/my_model\" ):\n",
        "    os.makedirs( \"./tensorspace/examples/my_model\" )\n",
        "if not os.path.isdir( \"./tensorspace/examples/my_model/convertedModel\" ):\n",
        "    os.makedirs( \"./tensorspace/examples/my_model/convertedModel\" )\n",
        "\n",
        "# 静的モデルファイルからTensorSpace用モデルファイルの生成\n",
        "#!tensorspacejs_converter --input_model_from=\"tensorflow\" --input_model_format=\"tf_frozen\" --output_layer_names=\"conv2d/Conv2D,conv2d_1/Conv2D,max_pooling2d/MaxPool,dense/MatMul,dense_1/MatMul,activation_3/Softmax\" \"/content/drive/My Drive/Colab Notebooks/ImageClassification/model/CNN_MNIST_10_frozen_graph.pb\" ./tensorspace/examples/my_model/convertedModel\n",
        "!tensorspacejs_converter --input_model_from=\"tensorflow\" --input_model_format=\"tf_keras\" --output_layer_names=\"conv2d,conv2d_1,max_pooling2d,dense,dense_1,activation_3\" \"/content/drive/My Drive/Colab Notebooks/ImageClassification/model/CNN_MNIST_10_frozen_graph.h5\" ./tensorspace/examples/my_model/convertedModel"
      ],
      "execution_count": 3,
      "outputs": [
        {
          "output_type": "stream",
          "text": [
            "Using TensorFlow backend.\n",
            "Initializing TensorSpace Converter...\n",
            "\u001b[K\u001b[?25h\n",
            "> @tensorflow/tfjs-node@1.0.0-alpha2 install /usr/local/lib/python3.6/dist-packages/tensorspacejs/tfjs/node_modules/@tensorflow/tfjs-node\n",
            "> node scripts/install.js\n",
            "\n",
            "* Downloading libtensorflow\n",
            "\u001b[1G[] Infinity/bps 0% 0.0s\u001b[0K\u001b[1G[] 1293625/bps 0% 31.9s\u001b[0K\u001b[1G[] 2737531/bps 0% 15.1s\u001b[0K\u001b[1G[] 2873653/bps 0% 14.3s\u001b[0K\u001b[1G[] 2650848/bps 0% 15.5s\u001b[0K\u001b[1G[] 2382866/bps 0% 17.3s\u001b[0K\u001b[1G[] 2439929/bps 0% 16.8s\u001b[0K\u001b[1G[] 2300965/bps 0% 17.9s\u001b[0K\u001b[1G[] 2511285/bps 0% 16.3s\u001b[0K\u001b[1G[] 2676068/bps 0% 15.3s\u001b[0K\u001b[1G[] 2554237/bps 1% 16.0s\u001b[0K\u001b[1G[] 2702043/bps 1% 15.1s\u001b[0K\u001b[1G[] 2731754/bps 1% 14.9s\u001b[0K\u001b[1G[] 2818831/bps 1% 14.4s\u001b[0K\u001b[1G[] 2934779/bps 1% 13.8s\u001b[0K\u001b[1G[] 3019789/bps 1% 13.4s\u001b[0K\u001b[1G[] 3165996/bps 2% 12.8s\u001b[0K\u001b[1G[] 3093042/bps 2% 13.1s\u001b[0K\u001b[1G[] 3228906/bps 2% 12.5s\u001b[0K\u001b[1G[] 3268832/bps 2% 12.3s\u001b[0K\u001b[1G[] 3659224/bps 2% 11.0s\u001b[0K\u001b[1G[] 4458429/bps 3% 8.9s\u001b[0K\u001b[1G[] 5096912/bps 4% 7.7s\u001b[0K\u001b[1G[] 5551797/bps 5% 7.1s\u001b[0K\u001b[1G[] 6177223/bps 5% 6.3s\u001b[0K\u001b[1G[] 6694158/bps 6% 5.8s\u001b[0K\u001b[1G[] 7114799/bps 7% 5.4s\u001b[0K\u001b[1G[] 7320133/bps 7% 5.2s\u001b[0K\u001b[1G[] 7370219/bps 8% 5.1s\u001b[0K\u001b[1G[] 7768105/bps 9% 4.8s\u001b[0K\u001b[1G[] 8124309/bps 9% 4.6s\u001b[0K\u001b[1G[] 8379434/bps 10% 4.4s\u001b[0K\u001b[1G[] 8711316/bps 11% 4.2s\u001b[0K\u001b[1G[] 9038784/bps 12% 4.0s\u001b[0K\u001b[1G[] 9275369/bps 12% 3.9s\u001b[0K\u001b[1G[] 9182476/bps 13% 3.9s\u001b[0K\u001b[1G[] 9305839/bps 13% 3.8s\u001b[0K\u001b[1G[] 9568626/bps 14% 3.7s\u001b[0K\u001b[1G[] 9882756/bps 15% 3.5s\u001b[0K\u001b[1G[] 10168817/bps 15% 3.4s\u001b[0K\u001b[1G[] 10256629/bps 16% 3.4s\u001b[0K\u001b[1G[] 10544521/bps 17% 3.2s\u001b[0K\u001b[1G[] 10784004/bps 18% 3.1s\u001b[0K\u001b[1G[] 10718842/bps 18% 3.1s\u001b[0K\u001b[1G[] 10853862/bps 19% 3.1s\u001b[0K\u001b[1G[] 11092624/bps 20% 3.0s\u001b[0K\u001b[1G[] 11263753/bps 20% 2.9s\u001b[0K\u001b[1G[] 11463051/bps 21% 2.8s\u001b[0K\u001b[1G[] 11664626/bps 22% 2.7s\u001b[0K\u001b[1G[] 11858267/bps 23% 2.7s\u001b[0K\u001b[1G[] 11665055/bps 23% 2.7s\u001b[0K\u001b[1G[] 11811192/bps 24% 2.6s\u001b[0K\u001b[1G[] 11831499/bps 24% 2.6s\u001b[0K\u001b[1G[] 11738352/bps 25% 2.6s\u001b[0K\u001b[1G[] 11793329/bps 25% 2.6s\u001b[0K\u001b[1G[] 11873080/bps 26% 2.6s\u001b[0K\u001b[1G[] 12063764/bps 27% 2.5s\u001b[0K\u001b[1G[] 12256641/bps 28% 2.4s\u001b[0K\u001b[1G[] 12426240/bps 29% 2.4s\u001b[0K\u001b[1G[] 12590330/bps 30% 2.3s\u001b[0K\u001b[1G[] 12757358/bps 30% 2.2s\u001b[0K\u001b[1G[] 12862744/bps 31% 2.2s\u001b[0K\u001b[1G[] 13012448/bps 32% 2.1s\u001b[0K\u001b[1G[] 13149776/bps 33% 2.1s\u001b[0K\u001b[1G[] 13185984/bps 34% 2.1s\u001b[0K\u001b[1G[] 13183235/bps 34% 2.1s\u001b[0K\u001b[1G[] 13296920/bps 35% 2.0s\u001b[0K\u001b[1G[] 13333872/bps 35% 2.0s\u001b[0K\u001b[1G[] 13492912/bps 36% 1.9s\u001b[0K\u001b[1G[] 13611804/bps 37% 1.9s\u001b[0K\u001b[1G[] 13706293/bps 38% 1.9s\u001b[0K\u001b[1G[] 13728735/bps 39% 1.8s\u001b[0K\u001b[1G[] 13757432/bps 39% 1.8s\u001b[0K\u001b[1G[] 13812429/bps 40% 1.8s\u001b[0K\u001b[1G[] 13852638/bps 41% 1.8s\u001b[0K\u001b[1G[] 13839088/bps 41% 1.7s\u001b[0K\u001b[1G[] 13892929/bps 42% 1.7s\u001b[0K\u001b[1G[] 13885645/bps 42% 1.7s\u001b[0K\u001b[1G[] 13922925/bps 43% 1.7s\u001b[0K\u001b[1G[] 13965556/bps 44% 1.7s\u001b[0K\u001b[1G[] 13947124/bps 44% 1.6s\u001b[0K\u001b[1G[] 14037288/bps 45% 1.6s\u001b[0K\u001b[1G[] 14149473/bps 46% 1.6s\u001b[0K\u001b[1G[] 14235178/bps 47% 1.5s\u001b[0K\u001b[1G[] 14271726/bps 47% 1.5s\u001b[0K\u001b[1G[] 14239001/bps 48% 1.5s\u001b[0K\u001b[1G[] 14234331/bps 48% 1.5s\u001b[0K\u001b[1G[] 14229766/bps 49% 1.5s\u001b[0K\u001b[1G[] 14219666/bps 50% 1.5s\u001b[0K\u001b[1G[] 14254369/bps 50% 1.4s\u001b[0K\u001b[1G[] 14332427/bps 51% 1.4s\u001b[0K\u001b[1G[] 14376098/bps 52% 1.4s\u001b[0K\u001b[1G[] 14200455/bps 52% 1.4s\u001b[0K\u001b[1G[] 26911139/bps 100% 0.0s\u001b[0K\n",
            "* Building TensorFlow Node.js bindings\n",
            "\u001b[K\u001b[?25hadded 44 packages from 61 contributors in 9.406s\n",
            "\n",
            "\u001b[33m\u001b[39m\n",
            "\u001b[33m   ╭─────────────────────────────────────╮\u001b[39m\n",
            "   \u001b[33m│\u001b[39m                                     \u001b[33m│\u001b[39m\n",
            "   \u001b[33m│\u001b[39m   Update available \u001b[2m5.7.1\u001b[22m\u001b[0m → \u001b[0m\u001b[32m6.9.2\u001b[39m    \u001b[33m│\u001b[39m\n",
            "   \u001b[33m│\u001b[39m     Run \u001b[36mnpm i -g npm\u001b[39m to update      \u001b[33m│\u001b[39m\n",
            "   \u001b[33m│\u001b[39m                                     \u001b[33m│\u001b[39m\n",
            "\u001b[33m   ╰─────────────────────────────────────╯\u001b[39m\n",
            "\u001b[33m\u001b[39m\n",
            "\u001b[K\u001b[?25h\n",
            "> protobufjs@6.8.8 postinstall /usr/local/lib/python3.6/dist-packages/tensorspacejs/tf/pb2json/node_modules/protobufjs\n",
            "> node scripts/postinstall\n",
            "\n",
            "\u001b[K\u001b[?25hadded 41 packages from 92 contributors in 1.971s\n",
            "TensorSpace Converter Initialization Completed!\n",
            "Using TensorFlow backend.\n",
            "2019-07-03 08:10:25.524032: I tensorflow/core/platform/cpu_feature_guard.cc:141] Your CPU supports instructions that this TensorFlow binary was not compiled to use: AVX2 FMA\n",
            "Preprocessing hdf5 combined model...\n",
            "Loading .h5 model into memory...\n",
            "WARNING:tensorflow:No training configuration found in save file: the model was *not* compiled. Compile it manually.\n",
            "Generating multi-output encapsulated model...\n",
            "Saving temp multi-output .h5 model...\n",
            "Converting .h5 to web friendly format...\n",
            "Using TensorFlow backend.\n",
            "Deleting temp .h5 model...\n",
            "Mission Complete!!!\n"
          ],
          "name": "stdout"
        }
      ]
    },
    {
      "cell_type": "markdown",
      "metadata": {
        "id": "2d_P1vPFhdtT",
        "colab_type": "text"
      },
      "source": [
        "### 3. HTML画面の生成\n",
        "\n",
        "下記は、「TensorFlow_Keras_ImageClassificatioin_01.ipynb」にて生成したCNNモデル(Keras形式：h5)をそのまま利用できる形式としています。\n",
        "\n",
        "実行するモデルに応じて、HTMLを適宜書き換えて下さい。\n",
        "\n",
        "なお、このHTMLはTensorSpaceサンプルのlenetをベースとしています。"
      ]
    },
    {
      "cell_type": "code",
      "metadata": {
        "id": "ZOCYNkUOXU8k",
        "colab_type": "code",
        "colab": {}
      },
      "source": [
        "import os ,sys\n",
        "\n",
        "# ビジュアライズを行うHTMLファイルの生成\n",
        "# モデルの構造やファイルパスなどを書き換えて使ってください。\n",
        "\n",
        "out_html = \"\"\"\n",
        "<!DOCTYPE html>\n",
        "<html lang=\"en\">\n",
        "    <head>\n",
        "        <meta charset=\"UTF-8\">\n",
        "        <title>TensorSpace - LeNet Demo</title>\n",
        "        <meta name=\"author\" content=\"syt123450 / https://github.com/syt123450\">\n",
        "        <meta name=\"author\" content=\"zchholmes / https://github.com/zchholmes\">\n",
        "        <style>\n",
        "            html, body {\n",
        "                margin: 0;\n",
        "                padding: 0;\n",
        "                width: 100%;\n",
        "                height: 100%;\n",
        "            }\n",
        "            #container {\n",
        "                width: calc( 100% - 300px );\n",
        "                height: 100%;\n",
        "                background-color: #000;\n",
        "            }\n",
        "            #controlPanel {\n",
        "                width: 300px;\n",
        "                height: 100%;\n",
        "                position: absolute;\n",
        "                background-color: #04242E;\n",
        "                border-left: 1px solid #6797AE;\n",
        "                box-sizing: border-box;\n",
        "                right: 0;\n",
        "            }\n",
        "            #clear {\n",
        "                position: absolute;\n",
        "                top: 300px;\n",
        "                left: 38px;\n",
        "                width: 224px;\n",
        "                line-height: 50px;\n",
        "                height: 50px;\n",
        "                font-size: 25px;\n",
        "                text-align: center;\n",
        "                background-color: #000;\n",
        "                border: 1px solid #6797AE;\n",
        "                box-sizing: border-box;\n",
        "                color: #6797AE;\n",
        "                cursor: pointer;\n",
        "            }\n",
        "            .wrapper {\n",
        "                position: absolute;\n",
        "                width: 224px;\n",
        "                height: 224px;\n",
        "                left: 38px;\n",
        "                top: 50px;\n",
        "                -moz-user-select: none;\n",
        "                -webkit-user-select: none;\n",
        "                -ms-user-select: none;\n",
        "                user-select: none;\n",
        "                z-index: 100;\n",
        "                background-color: #000;\n",
        "                border: 1px solid #6797AE;\n",
        "                box-sizing: border-box;\n",
        "            }\n",
        "            .signature-pad {\n",
        "                position: absolute;\n",
        "                left: 0;\n",
        "                top: 0;\n",
        "                border: 1px solid #000;\n",
        "            }\n",
        "        </style>\n",
        "    </head>\n",
        "    <body>\n",
        "        <div id=\"controlPanel\">\n",
        "            <div class=\"wrapper\">\n",
        "                <canvas id=\"signature-pad\" class=\"signature-pad\" width=224 height=224></canvas>\n",
        "            </div>\n",
        "            <div id=\"clear\">clear</div>\n",
        "        </div>\n",
        "        <div id=\"container\"></div>\n",
        "        <script src=\"../lib/jquery.min.js\"></script>\n",
        "        <script src=\"../lib/three.min.js\"></script>\n",
        "        <script src=\"../lib/stats.min.js\"></script>\n",
        "        <script src=\"../lib/tween.min.js\"></script>\n",
        "        <script src=\"../lib/TrackballControls.js\"></script>\n",
        "        <script src=\"../lib/tf.min.js\"></script>\n",
        "        <script src=\"../lib/signature_pad.min.js\"></script>\n",
        "        <script src=\"../../dist/tensorspace.js\"></script>\n",
        "        <script>\n",
        "            let signaturePad = new SignaturePad( document.getElementById( 'signature-pad' ), {\n",
        "                minWidth: 10,\n",
        "                backgroundColor: 'rgba(255, 255, 255, 0)',\n",
        "                penColor: 'rgb(103, 151, 174)',\n",
        "                onEnd: getImage\n",
        "            } );\n",
        "            function getImage() {\n",
        "                let canvas = document.getElementById( \"signature-pad\" );\n",
        "                let context = canvas.getContext( '2d' );\n",
        "                let imgData = context.getImageData( 0, 0, canvas.width, canvas.height );\n",
        "                let signatureData = [];\n",
        "                for ( let i = 0; i < 224; i += 8 ) {\n",
        "                    for ( let j = 3; j < 896; j += 32 ) {\n",
        "                        signatureData.push( imgData.data[ 896 * i + j ] / 255 );\n",
        "                    }\n",
        "                }\n",
        "                model.predict( signatureData );\n",
        "            }\n",
        "            $( function() {\n",
        "                $( \"#clear\" ).click( function() {\n",
        "                    signaturePad.clear();\n",
        "                    model.clear();\n",
        "                } );\n",
        "            } );\n",
        "        </script>\n",
        "        <script>\n",
        "            let modelContainer = document.getElementById( \"container\" );\n",
        "            let model = new TSP.models.Sequential( modelContainer, {\n",
        "                animeTime: 200,\n",
        "                stats: true\n",
        "            } );\n",
        "\n",
        "            model.add( new TSP.layers.GreyscaleInput() );\n",
        "            model.add( new TSP.layers.Conv2d() );\n",
        "            model.add( new TSP.layers.Conv2d() );\n",
        "            model.add( new TSP.layers.Pooling2d() );\n",
        "            model.add( new TSP.layers.Dense() );\n",
        "            model.add( new TSP.layers.Dense() );\n",
        "            model.add( new TSP.layers.Output1d( {\n",
        "                outputs: [ \"0\", \"1\", \"2\", \"3\", \"4\", \"5\", \"6\", \"7\", \"8\", \"9\" ]\n",
        "            } ) );\n",
        "\n",
        "            model.load( {\n",
        "                type: \"keras\",\n",
        "                url: './convertedModel/model.json'\n",
        "            } );\n",
        "            model.init();\n",
        "        </script>\n",
        "    </body>\n",
        "</html>\n",
        "\"\"\"\n",
        "\n",
        "#Saving html file\n",
        "with open(\"./tensorspace/examples/my_model/index.html\", mode='w') as f:\n",
        "    f.write(out_html)\n"
      ],
      "execution_count": 0,
      "outputs": []
    },
    {
      "cell_type": "markdown",
      "metadata": {
        "id": "MZxXo8tNjdQp",
        "colab_type": "text"
      },
      "source": [
        "### 4. Webサーバの構成\n",
        "\n",
        "外部からGoogle ColaboratoryにWebベースでアクセスできるよう、ngrokを起動します。"
      ]
    },
    {
      "cell_type": "code",
      "metadata": {
        "id": "8nDppRYK-amj",
        "colab_type": "code",
        "outputId": "2fe5d44b-c4e4-436f-b70b-18f4b0274a4c",
        "colab": {
          "base_uri": "https://localhost:8080/",
          "height": 255
        }
      },
      "source": [
        "# Web参照用ngrokのセットアップ\n",
        "!wget https://bin.equinox.io/c/4VmDzA7iaHb/ngrok-stable-linux-amd64.zip -N\n",
        "!unzip -o ngrok-stable-linux-amd64.zip\n",
        "\n",
        "get_ipython().system_raw('./ngrok http 6006 &')"
      ],
      "execution_count": 25,
      "outputs": [
        {
          "output_type": "stream",
          "text": [
            "--2019-07-03 08:20:10--  https://bin.equinox.io/c/4VmDzA7iaHb/ngrok-stable-linux-amd64.zip\n",
            "Resolving bin.equinox.io (bin.equinox.io)... 52.45.111.123, 52.22.145.207, 52.203.102.189, ...\n",
            "Connecting to bin.equinox.io (bin.equinox.io)|52.45.111.123|:443... connected.\n",
            "HTTP request sent, awaiting response... 200 OK\n",
            "Length: 17556757 (17M) [application/octet-stream]\n",
            "Saving to: ‘ngrok-stable-linux-amd64.zip’\n",
            "\n",
            "\r          ngrok-sta   0%[                    ]       0  --.-KB/s               \rngrok-stable-linux- 100%[===================>]  16.74M  83.8MB/s    in 0.2s    \n",
            "\n",
            "Last-modified header missing -- time-stamps turned off.\n",
            "2019-07-03 08:20:11 (83.8 MB/s) - ‘ngrok-stable-linux-amd64.zip’ saved [17556757/17556757]\n",
            "\n",
            "Archive:  ngrok-stable-linux-amd64.zip\n",
            "  inflating: ngrok                   \n"
          ],
          "name": "stdout"
        }
      ]
    },
    {
      "cell_type": "markdown",
      "metadata": {
        "id": "AZp1R4wJjooo",
        "colab_type": "text"
      },
      "source": [
        "下記コマンドで表示されるURLにアクセスしてみてください。\n",
        "\n",
        "フォアグラウンドにてWebサーバを立ち上げるため、本Notebookは実行中のままとなりますのでご注意ください。\n",
        "\n"
      ]
    },
    {
      "cell_type": "code",
      "metadata": {
        "id": "lmNaIp1fYtQx",
        "colab_type": "code",
        "outputId": "95d052b4-5043-4ab4-e312-61e7655b455f",
        "colab": {
          "base_uri": "https://localhost:8080/",
          "height": 357
        }
      },
      "source": [
        "# Webサーバーの立ち上げ\n",
        "!tsurl=`curl -s http://localhost:4040/api/tunnels | python3 -c \"import sys, json; print(json.load(sys.stdin)['tunnels'][0]['public_url'])\"`; echo ${tsurl}/tensorspace/examples/my_model/index.html\n",
        "!python -m http.server 6006"
      ],
      "execution_count": 26,
      "outputs": [
        {
          "output_type": "stream",
          "text": [
            "https://a29baf7d.ngrok.io/tensorspace/examples/my_model/index.html\n",
            "Serving HTTP on 0.0.0.0 port 6006 (http://0.0.0.0:6006/) ...\n",
            "127.0.0.1 - - [03/Jul/2019 08:20:23] \"GET /tensorspace/examples/my_model/index.html HTTP/1.1\" 200 -\n",
            "127.0.0.1 - - [03/Jul/2019 08:20:23] \"GET /tensorspace/examples/lib/three.min.js HTTP/1.1\" 200 -\n",
            "127.0.0.1 - - [03/Jul/2019 08:20:23] \"GET /tensorspace/examples/lib/stats.min.js HTTP/1.1\" 200 -\n",
            "127.0.0.1 - - [03/Jul/2019 08:20:23] \"GET /tensorspace/examples/lib/jquery.min.js HTTP/1.1\" 200 -\n",
            "127.0.0.1 - - [03/Jul/2019 08:20:23] \"GET /tensorspace/examples/lib/tween.min.js HTTP/1.1\" 200 -\n",
            "127.0.0.1 - - [03/Jul/2019 08:20:23] \"GET /tensorspace/examples/lib/TrackballControls.js HTTP/1.1\" 200 -\n",
            "127.0.0.1 - - [03/Jul/2019 08:20:23] \"GET /tensorspace/examples/lib/tf.min.js HTTP/1.1\" 200 -\n",
            "127.0.0.1 - - [03/Jul/2019 08:20:23] \"GET /tensorspace/examples/lib/signature_pad.min.js HTTP/1.1\" 200 -\n",
            "127.0.0.1 - - [03/Jul/2019 08:20:23] \"GET /tensorspace/dist/tensorspace.js HTTP/1.1\" 200 -\n",
            "127.0.0.1 - - [03/Jul/2019 08:20:27] \"GET /tensorspace/examples/my_model/convertedModel/model.json HTTP/1.1\" 200 -\n",
            "127.0.0.1 - - [03/Jul/2019 08:20:27] code 404, message File not found\n",
            "127.0.0.1 - - [03/Jul/2019 08:20:27] \"GET /favicon.ico HTTP/1.1\" 404 -\n",
            "127.0.0.1 - - [03/Jul/2019 08:20:28] \"GET /tensorspace/examples/my_model/convertedModel/group1-shard2of3 HTTP/1.1\" 200 -\n",
            "127.0.0.1 - - [03/Jul/2019 08:20:28] \"GET /tensorspace/examples/my_model/convertedModel/group1-shard3of3 HTTP/1.1\" 200 -\n",
            "127.0.0.1 - - [03/Jul/2019 08:20:28] \"GET /tensorspace/examples/my_model/convertedModel/group1-shard1of3 HTTP/1.1\" 200 -\n",
            "\n",
            "Keyboard interrupt received, exiting.\n",
            "^C\n"
          ],
          "name": "stdout"
        }
      ]
    }
  ]
}