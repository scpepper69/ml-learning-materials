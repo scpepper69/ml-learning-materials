{
  "nbformat": 4,
  "nbformat_minor": 0,
  "metadata": {
    "colab": {
      "name": "lesson1_sec1_exercise_mod.ipynb",
      "version": "0.3.2",
      "provenance": [],
      "toc_visible": true
    },
    "language_info": {
      "codemirror_mode": {
        "name": "ipython",
        "version": 3
      },
      "file_extension": ".py",
      "mimetype": "text/x-python",
      "name": "python",
      "nbconvert_exporter": "python",
      "pygments_lexer": "ipython3",
      "version": "3.6.6"
    },
    "kernelspec": {
      "name": "python3",
      "display_name": "Python 3"
    },
    "accelerator": "GPU"
  },
  "cells": [
    {
      "cell_type": "markdown",
      "metadata": {
        "id": "bYOnZhT30bGu",
        "colab_type": "text"
      },
      "source": [
        "# AI・機械学習 勉強会 #1\n",
        "## - 多層パーセプトロンおよび畳み込みニューラルネットワークによる画像分類 -\n",
        "\n",
        "\n",
        "※このjupyter notebookは、東京大学 松尾研究所が公開している[DL4USコンテンツ](https://weblab.t.u-tokyo.ac.jp/dl4us/)をベースに、理論よりも実践をベースにTry & Errorによる理解を深める形式で改良を加えています。"
      ]
    },
    {
      "cell_type": "markdown",
      "metadata": {
        "id": "-Ju7RayK0bGy",
        "colab_type": "text"
      },
      "source": [
        "\n",
        "\n",
        "## 目次\n",
        "\n",
        "- 1.1 概要\n",
        "- 1.2 実装プロセス\n",
        "- 1.3 各モデルLayer\n",
        "- 1.4 損失関数\n",
        "- 1.5 評価関数\n",
        "- 1.6 Functional API\n",
        "- 1.7 確認問題"
      ]
    },
    {
      "cell_type": "markdown",
      "metadata": {
        "id": "aNaQV4x5qxii",
        "colab_type": "text"
      },
      "source": [
        "\n",
        "\n",
        "---\n",
        "\n",
        "\n",
        "\n",
        "##1.1 概要\n",
        "Tensorflow + Kerasによる実装を通じて基本的なDeep Learningの考え方や実装方法を学習します。\n",
        "\n",
        "また、画像分類における多層パーセプトロン(MLP)と畳込みニューラルネットワーク(CNN)での比較を行い、モデル構造の違いとチューニングパラメータについて理解を深めます。\n"
      ]
    },
    {
      "cell_type": "markdown",
      "metadata": {
        "id": "J2n0HLjd0bG3",
        "colab_type": "text"
      },
      "source": [
        "\n",
        "\n",
        "---\n",
        "\n",
        "\n",
        "\n",
        "## 1.2 実装プロセス"
      ]
    },
    {
      "cell_type": "markdown",
      "metadata": {
        "id": "HVNVVU2o0bG5",
        "colab_type": "text"
      },
      "source": [
        "ここでは、画像分類をMLP(Multi Layer Perceptron)とCNN(Convolutional Neural Network)の2つモデルにいて、教師あり学習モデルの実装およびモデル構造、学習結果の比較をしてみます。\n",
        "\n",
        "実装に使用する題材は、MNIST(手書き数字画像)と、CIFAR10(乗り物や動物などの画像)の2種類とします。\n",
        "\n",
        "\n",
        "参考：https://keras.io/ja/datasets/"
      ]
    },
    {
      "cell_type": "markdown",
      "metadata": {
        "id": "kfinbX-8rfFr",
        "colab_type": "text"
      },
      "source": [
        "### 1.2.1 環境準備\n",
        "\n",
        "プログラムを動かすにあたって、モデルおよびデータセットを指定してください。\n",
        "\n",
        "<モデル構造>\n",
        "* MLP\n",
        "* CNN\n",
        "\n",
        "<データセット>\n",
        "* MNIST\n",
        "* CIFAR10\n",
        "\n",
        "\n",
        "また、このjupyter notebookはtensorflow 1.13.1を前提に実装しています。2019/6/14時点でバージョンが変更(1.14)となったため、ダウングレードしておきます。\n"
      ]
    },
    {
      "cell_type": "code",
      "metadata": {
        "id": "8b5TKT0SrZVa",
        "colab_type": "code",
        "colab": {
          "base_uri": "https://localhost:8080/",
          "height": 527
        },
        "outputId": "dca438f6-6ef3-4a39-c1c0-4cce41a9e31e"
      },
      "source": [
        "# ライブラリのバージョン調整\n",
        "# 2019/6/14時点でデフォルトのTensorflowバージョンが変わった模様\n",
        "!pip install tensorflow-estimator==1.13.0 tensorflow-gpu==1.13.1\n",
        "\n",
        "# モデル構造を指定します (MLP or CNN)\n",
        "model_structure=\"CNN\"\n",
        "# データセットを指定します (MNIST or CIFAR10)\n",
        "data_set=\"MNIST\""
      ],
      "execution_count": 1,
      "outputs": [
        {
          "output_type": "stream",
          "text": [
            "Collecting tensorflow-estimator==1.13.0\n",
            "\u001b[?25l  Downloading https://files.pythonhosted.org/packages/bb/48/13f49fc3fa0fdf916aa1419013bb8f2ad09674c275b4046d5ee669a46873/tensorflow_estimator-1.13.0-py2.py3-none-any.whl (367kB)\n",
            "\u001b[K     |████████████████████████████████| 368kB 2.9MB/s \n",
            "\u001b[?25hCollecting tensorflow-gpu==1.13.1\n",
            "\u001b[?25l  Downloading https://files.pythonhosted.org/packages/7b/b1/0ad4ae02e17ddd62109cd54c291e311c4b5fd09b4d0678d3d6ce4159b0f0/tensorflow_gpu-1.13.1-cp36-cp36m-manylinux1_x86_64.whl (345.2MB)\n",
            "\u001b[K     |████████████████████████████████| 345.2MB 49kB/s \n",
            "\u001b[?25hRequirement already satisfied: absl-py>=0.1.6 in /usr/local/lib/python3.6/dist-packages (from tensorflow-estimator==1.13.0) (0.7.1)\n",
            "Requirement already satisfied: six>=1.10.0 in /usr/local/lib/python3.6/dist-packages (from tensorflow-estimator==1.13.0) (1.12.0)\n",
            "Collecting mock>=2.0.0 (from tensorflow-estimator==1.13.0)\n",
            "  Downloading https://files.pythonhosted.org/packages/05/d2/f94e68be6b17f46d2c353564da56e6fb89ef09faeeff3313a046cb810ca9/mock-3.0.5-py2.py3-none-any.whl\n",
            "Requirement already satisfied: numpy>=1.13.3 in /usr/local/lib/python3.6/dist-packages (from tensorflow-estimator==1.13.0) (1.16.4)\n",
            "Requirement already satisfied: astor>=0.6.0 in /usr/local/lib/python3.6/dist-packages (from tensorflow-gpu==1.13.1) (0.8.0)\n",
            "Requirement already satisfied: tensorboard<1.14.0,>=1.13.0 in /usr/local/lib/python3.6/dist-packages (from tensorflow-gpu==1.13.1) (1.13.1)\n",
            "Requirement already satisfied: termcolor>=1.1.0 in /usr/local/lib/python3.6/dist-packages (from tensorflow-gpu==1.13.1) (1.1.0)\n",
            "Requirement already satisfied: keras-preprocessing>=1.0.5 in /usr/local/lib/python3.6/dist-packages (from tensorflow-gpu==1.13.1) (1.1.0)\n",
            "Requirement already satisfied: gast>=0.2.0 in /usr/local/lib/python3.6/dist-packages (from tensorflow-gpu==1.13.1) (0.2.2)\n",
            "Requirement already satisfied: grpcio>=1.8.6 in /usr/local/lib/python3.6/dist-packages (from tensorflow-gpu==1.13.1) (1.15.0)\n",
            "Requirement already satisfied: protobuf>=3.6.1 in /usr/local/lib/python3.6/dist-packages (from tensorflow-gpu==1.13.1) (3.7.1)\n",
            "Requirement already satisfied: wheel>=0.26 in /usr/local/lib/python3.6/dist-packages (from tensorflow-gpu==1.13.1) (0.33.4)\n",
            "Requirement already satisfied: keras-applications>=1.0.6 in /usr/local/lib/python3.6/dist-packages (from tensorflow-gpu==1.13.1) (1.0.8)\n",
            "Requirement already satisfied: werkzeug>=0.11.15 in /usr/local/lib/python3.6/dist-packages (from tensorboard<1.14.0,>=1.13.0->tensorflow-gpu==1.13.1) (0.15.4)\n",
            "Requirement already satisfied: markdown>=2.6.8 in /usr/local/lib/python3.6/dist-packages (from tensorboard<1.14.0,>=1.13.0->tensorflow-gpu==1.13.1) (3.1.1)\n",
            "Requirement already satisfied: setuptools in /usr/local/lib/python3.6/dist-packages (from protobuf>=3.6.1->tensorflow-gpu==1.13.1) (41.0.1)\n",
            "Requirement already satisfied: h5py in /usr/local/lib/python3.6/dist-packages (from keras-applications>=1.0.6->tensorflow-gpu==1.13.1) (2.8.0)\n",
            "\u001b[31mERROR: tensorflow 1.14.0rc1 has requirement tensorflow-estimator<1.15.0rc0,>=1.14.0rc0, but you'll have tensorflow-estimator 1.13.0 which is incompatible.\u001b[0m\n",
            "Installing collected packages: mock, tensorflow-estimator, tensorflow-gpu\n",
            "  Found existing installation: tensorflow-estimator 1.14.0rc0\n",
            "    Uninstalling tensorflow-estimator-1.14.0rc0:\n",
            "      Successfully uninstalled tensorflow-estimator-1.14.0rc0\n",
            "Successfully installed mock-3.0.5 tensorflow-estimator-1.13.0 tensorflow-gpu-1.13.1\n"
          ],
          "name": "stdout"
        }
      ]
    },
    {
      "cell_type": "markdown",
      "metadata": {
        "id": "CFKVp80t0bG8",
        "colab_type": "text"
      },
      "source": [
        "### 1.2.2 データの準備\n",
        "教師あり学習を行う場合、学習させるデータを用意する必要があります。\n",
        "\n",
        "MNISTおよびCIFAR10はKerasにて提供されていますので、ここではこちらを使います。\n",
        "\n",
        "なお、データの収集は非常に地味かつ大変な作業ですが、このデータの事前準備が非常に重要であり、\"使える\"データの量や種類が、モデルの精度に大きく関わってきます。\n",
        "\n",
        "今回は用意されたものを使いますが、自分で集めたデータセットにて学習させることも非常に良い経験となるため、ぜひご自身でもトライしてみてください。\n",
        "         \n",
        "今回扱うMNISTおよびCIFAR10のデータ構造は下記となっています。\n",
        "\n",
        "* x：画像(MNIST：28×28x1、CIFAR10：32x32x1) ※縦x横xグレー(1)orカラー(3)\n",
        "* y：正解のラベル(xの画像が表す意味)\n",
        "\n",
        "また、これらデータセットは学習用と評価用に最初から分割されています。\n",
        "\n",
        "* (x_train, y_train):モデルの学習用\n",
        "* (x_test, y_test):モデルの評価用\n",
        "\n",
        "Deep Learningでは汎化性能の向上が至上命題なので、学習用のデータだけでなく評価用のデータが必要になります。\n",
        "\n",
        "なぜなら、評価用のデータまで使用して学習してしまうのは、カンニングしていることと同義だからです。\n"
      ]
    },
    {
      "cell_type": "code",
      "metadata": {
        "id": "MIjKuxuD0bG-",
        "colab_type": "code",
        "colab": {
          "base_uri": "https://localhost:8080/",
          "height": 68
        },
        "outputId": "e70731cb-bf5f-4143-ead0-7f5a8673f5d1"
      },
      "source": [
        "# Kerasにて用意されているデータセットをダウンロードします\n",
        "from tensorflow.keras.datasets import mnist\n",
        "from keras.datasets import cifar10\n",
        "\n",
        "# MNIST\n",
        "if data_set == \"MNIST\":\n",
        "    (x_train, y_train), (x_test, y_test) = mnist.load_data()\n",
        "    img_size,img_color=28,1\n",
        "# CIFAR10\n",
        "else:\n",
        "    (x_train, y_train), (x_test, y_test) = cifar10.load_data()\n",
        "    img_size,img_color=32,3"
      ],
      "execution_count": 2,
      "outputs": [
        {
          "output_type": "stream",
          "text": [
            "Downloading data from https://storage.googleapis.com/tensorflow/tf-keras-datasets/mnist.npz\n",
            "\r    8192/11490434 [..............................] - ETA: 0s"
          ],
          "name": "stdout"
        },
        {
          "output_type": "stream",
          "text": [
            "Using TensorFlow backend.\n"
          ],
          "name": "stderr"
        },
        {
          "output_type": "stream",
          "text": [
            "11493376/11490434 [==============================] - 0s 0us/step\n"
          ],
          "name": "stdout"
        }
      ]
    },
    {
      "cell_type": "code",
      "metadata": {
        "id": "x_b7Tyoovx7n",
        "colab_type": "code",
        "colab": {
          "base_uri": "https://localhost:8080/",
          "height": 34
        },
        "outputId": "02001565-89d6-4f78-9ce2-33ea87bf2078"
      },
      "source": [
        "print(y_test[1])"
      ],
      "execution_count": 3,
      "outputs": [
        {
          "output_type": "stream",
          "text": [
            "2\n"
          ],
          "name": "stdout"
        }
      ]
    },
    {
      "cell_type": "markdown",
      "metadata": {
        "id": "M3pSTYqA0bHI",
        "colab_type": "text"
      },
      "source": [
        "ダウンロードした画像と画像に対応したラベルを表示してみます。\n",
        "\n",
        "表示する際には、matplotlibを用います。これはPythonでグラフの表示をする際に標準的に用いられるライブラリです。\n",
        "\n",
        "中でもpyplotは最もよく使用されるモジュールで、標準的な描画処理の多くに対応しています。\n",
        "\n",
        "ここでは詳しくは説明しませんが、公式のマニュアルでpyplotに含まれる関数に目を通しておくことをお勧めします。\n",
        "\n",
        "参考：https://matplotlib.org/api/pyplot_api.html\n",
        "\n",
        "なお、jupyer notebook上でmatplotlibの結果を表示するには、`%matplotlib inline`を冒頭で宣言する必要があります。\n",
        "\n",
        "（ちなみに、このような`%`あるいは`%%`から始まるjupyter notebookに対するコマンドはマジックコマンドと呼ばれ、他にも様々なものが存在します。）"
      ]
    },
    {
      "cell_type": "code",
      "metadata": {
        "id": "T-XaTkOc0bHL",
        "colab_type": "code",
        "colab": {
          "base_uri": "https://localhost:8080/",
          "height": 478
        },
        "outputId": "5ff35b14-80a6-4505-c563-53c6a04b92f2"
      },
      "source": [
        "%matplotlib inline\n",
        "import matplotlib.pyplot as plt\n",
        "\n",
        "fig = plt.figure(figsize=(9, 15))\n",
        "fig.subplots_adjust(left=0, right=1, bottom=0, top=0.5, hspace=0.05, wspace=0.05)\n",
        "\n",
        "# 各MNIST画像の上に（タイトルとして）対応するラベルを表示\n",
        "for i in range(30):\n",
        "    ax = fig.add_subplot(3, 10, i + 1, xticks=[], yticks=[])\n",
        "    ax.set_title(str(y_train[i]))\n",
        "    ax.imshow(x_train[i], cmap='gray')"
      ],
      "execution_count": 4,
      "outputs": [
        {
          "output_type": "display_data",
          "data": {
            "image/png": "[encoded data removed]",
            "text/plain": [
              "<Figure size 648x1080 with 30 Axes>"
            ]
          },
          "metadata": {
            "tags": []
          }
        }
      ]
    },
    {
      "cell_type": "markdown",
      "metadata": {
        "id": "_ZCxZxgl0bHX",
        "colab_type": "text"
      },
      "source": [
        "これから実施するのは、MINISTにしても、CIFAR10にしても、いわゆる10クラス分類の問題です。（分類先のことを**クラス**と呼びます）\n",
        "\n",
        "さて、ここで特に分類タスクの際に気をつけたいことが2つあります。\n",
        "\n",
        "\n",
        "\n",
        "1.   ラベルの意味\n",
        "\n",
        "        MNISTにおいては、ラベルの値が数字としての意味と一致しているように見えますが、これはただの偶然でしかなく、あくまで、ラベルの値はクラスのインデックスに過ぎない数値ということです。\n",
        "\n",
        "        CIFAR10で試してみるとわかりますが、飛行機の画像のラベルは\"0\"であってairplaneという意味を持っているわけではありません。\n",
        "\n",
        "        要するに、Deep Learningとして理解している(させている)わけではないということです。\n",
        "\n",
        "        後ほど実装内にも出てきますが、各インデックスの意味づけは人がプログラム内でつけることなります。\n",
        "\n",
        "        画像分類の問題に限らず、現在のDeep Learningにおいては、1次的な結果を学習させ人間を超える精度を発揮することは可能ですが、2次的情報を付加するのはあくまで人間であり、その情報を理解し拡張することはまだできないと認識しておいてください。\n",
        "\n",
        "\n",
        "2.   ラベルの表現\n",
        "\n",
        "        もう一つ、インデックスなので、データとしては数字で表現されてしまいますが、Deep Learningを行う上で、これを数字としての意味を持って扱ってもらっては困るため、全クラス中のどのクラスに該当するかという表現に置き換える必要があります。\n",
        "\n",
        "        これを**one-hot表現**と呼んでいます。\n",
        "\n",
        "        * ラベル 0 = airplane -> (one-hot表現) -> [1,0,0,0,0,0,0,0,0,0]  ※10要素の配列の0番目に該当\n",
        "        * ラベル 1 = car -> (one-hot表現) -> [0,1,0,0,0,0,0,0,0,0] ※10要素の配列の1番目に該当\n",
        "\n",
        "    このone-hot表現への変換を行ってくれる関数がKerasにはあります。\n",
        "    \n",
        "    keras.utils.to_categorical関数がその関数です。データセット(y_trainおよびy_testにも適用してみましょう。\n",
        "    https://keras.io/ja/utils/#to_categorical"
      ]
    },
    {
      "cell_type": "code",
      "metadata": {
        "id": "DBvnPZCU0bHZ",
        "colab_type": "code",
        "colab": {}
      },
      "source": [
        "from tensorflow.keras.utils import to_categorical\n",
        "import numpy as np\n",
        "\n",
        "# 名義尺度の値をone-hot表現へ変換 (10クラス)\n",
        "y_train = to_categorical(y_train, 10)\n",
        "y_test = to_categorical(y_test, 10)"
      ],
      "execution_count": 0,
      "outputs": []
    },
    {
      "cell_type": "markdown",
      "metadata": {
        "id": "7WDd1fFQ0eYP",
        "colab_type": "text"
      },
      "source": [
        "MLPでは、画像上の位置情報を意識せず、１次元配列として次の層に全結合させていきます。\n",
        "\n",
        "一方、CNNは画像の位置情報を保持した３次元配列のまま、ConvolutionおよびPoolingすることで特徴量を抽出します。\n",
        "\n",
        "そのため、学習および推論する際のINPUTデータ形式は、MLPは１次元配列、CNNは３次元配列となります。"
      ]
    },
    {
      "cell_type": "code",
      "metadata": {
        "id": "AfE9xtc-0Mgo",
        "colab_type": "code",
        "colab": {}
      },
      "source": [
        "# 画像データの形式をMLPおよびCNNに適した形に修正\n",
        "# for CNN \n",
        "if model_structure==\"CNN\":\n",
        "    x_train = x_train.reshape(-1, img_size, img_size, img_color).astype(np.float32)\n",
        "    x_test = x_test.reshape(-1, img_size, img_size, img_color).astype(np.float32)\n",
        "    input_shape = (img_size, img_size, img_color)\n",
        "# for MLP        \n",
        "else:\n",
        "    # 入力画像を行列(28x28)からベクトル(長さ784)に変換\n",
        "    x_train = x_train.reshape(-1, img_size*img_size*img_color)\n",
        "    x_test = x_test.reshape(-1, img_size*img_size*img_color)\n",
        "    input_shape = (img_size*img_size*img_color,)\n"
      ],
      "execution_count": 0,
      "outputs": []
    },
    {
      "cell_type": "markdown",
      "metadata": {
        "id": "bUUkN6qj0bHi",
        "colab_type": "text"
      },
      "source": [
        "### 1.2.3 モデル構築\n",
        "\n",
        "学習に使用するMLPのモデルを構築します。具体的には、どんなlayer（層）をどこに配置するか、また各layerのユニット数はいくつかを指定していきます。\n",
        "\n",
        "このモデルを構築するための「容器」として機能するのが、keras.models.Sequentialクラスです。\n",
        "\n",
        "この「容器」の中に、Sequential.add関数によってkeras.layersに定義されているlayerクラス（後で詳述）を積み重ねていくことでモデルの構築を行います。\n",
        "\n",
        "https://keras.io/ja/models/sequential/"
      ]
    },
    {
      "cell_type": "code",
      "metadata": {
        "id": "1rIGYTTK0bHk",
        "colab_type": "code",
        "colab": {}
      },
      "source": [
        "# モデル構築用ライブラリをインポート\n",
        "from tensorflow.keras.models import Sequential\n",
        "from tensorflow.keras.layers import Dense, Activation, Flatten\n",
        "\n",
        "# CNNモデル用ライブラリ\n",
        "from tensorflow.python.keras.layers import Conv2D, Convolution2D, MaxPooling2D, Dropout, BatchNormalization\n",
        "from tensorflow.python.keras import initializers\n",
        "\n",
        "# モデルの「容器」を作成\n",
        "model = Sequential()"
      ],
      "execution_count": 0,
      "outputs": []
    },
    {
      "cell_type": "markdown",
      "metadata": {
        "id": "vWgvceiHbKnb",
        "colab_type": "text"
      },
      "source": [
        "モデル構造を定義します。モデルの切り替えが用意にできるように、ここではモデル構造ごとにfunctionを用意しておきます。\n",
        "\n",
        "なお、Kerasでは最初のLayerにてInput_shapeを定義する必要があります。\n",
        "\n",
        "下記実装においては、入出力を除いた中間層について、MLPは全結合2層、CNNは畳込み2層＋全結合1層としています。\n",
        "\n",
        "各レイヤーのパラメータ等についてはKerasのドキュメントを参照してください。\n",
        "\n",
        "* [Dense/Actication/Dropout](https://keras.io/ja/layers/core/)\n",
        "* [Conv2D](https://keras.io/ja/layers/convolutional/)\n",
        "* [MaxPooling](https://keras.io/ja/layers/pooling/)\n",
        "* [Batch Normalization](https://keras.io/ja/layers/normalization/)\n",
        "\n",
        "\n",
        "MLPにおいては、3つの異なる活性化関数(Activation)のfunctionを用意しています。\n",
        "\n",
        "また、CNNにおいては、Dropoutの有無とBatch Nrmalizationを実装したfunctionを用意しています。\n",
        "\n",
        "それぞれのモデルの比較とともに、層の深さやレイヤーの構成、レイヤーごとのパラメータなどを自由にいじってみて、どのような変化が起こるか試してみましょう。\n"
      ]
    },
    {
      "cell_type": "code",
      "metadata": {
        "id": "i8TOq83u0bHz",
        "colab_type": "code",
        "colab": {}
      },
      "source": [
        "# MLPモデル\n",
        "def mlp_relu_model():\n",
        "    model.add(Dense(units=256, input_shape=input_shape))\n",
        "    model.add(Activation('relu'))\n",
        "    model.add(Dense(units=100))\n",
        "    model.add(Activation('relu'))\n",
        "    model.add(Dense(units=10))\n",
        "    model.add(Activation('softmax'))\n",
        "\n",
        "def mlp_sigmoid_model():\n",
        "    model.add(Dense(units=256, input_shape=input_shape))\n",
        "    model.add(Activation('sigmoid'))\n",
        "    model.add(Dense(units=100))\n",
        "    model.add(Activation('sigmoid'))\n",
        "    model.add(Dense(units=10))\n",
        "    model.add(Activation('softmax'))\n",
        "\n",
        "def mlp_tanh_model():\n",
        "    model.add(Dense(units=256, input_shape=input_shape))\n",
        "    model.add(Activation('tanh'))\n",
        "    model.add(Dense(units=100))\n",
        "    model.add(Activation('tanh'))\n",
        "    model.add(Dense(units=10))\n",
        "    model.add(Activation('softmax'))\n"
      ],
      "execution_count": 0,
      "outputs": []
    },
    {
      "cell_type": "code",
      "metadata": {
        "id": "FLLXeRM3f7Fi",
        "colab_type": "code",
        "colab": {}
      },
      "source": [
        "# CNNモデル\n",
        "def cnn_model():\n",
        "    model.add(Conv2D(32, (3, 3), kernel_initializer=initializers.TruncatedNormal(stddev=0.1), bias_initializer=initializers.Zeros(), input_shape=input_shape))\n",
        "    model.add(Activation('relu'))\n",
        "    model.add(Conv2D(64, (3, 3), kernel_initializer=initializers.TruncatedNormal(stddev=0.1), bias_initializer=initializers.Zeros()))\n",
        "    model.add(Activation('relu'))\n",
        "    model.add(MaxPooling2D(pool_size=(2, 2)))\n",
        "\n",
        "    model.add(Flatten())\n",
        "    model.add(Dense(256, kernel_initializer=initializers.TruncatedNormal(stddev=0.1), bias_initializer=initializers.Zeros()))\n",
        "    model.add(Activation('relu'))\n",
        "    model.add(Dense(units=10))\n",
        "    model.add(Activation('softmax'))\n",
        "\n",
        "# CNNモデル w/Dropout\n",
        "def cnn_w_dropout():\n",
        "    model.add(Conv2D(32, (3, 3), kernel_initializer=initializers.TruncatedNormal(stddev=0.1), bias_initializer=initializers.Zeros(), input_shape=input_shape))\n",
        "    model.add(Activation('relu'))\n",
        "    model.add(Conv2D(64, (3, 3), kernel_initializer=initializers.TruncatedNormal(stddev=0.1), bias_initializer=initializers.Zeros()))\n",
        "    model.add(Activation('relu'))\n",
        "    model.add(MaxPooling2D(pool_size=(2, 2)))\n",
        "    model.add(Dropout(0.5))\n",
        "\n",
        "    model.add(Flatten())\n",
        "    model.add(Dense(256, kernel_initializer=initializers.TruncatedNormal(stddev=0.1), bias_initializer=initializers.Zeros()))\n",
        "    model.add(Activation('relu'))\n",
        "    model.add(Dropout(0.5))\n",
        "    model.add(Dense(units=10))\n",
        "    model.add(Activation('softmax'))\n",
        "    \n",
        "# CNNモデル w/Batch Normalization\n",
        "def cnn_w_batchnorm():\n",
        "    model.add(Conv2D(32, (3, 3), kernel_initializer=initializers.TruncatedNormal(stddev=0.1), bias_initializer=initializers.Zeros(), input_shape=input_shape))\n",
        "    model.add(Activation('relu'))\n",
        "    model.add(Conv2D(64, (3, 3), kernel_initializer=initializers.TruncatedNormal(stddev=0.1), bias_initializer=initializers.Zeros()))\n",
        "    model.add(Activation('relu'))\n",
        "    model.add(BatchNormalization())\n",
        "    model.add(MaxPooling2D(pool_size=(2, 2)))\n",
        "\n",
        "    model.add(Flatten())\n",
        "    model.add(Dense(256, kernel_initializer=initializers.TruncatedNormal(stddev=0.1), bias_initializer=initializers.Zeros()))\n",
        "    model.add(Activation('relu'))\n",
        "    model.add(BatchNormalization())\n",
        "    model.add(Dense(units=10))\n",
        "    model.add(Activation('softmax'))"
      ],
      "execution_count": 0,
      "outputs": []
    },
    {
      "cell_type": "markdown",
      "metadata": {
        "id": "3DNVsEupdMjn",
        "colab_type": "text"
      },
      "source": [
        "それでは、任意のモデルを選び、構築してみましょう。"
      ]
    },
    {
      "cell_type": "code",
      "metadata": {
        "id": "Nq7BxPyz0bH3",
        "colab_type": "code",
        "colab": {
          "base_uri": "https://localhost:8080/",
          "height": 68
        },
        "outputId": "c88f1d3b-ba71-4f33-f2b4-d0620c806475"
      },
      "source": [
        "# model構築\n",
        "if model_structure==\"CNN\":\n",
        "#    cnn_model()\n",
        "#    cnn_w_dropout()\n",
        "    cnn_w_batchnorm()\n",
        "else:\n",
        "    mlp_relu_model()\n",
        "#    mlp_sigmoid_model()\n",
        "#    mlp_tanh_model()"
      ],
      "execution_count": 10,
      "outputs": [
        {
          "output_type": "stream",
          "text": [
            "WARNING:tensorflow:From /usr/local/lib/python3.6/dist-packages/tensorflow/python/ops/resource_variable_ops.py:435: colocate_with (from tensorflow.python.framework.ops) is deprecated and will be removed in a future version.\n",
            "Instructions for updating:\n",
            "Colocations handled automatically by placer.\n"
          ],
          "name": "stdout"
        }
      ]
    },
    {
      "cell_type": "markdown",
      "metadata": {
        "id": "sSEVpmwMo1U8",
        "colab_type": "text"
      },
      "source": [
        "視覚的にわかるよう、モデル構造を図示します。\n",
        "\n",
        "また、同時に各レイヤーの定義情報を参考として出力してみます。"
      ]
    },
    {
      "cell_type": "code",
      "metadata": {
        "id": "vBmICHhQOX57",
        "colab_type": "code",
        "colab": {
          "base_uri": "https://localhost:8080/",
          "height": 685
        },
        "outputId": "48b2e858-861e-4de1-d92e-c8978b96f516"
      },
      "source": [
        "!git clone https://github.com/scpepper69/convnet-drawer.git convert_drawer\n",
        "import sys\n",
        "sys.path.append('./convert_drawer/')\n",
        "from keras_util import convert_drawer_model\n",
        "from keras_models import AlexNet\n",
        "from matplotlib_util import save_model_to_file\n",
        "from IPython.display import *\n",
        "\n",
        "# get Keras sequential model\n",
        "#keras_sequential_model = AlexNet.get_model()\n",
        "draw_model = convert_drawer_model(model)\n",
        "\n",
        "# save as svg file\n",
        "draw_model.save_fig('model_structure.svg')\n",
        "display_svg(SVG('model_structure.svg'))\n"
      ],
      "execution_count": 11,
      "outputs": [
        {
          "output_type": "stream",
          "text": [
            "Cloning into 'convert_drawer'...\n",
            "remote: Enumerating objects: 70, done.\u001b[K\n",
            "remote: Counting objects:   1% (1/70)   \u001b[K\rremote: Counting objects:   2% (2/70)   \u001b[K\rremote: Counting objects:   4% (3/70)   \u001b[K\rremote: Counting objects:   5% (4/70)   \u001b[K\rremote: Counting objects:   7% (5/70)   \u001b[K\rremote: Counting objects:   8% (6/70)   \u001b[K\rremote: Counting objects:  10% (7/70)   \u001b[K\rremote: Counting objects:  11% (8/70)   \u001b[K\rremote: Counting objects:  12% (9/70)   \u001b[K\rremote: Counting objects:  14% (10/70)   \u001b[K\rremote: Counting objects:  15% (11/70)   \u001b[K\rremote: Counting objects:  17% (12/70)   \u001b[K\rremote: Counting objects:  18% (13/70)   \u001b[K\rremote: Counting objects:  20% (14/70)   \u001b[K\rremote: Counting objects:  21% (15/70)   \u001b[K\rremote: Counting objects:  22% (16/70)   \u001b[K\rremote: Counting objects:  24% (17/70)   \u001b[K\rremote: Counting objects:  25% (18/70)   \u001b[K\rremote: Counting objects:  27% (19/70)   \u001b[K\rremote: Counting objects:  28% (20/70)   \u001b[K\rremote: Counting objects:  30% (21/70)   \u001b[K\rremote: Counting objects:  31% (22/70)   \u001b[K\rremote: Counting objects:  32% (23/70)   \u001b[K\rremote: Counting objects:  34% (24/70)   \u001b[K\rremote: Counting objects:  35% (25/70)   \u001b[K\rremote: Counting objects:  37% (26/70)   \u001b[K\rremote: Counting objects:  38% (27/70)   \u001b[K\rremote: Counting objects:  40% (28/70)   \u001b[K\rremote: Counting objects:  41% (29/70)   \u001b[K\rremote: Counting objects:  42% (30/70)   \u001b[K\rremote: Counting objects:  44% (31/70)   \u001b[K\rremote: Counting objects:  45% (32/70)   \u001b[K\rremote: Counting objects:  47% (33/70)   \u001b[K\rremote: Counting objects:  48% (34/70)   \u001b[K\rremote: Counting objects:  50% (35/70)   \u001b[K\rremote: Counting objects:  51% (36/70)   \u001b[K\rremote: Counting objects:  52% (37/70)   \u001b[K\rremote: Counting objects:  54% (38/70)   \u001b[K\rremote: Counting objects:  55% (39/70)   \u001b[K\rremote: Counting objects:  57% (40/70)   \u001b[K\rremote: Counting objects:  58% (41/70)   \u001b[K\rremote: Counting objects:  60% (42/70)   \u001b[K\rremote: Counting objects:  61% (43/70)   \u001b[K\rremote: Counting objects:  62% (44/70)   \u001b[K\rremote: Counting objects:  64% (45/70)   \u001b[K\rremote: Counting objects:  65% (46/70)   \u001b[K\rremote: Counting objects:  67% (47/70)   \u001b[K\rremote: Counting objects:  68% (48/70)   \u001b[K\rremote: Counting objects:  70% (49/70)   \u001b[K\rremote: Counting objects:  71% (50/70)   \u001b[K\rremote: Counting objects:  72% (51/70)   \u001b[K\rremote: Counting objects:  74% (52/70)   \u001b[K\rremote: Counting objects:  75% (53/70)   \u001b[K\rremote: Counting objects:  77% (54/70)   \u001b[K\rremote: Counting objects:  78% (55/70)   \u001b[K\rremote: Counting objects:  80% (56/70)   \u001b[K\rremote: Counting objects:  81% (57/70)   \u001b[K\rremote: Counting objects:  82% (58/70)   \u001b[K\rremote: Counting objects:  84% (59/70)   \u001b[K\rremote: Counting objects:  85% (60/70)   \u001b[K\rremote: Counting objects:  87% (61/70)   \u001b[K\rremote: Counting objects:  88% (62/70)   \u001b[K\rremote: Counting objects:  90% (63/70)   \u001b[K\rremote: Counting objects:  91% (64/70)   \u001b[K\rremote: Counting objects:  92% (65/70)   \u001b[K\rremote: Counting objects:  94% (66/70)   \u001b[K\rremote: Counting objects:  95% (67/70)   \u001b[K\rremote: Counting objects:  97% (68/70)   \u001b[K\rremote: Counting objects:  98% (69/70)   \u001b[K\rremote: Counting objects: 100% (70/70)   \u001b[K\rremote: Counting objects: 100% (70/70), done.\u001b[K\n",
            "remote: Compressing objects:   2% (1/48)   \u001b[K\rremote: Compressing objects:   4% (2/48)   \u001b[K\rremote: Compressing objects:   6% (3/48)   \u001b[K\rremote: Compressing objects:   8% (4/48)   \u001b[K\rremote: Compressing objects:  10% (5/48)   \u001b[K\rremote: Compressing objects:  12% (6/48)   \u001b[K\rremote: Compressing objects:  14% (7/48)   \u001b[K\rremote: Compressing objects:  16% (8/48)   \u001b[K\rremote: Compressing objects:  18% (9/48)   \u001b[K\rremote: Compressing objects:  20% (10/48)   \u001b[K\rremote: Compressing objects:  22% (11/48)   \u001b[K\rremote: Compressing objects:  25% (12/48)   \u001b[K\rremote: Compressing objects:  27% (13/48)   \u001b[K\rremote: Compressing objects:  29% (14/48)   \u001b[K\rremote: Compressing objects:  31% (15/48)   \u001b[K\rremote: Compressing objects:  33% (16/48)   \u001b[K\rremote: Compressing objects:  35% (17/48)   \u001b[K\rremote: Compressing objects:  37% (18/48)   \u001b[K\rremote: Compressing objects:  39% (19/48)   \u001b[K\rremote: Compressing objects:  41% (20/48)   \u001b[K\rremote: Compressing objects:  43% (21/48)   \u001b[K\rremote: Compressing objects:  45% (22/48)   \u001b[K\rremote: Compressing objects:  47% (23/48)   \u001b[K\rremote: Compressing objects:  50% (24/48)   \u001b[K\rremote: Compressing objects:  52% (25/48)   \u001b[K\rremote: Compressing objects:  54% (26/48)   \u001b[K\rremote: Compressing objects:  56% (27/48)   \u001b[K\rremote: Compressing objects:  58% (28/48)   \u001b[K\rremote: Compressing objects:  60% (29/48)   \u001b[K\rremote: Compressing objects:  62% (30/48)   \u001b[K\rremote: Compressing objects:  64% (31/48)   \u001b[K\rremote: Compressing objects:  66% (32/48)   \u001b[K\rremote: Compressing objects:  68% (33/48)   \u001b[K\rremote: Compressing objects:  70% (34/48)   \u001b[K\rremote: Compressing objects:  72% (35/48)   \u001b[K\rremote: Compressing objects:  75% (36/48)   \u001b[K\rremote: Compressing objects:  77% (37/48)   \u001b[K\rremote: Compressing objects:  79% (38/48)   \u001b[K\rremote: Compressing objects:  81% (39/48)   \u001b[K\rremote: Compressing objects:  83% (40/48)   \u001b[K\rremote: Compressing objects:  85% (41/48)   \u001b[K\rremote: Compressing objects:  87% (42/48)   \u001b[K\rremote: Compressing objects:  89% (43/48)   \u001b[K\rremote: Compressing objects:  91% (44/48)   \u001b[K\rremote: Compressing objects:  93% (45/48)   \u001b[K\rremote: Compressing objects:  95% (46/48)   \u001b[K\rremote: Compressing objects:  97% (47/48)   \u001b[K\rremote: Compressing objects: 100% (48/48)   \u001b[K\rremote: Compressing objects: 100% (48/48), done.\u001b[K\n",
            "Receiving objects:   0% (1/289)   \rReceiving objects:   1% (3/289)   \rReceiving objects:   2% (6/289)   \rReceiving objects:   3% (9/289)   \rReceiving objects:   4% (12/289)   \rReceiving objects:   5% (15/289)   \rReceiving objects:   6% (18/289)   \rReceiving objects:   7% (21/289)   \rReceiving objects:   8% (24/289)   \rReceiving objects:   9% (27/289)   \rReceiving objects:  10% (29/289)   \rReceiving objects:  11% (32/289)   \rReceiving objects:  12% (35/289)   \rReceiving objects:  13% (38/289)   \rReceiving objects:  14% (41/289)   \rReceiving objects:  15% (44/289)   \rReceiving objects:  16% (47/289)   \rReceiving objects:  17% (50/289)   \rReceiving objects:  18% (53/289)   \rReceiving objects:  19% (55/289)   \rReceiving objects:  20% (58/289)   \rReceiving objects:  21% (61/289)   \rReceiving objects:  22% (64/289)   \rReceiving objects:  23% (67/289)   \rReceiving objects:  24% (70/289)   \rReceiving objects:  25% (73/289)   \rReceiving objects:  26% (76/289)   \rReceiving objects:  27% (79/289)   \rReceiving objects:  28% (81/289)   \rReceiving objects:  29% (84/289)   \rReceiving objects:  30% (87/289)   \rReceiving objects:  31% (90/289)   \rReceiving objects:  32% (93/289)   \rReceiving objects:  33% (96/289)   \rReceiving objects:  34% (99/289)   \rReceiving objects:  35% (102/289)   \rReceiving objects:  36% (105/289)   \rReceiving objects:  37% (107/289)   \rReceiving objects:  38% (110/289)   \rReceiving objects:  39% (113/289)   \rReceiving objects:  40% (116/289)   \rReceiving objects:  41% (119/289)   \rReceiving objects:  42% (122/289)   \rReceiving objects:  43% (125/289)   \rremote: Total 289 (delta 42), reused 50 (delta 22), pack-reused 219\u001b[K\n",
            "Receiving objects:  44% (128/289)   \rReceiving objects:  45% (131/289)   \rReceiving objects:  46% (133/289)   \rReceiving objects:  47% (136/289)   \rReceiving objects:  48% (139/289)   \rReceiving objects:  49% (142/289)   \rReceiving objects:  50% (145/289)   \rReceiving objects:  51% (148/289)   \rReceiving objects:  52% (151/289)   \rReceiving objects:  53% (154/289)   \rReceiving objects:  54% (157/289)   \rReceiving objects:  55% (159/289)   \rReceiving objects:  56% (162/289)   \rReceiving objects:  57% (165/289)   \rReceiving objects:  58% (168/289)   \rReceiving objects:  59% (171/289)   \rReceiving objects:  60% (174/289)   \rReceiving objects:  61% (177/289)   \rReceiving objects:  62% (180/289)   \rReceiving objects:  63% (183/289)   \rReceiving objects:  64% (185/289)   \rReceiving objects:  65% (188/289)   \rReceiving objects:  66% (191/289)   \rReceiving objects:  67% (194/289)   \rReceiving objects:  68% (197/289)   \rReceiving objects:  69% (200/289)   \rReceiving objects:  70% (203/289)   \rReceiving objects:  71% (206/289)   \rReceiving objects:  72% (209/289)   \rReceiving objects:  73% (211/289)   \rReceiving objects:  74% (214/289)   \rReceiving objects:  75% (217/289)   \rReceiving objects:  76% (220/289)   \rReceiving objects:  77% (223/289)   \rReceiving objects:  78% (226/289)   \rReceiving objects:  79% (229/289)   \rReceiving objects:  80% (232/289)   \rReceiving objects:  81% (235/289)   \rReceiving objects:  82% (237/289)   \rReceiving objects:  83% (240/289)   \rReceiving objects:  84% (243/289)   \rReceiving objects:  85% (246/289)   \rReceiving objects:  86% (249/289)   \rReceiving objects:  87% (252/289)   \rReceiving objects:  88% (255/289)   \rReceiving objects:  89% (258/289)   \rReceiving objects:  90% (261/289)   \rReceiving objects:  91% (263/289)   \rReceiving objects:  92% (266/289)   \rReceiving objects:  93% (269/289)   \rReceiving objects:  94% (272/289)   \rReceiving objects:  95% (275/289)   \rReceiving objects:  96% (278/289)   \rReceiving objects:  97% (281/289)   \rReceiving objects:  98% (284/289)   \rReceiving objects:  99% (287/289)   \rReceiving objects: 100% (289/289)   \rReceiving objects: 100% (289/289), 959.57 KiB | 16.26 MiB/s, done.\n",
            "Resolving deltas:   0% (0/172)   \rResolving deltas:   1% (2/172)   \rResolving deltas:   7% (13/172)   \rResolving deltas:   9% (16/172)   \rResolving deltas:  21% (37/172)   \rResolving deltas:  25% (43/172)   \rResolving deltas:  35% (61/172)   \rResolving deltas:  40% (70/172)   \rResolving deltas:  44% (77/172)   \rResolving deltas:  46% (80/172)   \rResolving deltas:  47% (82/172)   \rResolving deltas:  48% (84/172)   \rResolving deltas:  49% (85/172)   \rResolving deltas:  52% (90/172)   \rResolving deltas:  59% (103/172)   \rResolving deltas:  62% (107/172)   \rResolving deltas:  63% (109/172)   \rResolving deltas:  66% (115/172)   \rResolving deltas:  72% (124/172)   \rResolving deltas:  75% (130/172)   \rResolving deltas:  93% (161/172)   \rResolving deltas:  98% (170/172)   \rResolving deltas: 100% (172/172)   \rResolving deltas: 100% (172/172), done.\n",
            "Conv2D {'name': 'conv2d', 'trainable': True, 'batch_input_shape': (None, 28, 28, 1), 'dtype': 'float32', 'filters': 32, 'kernel_size': (3, 3), 'strides': (1, 1), 'padding': 'valid', 'data_format': 'channels_last', 'dilation_rate': (1, 1), 'activation': 'linear', 'use_bias': True, 'kernel_initializer': {'class_name': 'TruncatedNormal', 'config': {'mean': 0.0, 'stddev': 0.1, 'seed': None, 'dtype': 'float32'}}, 'bias_initializer': {'class_name': 'Zeros', 'config': {'dtype': 'float32'}}, 'kernel_regularizer': None, 'bias_regularizer': None, 'activity_regularizer': None, 'kernel_constraint': None, 'bias_constraint': None}\n",
            "Activation {'name': 'activation', 'trainable': True, 'dtype': 'float32', 'activation': 'relu'}\n",
            "Conv2D {'name': 'conv2d_1', 'trainable': True, 'dtype': 'float32', 'filters': 64, 'kernel_size': (3, 3), 'strides': (1, 1), 'padding': 'valid', 'data_format': 'channels_last', 'dilation_rate': (1, 1), 'activation': 'linear', 'use_bias': True, 'kernel_initializer': {'class_name': 'TruncatedNormal', 'config': {'mean': 0.0, 'stddev': 0.1, 'seed': None, 'dtype': 'float32'}}, 'bias_initializer': {'class_name': 'Zeros', 'config': {'dtype': 'float32'}}, 'kernel_regularizer': None, 'bias_regularizer': None, 'activity_regularizer': None, 'kernel_constraint': None, 'bias_constraint': None}\n",
            "Activation {'name': 'activation_1', 'trainable': True, 'dtype': 'float32', 'activation': 'relu'}\n",
            "BatchNormalizationV1 {'name': 'batch_normalization_v1', 'trainable': True, 'dtype': 'float32', 'axis': [3], 'momentum': 0.99, 'epsilon': 0.001, 'center': True, 'scale': True, 'beta_initializer': {'class_name': 'Zeros', 'config': {'dtype': 'float32'}}, 'gamma_initializer': {'class_name': 'Ones', 'config': {'dtype': 'float32'}}, 'moving_mean_initializer': {'class_name': 'Zeros', 'config': {'dtype': 'float32'}}, 'moving_variance_initializer': {'class_name': 'Ones', 'config': {'dtype': 'float32'}}, 'beta_regularizer': None, 'gamma_regularizer': None, 'beta_constraint': None, 'gamma_constraint': None}\n",
            "MaxPooling2D {'name': 'max_pooling2d', 'trainable': True, 'dtype': 'float32', 'pool_size': (2, 2), 'padding': 'valid', 'strides': (2, 2), 'data_format': 'channels_last'}\n",
            "Flatten {'name': 'flatten', 'trainable': True, 'dtype': 'float32', 'data_format': 'channels_last'}\n",
            "Dense {'name': 'dense', 'trainable': True, 'dtype': 'float32', 'units': 256, 'activation': 'linear', 'use_bias': True, 'kernel_initializer': {'class_name': 'TruncatedNormal', 'config': {'mean': 0.0, 'stddev': 0.1, 'seed': None, 'dtype': 'float32'}}, 'bias_initializer': {'class_name': 'Zeros', 'config': {'dtype': 'float32'}}, 'kernel_regularizer': None, 'bias_regularizer': None, 'activity_regularizer': None, 'kernel_constraint': None, 'bias_constraint': None}\n",
            "Activation {'name': 'activation_2', 'trainable': True, 'dtype': 'float32', 'activation': 'relu'}\n",
            "BatchNormalizationV1 {'name': 'batch_normalization_v1_1', 'trainable': True, 'dtype': 'float32', 'axis': [1], 'momentum': 0.99, 'epsilon': 0.001, 'center': True, 'scale': True, 'beta_initializer': {'class_name': 'Zeros', 'config': {'dtype': 'float32'}}, 'gamma_initializer': {'class_name': 'Ones', 'config': {'dtype': 'float32'}}, 'moving_mean_initializer': {'class_name': 'Zeros', 'config': {'dtype': 'float32'}}, 'moving_variance_initializer': {'class_name': 'Ones', 'config': {'dtype': 'float32'}}, 'beta_regularizer': None, 'gamma_regularizer': None, 'beta_constraint': None, 'gamma_constraint': None}\n",
            "Dense {'name': 'dense_1', 'trainable': True, 'dtype': 'float32', 'units': 10, 'activation': 'linear', 'use_bias': True, 'kernel_initializer': {'class_name': 'GlorotUniform', 'config': {'seed': None, 'dtype': 'float32'}}, 'bias_initializer': {'class_name': 'Zeros', 'config': {'dtype': 'float32'}}, 'kernel_regularizer': None, 'bias_regularizer': None, 'activity_regularizer': None, 'kernel_constraint': None, 'bias_constraint': None}\n",
            "Activation {'name': 'activation_3', 'trainable': True, 'dtype': 'float32', 'activation': 'softmax'}\n"
          ],
          "name": "stdout"
        },
        {
          "output_type": "display_data",
          "data": {
            "image/svg+xml": "<svg height=\"321.1803404061793\" viewBox=\"-40 -153.59017020308966 479.81106550258596 321.1803404061793\" width=\"479.81106550258596\" xmlns=\"http://www.w3.org/2000/svg\" xmlns:xlink=\"http://www.w3.org/1999/xlink\">\n<line stroke=\"rgb(0, 0, 0)\" stroke-dasharray=\"none\" stroke-width=\"1\" x1=\"0\" x2=\"0\" y1=\"9.100000000000001\" y2=\"-18.9\"/>\n<line stroke=\"rgb(0, 0, 0)\" stroke-dasharray=\"1\" stroke-width=\"1\" x1=\"1.0\" x2=\"1.0\" y1=\"9.100000000000001\" y2=\"-18.9\"/>\n<line stroke=\"rgb(0, 0, 0)\" stroke-dasharray=\"none\" stroke-width=\"1\" x1=\"16.974097914174997\" x2=\"16.974097914174997\" y1=\"18.9\" y2=\"-9.100000000000001\"/>\n<line stroke=\"rgb(0, 0, 0)\" stroke-dasharray=\"none\" stroke-width=\"1\" x1=\"17.974097914174997\" x2=\"17.974097914174997\" y1=\"18.9\" y2=\"-9.100000000000001\"/>\n<line stroke=\"rgb(0, 0, 0)\" stroke-dasharray=\"none\" stroke-width=\"1\" x1=\"0\" x2=\"16.974097914174997\" y1=\"9.100000000000001\" y2=\"18.9\"/>\n<line stroke=\"rgb(0, 0, 0)\" stroke-dasharray=\"none\" stroke-width=\"1\" x1=\"0\" x2=\"16.974097914174997\" y1=\"-18.9\" y2=\"-9.100000000000001\"/>\n<line stroke=\"rgb(0, 0, 0)\" stroke-dasharray=\"1\" stroke-width=\"1\" x1=\"1.0\" x2=\"17.974097914174997\" y1=\"9.100000000000001\" y2=\"18.9\"/>\n<line stroke=\"rgb(0, 0, 0)\" stroke-dasharray=\"none\" stroke-width=\"1\" x1=\"1.0\" x2=\"17.974097914174997\" y1=\"-18.9\" y2=\"-9.100000000000001\"/>\n<line stroke=\"rgb(0, 0, 0)\" stroke-dasharray=\"1\" stroke-width=\"1\" x1=\"0\" x2=\"1.0\" y1=\"9.100000000000001\" y2=\"9.100000000000001\"/>\n<line stroke=\"rgb(0, 0, 0)\" stroke-dasharray=\"none\" stroke-width=\"1\" x1=\"16.974097914174997\" x2=\"17.974097914174997\" y1=\"18.9\" y2=\"18.9\"/>\n<line stroke=\"rgb(0, 0, 0)\" stroke-dasharray=\"none\" stroke-width=\"1\" x1=\"0\" x2=\"1.0\" y1=\"-18.9\" y2=\"-18.9\"/>\n<line stroke=\"rgb(0, 0, 0)\" stroke-dasharray=\"none\" stroke-width=\"1\" x1=\"16.974097914174997\" x2=\"17.974097914174997\" y1=\"-9.100000000000001\" y2=\"-9.100000000000001\"/>\n<text fill=\"rgb(0, 0, 0)\" font-family=\"arial\" font-size=\"14px\" text-anchor=\"middle\" x=\"8.987048957087499\" y=\"-28.9\">28x28x1</text>\n<line stroke=\"rgb(0, 0, 0)\" stroke-dasharray=\"none\" stroke-width=\"1\" x1=\"67.97409791417499\" x2=\"67.97409791417499\" y1=\"8.450000000000001\" y2=\"-17.549999999999997\"/>\n<line stroke=\"rgb(0, 0, 0)\" stroke-dasharray=\"1\" stroke-width=\"1\" x1=\"75.97409791417499\" x2=\"75.97409791417499\" y1=\"8.450000000000001\" y2=\"-17.549999999999997\"/>\n<line stroke=\"rgb(0, 0, 0)\" stroke-dasharray=\"none\" stroke-width=\"1\" x1=\"83.73576026305177\" x2=\"83.73576026305177\" y1=\"17.549999999999997\" y2=\"-8.450000000000001\"/>\n<line stroke=\"rgb(0, 0, 0)\" stroke-dasharray=\"none\" stroke-width=\"1\" x1=\"91.73576026305177\" x2=\"91.73576026305177\" y1=\"17.549999999999997\" y2=\"-8.450000000000001\"/>\n<line stroke=\"rgb(0, 0, 0)\" stroke-dasharray=\"none\" stroke-width=\"1\" x1=\"67.97409791417499\" x2=\"83.73576026305177\" y1=\"8.450000000000001\" y2=\"17.549999999999997\"/>\n<line stroke=\"rgb(0, 0, 0)\" stroke-dasharray=\"none\" stroke-width=\"1\" x1=\"67.97409791417499\" x2=\"83.73576026305177\" y1=\"-17.549999999999997\" y2=\"-8.450000000000001\"/>\n<line stroke=\"rgb(0, 0, 0)\" stroke-dasharray=\"1\" stroke-width=\"1\" x1=\"75.97409791417499\" x2=\"91.73576026305177\" y1=\"8.450000000000001\" y2=\"17.549999999999997\"/>\n<line stroke=\"rgb(0, 0, 0)\" stroke-dasharray=\"none\" stroke-width=\"1\" x1=\"75.97409791417499\" x2=\"91.73576026305177\" y1=\"-17.549999999999997\" y2=\"-8.450000000000001\"/>\n<line stroke=\"rgb(0, 0, 0)\" stroke-dasharray=\"1\" stroke-width=\"1\" x1=\"67.97409791417499\" x2=\"75.97409791417499\" y1=\"8.450000000000001\" y2=\"8.450000000000001\"/>\n<line stroke=\"rgb(0, 0, 0)\" stroke-dasharray=\"none\" stroke-width=\"1\" x1=\"83.73576026305177\" x2=\"91.73576026305177\" y1=\"17.549999999999997\" y2=\"17.549999999999997\"/>\n<line stroke=\"rgb(0, 0, 0)\" stroke-dasharray=\"none\" stroke-width=\"1\" x1=\"67.97409791417499\" x2=\"75.97409791417499\" y1=\"-17.549999999999997\" y2=\"-17.549999999999997\"/>\n<line stroke=\"rgb(0, 0, 0)\" stroke-dasharray=\"none\" stroke-width=\"1\" x1=\"83.73576026305177\" x2=\"91.73576026305177\" y1=\"-8.450000000000001\" y2=\"-8.450000000000001\"/>\n<text fill=\"rgb(0, 0, 0)\" font-family=\"arial\" font-size=\"14px\" text-anchor=\"middle\" x=\"79.85492908861337\" y=\"-27.549999999999997\">26x26x32</text>\n<line stroke=\"rgb(0, 0, 0)\" stroke-dasharray=\"none\" stroke-width=\"1\" x1=\"141.73576026305176\" x2=\"141.73576026305176\" y1=\"7.800000000000002\" y2=\"-16.2\"/>\n<line stroke=\"rgb(0, 0, 0)\" stroke-dasharray=\"1\" stroke-width=\"1\" x1=\"153.86149279513495\" x2=\"153.86149279513495\" y1=\"7.800000000000002\" y2=\"-16.2\"/>\n<line stroke=\"rgb(0, 0, 0)\" stroke-dasharray=\"none\" stroke-width=\"1\" x1=\"156.28498704663033\" x2=\"156.28498704663033\" y1=\"16.2\" y2=\"-7.800000000000002\"/>\n<line stroke=\"rgb(0, 0, 0)\" stroke-dasharray=\"none\" stroke-width=\"1\" x1=\"168.4107195787135\" x2=\"168.4107195787135\" y1=\"16.2\" y2=\"-7.800000000000002\"/>\n<line stroke=\"rgb(0, 0, 0)\" stroke-dasharray=\"none\" stroke-width=\"1\" x1=\"141.73576026305176\" x2=\"156.28498704663033\" y1=\"7.800000000000002\" y2=\"16.2\"/>\n<line stroke=\"rgb(0, 0, 0)\" stroke-dasharray=\"none\" stroke-width=\"1\" x1=\"141.73576026305176\" x2=\"156.28498704663033\" y1=\"-16.2\" y2=\"-7.800000000000002\"/>\n<line stroke=\"rgb(0, 0, 0)\" stroke-dasharray=\"1\" stroke-width=\"1\" x1=\"153.86149279513495\" x2=\"168.4107195787135\" y1=\"7.800000000000002\" y2=\"16.2\"/>\n<line stroke=\"rgb(0, 0, 0)\" stroke-dasharray=\"none\" stroke-width=\"1\" x1=\"153.86149279513495\" x2=\"168.4107195787135\" y1=\"-16.2\" y2=\"-7.800000000000002\"/>\n<line stroke=\"rgb(0, 0, 0)\" stroke-dasharray=\"1\" stroke-width=\"1\" x1=\"141.73576026305176\" x2=\"153.86149279513495\" y1=\"7.800000000000002\" y2=\"7.800000000000002\"/>\n<line stroke=\"rgb(0, 0, 0)\" stroke-dasharray=\"none\" stroke-width=\"1\" x1=\"156.28498704663033\" x2=\"168.4107195787135\" y1=\"16.2\" y2=\"16.2\"/>\n<line stroke=\"rgb(0, 0, 0)\" stroke-dasharray=\"none\" stroke-width=\"1\" x1=\"141.73576026305176\" x2=\"153.86149279513495\" y1=\"-16.2\" y2=\"-16.2\"/>\n<line stroke=\"rgb(0, 0, 0)\" stroke-dasharray=\"none\" stroke-width=\"1\" x1=\"156.28498704663033\" x2=\"168.4107195787135\" y1=\"-7.800000000000002\" y2=\"-7.800000000000002\"/>\n<text fill=\"rgb(0, 0, 0)\" font-family=\"arial\" font-size=\"14px\" text-anchor=\"middle\" x=\"155.07323992088266\" y=\"-26.2\">24x24x64</text>\n<line stroke=\"rgb(0, 0, 0)\" stroke-dasharray=\"none\" stroke-width=\"1\" x1=\"218.41071957871353\" x2=\"218.41071957871353\" y1=\"3.900000000000001\" y2=\"-8.1\"/>\n<line stroke=\"rgb(0, 0, 0)\" stroke-dasharray=\"1\" stroke-width=\"1\" x1=\"230.53645211079672\" x2=\"230.53645211079672\" y1=\"3.900000000000001\" y2=\"-8.1\"/>\n<line stroke=\"rgb(0, 0, 0)\" stroke-dasharray=\"none\" stroke-width=\"1\" x1=\"225.6853329705028\" x2=\"225.6853329705028\" y1=\"8.1\" y2=\"-3.900000000000001\"/>\n<line stroke=\"rgb(0, 0, 0)\" stroke-dasharray=\"none\" stroke-width=\"1\" x1=\"237.811065502586\" x2=\"237.811065502586\" y1=\"8.1\" y2=\"-3.900000000000001\"/>\n<line stroke=\"rgb(0, 0, 0)\" stroke-dasharray=\"none\" stroke-width=\"1\" x1=\"218.41071957871353\" x2=\"225.6853329705028\" y1=\"3.900000000000001\" y2=\"8.1\"/>\n<line stroke=\"rgb(0, 0, 0)\" stroke-dasharray=\"none\" stroke-width=\"1\" x1=\"218.41071957871353\" x2=\"225.6853329705028\" y1=\"-8.1\" y2=\"-3.900000000000001\"/>\n<line stroke=\"rgb(0, 0, 0)\" stroke-dasharray=\"1\" stroke-width=\"1\" x1=\"230.53645211079672\" x2=\"237.811065502586\" y1=\"3.900000000000001\" y2=\"8.1\"/>\n<line stroke=\"rgb(0, 0, 0)\" stroke-dasharray=\"none\" stroke-width=\"1\" x1=\"230.53645211079672\" x2=\"237.811065502586\" y1=\"-8.1\" y2=\"-3.900000000000001\"/>\n<line stroke=\"rgb(0, 0, 0)\" stroke-dasharray=\"1\" stroke-width=\"1\" x1=\"218.41071957871353\" x2=\"230.53645211079672\" y1=\"3.900000000000001\" y2=\"3.900000000000001\"/>\n<line stroke=\"rgb(0, 0, 0)\" stroke-dasharray=\"none\" stroke-width=\"1\" x1=\"225.6853329705028\" x2=\"237.811065502586\" y1=\"8.1\" y2=\"8.1\"/>\n<line stroke=\"rgb(0, 0, 0)\" stroke-dasharray=\"none\" stroke-width=\"1\" x1=\"218.41071957871353\" x2=\"230.53645211079672\" y1=\"-8.1\" y2=\"-8.1\"/>\n<line stroke=\"rgb(0, 0, 0)\" stroke-dasharray=\"none\" stroke-width=\"1\" x1=\"225.6853329705028\" x2=\"237.811065502586\" y1=\"-3.900000000000001\" y2=\"-3.900000000000001\"/>\n<text fill=\"rgb(0, 0, 0)\" font-family=\"arial\" font-size=\"14px\" text-anchor=\"middle\" x=\"228.11089254064976\" y=\"-18.1\">12x12x64</text>\n<line stroke=\"rgb(0, 0, 0)\" stroke-dasharray=\"none\" stroke-width=\"1\" x1=\"287.81106550258596\" x2=\"287.81106550258596\" y1=\"-119.59017020308964\" y2=\"119.59017020308964\"/>\n<line stroke=\"rgb(0, 0, 0)\" stroke-dasharray=\"none\" stroke-width=\"1\" x1=\"287.81106550258596\" x2=\"291.81106550258596\" y1=\"119.59017020308964\" y2=\"119.59017020308964\"/>\n<line stroke=\"rgb(0, 0, 0)\" stroke-dasharray=\"none\" stroke-width=\"1\" x1=\"291.81106550258596\" x2=\"291.81106550258596\" y1=\"119.59017020308964\" y2=\"-119.59017020308964\"/>\n<line stroke=\"rgb(0, 0, 0)\" stroke-dasharray=\"none\" stroke-width=\"1\" x1=\"291.81106550258596\" x2=\"287.81106550258596\" y1=\"-119.59017020308964\" y2=\"-119.59017020308964\"/>\n<text fill=\"rgb(0, 0, 0)\" font-family=\"arial\" font-size=\"14px\" text-anchor=\"middle\" x=\"289.81106550258596\" y=\"-129.59017020308966\">9216</text>\n<line stroke=\"rgb(0, 0, 0)\" stroke-dasharray=\"none\" stroke-width=\"1\" x1=\"341.81106550258596\" x2=\"341.81106550258596\" y1=\"-13.928809012737984\" y2=\"13.928809012737984\"/>\n<line stroke=\"rgb(0, 0, 0)\" stroke-dasharray=\"none\" stroke-width=\"1\" x1=\"341.81106550258596\" x2=\"345.81106550258596\" y1=\"13.928809012737984\" y2=\"13.928809012737984\"/>\n<line stroke=\"rgb(0, 0, 0)\" stroke-dasharray=\"none\" stroke-width=\"1\" x1=\"345.81106550258596\" x2=\"345.81106550258596\" y1=\"13.928809012737984\" y2=\"-13.928809012737984\"/>\n<line stroke=\"rgb(0, 0, 0)\" stroke-dasharray=\"none\" stroke-width=\"1\" x1=\"345.81106550258596\" x2=\"341.81106550258596\" y1=\"-13.928809012737984\" y2=\"-13.928809012737984\"/>\n<text fill=\"rgb(0, 0, 0)\" font-family=\"arial\" font-size=\"14px\" text-anchor=\"middle\" x=\"343.81106550258596\" y=\"-23.928809012737986\">256</text>\n<line stroke=\"rgb(0, 0, 0)\" stroke-dasharray=\"none\" stroke-width=\"1\" x1=\"395.81106550258596\" x2=\"395.81106550258596\" y1=\"-1.9905358527674861\" y2=\"1.9905358527674861\"/>\n<line stroke=\"rgb(0, 0, 0)\" stroke-dasharray=\"none\" stroke-width=\"1\" x1=\"395.81106550258596\" x2=\"399.81106550258596\" y1=\"1.9905358527674861\" y2=\"1.9905358527674861\"/>\n<line stroke=\"rgb(0, 0, 0)\" stroke-dasharray=\"none\" stroke-width=\"1\" x1=\"399.81106550258596\" x2=\"399.81106550258596\" y1=\"1.9905358527674861\" y2=\"-1.9905358527674861\"/>\n<line stroke=\"rgb(0, 0, 0)\" stroke-dasharray=\"none\" stroke-width=\"1\" x1=\"399.81106550258596\" x2=\"395.81106550258596\" y1=\"-1.9905358527674861\" y2=\"-1.9905358527674861\"/>\n<text fill=\"rgb(0, 0, 0)\" font-family=\"arial\" font-size=\"14px\" text-anchor=\"middle\" x=\"397.81106550258596\" y=\"-11.990535852767486\">10</text>\n<line stroke=\"rgb(0, 0, 255)\" stroke-dasharray=\"none\" stroke-width=\"1\" x1=\"8.487048957087499\" x2=\"8.487048957087499\" y1=\"0.9750000000000002\" y2=\"-2.025\"/>\n<line stroke=\"rgb(0, 0, 255)\" stroke-dasharray=\"1\" stroke-width=\"1\" x1=\"9.487048957087499\" x2=\"9.487048957087499\" y1=\"0.9750000000000002\" y2=\"-2.025\"/>\n<line stroke=\"rgb(0, 0, 255)\" stroke-dasharray=\"none\" stroke-width=\"1\" x1=\"10.30570230503482\" x2=\"10.30570230503482\" y1=\"2.025\" y2=\"-0.9750000000000002\"/>\n<line stroke=\"rgb(0, 0, 255)\" stroke-dasharray=\"none\" stroke-width=\"1\" x1=\"11.30570230503482\" x2=\"11.30570230503482\" y1=\"2.025\" y2=\"-0.9750000000000002\"/>\n<line stroke=\"rgb(0, 0, 255)\" stroke-dasharray=\"none\" stroke-width=\"1\" x1=\"8.487048957087499\" x2=\"10.30570230503482\" y1=\"0.9750000000000002\" y2=\"2.025\"/>\n<line stroke=\"rgb(0, 0, 255)\" stroke-dasharray=\"none\" stroke-width=\"1\" x1=\"8.487048957087499\" x2=\"10.30570230503482\" y1=\"-2.025\" y2=\"-0.9750000000000002\"/>\n<line stroke=\"rgb(0, 0, 255)\" stroke-dasharray=\"1\" stroke-width=\"1\" x1=\"9.487048957087499\" x2=\"11.30570230503482\" y1=\"0.9750000000000002\" y2=\"2.025\"/>\n<line stroke=\"rgb(0, 0, 255)\" stroke-dasharray=\"none\" stroke-width=\"1\" x1=\"9.487048957087499\" x2=\"11.30570230503482\" y1=\"-2.025\" y2=\"-0.9750000000000002\"/>\n<line stroke=\"rgb(0, 0, 255)\" stroke-dasharray=\"1\" stroke-width=\"1\" x1=\"8.487048957087499\" x2=\"9.487048957087499\" y1=\"0.9750000000000002\" y2=\"0.9750000000000002\"/>\n<line stroke=\"rgb(0, 0, 255)\" stroke-dasharray=\"none\" stroke-width=\"1\" x1=\"10.30570230503482\" x2=\"11.30570230503482\" y1=\"2.025\" y2=\"2.025\"/>\n<line stroke=\"rgb(0, 0, 255)\" stroke-dasharray=\"none\" stroke-width=\"1\" x1=\"8.487048957087499\" x2=\"9.487048957087499\" y1=\"-2.025\" y2=\"-2.025\"/>\n<line stroke=\"rgb(0, 0, 255)\" stroke-dasharray=\"none\" stroke-width=\"1\" x1=\"10.30570230503482\" x2=\"11.30570230503482\" y1=\"-0.9750000000000002\" y2=\"-0.9750000000000002\"/>\n<line stroke=\"rgb(0, 0, 255)\" stroke-dasharray=\"none\" stroke-width=\"1\" x1=\"9.487048957087499\" x2=\"71.91451350139418\" y1=\"-2.025\" y2=\"-8.774999999999999\"/>\n<line stroke=\"rgb(0, 0, 255)\" stroke-dasharray=\"none\" stroke-width=\"1\" x1=\"11.30570230503482\" x2=\"71.91451350139418\" y1=\"2.025\" y2=\"-8.774999999999999\"/>\n<text fill=\"rgb(0, 0, 0)\" font-family=\"arial\" font-size=\"14px\" text-anchor=\"middle\" x=\"42.97409791417499\" y=\"42.9\">conv3x3, 32</text>\n<text fill=\"rgb(0, 0, 0)\" font-family=\"arial\" font-size=\"14px\" text-anchor=\"middle\" x=\"42.97409791417499\" y=\"56.9\">stride (1, 1)</text>\n<line stroke=\"rgb(0, 0, 255)\" stroke-dasharray=\"none\" stroke-width=\"1\" x1=\"75.85492908861339\" x2=\"75.85492908861339\" y1=\"0.9750000000000002\" y2=\"-2.025\"/>\n<line stroke=\"rgb(0, 0, 255)\" stroke-dasharray=\"1\" stroke-width=\"1\" x1=\"83.85492908861339\" x2=\"83.85492908861339\" y1=\"0.9750000000000002\" y2=\"-2.025\"/>\n<line stroke=\"rgb(0, 0, 255)\" stroke-dasharray=\"none\" stroke-width=\"1\" x1=\"77.67358243656071\" x2=\"77.67358243656071\" y1=\"2.025\" y2=\"-0.9750000000000002\"/>\n<line stroke=\"rgb(0, 0, 255)\" stroke-dasharray=\"none\" stroke-width=\"1\" x1=\"85.67358243656071\" x2=\"85.67358243656071\" y1=\"2.025\" y2=\"-0.9750000000000002\"/>\n<line stroke=\"rgb(0, 0, 255)\" stroke-dasharray=\"none\" stroke-width=\"1\" x1=\"75.85492908861339\" x2=\"77.67358243656071\" y1=\"0.9750000000000002\" y2=\"2.025\"/>\n<line stroke=\"rgb(0, 0, 255)\" stroke-dasharray=\"none\" stroke-width=\"1\" x1=\"75.85492908861339\" x2=\"77.67358243656071\" y1=\"-2.025\" y2=\"-0.9750000000000002\"/>\n<line stroke=\"rgb(0, 0, 255)\" stroke-dasharray=\"1\" stroke-width=\"1\" x1=\"83.85492908861339\" x2=\"85.67358243656071\" y1=\"0.9750000000000002\" y2=\"2.025\"/>\n<line stroke=\"rgb(0, 0, 255)\" stroke-dasharray=\"none\" stroke-width=\"1\" x1=\"83.85492908861339\" x2=\"85.67358243656071\" y1=\"-2.025\" y2=\"-0.9750000000000002\"/>\n<line stroke=\"rgb(0, 0, 255)\" stroke-dasharray=\"1\" stroke-width=\"1\" x1=\"75.85492908861339\" x2=\"83.85492908861339\" y1=\"0.9750000000000002\" y2=\"0.9750000000000002\"/>\n<line stroke=\"rgb(0, 0, 255)\" stroke-dasharray=\"none\" stroke-width=\"1\" x1=\"77.67358243656071\" x2=\"85.67358243656071\" y1=\"2.025\" y2=\"2.025\"/>\n<line stroke=\"rgb(0, 0, 255)\" stroke-dasharray=\"none\" stroke-width=\"1\" x1=\"75.85492908861339\" x2=\"83.85492908861339\" y1=\"-2.025\" y2=\"-2.025\"/>\n<line stroke=\"rgb(0, 0, 255)\" stroke-dasharray=\"none\" stroke-width=\"1\" x1=\"77.67358243656071\" x2=\"85.67358243656071\" y1=\"-0.9750000000000002\" y2=\"-0.9750000000000002\"/>\n<line stroke=\"rgb(0, 0, 255)\" stroke-dasharray=\"none\" stroke-width=\"1\" x1=\"83.85492908861339\" x2=\"145.3730669589464\" y1=\"-2.025\" y2=\"-8.1\"/>\n<line stroke=\"rgb(0, 0, 255)\" stroke-dasharray=\"none\" stroke-width=\"1\" x1=\"85.67358243656071\" x2=\"145.3730669589464\" y1=\"2.025\" y2=\"-8.1\"/>\n<text fill=\"rgb(0, 0, 0)\" font-family=\"arial\" font-size=\"14px\" text-anchor=\"middle\" x=\"116.73576026305176\" y=\"41.55\">conv3x3, 64</text>\n<text fill=\"rgb(0, 0, 0)\" font-family=\"arial\" font-size=\"14px\" text-anchor=\"middle\" x=\"116.73576026305176\" y=\"55.55\">stride (1, 1)</text>\n<line stroke=\"rgb(0, 0, 255)\" stroke-dasharray=\"none\" stroke-width=\"1\" x1=\"149.01037365484103\" x2=\"149.01037365484103\" y1=\"0.6500000000000001\" y2=\"-1.3499999999999999\"/>\n<line stroke=\"rgb(0, 0, 255)\" stroke-dasharray=\"1\" stroke-width=\"1\" x1=\"161.13610618692422\" x2=\"161.13610618692422\" y1=\"0.6500000000000001\" y2=\"-1.3499999999999999\"/>\n<line stroke=\"rgb(0, 0, 255)\" stroke-dasharray=\"none\" stroke-width=\"1\" x1=\"150.22280922013925\" x2=\"150.22280922013925\" y1=\"1.35\" y2=\"-0.6500000000000001\"/>\n<line stroke=\"rgb(0, 0, 255)\" stroke-dasharray=\"none\" stroke-width=\"1\" x1=\"162.34854175222245\" x2=\"162.34854175222245\" y1=\"1.35\" y2=\"-0.6500000000000001\"/>\n<line stroke=\"rgb(0, 0, 255)\" stroke-dasharray=\"none\" stroke-width=\"1\" x1=\"149.01037365484103\" x2=\"150.22280922013925\" y1=\"0.6500000000000001\" y2=\"1.35\"/>\n<line stroke=\"rgb(0, 0, 255)\" stroke-dasharray=\"none\" stroke-width=\"1\" x1=\"149.01037365484103\" x2=\"150.22280922013925\" y1=\"-1.3499999999999999\" y2=\"-0.6500000000000001\"/>\n<line stroke=\"rgb(0, 0, 255)\" stroke-dasharray=\"1\" stroke-width=\"1\" x1=\"161.13610618692422\" x2=\"162.34854175222245\" y1=\"0.6500000000000001\" y2=\"1.35\"/>\n<line stroke=\"rgb(0, 0, 255)\" stroke-dasharray=\"none\" stroke-width=\"1\" x1=\"161.13610618692422\" x2=\"162.34854175222245\" y1=\"-1.3499999999999999\" y2=\"-0.6500000000000001\"/>\n<line stroke=\"rgb(0, 0, 255)\" stroke-dasharray=\"1\" stroke-width=\"1\" x1=\"149.01037365484103\" x2=\"161.13610618692422\" y1=\"0.6500000000000001\" y2=\"0.6500000000000001\"/>\n<line stroke=\"rgb(0, 0, 255)\" stroke-dasharray=\"none\" stroke-width=\"1\" x1=\"150.22280922013925\" x2=\"162.34854175222245\" y1=\"1.35\" y2=\"1.35\"/>\n<line stroke=\"rgb(0, 0, 255)\" stroke-dasharray=\"none\" stroke-width=\"1\" x1=\"149.01037365484103\" x2=\"161.13610618692422\" y1=\"-1.3499999999999999\" y2=\"-1.3499999999999999\"/>\n<line stroke=\"rgb(0, 0, 255)\" stroke-dasharray=\"none\" stroke-width=\"1\" x1=\"150.22280922013925\" x2=\"162.34854175222245\" y1=\"-0.6500000000000001\" y2=\"-0.6500000000000001\"/>\n<line stroke=\"rgb(0, 0, 255)\" stroke-dasharray=\"none\" stroke-width=\"1\" x1=\"161.13610618692422\" x2=\"220.22937292666086\" y1=\"-1.35\" y2=\"-4.05\"/>\n<line stroke=\"rgb(0, 0, 255)\" stroke-dasharray=\"none\" stroke-width=\"1\" x1=\"162.34854175222245\" x2=\"220.22937292666086\" y1=\"1.3499999999999999\" y2=\"-4.05\"/>\n<text fill=\"rgb(0, 0, 0)\" font-family=\"arial\" font-size=\"14px\" text-anchor=\"middle\" x=\"193.41071957871353\" y=\"40.2\">maxpool2x2</text>\n<text fill=\"rgb(0, 0, 0)\" font-family=\"arial\" font-size=\"14px\" text-anchor=\"middle\" x=\"193.41071957871353\" y=\"54.2\">stride (2, 2)</text>\n<text fill=\"rgb(0, 0, 0)\" font-family=\"arial\" font-size=\"14px\" text-anchor=\"middle\" x=\"262.81106550258596\" y=\"143.59017020308966\">flatten</text>\n<line stroke=\"rgb(0, 0, 255)\" stroke-dasharray=\"2\" stroke-width=\"1\" x1=\"291.81106550258596\" x2=\"341.81106550258596\" y1=\"-119.59017020308964\" y2=\"-6.964404506368992\"/>\n<line stroke=\"rgb(0, 0, 255)\" stroke-dasharray=\"2\" stroke-width=\"1\" x1=\"291.81106550258596\" x2=\"341.81106550258596\" y1=\"119.59017020308964\" y2=\"-6.964404506368992\"/>\n<text fill=\"rgb(0, 0, 0)\" font-family=\"arial\" font-size=\"14px\" text-anchor=\"middle\" x=\"316.81106550258596\" y=\"143.59017020308966\">dense</text>\n<line stroke=\"rgb(0, 0, 255)\" stroke-dasharray=\"2\" stroke-width=\"1\" x1=\"345.81106550258596\" x2=\"395.81106550258596\" y1=\"-13.928809012737984\" y2=\"-0.9952679263837431\"/>\n<line stroke=\"rgb(0, 0, 255)\" stroke-dasharray=\"2\" stroke-width=\"1\" x1=\"345.81106550258596\" x2=\"395.81106550258596\" y1=\"13.928809012737984\" y2=\"-0.9952679263837431\"/>\n<text fill=\"rgb(0, 0, 0)\" font-family=\"arial\" font-size=\"14px\" text-anchor=\"middle\" x=\"370.81106550258596\" y=\"37.928809012737986\">dense</text>\n</svg>"
          },
          "metadata": {
            "tags": []
          }
        }
      ]
    },
    {
      "cell_type": "markdown",
      "metadata": {
        "id": "E5Dz7x4Scrf8",
        "colab_type": "text"
      },
      "source": [
        "layerをSequentialクラスに積み終えたら、最後にSequential.compile関数でモデルの学習処理について指定し、モデル構築は完了です。\n",
        "\n",
        "compile関数では\n",
        "\n",
        "* optimizer（最適化手法）\n",
        "* loss（損失関数）\n",
        "* metrics（評価関数（任意））\n",
        "\n",
        "を指定することになります。（いずれも後で詳述）\n"
      ]
    },
    {
      "cell_type": "code",
      "metadata": {
        "id": "OI4UDcU60bH7",
        "colab_type": "code",
        "colab": {}
      },
      "source": [
        "from tensorflow.keras import optimizers\n",
        "from tensorflow.keras import losses\n",
        "# モデルの学習方法について指定しておく\n",
        "#model.compile(loss='categorical_crossentropy', optimizer=optimizers.SGD(lr=0.001), metrics=['accuracy'])\n",
        "#model.compile(loss='categorical_crossentropy', optimizer=optimizers.Adam(lr=0.001), metrics=['accuracy'])\n",
        "#model.compile(loss='categorical_crossentropy', optimizer=optimizers.RMSprop(lr=0.001), metrics=['accuracy'])\n",
        "#model.compile(loss='categorical_crossentropy', optimizer=optimizers.Adagrad(lr=0.001), metrics=['accuracy'])\n",
        "#model.compile(loss='categorical_crossentropy', optimizer=optimizers.Adadelta(lr=0.001), metrics=['accuracy'])\n",
        "model.compile(loss='categorical_crossentropy', optimizer=optimizers.Adamax(lr=0.001), metrics=['accuracy'])\n",
        "#model.compile(loss='categorical_crossentropy', optimizer=optimizers.Nadam(lr=0.001), metrics=['accuracy'])\n"
      ],
      "execution_count": 0,
      "outputs": []
    },
    {
      "cell_type": "markdown",
      "metadata": {
        "id": "5LYqpAQPO04I",
        "colab_type": "text"
      },
      "source": [
        "モデル構造や結果等の視覚化することで、何がどのように動いているのか、理解の手助けとなります。\n",
        "\n",
        "このjupyter notebook上でも可視化ロジックを組み込んでいますが、TensorBoardという手段もあります。\n",
        "\n",
        "TensorBoardでも参照できるよう、設定を組み込んでおきます。"
      ]
    },
    {
      "cell_type": "code",
      "metadata": {
        "id": "s80FRVRL0bH-",
        "colab_type": "code",
        "colab": {}
      },
      "source": [
        "# TensorBoardでの可視化のため、出力先の設定\n",
        "import os, shutil\n",
        "if os.path.exists(\"./logs\"):\n",
        "    shutil.rmtree(\"./logs\")\n",
        "\n",
        "from tensorflow.keras import callbacks\n",
        "tb_cb = callbacks.TensorBoard(log_dir=\"./logs/\", histogram_freq=1,write_images=1)"
      ],
      "execution_count": 0,
      "outputs": []
    },
    {
      "cell_type": "markdown",
      "metadata": {
        "id": "GJVjFnA8h5LT",
        "colab_type": "text"
      },
      "source": [
        "チェックポイントを生成しておくことで、中断した学習の再開や、チェックポイントを利用した静的モデルの出力を行うことができます。"
      ]
    },
    {
      "cell_type": "code",
      "metadata": {
        "id": "Rk3ohoKJhd9P",
        "colab_type": "code",
        "colab": {}
      },
      "source": [
        "!mkdir model\n",
        "checkpoint_path = \"model/cp-{epoch:04d}.ckpt\"\n",
        "checkpoint_dir = os.path.dirname(checkpoint_path)\n",
        "\n",
        "# チェックポイントコールバックを作る\n",
        "cp_cb = callbacks.ModelCheckpoint(checkpoint_path, save_weights_only=True, verbose=1, period=5)"
      ],
      "execution_count": 0,
      "outputs": []
    },
    {
      "cell_type": "markdown",
      "metadata": {
        "id": "DMWlqNgvPBvp",
        "colab_type": "text"
      },
      "source": [
        "学習の実行の前に、モデルのサマリ情報を確認してみましょう。"
      ]
    },
    {
      "cell_type": "code",
      "metadata": {
        "id": "135NNq6iO-b2",
        "colab_type": "code",
        "colab": {
          "base_uri": "https://localhost:8080/",
          "height": 544
        },
        "outputId": "76ef111c-c2fd-4e31-860a-11624da1f45b"
      },
      "source": [
        "# モデルのサマリ情報の表示\n",
        "model.summary()"
      ],
      "execution_count": 15,
      "outputs": [
        {
          "output_type": "stream",
          "text": [
            "_________________________________________________________________\n",
            "Layer (type)                 Output Shape              Param #   \n",
            "=================================================================\n",
            "conv2d (Conv2D)              (None, 26, 26, 32)        320       \n",
            "_________________________________________________________________\n",
            "activation (Activation)      (None, 26, 26, 32)        0         \n",
            "_________________________________________________________________\n",
            "conv2d_1 (Conv2D)            (None, 24, 24, 64)        18496     \n",
            "_________________________________________________________________\n",
            "activation_1 (Activation)    (None, 24, 24, 64)        0         \n",
            "_________________________________________________________________\n",
            "batch_normalization_v1 (Batc (None, 24, 24, 64)        256       \n",
            "_________________________________________________________________\n",
            "max_pooling2d (MaxPooling2D) (None, 12, 12, 64)        0         \n",
            "_________________________________________________________________\n",
            "flatten (Flatten)            (None, 9216)              0         \n",
            "_________________________________________________________________\n",
            "dense (Dense)                (None, 256)               2359552   \n",
            "_________________________________________________________________\n",
            "activation_2 (Activation)    (None, 256)               0         \n",
            "_________________________________________________________________\n",
            "batch_normalization_v1_1 (Ba (None, 256)               1024      \n",
            "_________________________________________________________________\n",
            "dense_1 (Dense)              (None, 10)                2570      \n",
            "_________________________________________________________________\n",
            "activation_3 (Activation)    (None, 10)                0         \n",
            "=================================================================\n",
            "Total params: 2,382,218\n",
            "Trainable params: 2,381,578\n",
            "Non-trainable params: 640\n",
            "_________________________________________________________________\n"
          ],
          "name": "stdout"
        }
      ]
    },
    {
      "cell_type": "markdown",
      "metadata": {
        "id": "6_yBnQiN0bID",
        "colab_type": "text"
      },
      "source": [
        "### 1.2.4 モデルの学習\n",
        "\n",
        "1.2.3で構築したモデルで実際に学習を行うには、Sequential.fit関数を用います。この関数は固定長のバッチで学習を行います。\n",
        "\n",
        "主な引数は次の通りです。\n",
        "\n",
        "* x：学習に使用する入力データ\n",
        "* y：学習に使用する出力データ\n",
        "* batch_size：学習中のパラメータ更新を1回行うにあたって用いるサンプル数（ミニバッチのサイズ）\n",
        "* epochs：学習のエポック数\n",
        "* verbose：学習のログを出力するか（0:しない、1：バーで出力、2:エポックごとに出力）\n",
        "* validation_split/validation_data：検証用に用いるデータの割合（0～１の実数）、または検証用データそのもの（いずれかのみ指定可能）\n",
        "* shuffle：各エポックごとにデータをシャッフルするか\n",
        "* callbacks：訓練中のモデルの挙動を監視できるcallback関数を指定できます"
      ]
    },
    {
      "cell_type": "code",
      "metadata": {
        "scrolled": false,
        "id": "_IQUEb790bIE",
        "colab_type": "code",
        "colab": {
          "base_uri": "https://localhost:8080/",
          "height": 666
        },
        "outputId": "60f66311-aefc-430e-98d3-2bd924fbfa90"
      },
      "source": [
        "# epoch数を指定\n",
        "epochs=10\n",
        "\n",
        "# 学習の実行\n",
        "result = model.fit(x_train, y_train,\n",
        "          batch_size=1000, epochs=epochs, verbose=1,callbacks=[tb_cb, cp_cb],\n",
        "          validation_data=(x_test, y_test))"
      ],
      "execution_count": 16,
      "outputs": [
        {
          "output_type": "stream",
          "text": [
            "Train on 60000 samples, validate on 10000 samples\n",
            "WARNING:tensorflow:From /usr/local/lib/python3.6/dist-packages/tensorflow/python/ops/math_ops.py:3066: to_int32 (from tensorflow.python.ops.math_ops) is deprecated and will be removed in a future version.\n",
            "Instructions for updating:\n",
            "Use tf.cast instead.\n",
            "Epoch 1/10\n",
            "60000/60000 [==============================] - 53s 876us/sample - loss: 0.2986 - acc: 0.9103 - val_loss: 0.5038 - val_acc: 0.8847\n",
            "Epoch 2/10\n",
            "60000/60000 [==============================] - 48s 800us/sample - loss: 0.1043 - acc: 0.9714 - val_loss: 0.1302 - val_acc: 0.9576\n",
            "Epoch 3/10\n",
            "60000/60000 [==============================] - 47s 784us/sample - loss: 0.0759 - acc: 0.9803 - val_loss: 0.0802 - val_acc: 0.9756\n",
            "Epoch 4/10\n",
            "60000/60000 [==============================] - 47s 775us/sample - loss: 0.0600 - acc: 0.9849 - val_loss: 0.0617 - val_acc: 0.9807\n",
            "Epoch 5/10\n",
            "59000/60000 [============================>.] - ETA: 0s - loss: 0.0487 - acc: 0.9883\n",
            "Epoch 00005: saving model to model/cp-0005.ckpt\n",
            "WARNING:tensorflow:This model was compiled with a Keras optimizer (<tensorflow.python.keras.optimizers.Adamax object at 0x7fcf213460b8>) but is being saved in TensorFlow format with `save_weights`. The model's weights will be saved, but unlike with TensorFlow optimizers in the TensorFlow format the optimizer's state will not be saved.\n",
            "\n",
            "Consider using a TensorFlow optimizer from `tf.train`.\n",
            "WARNING:tensorflow:From /usr/local/lib/python3.6/dist-packages/tensorflow/python/keras/engine/network.py:1436: update_checkpoint_state (from tensorflow.python.training.checkpoint_management) is deprecated and will be removed in a future version.\n",
            "Instructions for updating:\n",
            "Use tf.train.CheckpointManager to manage checkpoints rather than manually editing the Checkpoint proto.\n",
            "60000/60000 [==============================] - 47s 777us/sample - loss: 0.0487 - acc: 0.9883 - val_loss: 0.0561 - val_acc: 0.9830\n",
            "Epoch 6/10\n",
            "60000/60000 [==============================] - 46s 770us/sample - loss: 0.0407 - acc: 0.9908 - val_loss: 0.0516 - val_acc: 0.9842\n",
            "Epoch 7/10\n",
            "60000/60000 [==============================] - 47s 778us/sample - loss: 0.0340 - acc: 0.9927 - val_loss: 0.0473 - val_acc: 0.9861\n",
            "Epoch 8/10\n",
            "60000/60000 [==============================] - 46s 763us/sample - loss: 0.0288 - acc: 0.9944 - val_loss: 0.0448 - val_acc: 0.9865\n",
            "Epoch 9/10\n",
            "60000/60000 [==============================] - 47s 778us/sample - loss: 0.0244 - acc: 0.9956 - val_loss: 0.0423 - val_acc: 0.9870\n",
            "Epoch 10/10\n",
            "59000/60000 [============================>.] - ETA: 0s - loss: 0.0209 - acc: 0.9964\n",
            "Epoch 00010: saving model to model/cp-0010.ckpt\n",
            "WARNING:tensorflow:This model was compiled with a Keras optimizer (<tensorflow.python.keras.optimizers.Adamax object at 0x7fcf213460b8>) but is being saved in TensorFlow format with `save_weights`. The model's weights will be saved, but unlike with TensorFlow optimizers in the TensorFlow format the optimizer's state will not be saved.\n",
            "\n",
            "Consider using a TensorFlow optimizer from `tf.train`.\n",
            "60000/60000 [==============================] - 46s 768us/sample - loss: 0.0210 - acc: 0.9964 - val_loss: 0.0399 - val_acc: 0.9873\n"
          ],
          "name": "stdout"
        }
      ]
    },
    {
      "cell_type": "markdown",
      "metadata": {
        "id": "XCLIozIF0bIJ",
        "colab_type": "text"
      },
      "source": [
        "モデルの評価を行うには、Sequential.evaluate関数を用います。この関数は固定長のバッチごとに損失関数値または評価関数値を出力します。\n",
        "\n",
        "主な引数は次の通りです。\n",
        "\n",
        "* x：評価に使用する入力データ\n",
        "* y：評価に使用する出力データ\n",
        "* batch_size：1回の評価を行うにあたって用いるサンプル数\n",
        "* verbose：評価のログを出力するか（0:しない、1：する(デフォルト)）\n",
        "\n",
        "基本的には、損失(Loss)は低ければ低いほうが、評価(Accuracy)は高ければ高いほうが良いです。\n"
      ]
    },
    {
      "cell_type": "code",
      "metadata": {
        "id": "Ys0GtCR60bIK",
        "colab_type": "code",
        "colab": {
          "base_uri": "https://localhost:8080/",
          "height": 51
        },
        "outputId": "20a6f464-8ce0-490e-d9ff-2429d09e1c91"
      },
      "source": [
        "score = model.evaluate(x_test, y_test, verbose=0)\n",
        "print('Test loss:', score[0])\n",
        "print('Test accuracy:', score[1])"
      ],
      "execution_count": 17,
      "outputs": [
        {
          "output_type": "stream",
          "text": [
            "Test loss: 0.03994139395225793\n",
            "Test accuracy: 0.9873\n"
          ],
          "name": "stdout"
        }
      ]
    },
    {
      "cell_type": "markdown",
      "metadata": {
        "id": "uvQIQuhhWdOo",
        "colab_type": "text"
      },
      "source": [
        "epochごとのAccuracyおよびLossの遷移をグラフ化してみましょう。\n",
        "\n",
        "fit関数のreturnから、データを取得することができます。"
      ]
    },
    {
      "cell_type": "code",
      "metadata": {
        "id": "UB8isRg_hfGT",
        "colab_type": "code",
        "colab": {
          "base_uri": "https://localhost:8080/",
          "height": 573
        },
        "outputId": "c34d7cf8-066d-48c4-a983-b370403402b2"
      },
      "source": [
        "result.history.keys() # ヒストリデータのラベルを見てみる\n",
        "plt.plot(range(1, epochs+1), result.history['acc'], label=\"training\")\n",
        "plt.plot(range(1, epochs+1), result.history['val_acc'], label=\"validation\")\n",
        "plt.title('Accuracy History')\n",
        "plt.xlabel('Epochs')\n",
        "plt.ylabel('Accuracy')\n",
        "plt.legend()\n",
        "plt.xlim([1,epochs])\n",
        "plt.ylim([0,1])\n",
        "plt.show()\n",
        "\n",
        "plt.plot(range(1, epochs+1), result.history['loss'], label=\"training\")\n",
        "plt.plot(range(1, epochs+1), result.history['val_loss'], label=\"validation\")\n",
        "plt.title('Loss History')\n",
        "plt.xlabel('Epochs')\n",
        "plt.ylabel('Loss')\n",
        "plt.legend()\n",
        "plt.xlim([1,epochs])\n",
        "plt.ylim([0,1])\n",
        "plt.show()\n"
      ],
      "execution_count": 18,
      "outputs": [
        {
          "output_type": "display_data",
          "data": {
            "image/png": "[encoded data removed]",
            "text/plain": [
              "<Figure size 432x288 with 1 Axes>"
            ]
          },
          "metadata": {
            "tags": []
          }
        },
        {
          "output_type": "display_data",
          "data": {
            "image/png": "[encoded data removed]",
            "text/plain": [
              "<Figure size 432x288 with 1 Axes>"
            ]
          },
          "metadata": {
            "tags": []
          }
        }
      ]
    },
    {
      "cell_type": "markdown",
      "metadata": {
        "id": "Zq7fmArk0bIN",
        "colab_type": "text"
      },
      "source": [
        "### 1.2.5 モデルによる予測\n",
        "\n",
        "1.2.4で学習させたモデルによって予測を行ってみましょう。Sequential.predict関数によって予測が行えます。\n",
        "\n",
        "主な引数は次の通りです。\n",
        "\n",
        "* x_test：予測に使用する入力データ\n",
        "* batch_size：まとめて1度に予測を行うサンプル数\n",
        "* verbose：評価のログを出力するか（0:しない(デフォルト)、1：する）"
      ]
    },
    {
      "cell_type": "code",
      "metadata": {
        "id": "m7CJSTL50bIN",
        "colab_type": "code",
        "colab": {
          "base_uri": "https://localhost:8080/",
          "height": 34
        },
        "outputId": "bd0234e8-c2d1-44f2-88c4-1cbdae2546d0"
      },
      "source": [
        "classes = model.predict(x_test, batch_size=128, verbose=1)"
      ],
      "execution_count": 19,
      "outputs": [
        {
          "output_type": "stream",
          "text": [
            "10000/10000 [==============================] - 0s 30us/sample\n"
          ],
          "name": "stdout"
        }
      ]
    },
    {
      "cell_type": "markdown",
      "metadata": {
        "id": "kx85EWpfW7Nz",
        "colab_type": "text"
      },
      "source": [
        "上記コマンドで検証用データ10000件の予測を実施しています。\n",
        "\n",
        "これだけでは何ができたのかよくわからないので、画像を1枚抽出して、その結果を見てみます。\n",
        "\n",
        "モデル構築の際に、いずれのモデルにおいても、出力層をDense(10)、Activation('softmax')としていました。\n",
        "\n",
        "これは、10クラス(Dense(10))に、それぞれの確からしさを出力(Activation('softmax'))する、という意味になります。\n",
        "\n",
        "softmaxでは、すべてのクラスの出力値の合計が1になります。そのため、この値が確からしさそのものを指し、最も値の大きいラベルが推論結果として採用することとなります。\n",
        "\n",
        "\n",
        "なお、前述(1.2.2)にてラベルの意味づけに言及していましたが、本サンプルでは、ここでラベルの数値をラベルの意味に変換させています。"
      ]
    },
    {
      "cell_type": "code",
      "metadata": {
        "id": "5sTY0plvOe-2",
        "colab_type": "code",
        "colab": {
          "base_uri": "https://localhost:8080/",
          "height": 320
        },
        "outputId": "8918af40-a35c-4c2c-9386-2bc8340e0852"
      },
      "source": [
        "# データセットの推論結果と元画像を確認\n",
        "# test_numを0～9999で指定してください\n",
        "%matplotlib inline\n",
        "test_num=1112\n",
        "test_img = np.squeeze(x_test[test_num])\n",
        "if not model_structure==\"CNN\":\n",
        "    test_img = np.squeeze(test_img.reshape(img_size, img_size, img_color).astype(np.float32))\n",
        "\n",
        "if data_set==\"MNIST\":\n",
        "    labels = np.array([0,1,2,3,4,5,6,7,8,9])\n",
        "else:\n",
        "    labels = np.array([\n",
        "        'airplane',\n",
        "        'automobile',\n",
        "        'bird',\n",
        "        'cat',\n",
        "        'deer',\n",
        "        'dog',\n",
        "        'frog',\n",
        "        'horse',\n",
        "        'ship',\n",
        "        'truck'])\n",
        "\n",
        "print(\"クラスごとの確からしさ(%)：\"+str(np.round(classes[test_num],decimals=2)*100))\n",
        "\n",
        "print(\"推論結果：\"+str(labels[classes[test_num].argmax()]))\n",
        "plt.imshow(test_img.astype(np.int),'gray')\n",
        "plt.show()"
      ],
      "execution_count": 20,
      "outputs": [
        {
          "output_type": "stream",
          "text": [
            "クラスごとの確からしさ(%)：[ 0.        0.        2.        0.       58.999996  0.       38.\n",
            "  0.        0.        0.      ]\n",
            "推論結果：4\n"
          ],
          "name": "stdout"
        },
        {
          "output_type": "display_data",
          "data": {
            "image/png": "[encoded data removed]",
            "text/plain": [
              "<Figure size 432x288 with 1 Axes>"
            ]
          },
          "metadata": {
            "tags": []
          }
        }
      ]
    },
    {
      "cell_type": "markdown",
      "metadata": {
        "id": "_B2-3A2nVfuj",
        "colab_type": "text"
      },
      "source": [
        "事前に準備された画像データだけでは面白味もないので、自分で画像を用意し、推論させてみましょう。\n",
        "\n",
        "手書き画像(MNISTの場合)や、Web検索で画像を取得し、Google Colabにアップロードしてみましょう。\n",
        "\n",
        "私が用意したサンプルデータも用意しておきます。"
      ]
    },
    {
      "cell_type": "code",
      "metadata": {
        "id": "oZ8gMryWuxfh",
        "colab_type": "code",
        "colab": {
          "base_uri": "https://localhost:8080/",
          "height": 391
        },
        "outputId": "10d802c4-b0f4-4d5f-cff6-0fd772e11a56"
      },
      "source": [
        "# サンプルデータのダウンロード\n",
        "!wget https://raw.githubusercontent.com/scpepper69/dl4us/master/lesson1/mnist.zip\n",
        "!unzip mnist.zip"
      ],
      "execution_count": 21,
      "outputs": [
        {
          "output_type": "stream",
          "text": [
            "--2019-06-14 11:27:35--  https://raw.githubusercontent.com/scpepper69/dl4us/master/lesson1/mnist.zip\n",
            "Resolving raw.githubusercontent.com (raw.githubusercontent.com)... 151.101.0.133, 151.101.64.133, 151.101.128.133, ...\n",
            "Connecting to raw.githubusercontent.com (raw.githubusercontent.com)|151.101.0.133|:443... connected.\n",
            "HTTP request sent, awaiting response... 200 OK\n",
            "Length: 3365 (3.3K) [application/zip]\n",
            "Saving to: ‘mnist.zip’\n",
            "\n",
            "\rmnist.zip             0%[                    ]       0  --.-KB/s               \rmnist.zip           100%[===================>]   3.29K  --.-KB/s    in 0s      \n",
            "\n",
            "2019-06-14 11:27:35 (82.9 MB/s) - ‘mnist.zip’ saved [3365/3365]\n",
            "\n",
            "Archive:  mnist.zip\n",
            "  inflating: five001.png             \n",
            "  inflating: four001.png             \n",
            "  inflating: nine001.png             \n",
            "  inflating: one001.png              \n",
            "  inflating: seven001.png            \n",
            "  inflating: six001.png              \n",
            "  inflating: three001.png            \n",
            "  inflating: two001.png              \n",
            "  inflating: zero001.png             \n",
            "  inflating: eight001.png            \n"
          ],
          "name": "stdout"
        }
      ]
    },
    {
      "cell_type": "markdown",
      "metadata": {
        "id": "E7ITflj5bE2t",
        "colab_type": "text"
      },
      "source": [
        "ファイルをアップロードし終えたら、ファイル名を指定して推論してみましょう。"
      ]
    },
    {
      "cell_type": "code",
      "metadata": {
        "id": "uDEx3_iRNpGK",
        "colab_type": "code",
        "colab": {
          "base_uri": "https://localhost:8080/",
          "height": 337
        },
        "outputId": "ae7dca00-718c-4f55-e859-c68cdc5efc34"
      },
      "source": [
        "import cv2\n",
        "    \n",
        "# Google Colabにファイルをアップロード\n",
        "# アップロードしたファイルを指定\n",
        "img_path=\"./four001.png\"\n",
        "\n",
        "if data_set==\"MNIST\":\n",
        "    img = cv2.imread(img_path,cv2.IMREAD_GRAYSCALE)\n",
        "    img = 255 - img #白黒反転\n",
        "else:\n",
        "    img = cv2.imread(img_path,cv2.IMREAD_COLOR)\n",
        "\n",
        "plt.imshow(img,'gray')\n",
        "    \n",
        "img = cv2.resize(img, dsize=(img_size,img_size)) # 28 x 28にサイズ変更\n",
        "img = img.astype(np.float32)\n",
        "print(img.size)\n",
        "\n",
        "if model_structure==\"CNN\":\n",
        "    img = img.reshape(1, img_size, img_size ,img_color) # 2次元から4次元に変換\n",
        "else:    \n",
        "    img = img.reshape(1, img_size*img_size*img_color).astype(np.float32)\n",
        "\n",
        "pred = model.predict(img,verbose=1)\n",
        "\n",
        "# 推論処理\n",
        "print(\"クラスごとの確からしさ(%)：\"+str(np.round(pred,decimals=2)*100))\n",
        "print(\"推論結果：\"+str(labels[pred.argmax()]))"
      ],
      "execution_count": 22,
      "outputs": [
        {
          "output_type": "stream",
          "text": [
            "784\n",
            "\r1/1 [==============================] - 0s 6ms/sample\n",
            "クラスごとの確からしさ(%)：[[ 0.  0.  0.  0. 98.  0.  0.  0.  1.  0.]]\n",
            "推論結果：4\n"
          ],
          "name": "stdout"
        },
        {
          "output_type": "display_data",
          "data": {
            "image/png": "[encoded data removed]",
            "text/plain": [
              "<Figure size 432x288 with 1 Axes>"
            ]
          },
          "metadata": {
            "tags": []
          }
        }
      ]
    },
    {
      "cell_type": "markdown",
      "metadata": {
        "id": "D8ZcKoTgbbCf",
        "colab_type": "text"
      },
      "source": [
        "### 1.2.6 中間層データの可視化\n",
        "\n",
        "ここまでで、データを準備し、モデルを構築し、学習、推論させることができました。\n",
        "\n",
        "どのように実装し、どのように使うのか、簡単にイメージすることができたのではないでしょうか。\n",
        "\n",
        "この項では、モデルがどのように動きているか理解を深めるために、中間層のデータを見てみます。\n",
        "\n",
        "ただ、MLPでは1次元に変換してしまっているので、見てもよくわからないかもしれませんが。"
      ]
    },
    {
      "cell_type": "code",
      "metadata": {
        "id": "lVxresNopyLM",
        "colab_type": "code",
        "colab": {
          "base_uri": "https://localhost:8080/",
          "height": 2314
        },
        "outputId": "d27012fa-cfc3-4500-b240-4994e3f91991"
      },
      "source": [
        "from tensorflow.keras import backend as K\n",
        "import matplotlib.pyplot as plt\n",
        "from PIL import Image\n",
        "\n",
        "# 中間層の特徴マップを出力する\n",
        "def middle_layer_output(numlay, INPDATA):\n",
        "    get_layer = K.function([model.layers[0].input], [model.layers[numlay].output])\n",
        "    layer_output_comp = get_layer([INPDATA])[0]\n",
        "    if layer_output_comp.ndim == 4:\n",
        "        dim_n = layer_output_comp.shape[0]\n",
        "        dim_x = layer_output_comp.shape[1]\n",
        "        dim_y = layer_output_comp.shape[2]\n",
        "        dim_z = layer_output_comp.shape[3]\n",
        "    else:\n",
        "        dim_n = layer_output_comp.shape[0]\n",
        "        dim_z = layer_output_comp.shape[1]\n",
        "\n",
        "    #中間層の出力を図化する\n",
        "    plt.figure()\n",
        "    for num_pic in range(dim_n):\n",
        "        if layer_output_comp.ndim == 4:\n",
        "            for num_map in range(dim_z):\n",
        "                img = layer_output_comp[num_pic, :, :, num_map]\n",
        "                img = Image.fromarray(np.uint8(img))\n",
        "                plt.subplot(8,8,num_map+1)\n",
        "                plt.axis('off')\n",
        "                plt.imshow(img, cmap='gray')\n",
        "    \n",
        "        else:\n",
        "#            dims = int(np.sqrt(len(layer_output_comp[0])))\n",
        "            dims = int(len(layer_output_comp[0]))\n",
        "            img = layer_output_comp[num_pic, :]\n",
        "#            img = img.reshape(dims, dims).astype(np.float32)\n",
        "            img = img.reshape(dims, 1).astype(np.float32)\n",
        "            plt.axis('off')\n",
        "            plt.imshow(img, cmap='gray')\n",
        "\n",
        "# レイヤーごとの特徴マップの出力\n",
        "for layers in range(len(model.layers)-2):\n",
        "    middle_layer_output(layers, img)\n"
      ],
      "execution_count": 23,
      "outputs": [
        {
          "output_type": "display_data",
          "data": {
            "image/png": "[encoded data removed]",
            "text/plain": [
              "<Figure size 432x288 with 32 Axes>"
            ]
          },
          "metadata": {
            "tags": []
          }
        },
        {
          "output_type": "display_data",
          "data": {
            "image/png": "[encoded data removed]",
            "text/plain": [
              "<Figure size 432x288 with 32 Axes>"
            ]
          },
          "metadata": {
            "tags": []
          }
        },
        {
          "output_type": "display_data",
          "data": {
            "image/png": "[encoded data removed]",
            "text/plain": [
              "<Figure size 432x288 with 64 Axes>"
            ]
          },
          "metadata": {
            "tags": []
          }
        },
        {
          "output_type": "display_data",
          "data": {
            "image/png": "[encoded data removed]",
            "text/plain": [
              "<Figure size 432x288 with 64 Axes>"
            ]
          },
          "metadata": {
            "tags": []
          }
        },
        {
          "output_type": "display_data",
          "data": {
            "image/png": "[encoded data removed]",
            "text/plain": [
              "<Figure size 432x288 with 64 Axes>"
            ]
          },
          "metadata": {
            "tags": []
          }
        },
        {
          "output_type": "display_data",
          "data": {
            "image/png": "[encoded data removed]",
            "text/plain": [
              "<Figure size 432x288 with 64 Axes>"
            ]
          },
          "metadata": {
            "tags": []
          }
        },
        {
          "output_type": "display_data",
          "data": {
            "image/png": "[encoded data removed]",
            "text/plain": [
              "<Figure size 432x288 with 1 Axes>"
            ]
          },
          "metadata": {
            "tags": []
          }
        },
        {
          "output_type": "display_data",
          "data": {
            "image/png": "[encoded data removed]",
            "text/plain": [
              "<Figure size 432x288 with 1 Axes>"
            ]
          },
          "metadata": {
            "tags": []
          }
        },
        {
          "output_type": "display_data",
          "data": {
            "image/png": "[encoded data removed]",
            "text/plain": [
              "<Figure size 432x288 with 1 Axes>"
            ]
          },
          "metadata": {
            "tags": []
          }
        },
        {
          "output_type": "display_data",
          "data": {
            "image/png": "[encoded data removed]",
            "text/plain": [
              "<Figure size 432x288 with 1 Axes>"
            ]
          },
          "metadata": {
            "tags": []
          }
        }
      ]
    },
    {
      "cell_type": "markdown",
      "metadata": {
        "id": "q26KDv1Icumj",
        "colab_type": "text"
      },
      "source": [
        "CNNでは、ConvolutionおよびMaxPoolingでの特徴量の抽出の特性がイメージできたでしょうか。\n",
        "\n",
        "Deep Learningモデルにおいては、INPUTに対する最終的なOUTPUTだけでなく、中間層のOUTPUTを自由に取得することができるという点も非常に重要な特性であることは覚えておいてください。\n",
        "\n",
        "また、OUTPUTの観点だけでなく、INPUTも同様で、中間層にINPUTし、OUTPUTを得ることもできます。\n"
      ]
    },
    {
      "cell_type": "markdown",
      "metadata": {
        "id": "iIXwHVGJ0bIP",
        "colab_type": "text"
      },
      "source": [
        "jupyter notebook上でモデル構造など可視化させてきましたが、TensorBoardでもどのように見えるのか試してみましょう。\n",
        "\n",
        "Google Colabでは、直接HTTPアクセスはできないので、ngrokを用いて参照させます。\n",
        "\n",
        "下記コード実行後し、出力されるURLにアクセスしてみましょう。"
      ]
    },
    {
      "cell_type": "code",
      "metadata": {
        "id": "Pyx_anHq0bIQ",
        "colab_type": "code",
        "colab": {
          "base_uri": "https://localhost:8080/",
          "height": 255
        },
        "outputId": "47ce9ea1-710d-4895-9de8-649b24f600d2"
      },
      "source": [
        "# Web参照のため、ngrokを利用\n",
        "if not os.path.exists('./ngrok'):\n",
        "    !wget https://bin.equinox.io/c/4VmDzA7iaHb/ngrok-stable-linux-amd64.zip\n",
        "    !unzip ngrok-stable-linux-amd64.zip\n",
        "\n",
        "# TensorBoardおよびngrokの起動\n",
        "import subprocess\n",
        "cmd = \"tensorboard --logdir=./logs --host 0.0.0.0 --port 6006 &\"\n",
        "proc_tb = subprocess.call(cmd, shell=True)\n",
        "\n",
        "cmd = \"./ngrok http 6006 &\"\n",
        "proc_ng = subprocess.call(cmd, shell=True)\n",
        "\n",
        "# TensorBoard URL\n",
        "!curl -s http://localhost:4040/api/tunnels | python -c \"import sys, json; print(json.load(sys.stdin)['tunnels'][0]['public_url'])\""
      ],
      "execution_count": 24,
      "outputs": [
        {
          "output_type": "stream",
          "text": [
            "--2019-06-14 11:27:51--  https://bin.equinox.io/c/4VmDzA7iaHb/ngrok-stable-linux-amd64.zip\n",
            "Resolving bin.equinox.io (bin.equinox.io)... 3.209.102.29, 52.71.139.107, 34.231.75.48, ...\n",
            "Connecting to bin.equinox.io (bin.equinox.io)|3.209.102.29|:443... connected.\n",
            "HTTP request sent, awaiting response... 200 OK\n",
            "Length: 16648024 (16M) [application/octet-stream]\n",
            "Saving to: ‘ngrok-stable-linux-amd64.zip’\n",
            "\n",
            "\r          ngrok-sta   0%[                    ]       0  --.-KB/s               \r         ngrok-stab  89%[================>   ]  14.26M  71.3MB/s               \rngrok-stable-linux- 100%[===================>]  15.88M  71.3MB/s    in 0.2s    \n",
            "\n",
            "2019-06-14 11:27:51 (71.3 MB/s) - ‘ngrok-stable-linux-amd64.zip’ saved [16648024/16648024]\n",
            "\n",
            "Archive:  ngrok-stable-linux-amd64.zip\n",
            "  inflating: ngrok                   \n",
            "https://3d28d22b.ngrok.io\n"
          ],
          "name": "stdout"
        }
      ]
    },
    {
      "cell_type": "code",
      "metadata": {
        "id": "nH37JEOU0bIU",
        "colab_type": "code",
        "colab": {
          "base_uri": "https://localhost:8080/",
          "height": 34
        },
        "outputId": "7ef093de-6c86-4edd-9c29-78c813f3666d"
      },
      "source": [
        "# TensorBoardプロセスの停止\n",
        "#!ps -ef | grep tensorboard | grep -v grep | awk '{print \"kill -9\",$2}'| sh\n",
        "\n",
        "# ngrokプロセスの停止\n",
        "#!ps -ef | grep ngrok | grep -v grep | awk '{print \"kill -9\",$2}'| sh\n",
        "!mkdir model"
      ],
      "execution_count": 25,
      "outputs": [
        {
          "output_type": "stream",
          "text": [
            "mkdir: cannot create directory ‘model’: File exists\n"
          ],
          "name": "stdout"
        }
      ]
    },
    {
      "cell_type": "markdown",
      "metadata": {
        "id": "sqbPWg1mfbA3",
        "colab_type": "text"
      },
      "source": [
        "### 1.2.7 モデルの出力\n",
        "\n",
        "学習させたモデルを出力し、静的学習済みモデルとして外部で活用することもできます。\n",
        "\n",
        "ここでは、活用の汎用性を考えてTensorFlowのプロトコルバッファ形式にて出力してみます。\n",
        "\n",
        "静的学習済みモデルは、プログラムで読み込んで使うことも、GraphPipeやTensorFlow Serving等のモデルサーバーを用いてAPI化して利用することもできます。\n",
        "\n",
        "Google ColabではDockerを扱うことができないので、ローカルPCやクラウド環境等で試してみてください。"
      ]
    },
    {
      "cell_type": "code",
      "metadata": {
        "id": "_tcWm1vmlVvA",
        "colab_type": "code",
        "colab": {
          "base_uri": "https://localhost:8080/",
          "height": 207
        },
        "outputId": "3ec27feb-7a2c-450f-8ef5-6a423faebc9e"
      },
      "source": [
        "from tensorflow.python.framework import graph_util\n",
        "from tensorflow.python.framework import graph_io\n",
        "from tensorflow import identity\n",
        "\n",
        "# 学習セッションからグラフを復元\n",
        "ksess = K.get_session()\n",
        "graph = ksess.graph\n",
        "kgraph = graph.as_graph_def()\n",
        "\n",
        "# Outputノード名を取得\n",
        "num_output = 1\n",
        "prefix = \"output\"\n",
        "pred = [None]*num_output\n",
        "outputName = [None]*num_output\n",
        "for i in range(num_output):\n",
        "    outputName[i] = prefix + str(i)\n",
        "    pred[i] = identity(model.get_output_at(i), name=outputName[i])\n",
        "print('output name: ', outputName)\n",
        "\n",
        "# 変数を定数に変換\n",
        "constant_graph = graph_util.convert_variables_to_constants(ksess, ksess.graph.as_graph_def(), outputName)\n",
        "\n",
        "output_dir = \"model\"\n",
        "output_graph_name = \"frozen_graph.pb\"\n",
        "\n",
        "# 静的学習済みモデルを出力\n",
        "graph_io.write_graph(constant_graph, output_dir, output_graph_name, as_text=False)\n"
      ],
      "execution_count": 27,
      "outputs": [
        {
          "output_type": "stream",
          "text": [
            "output name:  ['output0']\n",
            "WARNING:tensorflow:From <ipython-input-27-a9c1ec9eec5d>:21: convert_variables_to_constants (from tensorflow.python.framework.graph_util_impl) is deprecated and will be removed in a future version.\n",
            "Instructions for updating:\n",
            "Use tf.compat.v1.graph_util.convert_variables_to_constants\n",
            "WARNING:tensorflow:From /usr/local/lib/python3.6/dist-packages/tensorflow/python/framework/graph_util_impl.py:245: extract_sub_graph (from tensorflow.python.framework.graph_util_impl) is deprecated and will be removed in a future version.\n",
            "Instructions for updating:\n",
            "Use tf.compat.v1.graph_util.extract_sub_graph\n",
            "INFO:tensorflow:Froze 16 variables.\n",
            "INFO:tensorflow:Converted 16 variables to const ops.\n"
          ],
          "name": "stdout"
        },
        {
          "output_type": "execute_result",
          "data": {
            "text/plain": [
              "'model/frozen_graph.pb'"
            ]
          },
          "metadata": {
            "tags": []
          },
          "execution_count": 27
        }
      ]
    },
    {
      "cell_type": "markdown",
      "metadata": {
        "id": "iP3EQso80bIX",
        "colab_type": "text"
      },
      "source": [
        "\n",
        "\n",
        "---\n",
        "\n",
        "\n",
        "\n",
        "## 1.2 各モデルLayer"
      ]
    },
    {
      "cell_type": "markdown",
      "metadata": {
        "collapsed": true,
        "id": "mBI02lgi0bIY",
        "colab_type": "text"
      },
      "source": [
        "ここからは、layerクラスについて詳しくみていきましょう。\n",
        "\n",
        "MLPで中心的な存在である、層を表すクラスがlayerクラスです。\n",
        "\n",
        "layerには様々な種類があり、そのそれぞれが独自の機能を持っているので、役割をある程度覚えておきましょう。\n",
        "\n",
        "今回は最もオーソドックスなlayerとして、keras.layers.core以下に定義されている中で使用頻度の高いものを紹介します。\n",
        "\n",
        "https://keras.io/ja/layers/about-keras-layers/\n",
        "\n",
        "https://keras.io/ja/layers/core/"
      ]
    },
    {
      "cell_type": "markdown",
      "metadata": {
        "id": "TN8uh6OD0bIZ",
        "colab_type": "text"
      },
      "source": [
        "### 1.2.1 Dense\n",
        "\n",
        "一般的な全結合層を表すレイヤーです。つまり、入力$u\\in\\mathbb{R}^D$に対して、\n",
        "\n",
        "$v = \\sigma(Wu+b) \\in\\mathbb{R}^{D'}$\n",
        "\n",
        "を出力します。\n",
        "\n",
        "なお、$W\\in\\mathbb{R}^{D' \\times D}$は重み行列を表し、$b\\in\\mathbb{R}^{D'}$はバイアスを表しています。\n",
        "\n",
        "重み行列とバイアスは学習によって値が決まることに注意しましょう。\n",
        "\n",
        "また$\\sigma(x):\\mathbb{R}^{D'}\\to\\mathbb{R}^{D'}$は**活性化関数**と呼ばれるもので、任意に指定可能です。\n",
        "\n",
        "（実際には最後の出力層の活性化関数については問題の特性から決まることも多いです）\n",
        "\n",
        "一般に活性化関数には非線形関数を指定することで、MLPの性能を向上させます。"
      ]
    },
    {
      "cell_type": "markdown",
      "metadata": {
        "id": "WBqWuwzq0bIZ",
        "colab_type": "text"
      },
      "source": [
        "```py\n",
        "keras.layers.core.Dense(units, activation=None, use_bias=True, kernel_initializer='glorot_uniform', bias_initializer='zeros',\n",
        "                        kernel_regularizer=None, bias_regularizer=None, activity_regularizer=None,\n",
        "                        kernel_constraint=None, bias_constraint=None)\n",
        "```"
      ]
    },
    {
      "cell_type": "markdown",
      "metadata": {
        "id": "QY0pofdt0bIa",
        "colab_type": "text"
      },
      "source": [
        "主な引数は\n",
        "\n",
        "* units: 出力ユニット数($N$)\n",
        "* activation: 出力ユニットに適用する活性化関数、Activationレイヤーの説明を参照\n",
        "* use_bias: バイアス$b$を使用するか\n",
        "* kernel_initializer: 重み行列$W$の初期化方法（initializerについては3章で扱います）\n",
        "* bias_initializer: バイアス$b$の初期化方法（initializerについては3章で扱います）\n",
        "\n",
        "です。またshapeの入出力での変化は\n",
        "\n",
        "<ol>(batch_size, ..., input_dim) --> (batch_size, ..., units)</ol>\n",
        "\n",
        "のとおり、一番深いネストの次元がinput_dimからunitsに変わるだけです。\n",
        "\n",
        "1.1.1のモデルの構築で出てきた例を以下に再掲します。"
      ]
    },
    {
      "cell_type": "markdown",
      "metadata": {
        "id": "sJvncM_u0bIa",
        "colab_type": "text"
      },
      "source": [
        "```py\n",
        "from keras.layers import Dense, Activation\n",
        "\n",
        "model.add(Dense(units=256, input_shape=(784,))) # 次元の変化: 784 -> 256\n",
        "model.add(Activation('relu'))\n",
        "model.add(Dense(units=100)) # 次元の変化: 256 -> 100\n",
        "model.add(Activation('relu'))\n",
        "model.add(Dense(units=10)) # 次元の変化: 100 -> 10\n",
        "model.add(Activation('softmax'))\n",
        "```"
      ]
    },
    {
      "cell_type": "markdown",
      "metadata": {
        "id": "o2auB_GX0bIb",
        "colab_type": "text"
      },
      "source": [
        "### 1.2.2 Activation\n",
        "\n",
        "入力に対して活性化関数を適用したものを出力します。"
      ]
    },
    {
      "cell_type": "markdown",
      "metadata": {
        "id": "CqGENA-u0bIc",
        "colab_type": "text"
      },
      "source": [
        "```py\n",
        "keras.layers.core.Activation(activation)\n",
        "```"
      ]
    },
    {
      "cell_type": "markdown",
      "metadata": {
        "id": "vt8mkQnU0bId",
        "colab_type": "text"
      },
      "source": [
        "引数は\n",
        "\n",
        "* activation: 適用する活性化関数\n",
        "\n",
        "のみです。（入力と出力でshapeは変わりません）\n",
        "\n",
        "活性化関数として使用できる関数の一覧はこちら( https://keras.io/ja/activations/ )です。\n",
        "\n",
        "よく使用されるものを以下に示します。\n",
        "\n",
        "* sigmoid: $f(x)=\\dfrac{1}{1+e^{-x}}$\n",
        "* ReLU: $f(x)=\\max(0,x)$\n",
        "* tanh: $f(x)=\\tanh(x)=\\dfrac{e^x-e^{-x}}{e^x+e^{-x}}$\n",
        "* softmax: $f(x)=\\dfrac{\\exp(x_d)}{\\sum_{d'} \\exp(x_{d'})} \\quad (x\\in\\mathbb{R}^D,\\ d=1,2,\\ldots,D)$\n",
        "\n",
        "特にsoftmax関数は出力が規格化されているので、確率として解釈できるため多クラス分類タスクの出力層に使用されることが多いです。\n",
        "\n",
        "（2クラス分類であればsigmoid関数を出力層に使用することも多いです）\n",
        "\n",
        "ここで、活性化関数をプロットしてみましょう。(多変数関数のsoftmaxを除く)"
      ]
    },
    {
      "cell_type": "code",
      "metadata": {
        "id": "b-tULG5p0bId",
        "colab_type": "code",
        "colab": {}
      },
      "source": [
        "%matplotlib inline\n",
        "import numpy as np\n",
        "import matplotlib.pyplot as plt\n",
        "\n",
        "def sigmoid(x):\n",
        "    return 1 / (1+np.exp(-x))\n",
        "\n",
        "def relu(x):\n",
        "    return np.maximum(0, x)\n",
        "\n",
        "def tanh(x):\n",
        "    return np.tanh(x)\n",
        "\n",
        "fig = plt.figure()\n",
        "x = np.linspace(-10, 10, 1000)\n",
        "\n",
        "ax = fig.add_subplot(111)\n",
        "ax.plot(x, sigmoid(x), label='sigmoid')\n",
        "ax.plot(x, relu(x), label='ReLU')\n",
        "ax.plot(x, tanh(x), label='tanh')\n",
        "\n",
        "plt.legend()\n",
        "plt.xlim(-5, 5)\n",
        "plt.ylim(-1.1, 2)\n",
        "plt.grid(which='major',color='gray',linestyle='-')\n",
        "plt.show()"
      ],
      "execution_count": 0,
      "outputs": []
    },
    {
      "cell_type": "markdown",
      "metadata": {
        "id": "deHEnYOR0bIh",
        "colab_type": "text"
      },
      "source": [
        "1.1.1のモデルの構築で出てきた例を以下に再掲します。\n",
        "\n",
        "```py\n",
        "from keras.layers import Dense, Activation\n",
        "\n",
        "model.add(Dense(units=256, input_shape=(784,)))\n",
        "model.add(Activation('relu')) # 活性化関数として relu を選択\n",
        "model.add(Dense(units=100))\n",
        "model.add(Activation('relu')) # 活性化関数として relu を選択\n",
        "model.add(Dense(units=10))\n",
        "model.add(Activation('softmax')) # 活性化関数として softmax を選択\n",
        "```\n",
        "\n",
        "なお、活性化関数はDenseレイヤーなどで直接指定することも可能で、実際に以下のコードは上記と同じ結果になります。\n",
        "\n",
        "```py\n",
        "from keras.layers import Dense, Activation\n",
        "\n",
        "model.add(Dense(256, input_shape=(784,), activation='relu'))\n",
        "model.add(Dense(100, activation='relu'))\n",
        "model.add(Dense(10, activation='softmax'))\n",
        "```"
      ]
    },
    {
      "cell_type": "markdown",
      "metadata": {
        "id": "oYfUF8xS0bIh",
        "colab_type": "text"
      },
      "source": [
        "### 1.2.3 Flatten\n",
        "\n",
        "入力をフラット化します。つまり、リストの入れ子になっているデータを1つのリストに展開します。\n",
        "\n",
        "(Ex. [[1,2,3],[4,5,6],[7],[8,9]]->[1,2,3,4,5,6,7,8,9])"
      ]
    },
    {
      "cell_type": "markdown",
      "metadata": {
        "id": "2_aoflDN0bIi",
        "colab_type": "text"
      },
      "source": [
        "```py\n",
        "keras.layers.core.Flatten()\n",
        "```"
      ]
    },
    {
      "cell_type": "markdown",
      "metadata": {
        "id": "mSZWJUX40bIj",
        "colab_type": "text"
      },
      "source": [
        "例は次の通りです。（出力shapeはbatch_sizeを除く入力shapeの積）"
      ]
    },
    {
      "cell_type": "markdown",
      "metadata": {
        "id": "W9jK50yV0bIj",
        "colab_type": "text"
      },
      "source": [
        "```py\n",
        "model = Sequential()\n",
        "model.add(Conv2D(64, (3, 3), input_shape=(3, 32, 32))) # 次元の変化: (3, 32, 32) -> (64, 32, 32)\n",
        "# Conv2Dは未修ですが、ここではその機能は関係ないので気にしなくて結構です\n",
        "\n",
        "model.add(Flatten()) # 次元の変化: (64, 32, 32) -> (65536,) (65536 = 64*32*32)\n",
        "```"
      ]
    },
    {
      "cell_type": "markdown",
      "metadata": {
        "id": "qYY9lzSH0bIk",
        "colab_type": "text"
      },
      "source": [
        "### 1.2.4 Reshape\n",
        "\n",
        "入力を指定のshapeに変換して出力します。"
      ]
    },
    {
      "cell_type": "markdown",
      "metadata": {
        "id": "fPX796mW0bIl",
        "colab_type": "text"
      },
      "source": [
        "```\n",
        "keras.layers.core.Reshape(target_shape)\n",
        "```"
      ]
    },
    {
      "cell_type": "markdown",
      "metadata": {
        "id": "Ei7rOqVE0bIl",
        "colab_type": "text"
      },
      "source": [
        "引数は\n",
        "* target_shape: 変換先のshapeを表す整数のタプル、ただしサンプルの次元（バッチサイズ）を含まない\n",
        "\n",
        "例は次の通りです。"
      ]
    },
    {
      "cell_type": "markdown",
      "metadata": {
        "id": "XRui-nh80bIm",
        "colab_type": "text"
      },
      "source": [
        "```py\n",
        "model = Sequential()\n",
        "model.add(Reshape((3, 4), input_shape=(12,))) # 次元の変化: (12,) -> (3, 4)\n",
        "\n",
        "model.add(Reshape((6, 2))) # 次元の変化: (3, 4) -> (6, 2)\n",
        "\n",
        "# `-1`をしていすると、その次元については推定してくれます(6/2=3)\n",
        "model.add(Reshape((-1, 2, 2))) # 次元の変化: (6, 2) -> (?, 2, 2)=(3, 2, 2)\n",
        "```"
      ]
    },
    {
      "cell_type": "markdown",
      "metadata": {
        "id": "ucQ7uJRM0bIm",
        "colab_type": "text"
      },
      "source": [
        "### 1.2.5 Permute\n",
        "\n",
        "入力の次元を入れ替えます。"
      ]
    },
    {
      "cell_type": "markdown",
      "metadata": {
        "id": "VngIwkch0bIn",
        "colab_type": "text"
      },
      "source": [
        "```py\n",
        "keras.layers.core.Permute(dims)\n",
        "```"
      ]
    },
    {
      "cell_type": "markdown",
      "metadata": {
        "id": "NvjF9_0E0bIo",
        "colab_type": "text"
      },
      "source": [
        "引数は\n",
        "\n",
        "* dims: 次元の入れ替え方を指定する整数のタプル、サンプルの次元はふくまない1から始まるindexで指定\n",
        "\n",
        "です。（入力と出力でshapeは変わりません）\n",
        "\n",
        "例は次の通りです。"
      ]
    },
    {
      "cell_type": "markdown",
      "metadata": {
        "id": "wDR5EyED0bIp",
        "colab_type": "text"
      },
      "source": [
        "```py\n",
        "model = Sequential()\n",
        "model.add(Permute((2, 1), input_shape=(10, 64))) # 次元の変化: (10, 64) -> (64, 10)\n",
        "```"
      ]
    },
    {
      "cell_type": "markdown",
      "metadata": {
        "id": "_W67nYpg0bIr",
        "colab_type": "text"
      },
      "source": [
        "### 1.2.6 RepeatVector\n",
        "\n",
        "入力を指定回数繰り返します。"
      ]
    },
    {
      "cell_type": "markdown",
      "metadata": {
        "id": "AtMC1sJV0bIr",
        "colab_type": "text"
      },
      "source": [
        "```py\n",
        "keras.layers.core.RepeatVector(n)\n",
        "```"
      ]
    },
    {
      "cell_type": "markdown",
      "metadata": {
        "id": "nd8GrtJI0bIs",
        "colab_type": "text"
      },
      "source": [
        "引数は\n",
        "\n",
        "* n: 入力の複製回数\n",
        "\n",
        "です。またshapeの入出力での変化は\n",
        "\n",
        "<ol>(num_samples, features) --> (num_samples, n, features)</ol>\n",
        "\n",
        "であり、入力には2階のテンソルのみを受け付けます。"
      ]
    },
    {
      "cell_type": "markdown",
      "metadata": {
        "id": "F18fL6Cx0bIt",
        "colab_type": "text"
      },
      "source": [
        "### 1.3 損失関数"
      ]
    },
    {
      "cell_type": "markdown",
      "metadata": {
        "id": "GQ36NEcz0bIv",
        "colab_type": "text"
      },
      "source": [
        "モデルの学習にあたっては、損失関数の最小化を行うわけでした。そこで、続いて損失関数についてみていきます。\n",
        "\n",
        "https://keras.io/ja/losses/\n",
        "\n",
        "kerasではモデルをコンパイルする際に損失関数を設定します。"
      ]
    },
    {
      "cell_type": "markdown",
      "metadata": {
        "id": "4JbXxomQ0bIw",
        "colab_type": "text"
      },
      "source": [
        "損失関数の選択においては、出力値が連続な場合と離散な場合で大きく異なってきます。\n",
        "\n",
        "#### 連続値のとき\n",
        "\n",
        " 主に使用されるのは**平均二乗誤差**です。これは各ミニバッチのデータ数を$N$として、\n",
        "\n",
        " $$E=\\dfrac{1}{N}\\sum_{n=1}^{N}(y_n-t_n)^2$$\n",
        "\n",
        " として表されます。(なお、$y_n, t_n$はそれぞれ入力$x_n$に対するモデルの出力値(y_pred)と出力データ(y_true)を表す)\n",
        "\n",
        " この平均二乗誤差を使用する場合、compile関数の引数として`loss='mean_squared_error'`を指定します。\n",
        "\n",
        "\n",
        "#### 離散値のとき\n",
        "\n",
        "主に使用されるのは、**（多クラス）交差エントロピー**です。2クラス分類の場合は交差エントロピーとして\n",
        "\n",
        "$$E=-\\dfrac{1}{N}\\sum_{n=1}^N \\left[t_n \\ln y_n + (1-t_n) \\ln (1-y_n) \\right]$$\n",
        "\n",
        "を使用し、多クラス分類（Kクラス）の場合は多クラス交差エントロピーとして\n",
        "\n",
        "$$E=-\\dfrac{1}{N}\\sum_{n=1}^N \\sum_{k=1}^K t_{nk} \\ln y_{nk}$$\n",
        "\n",
        "を用います。それぞれcompile関数の引数として`loss='binary_crossentropy'`、`loss='categorical_crossentropy'`を指定することで使用できます。\n",
        "    \n",
        "\n",
        "今回利用したMNISTは0~9の離散値であるため、以下のように多クラス交差エントロピーを利用しています。\n",
        "\n",
        "```py\n",
        "model.compile(loss='categorical_crossentropy',\n",
        "              optimizer='sgd',\n",
        "              metrics=['accuracy'])\n",
        "```\n",
        " "
      ]
    },
    {
      "cell_type": "markdown",
      "metadata": {
        "id": "xBYBfyw90bIx",
        "colab_type": "text"
      },
      "source": [
        "### 1.4 評価関数"
      ]
    },
    {
      "cell_type": "markdown",
      "metadata": {
        "id": "WEWYC4ua0bIy",
        "colab_type": "text"
      },
      "source": [
        "評価関数(metric)はモデルの出力の良し悪しを評価します。\n",
        "\n",
        "損失関数もモデルの良し悪しの指標となるという点では同じですが、損失関数は最適化計算をとおして学習に直接的に影響するのに対して、評価関数は学習には使用されず、あくまでその時点でのモデルの評価指標を出力するのみであるという違いがあります。\n",
        "\n",
        "つまり、compile関数で指定すると、訓練やテストの際に参考情報として評価関数の値が返り値として受け取れるというだけです。\n",
        "\n",
        "評価関数として使用することが多いのは**accuracy(正解率)**です。（正解率＝全体のデータに対して予測値が答えと一致した割合）\n",
        "\n",
        "これはcompile関数の引数として、`metrics=['acc']`を指定することで使用できます。（リストに他の損失関数を含めれば、それらも同時に評価されます）\n",
        "\n",
        "https://keras.io/ja/metrics/"
      ]
    },
    {
      "cell_type": "markdown",
      "metadata": {
        "id": "3kDw9ZBi0bIz",
        "colab_type": "text"
      },
      "source": [
        "### 1.5 Functional API"
      ]
    },
    {
      "cell_type": "markdown",
      "metadata": {
        "id": "PKNk1bRK0bIz",
        "colab_type": "text"
      },
      "source": [
        "ここまではkeras.models.Sequentialクラスを用いたモデル構築を説明しました。\n",
        "\n",
        "Sequentialクラスを用いる場合はadd関数を使用して簡単にモデルを構築できますが、途中に分岐や合流があるような複雑なモデルは作成できません。\n",
        "\n",
        "こうしたより複雑なモデルの構築には別の方法が用意されています。それが**Functional API**です。この特徴は\n",
        "\n",
        "* **Inputレイヤー**から構築を始める\n",
        "* 各レイヤーの返り値（テンソル）を次のレイヤーの入力として順々に構築していく\n",
        "* **keras.models.Modelクラス**に入力と出力を指定することでインスタンス化\n",
        "\n",
        "という点です。一度Modelクラスのインスタンスを作ってしまえば、後の学習等はSequentialクラスによる場合と同様です。\n",
        "\n",
        "より詳しくは、実際にFunctional APIが必須になる第4回で扱いますが、すぐにFunctional APIの発展的な利用法をみたいという方は、\n",
        "\n",
        "下記の公式HPのリンクにいくつか記載がありますので参考にしてみてください。\n",
        "\n",
        "https://keras.io/ja/getting-started/functional-api-guide/\n",
        "\n",
        "https://keras.io/ja/models/model/"
      ]
    },
    {
      "cell_type": "markdown",
      "metadata": {
        "id": "tKmaNCMW0bI2",
        "colab_type": "text"
      },
      "source": [
        "### 1.6 確認問題"
      ]
    },
    {
      "cell_type": "markdown",
      "metadata": {
        "id": "TjyPeDPG0bI3",
        "colab_type": "text"
      },
      "source": [
        "1. 学習データ以外の未知のデータに対するモデルの予測性能を何というか  \n",
        "  ①神通力　②バイアス　③汎化性能　④共起性\n",
        "2. データセット全体を一度に全て使用して学習する方法を何というか  \n",
        "  ①転移学習　②ワンショット学習　③過学習　④バッチ学習　\n",
        "3. 名義尺度のデータをバイナリベクトルによって表現したものを何というか  \n",
        "  ①分散表現　②one-hot表現　③ビット表現　④ユニタリ表現\n",
        "4. モデルの学習に当たって最小化するものは何か  \n",
        "  ①精度　②損失関数　③スコア　④F値"
      ]
    },
    {
      "cell_type": "code",
      "metadata": {
        "id": "-RKTQVB80bI4",
        "colab_type": "code",
        "colab": {}
      },
      "source": [
        ""
      ],
      "execution_count": 0,
      "outputs": []
    }
  ]
}