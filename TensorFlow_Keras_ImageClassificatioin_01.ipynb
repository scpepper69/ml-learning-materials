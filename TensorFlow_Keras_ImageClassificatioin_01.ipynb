{
  "nbformat": 4,
  "nbformat_minor": 0,
  "metadata": {
    "colab": {
      "name": "TensorFlow_Keras_ImageClassificatioin_01.ipynb",
      "version": "0.3.2",
      "provenance": [],
      "toc_visible": true,
      "include_colab_link": true
    },
    "language_info": {
      "codemirror_mode": {
        "name": "ipython",
        "version": 3
      },
      "file_extension": ".py",
      "mimetype": "text/x-python",
      "name": "python",
      "nbconvert_exporter": "python",
      "pygments_lexer": "ipython3",
      "version": "3.6.6"
    },
    "kernelspec": {
      "name": "python3",
      "display_name": "Python 3"
    },
    "accelerator": "GPU"
  },
  "cells": [
    {
      "cell_type": "markdown",
      "metadata": {
        "id": "view-in-github",
        "colab_type": "text"
      },
      "source": [
        "<a href=\"https://colab.research.google.com/github/scpepper69/ml-learning-materials/blob/master/TensorFlow_Keras_ImageClassificatioin_01.ipynb\" target=\"_parent\"><img src=\"https://colab.research.google.com/assets/colab-badge.svg\" alt=\"Open In Colab\"/></a>"
      ]
    },
    {
      "cell_type": "markdown",
      "metadata": {
        "id": "bYOnZhT30bGu",
        "colab_type": "text"
      },
      "source": [
        "# AI・機械学習 勉強会 #1\n",
        "## - 多層パーセプトロンおよび畳み込みニューラルネットワークによる画像分類 -\n",
        "\n",
        "\n",
        "※ まえがき\n",
        "\n",
        "このjupyter notebookは、東京大学 松尾研究所が公開している[DL4USコンテンツ](https://weblab.t.u-tokyo.ac.jp/dl4us/)を学習する中で、Deep Learningの前提知識が無い方や、数学が苦手な方においては、理論の理解が追い付かない部分があると感じ、トライ＆エラーによる実践を行うことがより理解を深めることができると考えて作成したものです。\n",
        "\n",
        "数式や理論を省略しているため、これらも含めて詳しく理解するには、[DL4USコンテンツ](https://weblab.t.u-tokyo.ac.jp/dl4us/)の1章および2章を合わせて参照すると良いかと思います。"
      ]
    },
    {
      "cell_type": "markdown",
      "metadata": {
        "id": "nRUBscIZP3DA",
        "colab_type": "text"
      },
      "source": [
        "## 目次\n",
        "\n",
        "  \n",
        "1.1.   概要\n",
        "\n",
        "1.2.   実装プロセス\n",
        "\n",
        "1.   環境準備\n",
        "2.   データの準備\n",
        "3.   モデル構築\n",
        "4.   モデルの学習\n",
        "5.   モデルによる予測\n",
        "5.   中間層データの可視化\n",
        "5.   モデルのファイル出力\n",
        "\n",
        "\n",
        "\n",
        "\n",
        "\n"
      ]
    },
    {
      "cell_type": "markdown",
      "metadata": {
        "id": "aNaQV4x5qxii",
        "colab_type": "text"
      },
      "source": [
        "\n",
        "\n",
        "---\n",
        "\n",
        "\n",
        "\n",
        "##1.1 概要\n",
        "TensorFlow + Kerasによる実装を通じて基本的なDeep Learningの考え方や実装方法を学習します。\n",
        "\n",
        "また、画像分類における多層パーセプトロン(MLP)と畳込みニューラルネットワーク(CNN)での比較を行い、モデル構造の違いとチューニングパラメータについて理解を深めます。\n",
        "\n",
        "ソースコードはPython3を前提に書いてあります。また、特にCIFAR10においては学習に時間がかかるため、Google ColabではGPUランタイムを使ってください。\n"
      ]
    },
    {
      "cell_type": "markdown",
      "metadata": {
        "id": "J2n0HLjd0bG3",
        "colab_type": "text"
      },
      "source": [
        "\n",
        "\n",
        "---\n",
        "\n",
        "\n",
        "\n",
        "## 1.2 実装プロセス"
      ]
    },
    {
      "cell_type": "markdown",
      "metadata": {
        "id": "HVNVVU2o0bG5",
        "colab_type": "text"
      },
      "source": [
        "ここでは、画像分類をMLP(Multi Layer Perceptron)とCNN(Convolutional Neural Network)の2つモデルにいて、教師あり学習モデルの実装およびモデル構造、学習結果の比較をしてみます。\n",
        "\n",
        "実装に使用する題材は、MNIST(手書き数字画像)と、CIFAR10(乗り物や動物などの画像)の2種類とします。\n",
        "\n",
        "\n",
        "参考：https://keras.io/ja/datasets/"
      ]
    },
    {
      "cell_type": "markdown",
      "metadata": {
        "id": "kfinbX-8rfFr",
        "colab_type": "text"
      },
      "source": [
        "### 1.2.1 環境準備\n",
        "\n",
        "プログラムを動かすにあたって、モデルおよびデータセットを指定してください。\n",
        "\n",
        "<モデル構造>\n",
        "* 多層パーセプトロン(MLP)\n",
        "* 畳込みニューラルネットワーク(CNN)\n",
        "\n",
        "<データセット>\n",
        "* MNIST：手書き数字(グレースケール)\n",
        "* CIFAR10：乗り物や動物の画像(カラー)\n",
        "\n",
        "以下の順序で動かしてみると良いかと思います。\n",
        "\n",
        "1. MNISTデータセットのMLP\n",
        "2. MNISTデータセットのCNN\n",
        "3. CIFAR10データセットのMLP\n",
        "4. CIFAR10データセットのCNN\n",
        "\n",
        "また、このjupyter notebookはTensorFlow 1.13.1を前提に実装しています。2019/6/14時点でバージョンが変更(1.14)となったため、ダウングレードしておきます。\n",
        "\n",
        "※その他ライブラリが変更になり、動作しなくなる可能性もありますが、Google Colabの仕様次第のため、都度チューニングして使ってください。"
      ]
    },
    {
      "cell_type": "code",
      "metadata": {
        "id": "8b5TKT0SrZVa",
        "colab_type": "code",
        "outputId": "f03fb800-552e-47c4-f20d-f0a3780f238e",
        "colab": {
          "base_uri": "https://localhost:8080/",
          "height": 558
        }
      },
      "source": [
        "# ライブラリのバージョン調整\n",
        "# 2019/6/14時点でデフォルトのTensorflowバージョンが変わった模様\n",
        "!pip install tensorflow-estimator==1.13.0 tensorflow-gpu==1.13.1\n",
        "\n",
        "# モデル構造を指定します (MLP or CNN)\n",
        "model_structure=\"MLP\"\n",
        "# データセットを指定します (MNIST or CIFAR10)\n",
        "data_set=\"MNIST\""
      ],
      "execution_count": 1,
      "outputs": [
        {
          "output_type": "stream",
          "text": [
            "Collecting tensorflow-estimator==1.13.0\n",
            "\u001b[?25l  Downloading https://files.pythonhosted.org/packages/bb/48/13f49fc3fa0fdf916aa1419013bb8f2ad09674c275b4046d5ee669a46873/tensorflow_estimator-1.13.0-py2.py3-none-any.whl (367kB)\n",
            "\u001b[K     |████████████████████████████████| 368kB 2.7MB/s \n",
            "\u001b[?25hCollecting tensorflow-gpu==1.13.1\n",
            "\u001b[?25l  Downloading https://files.pythonhosted.org/packages/7b/b1/0ad4ae02e17ddd62109cd54c291e311c4b5fd09b4d0678d3d6ce4159b0f0/tensorflow_gpu-1.13.1-cp36-cp36m-manylinux1_x86_64.whl (345.2MB)\n",
            "\u001b[K     |████████████████████████████████| 345.2MB 72kB/s \n",
            "\u001b[?25hRequirement already satisfied: numpy>=1.13.3 in /usr/local/lib/python3.6/dist-packages (from tensorflow-estimator==1.13.0) (1.16.4)\n",
            "Collecting mock>=2.0.0 (from tensorflow-estimator==1.13.0)\n",
            "  Downloading https://files.pythonhosted.org/packages/05/d2/f94e68be6b17f46d2c353564da56e6fb89ef09faeeff3313a046cb810ca9/mock-3.0.5-py2.py3-none-any.whl\n",
            "Requirement already satisfied: absl-py>=0.1.6 in /usr/local/lib/python3.6/dist-packages (from tensorflow-estimator==1.13.0) (0.7.1)\n",
            "Requirement already satisfied: six>=1.10.0 in /usr/local/lib/python3.6/dist-packages (from tensorflow-estimator==1.13.0) (1.12.0)\n",
            "Requirement already satisfied: tensorboard<1.14.0,>=1.13.0 in /usr/local/lib/python3.6/dist-packages (from tensorflow-gpu==1.13.1) (1.13.1)\n",
            "Requirement already satisfied: grpcio>=1.8.6 in /usr/local/lib/python3.6/dist-packages (from tensorflow-gpu==1.13.1) (1.15.0)\n",
            "Requirement already satisfied: wheel>=0.26 in /usr/local/lib/python3.6/dist-packages (from tensorflow-gpu==1.13.1) (0.33.4)\n",
            "Requirement already satisfied: keras-applications>=1.0.6 in /usr/local/lib/python3.6/dist-packages (from tensorflow-gpu==1.13.1) (1.0.8)\n",
            "Requirement already satisfied: astor>=0.6.0 in /usr/local/lib/python3.6/dist-packages (from tensorflow-gpu==1.13.1) (0.8.0)\n",
            "Requirement already satisfied: gast>=0.2.0 in /usr/local/lib/python3.6/dist-packages (from tensorflow-gpu==1.13.1) (0.2.2)\n",
            "Requirement already satisfied: termcolor>=1.1.0 in /usr/local/lib/python3.6/dist-packages (from tensorflow-gpu==1.13.1) (1.1.0)\n",
            "Requirement already satisfied: protobuf>=3.6.1 in /usr/local/lib/python3.6/dist-packages (from tensorflow-gpu==1.13.1) (3.7.1)\n",
            "Requirement already satisfied: keras-preprocessing>=1.0.5 in /usr/local/lib/python3.6/dist-packages (from tensorflow-gpu==1.13.1) (1.1.0)\n",
            "Requirement already satisfied: werkzeug>=0.11.15 in /usr/local/lib/python3.6/dist-packages (from tensorboard<1.14.0,>=1.13.0->tensorflow-gpu==1.13.1) (0.15.4)\n",
            "Requirement already satisfied: markdown>=2.6.8 in /usr/local/lib/python3.6/dist-packages (from tensorboard<1.14.0,>=1.13.0->tensorflow-gpu==1.13.1) (3.1.1)\n",
            "Requirement already satisfied: h5py in /usr/local/lib/python3.6/dist-packages (from keras-applications>=1.0.6->tensorflow-gpu==1.13.1) (2.8.0)\n",
            "Requirement already satisfied: setuptools in /usr/local/lib/python3.6/dist-packages (from protobuf>=3.6.1->tensorflow-gpu==1.13.1) (41.0.1)\n",
            "\u001b[31mERROR: tensorflow 1.14.0rc1 has requirement tensorflow-estimator<1.15.0rc0,>=1.14.0rc0, but you'll have tensorflow-estimator 1.13.0 which is incompatible.\u001b[0m\n",
            "Installing collected packages: mock, tensorflow-estimator, tensorflow-gpu\n",
            "  Found existing installation: tensorflow-estimator 1.14.0rc1\n",
            "    Uninstalling tensorflow-estimator-1.14.0rc1:\n",
            "      Successfully uninstalled tensorflow-estimator-1.14.0rc1\n",
            "Successfully installed mock-3.0.5 tensorflow-estimator-1.13.0 tensorflow-gpu-1.13.1\n"
          ],
          "name": "stdout"
        }
      ]
    },
    {
      "cell_type": "markdown",
      "metadata": {
        "id": "UZaJgfxvyLAy",
        "colab_type": "text"
      },
      "source": [
        "Google Colabratoryは、ランタイムが初期化されるとデータも失われます。\n",
        "\n",
        "学習した中のチェックポイントが学習済みモデルを再利用できるよう、Google Driveをマウントし、ここに出力できるようしておきましょう。"
      ]
    },
    {
      "cell_type": "code",
      "metadata": {
        "id": "bf6gYTI1xt0n",
        "colab_type": "code",
        "colab": {}
      },
      "source": [
        "import os, shutil\n",
        "from google.colab import drive\n",
        "drive.mount('/content/drive/')\n",
        "gdrive_base='/content/drive/My Drive/Colab Notebooks/'\n",
        "\n",
        "# TensorBorad用ログ\n",
        "log_dir=gdrive_base+'ImageClassification/logs/'\n",
        "if not os.path.exists(log_dir):\n",
        "    os.makedirs(log_dir)\n",
        "\n",
        "# チェックポイントおよび学習済みモデルファイル\n",
        "model_dir=gdrive_base+'ImageClassification/model/'\n",
        "if not os.path.exists(model_dir):\n",
        "    os.makedirs(model_dir)\n",
        "    "
      ],
      "execution_count": 0,
      "outputs": []
    },
    {
      "cell_type": "markdown",
      "metadata": {
        "id": "CFKVp80t0bG8",
        "colab_type": "text"
      },
      "source": [
        "### 1.2.2 データの準備\n",
        "教師あり学習を行う場合、学習させるデータを用意する必要があります。\n",
        "\n",
        "MNISTおよびCIFAR10はKerasにて提供されていますので、ここではこちらを使います。\n",
        "\n",
        "なお、データの収集は非常に地味かつ大変な作業ですが、このデータの事前準備が非常に重要であり、\"使える\"データの量や種類が、モデルの精度に大きく関わってきます。\n",
        "\n",
        "今回は用意されたものを使いますが、自分で集めたデータセットにて学習させることも非常に良い経験となるため、ぜひご自身でもトライしてみてください。\n",
        "         \n",
        "今回扱うMNISTおよびCIFAR10のデータ構造は下記となっています。\n",
        "\n",
        "* x：画像(MNIST：28×28x1、CIFAR10：32x32x1) ※縦x横xグレー(1)orカラー(3)\n",
        "* y：正解のラベル(xの画像が表す意味)\n",
        "\n",
        "また、これらデータセットは学習用と評価用に最初から分割されています。\n",
        "\n",
        "* (x_train, y_train):モデルの学習用\n",
        "* (x_test, y_test):モデルの評価用\n",
        "\n",
        "Deep Learningでは学習データでの認識精度が高くても意味がありません。\n",
        "\n",
        "学習時にはなかった未知のデータについても正しく認識させること(これを汎化性能といいます)が目的であり、これが精度の高い学習モデルと言えます。"
      ]
    },
    {
      "cell_type": "code",
      "metadata": {
        "id": "MIjKuxuD0bG-",
        "colab_type": "code",
        "outputId": "4c30c4cf-6723-4088-e8c1-2f4ddc23985f",
        "colab": {
          "base_uri": "https://localhost:8080/",
          "height": 52
        }
      },
      "source": [
        "# Kerasにて用意されているデータセットをダウンロードします\n",
        "from tensorflow.keras.datasets import mnist\n",
        "from tensorflow.keras.datasets import cifar10\n",
        "\n",
        "# MNIST\n",
        "if data_set == \"MNIST\":\n",
        "    (x_train, y_train), (x_test, y_test) = mnist.load_data()\n",
        "    img_size,img_color=28,1\n",
        "# CIFAR10\n",
        "else:\n",
        "    (x_train, y_train), (x_test, y_test) = cifar10.load_data()\n",
        "    img_size,img_color=32,3"
      ],
      "execution_count": 3,
      "outputs": [
        {
          "output_type": "stream",
          "text": [
            "Downloading data from https://storage.googleapis.com/tensorflow/tf-keras-datasets/mnist.npz\n",
            "11493376/11490434 [==============================] - 0s 0us/step\n"
          ],
          "name": "stdout"
        }
      ]
    },
    {
      "cell_type": "markdown",
      "metadata": {
        "id": "M3pSTYqA0bHI",
        "colab_type": "text"
      },
      "source": [
        "ダウンロードした画像と画像に対応したラベルを表示してみます。\n",
        "\n",
        "画像表示には、matplotlibライブラリを用います。これはPythonにてグラフ表示によく使われるライブラリなので、使用方法は覚えておくと良いです。\n",
        "\n",
        "参考：https://matplotlib.org/api/pyplot_api.html\n"
      ]
    },
    {
      "cell_type": "code",
      "metadata": {
        "id": "T-XaTkOc0bHL",
        "colab_type": "code",
        "outputId": "d78c5aef-942a-422d-f620-8840dcc6edcd",
        "colab": {
          "base_uri": "https://localhost:8080/",
          "height": 478
        }
      },
      "source": [
        "#jupyter notebook用マジックコマンド\n",
        "%matplotlib inline \n",
        "import matplotlib.pyplot as plt\n",
        "\n",
        "fig = plt.figure(figsize=(9, 15))\n",
        "fig.subplots_adjust(left=0, right=1, bottom=0, top=0.5, hspace=0.05, wspace=0.05)\n",
        "\n",
        "# 各MNIST画像の上に（タイトルとして）対応するラベルを表示\n",
        "for i in range(30):\n",
        "    ax = fig.add_subplot(3, 10, i + 1, xticks=[], yticks=[])\n",
        "    ax.set_title(str(y_train[i]))\n",
        "    ax.imshow(x_train[i], cmap='gray')"
      ],
      "execution_count": 4,
      "outputs": [
        {
          "output_type": "display_data",
          "data": {
            "image/png": "[encoded data removed]",
            "text/plain": [
              "<Figure size 648x1080 with 30 Axes>"
            ]
          },
          "metadata": {
            "tags": []
          }
        }
      ]
    },
    {
      "cell_type": "markdown",
      "metadata": {
        "id": "_ZCxZxgl0bHX",
        "colab_type": "text"
      },
      "source": [
        "これから実施するのは、MINISTにしても、CIFAR10にしても、いわゆる10クラス分類の問題です。（分類すべき対象のことを**クラス**と呼びます）\n",
        "\n",
        "画像分類を行うにあたって以下2点、前提として理解しておく必要があります。\n",
        "\n",
        "1.   ラベルの意味\n",
        "\n",
        "        MNISTにおいては、ラベルの値が数字としての意味と一致しているように見えますが、これはただの偶然でしかなく、あくまで、ラベルの値はクラスのインデックスに過ぎない数値ということです。\n",
        "\n",
        "        CIFAR10で試してみるとわかりますが、飛行機の画像のラベルは\"0\"であってairplaneという意味を持っているわけではありません。\n",
        "\n",
        "        要するに、Deep Learningとして理解している(させている)わけではないということです。\n",
        "\n",
        "        後ほど実装内にも出てきますが、各インデックスの意味づけは人がプログラム内でつけることなります。\n",
        "\n",
        "        画像分類の問題に限らず、現在のDeep Learningにおいては、1次的な結果を学習させ人間を超える精度を発揮することは可能ですが、2次的情報を付加するのはあくまで人間であり、その情報を理解し拡張することはまだできないと認識しておいてください。\n",
        "\n",
        "\n",
        "2.   ラベルの表現\n",
        "\n",
        "        もう一つ、インデックスなので、データとしては数字で表現されてしまいますが、Deep Learningを行う上で、これを数字としての意味を持って扱ってもらっては困るため、全クラス中のどのクラスに該当するかという表現に置き換える必要があります。\n",
        "\n",
        "        これを**one-hot表現**と呼んでいます。\n",
        "\n",
        "        * ラベル 0 = airplane -> (one-hot表現) -> [1,0,0,0,0,0,0,0,0,0]  ※10要素の配列の0番目に該当\n",
        "        * ラベル 1 = car -> (one-hot表現) -> [0,1,0,0,0,0,0,0,0,0] ※10要素の配列の1番目に該当\n",
        "\n",
        "    Kerasには、この**one-hot表現**に変換してくれる関数(keras.utils.to_categorical)が用意されています。\n",
        "    "
      ]
    },
    {
      "cell_type": "code",
      "metadata": {
        "id": "DBvnPZCU0bHZ",
        "colab_type": "code",
        "colab": {}
      },
      "source": [
        "from tensorflow.keras.utils import to_categorical\n",
        "import numpy as np\n",
        "\n",
        "# ラベルデータをone-hot表現へ変換 (10クラス)\n",
        "y_train = to_categorical(y_train, 10)\n",
        "y_test = to_categorical(y_test, 10)"
      ],
      "execution_count": 0,
      "outputs": []
    },
    {
      "cell_type": "markdown",
      "metadata": {
        "id": "7WDd1fFQ0eYP",
        "colab_type": "text"
      },
      "source": [
        "MLPでは、画像上の位置情報を意識せず、１次元配列として次の層に全結合させていきます。\n",
        "\n",
        "一方、CNNは画像の位置情報を保持した３次元配列のまま、ConvolutionおよびPoolingすることで特徴量を抽出します。\n",
        "\n",
        "そのため、学習および推論する際のINPUTデータ形式は、MLPは１次元配列、CNNは３次元配列となります。"
      ]
    },
    {
      "cell_type": "code",
      "metadata": {
        "id": "AfE9xtc-0Mgo",
        "colab_type": "code",
        "colab": {}
      },
      "source": [
        "# 画像データの形式をMLPおよびCNNに適した形に修正\n",
        "# for CNN \n",
        "if model_structure==\"CNN\":\n",
        "    x_train = x_train.reshape(-1, img_size, img_size, img_color).astype(np.float32)\n",
        "    x_test = x_test.reshape(-1, img_size, img_size, img_color).astype(np.float32)\n",
        "    input_shape = (img_size, img_size, img_color)\n",
        "# for MLP        \n",
        "else:\n",
        "    # 入力画像を行列(28x28)からベクトル(長さ784)に変換\n",
        "    x_train = x_train.reshape(-1, img_size*img_size*img_color)\n",
        "    x_test = x_test.reshape(-1, img_size*img_size*img_color)\n",
        "    input_shape = (img_size*img_size*img_color,)\n"
      ],
      "execution_count": 0,
      "outputs": []
    },
    {
      "cell_type": "markdown",
      "metadata": {
        "id": "bUUkN6qj0bHi",
        "colab_type": "text"
      },
      "source": [
        "### 1.2.3 モデル構築\n",
        "\n",
        "これから、学習モデルを構築します。\n",
        "\n",
        "モデルの構築は、モデルの「容器」としてSquential()を実施したのち、その中に順にレイヤーを追加していく流れになります。\n",
        "\n",
        "* [Sequential](https://keras.io/ja/models/sequential/)\n"
      ]
    },
    {
      "cell_type": "code",
      "metadata": {
        "id": "1rIGYTTK0bHk",
        "colab_type": "code",
        "colab": {}
      },
      "source": [
        "# モデル構築用ライブラリをインポート\n",
        "from tensorflow.keras.models import Sequential, Model\n",
        "from tensorflow.keras.layers import Dense, Activation, Flatten\n",
        "\n",
        "# CNNモデル用ライブラリ\n",
        "from tensorflow.python.keras.layers import Conv2D, Convolution2D, MaxPooling2D, Dropout, BatchNormalization, GlobalAveragePooling2D,Input\n",
        "from tensorflow.python.keras import initializers\n",
        "from tensorflow.keras.applications.vgg16 import VGG16\n",
        "\n",
        "# モデルの「容器」を作成\n",
        "model = Sequential()"
      ],
      "execution_count": 0,
      "outputs": []
    },
    {
      "cell_type": "markdown",
      "metadata": {
        "id": "vWgvceiHbKnb",
        "colab_type": "text"
      },
      "source": [
        "これから、モデル構造を定義していきます。ここでは、モデルの切り替えが容易にできるように、ここではモデル構造ごとにfunctionを用意しておきます。\n",
        "\n",
        "なお、Kerasでは最初にaddするレイヤにてInput_shapeを定義してやる必要があります。\n",
        "\n",
        "下記実装においては、入出力を除いた中間層について、MLPは全結合2層、CNNは畳込み2層＋全結合1層としています。\n",
        "\n",
        "各レイヤーのパラメータ等についてはKerasのドキュメントを参照してください。\n",
        "\n",
        "* [Dense/Actication/Dropout](https://keras.io/ja/layers/core/)\n",
        "* [Conv2D](https://keras.io/ja/layers/convolutional/)\n",
        "* [MaxPooling](https://keras.io/ja/layers/pooling/)\n",
        "* [Batch Normalization](https://keras.io/ja/layers/normalization/)\n",
        "\n",
        "\n",
        "MLPにおいては、3つの異なる活性化関数(Activation)のfunctionを用意しています。\n",
        "\n",
        "また、CNNにおいては、Dropoutの有無とBatch Nrmalizationを実装したfunctionを用意しています。\n",
        "\n",
        "特にCIFAR10の分類においては、このままの実装では高い精度は得られないはずです。\n",
        "\n",
        "それぞれのモデルの比較とともに、層の深さやレイヤーの構成、レイヤーごとのパラメータなどを自由にいじってみて、どのような変化が起こるか試してみましょう。\n"
      ]
    },
    {
      "cell_type": "code",
      "metadata": {
        "id": "i8TOq83u0bHz",
        "colab_type": "code",
        "colab": {}
      },
      "source": [
        "# MLPモデル\n",
        "def mlp_relu_model():\n",
        "    model.add(Dense(units=256, input_shape=input_shape))\n",
        "    model.add(Activation('relu'))\n",
        "    model.add(Dense(units=100))\n",
        "    model.add(Activation('relu'))\n",
        "    model.add(Dense(units=10))\n",
        "    model.add(Activation('softmax'))\n",
        "\n",
        "    return model\n",
        "\n",
        "def mlp_sigmoid_model():\n",
        "    model.add(Dense(units=256, input_shape=input_shape))\n",
        "    model.add(Activation('sigmoid'))\n",
        "    model.add(Dense(units=100))\n",
        "    model.add(Activation('sigmoid'))\n",
        "    model.add(Dense(units=10))\n",
        "    model.add(Activation('softmax'))\n",
        "\n",
        "    return model\n",
        "\n",
        "def mlp_tanh_model():\n",
        "    model.add(Dense(units=256, input_shape=input_shape))\n",
        "    model.add(Activation('tanh'))\n",
        "    model.add(Dense(units=100))\n",
        "    model.add(Activation('tanh'))\n",
        "    model.add(Dense(units=10))\n",
        "    model.add(Activation('softmax'))\n",
        "\n",
        "    return model\n"
      ],
      "execution_count": 0,
      "outputs": []
    },
    {
      "cell_type": "code",
      "metadata": {
        "id": "FLLXeRM3f7Fi",
        "colab_type": "code",
        "colab": {}
      },
      "source": [
        "# CNNモデル\n",
        "def cnn_model():\n",
        "    model.add(Conv2D(32, (3, 3), kernel_initializer=initializers.TruncatedNormal(stddev=0.1), bias_initializer=initializers.Zeros(), input_shape=input_shape))\n",
        "    model.add(Activation('relu'))\n",
        "    model.add(Conv2D(64, (3, 3), kernel_initializer=initializers.TruncatedNormal(stddev=0.1), bias_initializer=initializers.Zeros()))\n",
        "    model.add(Activation('relu'))\n",
        "    model.add(MaxPooling2D(pool_size=(2, 2)))\n",
        "\n",
        "    model.add(Flatten())\n",
        "    model.add(Dense(256, kernel_initializer=initializers.TruncatedNormal(stddev=0.1), bias_initializer=initializers.Zeros()))\n",
        "    model.add(Activation('relu'))\n",
        "    model.add(Dense(units=10))\n",
        "    model.add(Activation('softmax'))\n",
        "\n",
        "    return model\n",
        "\n",
        "# CNNモデル w/Dropout\n",
        "def cnn_w_dropout():\n",
        "    model.add(Conv2D(32, (3, 3), kernel_initializer=initializers.TruncatedNormal(stddev=0.1), bias_initializer=initializers.Zeros(), input_shape=input_shape))\n",
        "    model.add(Activation('relu'))\n",
        "    model.add(Conv2D(64, (3, 3), kernel_initializer=initializers.TruncatedNormal(stddev=0.1), bias_initializer=initializers.Zeros()))\n",
        "    model.add(Activation('relu'))\n",
        "    model.add(MaxPooling2D(pool_size=(2, 2)))\n",
        "    model.add(Dropout(0.5))\n",
        "\n",
        "    model.add(Flatten())\n",
        "    model.add(Dense(256, kernel_initializer=initializers.TruncatedNormal(stddev=0.1), bias_initializer=initializers.Zeros()))\n",
        "    model.add(Activation('relu'))\n",
        "    model.add(Dropout(0.5))\n",
        "    model.add(Dense(units=10))\n",
        "    model.add(Activation('softmax'))\n",
        "\n",
        "    return model\n",
        "    \n",
        "# CNNモデル w/Batch Normalization\n",
        "def cnn_w_batchnorm():\n",
        "    model.add(Conv2D(32, (3, 3), kernel_initializer=initializers.TruncatedNormal(stddev=0.1), bias_initializer=initializers.Zeros(), input_shape=input_shape))\n",
        "    model.add(Activation('relu'))\n",
        "    model.add(Conv2D(32, (3, 3), kernel_initializer=initializers.TruncatedNormal(stddev=0.1), bias_initializer=initializers.Zeros()))\n",
        "    model.add(Activation('relu'))\n",
        "    model.add(BatchNormalization())\n",
        "    model.add(MaxPooling2D(pool_size=(2, 2)))\n",
        "\n",
        "    model.add(Conv2D(64, (3, 3), kernel_initializer=initializers.TruncatedNormal(stddev=0.1), bias_initializer=initializers.Zeros(), input_shape=input_shape))\n",
        "    model.add(Activation('relu'))\n",
        "    model.add(Conv2D(64, (3, 3), kernel_initializer=initializers.TruncatedNormal(stddev=0.1), bias_initializer=initializers.Zeros()))\n",
        "    model.add(Activation('relu'))\n",
        "    model.add(BatchNormalization())\n",
        "    model.add(MaxPooling2D(pool_size=(2, 2)))\n",
        "\n",
        "    model.add(Flatten())\n",
        "    model.add(Dense(256, kernel_initializer=initializers.TruncatedNormal(stddev=0.1), bias_initializer=initializers.Zeros()))\n",
        "    model.add(Activation('relu'))\n",
        "    model.add(BatchNormalization())\n",
        "    model.add(Dense(units=10))\n",
        "    model.add(Activation('softmax'))\n",
        "\n",
        "    return model\n",
        "    \n",
        "# CNNモデル VGG16\n",
        "def cnn_vgg16():\n",
        "    input_tensor = Input(shape=(img_size, img_size, img_color))\n",
        "    vgg16 = VGG16(include_top=False, weights='imagenet', input_tensor=input_tensor)    \n",
        "    \n",
        "    add_model = Sequential()\n",
        "    add_model.add(Flatten())\n",
        "    add_model.add(Dense(256, kernel_initializer=initializers.TruncatedNormal(stddev=0.1), bias_initializer=initializers.Zeros()))\n",
        "    add_model.add(Activation('relu'))\n",
        "    add_model.add(BatchNormalization())\n",
        "    add_model.add(Dense(units=10))\n",
        "    add_model.add(Activation('softmax'))\n",
        "    \n",
        "    vgg16_model = Model(inputs=vgg16.input, outputs=add_model(vgg16.output))\n",
        "\n",
        "    #fix weights VGG16 layers\n",
        "    for layer in vgg16.layers:\n",
        "        layer.trainable = False\n",
        "        \n",
        "    return vgg16_model"
      ],
      "execution_count": 0,
      "outputs": []
    },
    {
      "cell_type": "markdown",
      "metadata": {
        "id": "3DNVsEupdMjn",
        "colab_type": "text"
      },
      "source": [
        "それでは、任意のモデルを選び、構築してみましょう。"
      ]
    },
    {
      "cell_type": "code",
      "metadata": {
        "id": "Nq7BxPyz0bH3",
        "colab_type": "code",
        "outputId": "b4e1b25e-d63e-4d04-9e44-3f392733a0aa",
        "colab": {
          "base_uri": "https://localhost:8080/",
          "height": 89
        }
      },
      "source": [
        "# model構築\n",
        "if model_structure==\"CNN\":\n",
        "#    model=cnn_model()\n",
        "#    model=cnn_w_dropout()\n",
        "    model=cnn_w_batchnorm()\n",
        "#    model = cnn_vgg16()\n",
        "else:\n",
        "    mlp_relu_model()\n",
        "#    model=mlp_sigmoid_model()\n",
        "#    model=mlp_tanh_model()\n"
      ],
      "execution_count": 10,
      "outputs": [
        {
          "output_type": "stream",
          "text": [
            "WARNING:tensorflow:From /usr/local/lib/python3.6/dist-packages/tensorflow/python/ops/resource_variable_ops.py:435: colocate_with (from tensorflow.python.framework.ops) is deprecated and will be removed in a future version.\n",
            "Instructions for updating:\n",
            "Colocations handled automatically by placer.\n"
          ],
          "name": "stdout"
        }
      ]
    },
    {
      "cell_type": "markdown",
      "metadata": {
        "id": "sSEVpmwMo1U8",
        "colab_type": "text"
      },
      "source": [
        "先ほど定義したモデルを視覚的に理解できるよう、モデル構造を図示してみます。\n",
        "\n",
        "図示するツールはconvert-drawerというツールを用います。\n",
        "\n",
        "convert-drawerのオリジナルのgithubはココですが、MLPやDropoutやBatch Normalizationへも対応できるよう、修正を加えています。\n",
        "\n",
        "また、ついでにに各レイヤーの定義情報を参考として出力してみます。この定義情報は各レイヤーのadd時にパラメータとして付与できるものたちです。\n",
        "\n",
        "デフォルトとして明示していないものがどれだけあり、実際はどのようなパラメータで動いているか見てみてください。"
      ]
    },
    {
      "cell_type": "code",
      "metadata": {
        "id": "vBmICHhQOX57",
        "colab_type": "code",
        "outputId": "e7452751-8b88-4b54-be39-8f46cb308eb4",
        "colab": {
          "base_uri": "https://localhost:8080/",
          "height": 421
        }
      },
      "source": [
        "!git clone https://github.com/scpepper69/convnet-drawer.git convert_drawer\n",
        "import sys\n",
        "sys.path.append('./convert_drawer/')\n",
        "from keras_util import convert_drawer_model\n",
        "from keras_models import AlexNet\n",
        "from matplotlib_util import save_model_to_file\n",
        "from IPython.display import *\n",
        "\n",
        "# get Keras sequential model\n",
        "#keras_sequential_model = AlexNet.get_model()\n",
        "draw_model = convert_drawer_model(model)\n",
        "\n",
        "# save as svg file\n",
        "draw_model.save_fig(f'{model_dir}{model_structure}_{data_set}_model_structure.svg')\n",
        "display_svg(SVG(f'{model_dir}{model_structure}_{data_set}_model_structure.svg'))"
      ],
      "execution_count": 11,
      "outputs": [
        {
          "output_type": "stream",
          "text": [
            "Cloning into 'convert_drawer'...\n",
            "remote: Enumerating objects: 80, done.\u001b[K\n",
            "remote: Counting objects:   1% (1/80)   \u001b[K\rremote: Counting objects:   2% (2/80)   \u001b[K\rremote: Counting objects:   3% (3/80)   \u001b[K\rremote: Counting objects:   5% (4/80)   \u001b[K\rremote: Counting objects:   6% (5/80)   \u001b[K\rremote: Counting objects:   7% (6/80)   \u001b[K\rremote: Counting objects:   8% (7/80)   \u001b[K\rremote: Counting objects:  10% (8/80)   \u001b[K\rremote: Counting objects:  11% (9/80)   \u001b[K\rremote: Counting objects:  12% (10/80)   \u001b[K\rremote: Counting objects:  13% (11/80)   \u001b[K\rremote: Counting objects:  15% (12/80)   \u001b[K\rremote: Counting objects:  16% (13/80)   \u001b[K\rremote: Counting objects:  17% (14/80)   \u001b[K\rremote: Counting objects:  18% (15/80)   \u001b[K\rremote: Counting objects:  20% (16/80)   \u001b[K\rremote: Counting objects:  21% (17/80)   \u001b[K\rremote: Counting objects:  22% (18/80)   \u001b[K\rremote: Counting objects:  23% (19/80)   \u001b[K\rremote: Counting objects:  25% (20/80)   \u001b[K\rremote: Counting objects:  26% (21/80)   \u001b[K\rremote: Counting objects:  27% (22/80)   \u001b[K\rremote: Counting objects:  28% (23/80)   \u001b[K\rremote: Counting objects:  30% (24/80)   \u001b[K\rremote: Counting objects:  31% (25/80)   \u001b[K\rremote: Counting objects:  32% (26/80)   \u001b[K\rremote: Counting objects:  33% (27/80)   \u001b[K\rremote: Counting objects:  35% (28/80)   \u001b[K\rremote: Counting objects:  36% (29/80)   \u001b[K\rremote: Counting objects:  37% (30/80)   \u001b[K\rremote: Counting objects:  38% (31/80)   \u001b[K\rremote: Counting objects:  40% (32/80)   \u001b[K\rremote: Counting objects:  41% (33/80)   \u001b[K\rremote: Counting objects:  42% (34/80)   \u001b[K\rremote: Counting objects:  43% (35/80)   \u001b[K\rremote: Counting objects:  45% (36/80)   \u001b[K\rremote: Counting objects:  46% (37/80)   \u001b[K\rremote: Counting objects:  47% (38/80)   \u001b[K\rremote: Counting objects:  48% (39/80)   \u001b[K\rremote: Counting objects:  50% (40/80)   \u001b[K\rremote: Counting objects:  51% (41/80)   \u001b[K\rremote: Counting objects:  52% (42/80)   \u001b[K\rremote: Counting objects:  53% (43/80)   \u001b[K\rremote: Counting objects:  55% (44/80)   \u001b[K\rremote: Counting objects:  56% (45/80)   \u001b[K\rremote: Counting objects:  57% (46/80)   \u001b[K\rremote: Counting objects:  58% (47/80)   \u001b[K\rremote: Counting objects:  60% (48/80)   \u001b[K\rremote: Counting objects:  61% (49/80)   \u001b[K\rremote: Counting objects:  62% (50/80)   \u001b[K\rremote: Counting objects:  63% (51/80)   \u001b[K\rremote: Counting objects:  65% (52/80)   \u001b[K\rremote: Counting objects:  66% (53/80)   \u001b[K\rremote: Counting objects:  67% (54/80)   \u001b[K\rremote: Counting objects:  68% (55/80)   \u001b[K\rremote: Counting objects:  70% (56/80)   \u001b[K\rremote: Counting objects:  71% (57/80)   \u001b[K\rremote: Counting objects:  72% (58/80)   \u001b[K\rremote: Counting objects:  73% (59/80)   \u001b[K\rremote: Counting objects:  75% (60/80)   \u001b[K\rremote: Counting objects:  76% (61/80)   \u001b[K\rremote: Counting objects:  77% (62/80)   \u001b[K\rremote: Counting objects:  78% (63/80)   \u001b[K\rremote: Counting objects:  80% (64/80)   \u001b[K\rremote: Counting objects:  81% (65/80)   \u001b[K\rremote: Counting objects:  82% (66/80)   \u001b[K\rremote: Counting objects:  83% (67/80)   \u001b[K\rremote: Counting objects:  85% (68/80)   \u001b[K\rremote: Counting objects:  86% (69/80)   \u001b[K\rremote: Counting objects:  87% (70/80)   \u001b[K\rremote: Counting objects:  88% (71/80)   \u001b[K\rremote: Counting objects:  90% (72/80)   \u001b[K\rremote: Counting objects:  91% (73/80)   \u001b[K\rremote: Counting objects:  92% (74/80)   \u001b[K\rremote: Counting objects:  93% (75/80)   \u001b[K\rremote: Counting objects:  95% (76/80)   \u001b[K\rremote: Counting objects:  96% (77/80)   \u001b[K\rremote: Counting objects:  97% (78/80)   \u001b[K\rremote: Counting objects:  98% (79/80)   \u001b[K\rremote: Counting objects: 100% (80/80)   \u001b[K\rremote: Counting objects: 100% (80/80), done.\u001b[K\n",
            "remote: Compressing objects:   1% (1/58)   \u001b[K\rremote: Compressing objects:   3% (2/58)   \u001b[K\rremote: Compressing objects:   5% (3/58)   \u001b[K\rremote: Compressing objects:   6% (4/58)   \u001b[K\rremote: Compressing objects:   8% (5/58)   \u001b[K\rremote: Compressing objects:  10% (6/58)   \u001b[K\rremote: Compressing objects:  12% (7/58)   \u001b[K\rremote: Compressing objects:  13% (8/58)   \u001b[K\rremote: Compressing objects:  15% (9/58)   \u001b[K\rremote: Compressing objects:  17% (10/58)   \u001b[K\rremote: Compressing objects:  18% (11/58)   \u001b[K\rremote: Compressing objects:  20% (12/58)   \u001b[K\rremote: Compressing objects:  22% (13/58)   \u001b[K\rremote: Compressing objects:  24% (14/58)   \u001b[K\rremote: Compressing objects:  25% (15/58)   \u001b[K\rremote: Compressing objects:  27% (16/58)   \u001b[K\rremote: Compressing objects:  29% (17/58)   \u001b[K\rremote: Compressing objects:  31% (18/58)   \u001b[K\rremote: Compressing objects:  32% (19/58)   \u001b[K\rremote: Compressing objects:  34% (20/58)   \u001b[K\rremote: Compressing objects:  36% (21/58)   \u001b[K\rremote: Compressing objects:  37% (22/58)   \u001b[K\rremote: Compressing objects:  39% (23/58)   \u001b[K\rremote: Compressing objects:  41% (24/58)   \u001b[K\rremote: Compressing objects:  43% (25/58)   \u001b[K\rremote: Compressing objects:  44% (26/58)   \u001b[K\rremote: Compressing objects:  46% (27/58)   \u001b[K\rremote: Compressing objects:  48% (28/58)   \u001b[K\rremote: Compressing objects:  50% (29/58)   \u001b[K\rremote: Compressing objects:  51% (30/58)   \u001b[K\rremote: Compressing objects:  53% (31/58)   \u001b[K\rremote: Compressing objects:  55% (32/58)   \u001b[K\rremote: Compressing objects:  56% (33/58)   \u001b[K\rremote: Compressing objects:  58% (34/58)   \u001b[K\rremote: Compressing objects:  60% (35/58)   \u001b[K\rremote: Compressing objects:  62% (36/58)   \u001b[K\rremote: Compressing objects:  63% (37/58)   \u001b[K\rremote: Compressing objects:  65% (38/58)   \u001b[K\rremote: Compressing objects:  67% (39/58)   \u001b[K\rremote: Compressing objects:  68% (40/58)   \u001b[K\rremote: Compressing objects:  70% (41/58)   \u001b[K\rremote: Compressing objects:  72% (42/58)   \u001b[K\rremote: Compressing objects:  74% (43/58)   \u001b[K\rremote: Compressing objects:  75% (44/58)   \u001b[K\rremote: Compressing objects:  77% (45/58)   \u001b[K\rremote: Compressing objects:  79% (46/58)   \u001b[K\rremote: Compressing objects:  81% (47/58)   \u001b[K\rremote: Compressing objects:  82% (48/58)   \u001b[K\rremote: Compressing objects:  84% (49/58)   \u001b[K\rremote: Compressing objects:  86% (50/58)   \u001b[K\rremote: Compressing objects:  87% (51/58)   \u001b[K\rremote: Compressing objects:  89% (52/58)   \u001b[K\rremote: Compressing objects:  91% (53/58)   \u001b[K\rremote: Compressing objects:  93% (54/58)   \u001b[K\rremote: Compressing objects:  94% (55/58)   \u001b[K\rremote: Compressing objects:  96% (56/58)   \u001b[K\rremote: Compressing objects:  98% (57/58)   \u001b[K\rremote: Compressing objects: 100% (58/58)   \u001b[K\rremote: Compressing objects: 100% (58/58), done.\u001b[K\n",
            "Receiving objects:   0% (1/299)   \rReceiving objects:   1% (3/299)   \rReceiving objects:   2% (6/299)   \rReceiving objects:   3% (9/299)   \rReceiving objects:   4% (12/299)   \rReceiving objects:   5% (15/299)   \rReceiving objects:   6% (18/299)   \rReceiving objects:   7% (21/299)   \rReceiving objects:   8% (24/299)   \rReceiving objects:   9% (27/299)   \rReceiving objects:  10% (30/299)   \rReceiving objects:  11% (33/299)   \rReceiving objects:  12% (36/299)   \rReceiving objects:  13% (39/299)   \rReceiving objects:  14% (42/299)   \rReceiving objects:  15% (45/299)   \rReceiving objects:  16% (48/299)   \rReceiving objects:  17% (51/299)   \rReceiving objects:  18% (54/299)   \rReceiving objects:  19% (57/299)   \rReceiving objects:  20% (60/299)   \rReceiving objects:  21% (63/299)   \rReceiving objects:  22% (66/299)   \rReceiving objects:  23% (69/299)   \rReceiving objects:  24% (72/299)   \rReceiving objects:  25% (75/299)   \rReceiving objects:  26% (78/299)   \rReceiving objects:  27% (81/299)   \rReceiving objects:  28% (84/299)   \rReceiving objects:  29% (87/299)   \rReceiving objects:  30% (90/299)   \rReceiving objects:  31% (93/299)   \rReceiving objects:  32% (96/299)   \rReceiving objects:  33% (99/299)   \rReceiving objects:  34% (102/299)   \rReceiving objects:  35% (105/299)   \rReceiving objects:  36% (108/299)   \rReceiving objects:  37% (111/299)   \rReceiving objects:  38% (114/299)   \rReceiving objects:  39% (117/299)   \rReceiving objects:  40% (120/299)   \rReceiving objects:  41% (123/299)   \rReceiving objects:  42% (126/299)   \rReceiving objects:  43% (129/299)   \rReceiving objects:  44% (132/299)   \rReceiving objects:  45% (135/299)   \rReceiving objects:  46% (138/299)   \rReceiving objects:  47% (141/299)   \rReceiving objects:  48% (144/299)   \rReceiving objects:  49% (147/299)   \rReceiving objects:  50% (150/299)   \rReceiving objects:  51% (153/299)   \rReceiving objects:  52% (156/299)   \rReceiving objects:  53% (159/299)   \rReceiving objects:  54% (162/299)   \rReceiving objects:  55% (165/299)   \rReceiving objects:  56% (168/299)   \rReceiving objects:  57% (171/299)   \rReceiving objects:  58% (174/299)   \rReceiving objects:  59% (177/299)   \rReceiving objects:  60% (180/299)   \rReceiving objects:  61% (183/299)   \rReceiving objects:  62% (186/299)   \rReceiving objects:  63% (189/299)   \rReceiving objects:  64% (192/299)   \rReceiving objects:  65% (195/299)   \rReceiving objects:  66% (198/299)   \rReceiving objects:  67% (201/299)   \rReceiving objects:  68% (204/299)   \rReceiving objects:  69% (207/299)   \rReceiving objects:  70% (210/299)   \rReceiving objects:  71% (213/299)   \rReceiving objects:  72% (216/299)   \rReceiving objects:  73% (219/299)   \rReceiving objects:  74% (222/299)   \rReceiving objects:  75% (225/299)   \rReceiving objects:  76% (228/299)   \rReceiving objects:  77% (231/299)   \rReceiving objects:  78% (234/299)   \rReceiving objects:  79% (237/299)   \rReceiving objects:  80% (240/299)   \rReceiving objects:  81% (243/299)   \rReceiving objects:  82% (246/299)   \rReceiving objects:  83% (249/299)   \rReceiving objects:  84% (252/299)   \rremote: Total 299 (delta 47), reused 50 (delta 22), pack-reused 219\u001b[K\n",
            "Receiving objects:  85% (255/299)   \rReceiving objects:  86% (258/299)   \rReceiving objects:  87% (261/299)   \rReceiving objects:  88% (264/299)   \rReceiving objects:  89% (267/299)   \rReceiving objects:  90% (270/299)   \rReceiving objects:  91% (273/299)   \rReceiving objects:  92% (276/299)   \rReceiving objects:  93% (279/299)   \rReceiving objects:  94% (282/299)   \rReceiving objects:  95% (285/299)   \rReceiving objects:  96% (288/299)   \rReceiving objects:  97% (291/299)   \rReceiving objects:  98% (294/299)   \rReceiving objects:  99% (297/299)   \rReceiving objects: 100% (299/299)   \rReceiving objects: 100% (299/299), 1.57 MiB | 18.75 MiB/s, done.\n",
            "Resolving deltas:   0% (0/177)   \rResolving deltas:   1% (2/177)   \rResolving deltas:   7% (14/177)   \rResolving deltas:   9% (16/177)   \rResolving deltas:  21% (38/177)   \rResolving deltas:  24% (43/177)   \rResolving deltas:  35% (62/177)   \rResolving deltas:  39% (70/177)   \rResolving deltas:  42% (76/177)   \rResolving deltas:  44% (79/177)   \rResolving deltas:  45% (81/177)   \rResolving deltas:  47% (84/177)   \rResolving deltas:  48% (85/177)   \rResolving deltas:  49% (87/177)   \rResolving deltas:  55% (98/177)   \rResolving deltas:  59% (105/177)   \rResolving deltas:  61% (108/177)   \rResolving deltas:  63% (113/177)   \rResolving deltas:  68% (121/177)   \rResolving deltas:  76% (136/177)   \rResolving deltas:  90% (161/177)   \rResolving deltas:  98% (174/177)   \rResolving deltas:  99% (176/177)   \rResolving deltas: 100% (177/177)   \rResolving deltas: 100% (177/177), done.\n",
            "Dense {'name': 'dense', 'trainable': True, 'batch_input_shape': (None, 784), 'dtype': 'float32', 'units': 256, 'activation': 'linear', 'use_bias': True, 'kernel_initializer': {'class_name': 'GlorotUniform', 'config': {'seed': None, 'dtype': 'float32'}}, 'bias_initializer': {'class_name': 'Zeros', 'config': {'dtype': 'float32'}}, 'kernel_regularizer': None, 'bias_regularizer': None, 'activity_regularizer': None, 'kernel_constraint': None, 'bias_constraint': None}\n",
            "Activation {'name': 'activation', 'trainable': True, 'dtype': 'float32', 'activation': 'relu'}\n",
            "Dense {'name': 'dense_1', 'trainable': True, 'dtype': 'float32', 'units': 100, 'activation': 'linear', 'use_bias': True, 'kernel_initializer': {'class_name': 'GlorotUniform', 'config': {'seed': None, 'dtype': 'float32'}}, 'bias_initializer': {'class_name': 'Zeros', 'config': {'dtype': 'float32'}}, 'kernel_regularizer': None, 'bias_regularizer': None, 'activity_regularizer': None, 'kernel_constraint': None, 'bias_constraint': None}\n",
            "Activation {'name': 'activation_1', 'trainable': True, 'dtype': 'float32', 'activation': 'relu'}\n",
            "Dense {'name': 'dense_2', 'trainable': True, 'dtype': 'float32', 'units': 10, 'activation': 'linear', 'use_bias': True, 'kernel_initializer': {'class_name': 'GlorotUniform', 'config': {'seed': None, 'dtype': 'float32'}}, 'bias_initializer': {'class_name': 'Zeros', 'config': {'dtype': 'float32'}}, 'kernel_regularizer': None, 'bias_regularizer': None, 'activity_regularizer': None, 'kernel_constraint': None, 'bias_constraint': None}\n",
            "Activation {'name': 'activation_2', 'trainable': True, 'dtype': 'float32', 'activation': 'softmax'}\n"
          ],
          "name": "stdout"
        },
        {
          "output_type": "stream",
          "text": [
            "Using TensorFlow backend.\n"
          ],
          "name": "stderr"
        },
        {
          "output_type": "display_data",
          "data": {
            "image/svg+xml": "<svg height=\"136.5242421144494\" viewBox=\"-40 -61.262121057224704 313.974097914175 136.5242421144494\" width=\"313.974097914175\" xmlns=\"http://www.w3.org/2000/svg\" xmlns:xlink=\"http://www.w3.org/1999/xlink\">\n<line stroke=\"rgb(0, 0, 0)\" stroke-dasharray=\"none\" stroke-width=\"1\" x1=\"0\" x2=\"0\" y1=\"9.100000000000001\" y2=\"-18.9\"/>\n<line stroke=\"rgb(0, 0, 0)\" stroke-dasharray=\"1\" stroke-width=\"1\" x1=\"1.0\" x2=\"1.0\" y1=\"9.100000000000001\" y2=\"-18.9\"/>\n<line stroke=\"rgb(0, 0, 0)\" stroke-dasharray=\"none\" stroke-width=\"1\" x1=\"16.974097914174997\" x2=\"16.974097914174997\" y1=\"18.9\" y2=\"-9.100000000000001\"/>\n<line stroke=\"rgb(0, 0, 0)\" stroke-dasharray=\"none\" stroke-width=\"1\" x1=\"17.974097914174997\" x2=\"17.974097914174997\" y1=\"18.9\" y2=\"-9.100000000000001\"/>\n<line stroke=\"rgb(0, 0, 0)\" stroke-dasharray=\"none\" stroke-width=\"1\" x1=\"0\" x2=\"16.974097914174997\" y1=\"9.100000000000001\" y2=\"18.9\"/>\n<line stroke=\"rgb(0, 0, 0)\" stroke-dasharray=\"none\" stroke-width=\"1\" x1=\"0\" x2=\"16.974097914174997\" y1=\"-18.9\" y2=\"-9.100000000000001\"/>\n<line stroke=\"rgb(0, 0, 0)\" stroke-dasharray=\"1\" stroke-width=\"1\" x1=\"1.0\" x2=\"17.974097914174997\" y1=\"9.100000000000001\" y2=\"18.9\"/>\n<line stroke=\"rgb(0, 0, 0)\" stroke-dasharray=\"none\" stroke-width=\"1\" x1=\"1.0\" x2=\"17.974097914174997\" y1=\"-18.9\" y2=\"-9.100000000000001\"/>\n<line stroke=\"rgb(0, 0, 0)\" stroke-dasharray=\"1\" stroke-width=\"1\" x1=\"0\" x2=\"1.0\" y1=\"9.100000000000001\" y2=\"9.100000000000001\"/>\n<line stroke=\"rgb(0, 0, 0)\" stroke-dasharray=\"none\" stroke-width=\"1\" x1=\"16.974097914174997\" x2=\"17.974097914174997\" y1=\"18.9\" y2=\"18.9\"/>\n<line stroke=\"rgb(0, 0, 0)\" stroke-dasharray=\"none\" stroke-width=\"1\" x1=\"0\" x2=\"1.0\" y1=\"-18.9\" y2=\"-18.9\"/>\n<line stroke=\"rgb(0, 0, 0)\" stroke-dasharray=\"none\" stroke-width=\"1\" x1=\"16.974097914174997\" x2=\"17.974097914174997\" y1=\"-9.100000000000001\" y2=\"-9.100000000000001\"/>\n<text fill=\"rgb(0, 0, 0)\" font-family=\"arial\" font-size=\"14px\" text-anchor=\"middle\" x=\"8.987048957087499\" y=\"-28.9\">28x28x1</text>\n<line stroke=\"rgb(0, 0, 0)\" stroke-dasharray=\"none\" stroke-width=\"1\" x1=\"67.97409791417499\" x2=\"67.97409791417499\" y1=\"-27.262121057224704\" y2=\"27.262121057224704\"/>\n<line stroke=\"rgb(0, 0, 0)\" stroke-dasharray=\"none\" stroke-width=\"1\" x1=\"67.97409791417499\" x2=\"71.97409791417499\" y1=\"27.262121057224704\" y2=\"27.262121057224704\"/>\n<line stroke=\"rgb(0, 0, 0)\" stroke-dasharray=\"none\" stroke-width=\"1\" x1=\"71.97409791417499\" x2=\"71.97409791417499\" y1=\"27.262121057224704\" y2=\"-27.262121057224704\"/>\n<line stroke=\"rgb(0, 0, 0)\" stroke-dasharray=\"none\" stroke-width=\"1\" x1=\"71.97409791417499\" x2=\"67.97409791417499\" y1=\"-27.262121057224704\" y2=\"-27.262121057224704\"/>\n<text fill=\"rgb(0, 0, 0)\" font-family=\"arial\" font-size=\"14px\" text-anchor=\"middle\" x=\"69.97409791417499\" y=\"-37.262121057224704\">784</text>\n<line stroke=\"rgb(0, 0, 0)\" stroke-dasharray=\"none\" stroke-width=\"1\" x1=\"121.97409791417499\" x2=\"121.97409791417499\" y1=\"-13.928809012737984\" y2=\"13.928809012737984\"/>\n<line stroke=\"rgb(0, 0, 0)\" stroke-dasharray=\"none\" stroke-width=\"1\" x1=\"121.97409791417499\" x2=\"125.97409791417499\" y1=\"13.928809012737984\" y2=\"13.928809012737984\"/>\n<line stroke=\"rgb(0, 0, 0)\" stroke-dasharray=\"none\" stroke-width=\"1\" x1=\"125.97409791417499\" x2=\"125.97409791417499\" y1=\"13.928809012737984\" y2=\"-13.928809012737984\"/>\n<line stroke=\"rgb(0, 0, 0)\" stroke-dasharray=\"none\" stroke-width=\"1\" x1=\"125.97409791417499\" x2=\"121.97409791417499\" y1=\"-13.928809012737984\" y2=\"-13.928809012737984\"/>\n<text fill=\"rgb(0, 0, 0)\" font-family=\"arial\" font-size=\"14px\" text-anchor=\"middle\" x=\"123.97409791417499\" y=\"-23.928809012737986\">256</text>\n<line stroke=\"rgb(0, 0, 0)\" stroke-dasharray=\"none\" stroke-width=\"1\" x1=\"175.974097914175\" x2=\"175.974097914175\" y1=\"-7.924465962305566\" y2=\"7.924465962305566\"/>\n<line stroke=\"rgb(0, 0, 0)\" stroke-dasharray=\"none\" stroke-width=\"1\" x1=\"175.974097914175\" x2=\"179.974097914175\" y1=\"7.924465962305566\" y2=\"7.924465962305566\"/>\n<line stroke=\"rgb(0, 0, 0)\" stroke-dasharray=\"none\" stroke-width=\"1\" x1=\"179.974097914175\" x2=\"179.974097914175\" y1=\"7.924465962305566\" y2=\"-7.924465962305566\"/>\n<line stroke=\"rgb(0, 0, 0)\" stroke-dasharray=\"none\" stroke-width=\"1\" x1=\"179.974097914175\" x2=\"175.974097914175\" y1=\"-7.924465962305566\" y2=\"-7.924465962305566\"/>\n<text fill=\"rgb(0, 0, 0)\" font-family=\"arial\" font-size=\"14px\" text-anchor=\"middle\" x=\"177.974097914175\" y=\"-17.924465962305568\">100</text>\n<line stroke=\"rgb(0, 0, 0)\" stroke-dasharray=\"none\" stroke-width=\"1\" x1=\"229.974097914175\" x2=\"229.974097914175\" y1=\"-1.9905358527674861\" y2=\"1.9905358527674861\"/>\n<line stroke=\"rgb(0, 0, 0)\" stroke-dasharray=\"none\" stroke-width=\"1\" x1=\"229.974097914175\" x2=\"233.974097914175\" y1=\"1.9905358527674861\" y2=\"1.9905358527674861\"/>\n<line stroke=\"rgb(0, 0, 0)\" stroke-dasharray=\"none\" stroke-width=\"1\" x1=\"233.974097914175\" x2=\"233.974097914175\" y1=\"1.9905358527674861\" y2=\"-1.9905358527674861\"/>\n<line stroke=\"rgb(0, 0, 0)\" stroke-dasharray=\"none\" stroke-width=\"1\" x1=\"233.974097914175\" x2=\"229.974097914175\" y1=\"-1.9905358527674861\" y2=\"-1.9905358527674861\"/>\n<text fill=\"rgb(0, 0, 0)\" font-family=\"arial\" font-size=\"14px\" text-anchor=\"middle\" x=\"231.974097914175\" y=\"-11.990535852767486\">10</text>\n<text fill=\"rgb(0, 0, 0)\" font-family=\"arial\" font-size=\"14px\" text-anchor=\"middle\" x=\"42.97409791417499\" y=\"51.262121057224704\">flatten</text>\n<line stroke=\"rgb(0, 0, 255)\" stroke-dasharray=\"2\" stroke-width=\"1\" x1=\"71.97409791417499\" x2=\"121.97409791417499\" y1=\"-27.262121057224704\" y2=\"-6.964404506368992\"/>\n<line stroke=\"rgb(0, 0, 255)\" stroke-dasharray=\"2\" stroke-width=\"1\" x1=\"71.97409791417499\" x2=\"121.97409791417499\" y1=\"27.262121057224704\" y2=\"-6.964404506368992\"/>\n<text fill=\"rgb(0, 0, 0)\" font-family=\"arial\" font-size=\"14px\" text-anchor=\"middle\" x=\"96.97409791417499\" y=\"51.262121057224704\">dense</text>\n<line stroke=\"rgb(0, 0, 255)\" stroke-dasharray=\"2\" stroke-width=\"1\" x1=\"125.97409791417499\" x2=\"175.974097914175\" y1=\"-13.928809012737984\" y2=\"-3.962232981152783\"/>\n<line stroke=\"rgb(0, 0, 255)\" stroke-dasharray=\"2\" stroke-width=\"1\" x1=\"125.97409791417499\" x2=\"175.974097914175\" y1=\"13.928809012737984\" y2=\"-3.962232981152783\"/>\n<text fill=\"rgb(0, 0, 0)\" font-family=\"arial\" font-size=\"14px\" text-anchor=\"middle\" x=\"150.974097914175\" y=\"37.928809012737986\">dense</text>\n<line stroke=\"rgb(0, 0, 255)\" stroke-dasharray=\"2\" stroke-width=\"1\" x1=\"179.974097914175\" x2=\"229.974097914175\" y1=\"-7.924465962305566\" y2=\"-0.9952679263837431\"/>\n<line stroke=\"rgb(0, 0, 255)\" stroke-dasharray=\"2\" stroke-width=\"1\" x1=\"179.974097914175\" x2=\"229.974097914175\" y1=\"7.924465962305566\" y2=\"-0.9952679263837431\"/>\n<text fill=\"rgb(0, 0, 0)\" font-family=\"arial\" font-size=\"14px\" text-anchor=\"middle\" x=\"204.974097914175\" y=\"31.924465962305568\">dense</text>\n</svg>"
          },
          "metadata": {
            "tags": []
          }
        }
      ]
    },
    {
      "cell_type": "markdown",
      "metadata": {
        "id": "E5Dz7x4Scrf8",
        "colab_type": "text"
      },
      "source": [
        "学習の開始にあたり、最後にcompile関数でコンパイルを行います。\n",
        "\n",
        "compile関数でも、学習にあたって以下のパラメータを指定する必要があります。\n",
        "\n",
        "* optimizer（最適化手法）\n",
        "* loss（損失関数）\n",
        "* metrics（評価関数（任意））\n",
        "\n",
        "以下サンプルコードでは、現在Kerasで利用できるoptimizerを並べてみました。こちらもそれぞれどのような結果になるか比較してみるといいでしょう。"
      ]
    },
    {
      "cell_type": "code",
      "metadata": {
        "id": "OI4UDcU60bH7",
        "colab_type": "code",
        "colab": {}
      },
      "source": [
        "from tensorflow.keras import optimizers\n",
        "from tensorflow.keras import losses\n",
        "# モデルの学習方法について指定しておく\n",
        "#model.compile(loss='categorical_crossentropy', optimizer=optimizers.SGD(lr=0.001, momentum=0.9), metrics=['accuracy'])\n",
        "#model.compile(loss='categorical_crossentropy', optimizer=optimizers.Adam(lr=0.001), metrics=['accuracy'])\n",
        "#model.compile(loss='categorical_crossentropy', optimizer=optimizers.RMSprop(lr=0.001), metrics=['accuracy'])\n",
        "#model.compile(loss='categorical_crossentropy', optimizer=optimizers.Adagrad(lr=0.001), metrics=['accuracy'])\n",
        "#model.compile(loss='categorical_crossentropy', optimizer=optimizers.Adadelta(lr=0.001), metrics=['accuracy'])\n",
        "model.compile(loss='categorical_crossentropy', optimizer=optimizers.Adamax(lr=0.001), metrics=['accuracy'])\n",
        "#model.compile(loss='categorical_crossentropy', optimizer=optimizers.Nadam(lr=0.001), metrics=['accuracy'])\n"
      ],
      "execution_count": 0,
      "outputs": []
    },
    {
      "cell_type": "markdown",
      "metadata": {
        "id": "5LYqpAQPO04I",
        "colab_type": "text"
      },
      "source": [
        "早速学習開始と行きたいところですが、学習の途中結果を記録する(Checkpoint)ことと、TensorBoard向けのログ情報を取得できるようにしておきましょう。\n",
        "\n",
        "モデル構造や結果等の視覚化することで、何がどのように動いているのか、理解の手助けとなります。\n",
        "\n",
        "このjupyter notebook上でも可視化ロジックを組み込んでいますが、通常のモデル開発においては、TensorBoardを用いるほうがスマートでしょう。\n"
      ]
    },
    {
      "cell_type": "markdown",
      "metadata": {
        "id": "weO_9YIVJ4dA",
        "colab_type": "text"
      },
      "source": [
        "TensorBoardでも参照できるよう、設定を組み込んでおきます。"
      ]
    },
    {
      "cell_type": "code",
      "metadata": {
        "id": "s80FRVRL0bH-",
        "colab_type": "code",
        "colab": {}
      },
      "source": [
        "# TensorBoardでの可視化のため、出力先の設定\n",
        "from tensorflow.keras import callbacks\n",
        "\n",
        "tb_cb = callbacks.TensorBoard(log_dir=log_dir, histogram_freq=1,write_images=1)"
      ],
      "execution_count": 0,
      "outputs": []
    },
    {
      "cell_type": "markdown",
      "metadata": {
        "id": "GJVjFnA8h5LT",
        "colab_type": "text"
      },
      "source": [
        "チェックポイントを生成しておくことで、中断した学習の再開や、チェックポイントを利用した静的モデルの出力を行うことができます。"
      ]
    },
    {
      "cell_type": "code",
      "metadata": {
        "id": "Rk3ohoKJhd9P",
        "colab_type": "code",
        "colab": {}
      },
      "source": [
        "# チェックポイント出力先\n",
        "RUN = RUN + 1 if 'RUN' in locals() else 1\n",
        "checkpoint_path = model_dir + f'run{RUN}/' + model_structure + \"_\" + data_set + \"_cp-{epoch:04d}.ckpt\"\n",
        "checkpoint_dir = os.path.dirname(checkpoint_path)\n",
        "\n",
        "# チェックポイントコールバックを作る\n",
        "cp_cb = callbacks.ModelCheckpoint(checkpoint_path, save_weights_only=True, verbose=1, period=5)"
      ],
      "execution_count": 0,
      "outputs": []
    },
    {
      "cell_type": "markdown",
      "metadata": {
        "id": "DMWlqNgvPBvp",
        "colab_type": "text"
      },
      "source": [
        "学習の実行の前に、モデルのサマリ情報を確認してみましょう。"
      ]
    },
    {
      "cell_type": "code",
      "metadata": {
        "id": "135NNq6iO-b2",
        "colab_type": "code",
        "outputId": "39b07a6d-9d75-4bbe-88f2-601ccf911e59",
        "colab": {
          "base_uri": "https://localhost:8080/",
          "height": 347
        }
      },
      "source": [
        "# モデルのサマリ情報の表示\n",
        "model.summary()"
      ],
      "execution_count": 15,
      "outputs": [
        {
          "output_type": "stream",
          "text": [
            "_________________________________________________________________\n",
            "Layer (type)                 Output Shape              Param #   \n",
            "=================================================================\n",
            "dense (Dense)                (None, 256)               200960    \n",
            "_________________________________________________________________\n",
            "activation (Activation)      (None, 256)               0         \n",
            "_________________________________________________________________\n",
            "dense_1 (Dense)              (None, 100)               25700     \n",
            "_________________________________________________________________\n",
            "activation_1 (Activation)    (None, 100)               0         \n",
            "_________________________________________________________________\n",
            "dense_2 (Dense)              (None, 10)                1010      \n",
            "_________________________________________________________________\n",
            "activation_2 (Activation)    (None, 10)                0         \n",
            "=================================================================\n",
            "Total params: 227,670\n",
            "Trainable params: 227,670\n",
            "Non-trainable params: 0\n",
            "_________________________________________________________________\n"
          ],
          "name": "stdout"
        }
      ]
    },
    {
      "cell_type": "markdown",
      "metadata": {
        "id": "sUmiS87vdonR",
        "colab_type": "text"
      },
      "source": [
        "学習途上のチェックポイントから再開させることもできます。\n",
        "\n",
        "load_weights関数にてチェックポイントファイルから重みをロードします。"
      ]
    },
    {
      "cell_type": "code",
      "metadata": {
        "id": "dAQ_PWeidls-",
        "colab_type": "code",
        "colab": {}
      },
      "source": [
        "# チェックポイントから学習済みパラメータを復元\n",
        "#model.load_weights(f'{model_dir}run1/{model_structure}_{data_set}_cp-0010.ckpt')"
      ],
      "execution_count": 0,
      "outputs": []
    },
    {
      "cell_type": "markdown",
      "metadata": {
        "id": "6_yBnQiN0bID",
        "colab_type": "text"
      },
      "source": [
        "### 1.2.4 モデルの学習\n",
        "\n",
        "ようやく学習に入ります。学習処理はfit関数もしくはfit_generatorの2種類ありますが、ここではfit関数を使います。\n",
        "\n",
        "ここでは以下の引数を与えます。\n",
        "\n",
        "* x_train：学習に使用する画像データ\n",
        "* y_train：学習に使用するラベルデータ(one-hot表現)\n",
        "* batch_size：学習中のパラメータ更新を1回行うにあたって用いるサンプル数（ミニバッチのサイズ）\n",
        "* epochs：学習のエポック数\n",
        "* verbose：学習のログを出力するか（0:しない、1：バーで出力、2:エポックごとに出力）\n",
        "* validation_data：検証用データ\n",
        "* callbacks：訓練中のモデルの挙動を監視できるcallback関数を指定できます\n",
        "\n",
        "fit関数にはこれ以外にもパラメータを持っています。\n",
        "\n",
        "* [fit](https://keras.io/ja/models/model/#fit)\n"
      ]
    },
    {
      "cell_type": "code",
      "metadata": {
        "scrolled": false,
        "id": "_IQUEb790bIE",
        "colab_type": "code",
        "outputId": "46558779-7802-4640-f7b4-51678d21959e",
        "colab": {
          "base_uri": "https://localhost:8080/",
          "height": 680
        }
      },
      "source": [
        "# epoch数を指定\n",
        "epochs=10\n",
        "\n",
        "# batchサイズを指定\n",
        "batch_size=1000\n",
        "\n",
        "# 学習の実行\n",
        "result = model.fit(x_train, y_train, batch_size=batch_size, epochs=epochs, verbose=1,callbacks=[tb_cb, cp_cb], validation_data=(x_test, y_test))"
      ],
      "execution_count": 17,
      "outputs": [
        {
          "output_type": "stream",
          "text": [
            "Train on 60000 samples, validate on 10000 samples\n",
            "WARNING:tensorflow:From /usr/local/lib/python3.6/dist-packages/tensorflow/python/ops/math_ops.py:3066: to_int32 (from tensorflow.python.ops.math_ops) is deprecated and will be removed in a future version.\n",
            "Instructions for updating:\n",
            "Use tf.cast instead.\n",
            "Epoch 1/10\n",
            "60000/60000 [==============================] - 2s 30us/sample - loss: 5.4211 - acc: 0.6500 - val_loss: 4.1339 - val_acc: 0.7356\n",
            "Epoch 2/10\n",
            "60000/60000 [==============================] - 1s 15us/sample - loss: 4.0520 - acc: 0.7408 - val_loss: 3.8556 - val_acc: 0.7539\n",
            "Epoch 3/10\n",
            "60000/60000 [==============================] - 1s 16us/sample - loss: 3.5801 - acc: 0.7692 - val_loss: 2.7044 - val_acc: 0.8223\n",
            "Epoch 4/10\n",
            "60000/60000 [==============================] - 1s 16us/sample - loss: 2.5721 - acc: 0.8311 - val_loss: 2.4552 - val_acc: 0.8399\n",
            "Epoch 5/10\n",
            "56000/60000 [===========================>..] - ETA: 0s - loss: 2.3971 - acc: 0.8436\n",
            "Epoch 00005: saving model to /content/drive/My Drive/Colab Notebooks/ImageClassification/model/run1/MLP_MNIST_cp-0005.ckpt\n",
            "WARNING:tensorflow:This model was compiled with a Keras optimizer (<tensorflow.python.keras.optimizers.Adamax object at 0x7f9ace682cc0>) but is being saved in TensorFlow format with `save_weights`. The model's weights will be saved, but unlike with TensorFlow optimizers in the TensorFlow format the optimizer's state will not be saved.\n",
            "\n",
            "Consider using a TensorFlow optimizer from `tf.train`.\n",
            "WARNING:tensorflow:From /usr/local/lib/python3.6/dist-packages/tensorflow/python/keras/engine/network.py:1436: update_checkpoint_state (from tensorflow.python.training.checkpoint_management) is deprecated and will be removed in a future version.\n",
            "Instructions for updating:\n",
            "Use tf.train.CheckpointManager to manage checkpoints rather than manually editing the Checkpoint proto.\n",
            "60000/60000 [==============================] - 1s 20us/sample - loss: 2.3825 - acc: 0.8446 - val_loss: 2.3135 - val_acc: 0.8490\n",
            "Epoch 6/10\n",
            "60000/60000 [==============================] - 1s 16us/sample - loss: 2.2565 - acc: 0.8535 - val_loss: 2.2107 - val_acc: 0.8543\n",
            "Epoch 7/10\n",
            "60000/60000 [==============================] - 1s 16us/sample - loss: 2.1780 - acc: 0.8592 - val_loss: 2.2087 - val_acc: 0.8558\n",
            "Epoch 8/10\n",
            "60000/60000 [==============================] - 1s 16us/sample - loss: 2.1266 - acc: 0.8626 - val_loss: 2.1822 - val_acc: 0.8567\n",
            "Epoch 9/10\n",
            "60000/60000 [==============================] - 1s 16us/sample - loss: 2.0884 - acc: 0.8649 - val_loss: 2.1360 - val_acc: 0.8599\n",
            "Epoch 10/10\n",
            "54000/60000 [==========================>...] - ETA: 0s - loss: 2.0426 - acc: 0.8685\n",
            "Epoch 00010: saving model to /content/drive/My Drive/Colab Notebooks/ImageClassification/model/run1/MLP_MNIST_cp-0010.ckpt\n",
            "WARNING:tensorflow:This model was compiled with a Keras optimizer (<tensorflow.python.keras.optimizers.Adamax object at 0x7f9ace682cc0>) but is being saved in TensorFlow format with `save_weights`. The model's weights will be saved, but unlike with TensorFlow optimizers in the TensorFlow format the optimizer's state will not be saved.\n",
            "\n",
            "Consider using a TensorFlow optimizer from `tf.train`.\n",
            "60000/60000 [==============================] - 1s 16us/sample - loss: 2.0372 - acc: 0.8688 - val_loss: 2.0973 - val_acc: 0.8633\n"
          ],
          "name": "stdout"
        }
      ]
    },
    {
      "cell_type": "markdown",
      "metadata": {
        "id": "XCLIozIF0bIJ",
        "colab_type": "text"
      },
      "source": [
        "学習結果の評価については、evaluate関数にて得ることができます。\n",
        "\n",
        "主な引数は次の通りです。\n",
        "\n",
        "* x：評価に使用する入力データ\n",
        "* y：評価に使用する出力データ\n",
        "* batch_size：1回の評価を行うにあたって用いるサンプル数\n",
        "* verbose：評価のログを出力するか（0:しない、1：する(デフォルト)）\n",
        "\n",
        "基本的には、損失(Loss)は低ければ低いほうが、評価(Accuracy)は高ければ高いほうが良いです。\n",
        "\n",
        "Accuracyはモデルの精度そのもの、Lossは学習が効率よく行われているかを示す指標で、Lossが高いまま収束していかない＝効率が良くなく、モデル構造やパラメータ改善の余地あり、という感覚でよいかと思います。\n"
      ]
    },
    {
      "cell_type": "code",
      "metadata": {
        "id": "Ys0GtCR60bIK",
        "colab_type": "code",
        "outputId": "bf70d008-11c5-4d2f-9521-060e29652545",
        "colab": {
          "base_uri": "https://localhost:8080/",
          "height": 52
        }
      },
      "source": [
        "score = model.evaluate(x_test, y_test, verbose=0)\n",
        "print('Test loss:', score[0])\n",
        "print('Test accuracy:', score[1])"
      ],
      "execution_count": 18,
      "outputs": [
        {
          "output_type": "stream",
          "text": [
            "Test loss: 2.0973221282958985\n",
            "Test accuracy: 0.8633\n"
          ],
          "name": "stdout"
        }
      ]
    },
    {
      "cell_type": "markdown",
      "metadata": {
        "id": "uvQIQuhhWdOo",
        "colab_type": "text"
      },
      "source": [
        "epochごとのAccuracyおよびLossの遷移をグラフ化してみましょう。\n",
        "\n",
        "fit関数のreturnから、データを取得することができます。"
      ]
    },
    {
      "cell_type": "code",
      "metadata": {
        "id": "UB8isRg_hfGT",
        "colab_type": "code",
        "outputId": "bada0596-a34b-4e11-8802-2dd4e379b3b9",
        "colab": {
          "base_uri": "https://localhost:8080/",
          "height": 590
        }
      },
      "source": [
        "result.history.keys() # ヒストリデータのラベルを見てみる\n",
        "plt.plot(range(1, epochs+1), result.history['acc'], label=\"training\")\n",
        "plt.plot(range(1, epochs+1), result.history['val_acc'], label=\"validation\")\n",
        "plt.title('Accuracy History')\n",
        "plt.xlabel('Epochs')\n",
        "plt.ylabel('Accuracy')\n",
        "plt.legend()\n",
        "plt.xlim([1,epochs])\n",
        "plt.ylim([0,1])\n",
        "plt.show()\n",
        "plt.savefig(model_structure+'_'+data_set+'_'+'acc.png')\n",
        "\n",
        "plt.plot(range(1, epochs+1), result.history['loss'], label=\"training\")\n",
        "plt.plot(range(1, epochs+1), result.history['val_loss'], label=\"validation\")\n",
        "plt.title('Loss History')\n",
        "plt.xlabel('Epochs')\n",
        "plt.ylabel('Loss')\n",
        "plt.legend()\n",
        "plt.xlim([1,epochs])\n",
        "plt.ylim([0,20])\n",
        "plt.show()\n",
        "plt.savefig(model_structure+'_'+data_set+'_'+'loss.png')"
      ],
      "execution_count": 19,
      "outputs": [
        {
          "output_type": "display_data",
          "data": {
            "image/png": "[encoded data removed]",
            "text/plain": [
              "<Figure size 432x288 with 1 Axes>"
            ]
          },
          "metadata": {
            "tags": []
          }
        },
        {
          "output_type": "display_data",
          "data": {
            "image/png": "[encoded data removed]",
            "text/plain": [
              "<Figure size 432x288 with 1 Axes>"
            ]
          },
          "metadata": {
            "tags": []
          }
        },
        {
          "output_type": "display_data",
          "data": {
            "text/plain": [
              "<Figure size 432x288 with 0 Axes>"
            ]
          },
          "metadata": {
            "tags": []
          }
        }
      ]
    },
    {
      "cell_type": "markdown",
      "metadata": {
        "id": "Zq7fmArk0bIN",
        "colab_type": "text"
      },
      "source": [
        "### 1.2.5 モデルによる予測\n",
        "\n",
        "精度だけ見ても面白くないので、検証用データの予測結果を見てみましょう。\n",
        "\n",
        "Sequential.predict関数によって予測を行うことができます。\n",
        "\n",
        "主な引数は次の通りです。\n",
        "\n",
        "* x_test：予測に使用する入力データ\n",
        "* batch_size：まとめて1度に予測を行うサンプル数\n",
        "* verbose：評価のログを出力するか（0:しない(デフォルト)、1：する）"
      ]
    },
    {
      "cell_type": "code",
      "metadata": {
        "id": "m7CJSTL50bIN",
        "colab_type": "code",
        "outputId": "29dd46b1-50c3-424d-eb64-37eb2c48633b",
        "colab": {
          "base_uri": "https://localhost:8080/",
          "height": 34
        }
      },
      "source": [
        "classes = model.predict(x_test, batch_size=128, verbose=1)"
      ],
      "execution_count": 20,
      "outputs": [
        {
          "output_type": "stream",
          "text": [
            "10000/10000 [==============================] - 0s 13us/sample\n"
          ],
          "name": "stdout"
        }
      ]
    },
    {
      "cell_type": "markdown",
      "metadata": {
        "id": "kx85EWpfW7Nz",
        "colab_type": "text"
      },
      "source": [
        "上記コマンドで検証用データ10000件の予測を実施しています。\n",
        "\n",
        "どのような結果が得られているかイメージしやすくするために、画像を1枚抽出して、その結果を実際に見てみます。\n",
        "\n",
        "なお、モデル構築の際に、いずれのモデルにおいても、出力層をDense(10)、Activation('softmax')としていました。\n",
        "\n",
        "これは、10クラス(Dense(10))に、それぞれの確からしさを出力(Activation('softmax'))する、という意味になります。\n",
        "\n",
        "softmaxでは、すべてのクラスの出力値の合計が1になります。そのため、この値が確からしさそのものを指し、最も値の大きいラベルが推論結果として採用することとなります。\n",
        "\n",
        "なお、前述(1.2.2)にてラベルの意味づけに言及していましたが、本サンプルでは、ここでラベルの数値をラベルの意味に変換させています。"
      ]
    },
    {
      "cell_type": "code",
      "metadata": {
        "id": "5sTY0plvOe-2",
        "colab_type": "code",
        "outputId": "68c8b250-1753-41c0-8410-35c12833c26f",
        "colab": {
          "base_uri": "https://localhost:8080/",
          "height": 304
        }
      },
      "source": [
        "# データセットの推論結果と元画像を確認\n",
        "# test_numを0～9999で指定してください\n",
        "%matplotlib inline\n",
        "test_num=1112\n",
        "test_img = np.squeeze(x_test[test_num])\n",
        "if not model_structure==\"CNN\":\n",
        "    test_img = np.squeeze(test_img.reshape(img_size, img_size, img_color).astype(np.float32))\n",
        "\n",
        "if data_set==\"MNIST\":\n",
        "    labels = np.array([0,1,2,3,4,5,6,7,8,9])\n",
        "else:\n",
        "    labels = np.array([\n",
        "        'airplane',\n",
        "        'automobile',\n",
        "        'bird',\n",
        "        'cat',\n",
        "        'deer',\n",
        "        'dog',\n",
        "        'frog',\n",
        "        'horse',\n",
        "        'ship',\n",
        "        'truck'])\n",
        "\n",
        "print(\"クラスごとの確からしさ(%)：\"+str(np.round(classes[test_num],decimals=2)*100))\n",
        "\n",
        "print(\"推論結果：\"+str(labels[classes[test_num].argmax()]))\n",
        "plt.imshow(test_img.astype(np.int),'gray')\n",
        "plt.show()"
      ],
      "execution_count": 21,
      "outputs": [
        {
          "output_type": "stream",
          "text": [
            "クラスごとの確からしさ(%)：[  0.   0.   0.   0. 100.   0.   0.   0.   0.   0.]\n",
            "推論結果：4\n"
          ],
          "name": "stdout"
        },
        {
          "output_type": "display_data",
          "data": {
            "image/png": "[encoded data removed]",
            "text/plain": [
              "<Figure size 432x288 with 1 Axes>"
            ]
          },
          "metadata": {
            "tags": []
          }
        }
      ]
    },
    {
      "cell_type": "markdown",
      "metadata": {
        "id": "_B2-3A2nVfuj",
        "colab_type": "text"
      },
      "source": [
        "正しく予測されていたでしょうか？\n",
        "\n",
        "さらに進んで、検証用データにも存在しない画像で推論させてみましょう。\n",
        "\n",
        "手書き画像(MNISTの場合)や、Web検索で画像を取得し、Google Colabにアップロードしてみましょう。\n",
        "\n",
        "私が用意したサンプルデータも用意しておきます。"
      ]
    },
    {
      "cell_type": "code",
      "metadata": {
        "id": "oZ8gMryWuxfh",
        "colab_type": "code",
        "outputId": "633a94e5-a99b-4a75-80a7-0d00518f84b7",
        "colab": {
          "base_uri": "https://localhost:8080/",
          "height": 434
        }
      },
      "source": [
        "# サンプルデータのダウンロード\n",
        "!wget https://raw.githubusercontent.com/scpepper69/ml-learning-materials/master/sample/images001.zip\n",
        "!unzip images001.zip -d sample"
      ],
      "execution_count": 22,
      "outputs": [
        {
          "output_type": "stream",
          "text": [
            "--2019-06-25 09:57:27--  https://raw.githubusercontent.com/scpepper69/ml-learning-materials/master/sample/images001.zip\n",
            "Resolving raw.githubusercontent.com (raw.githubusercontent.com)... 151.101.0.133, 151.101.64.133, 151.101.128.133, ...\n",
            "Connecting to raw.githubusercontent.com (raw.githubusercontent.com)|151.101.0.133|:443... connected.\n",
            "HTTP request sent, awaiting response... 200 OK\n",
            "Length: 1230178 (1.2M) [application/zip]\n",
            "Saving to: ‘images001.zip’\n",
            "\n",
            "\rimages001.zip         0%[                    ]       0  --.-KB/s               \rimages001.zip       100%[===================>]   1.17M  --.-KB/s    in 0.07s   \n",
            "\n",
            "2019-06-25 09:57:27 (16.1 MB/s) - ‘images001.zip’ saved [1230178/1230178]\n",
            "\n",
            "Archive:  images001.zip\n",
            "  inflating: sample/airplane001.png  \n",
            "  inflating: sample/car001.png       \n",
            "  inflating: sample/eight001.png     \n",
            "  inflating: sample/five001.png      \n",
            "  inflating: sample/four001.png      \n",
            "  inflating: sample/nine001.png      \n",
            "  inflating: sample/one001.png       \n",
            "  inflating: sample/seven001.png     \n",
            "  inflating: sample/six001.png       \n",
            "  inflating: sample/three001.png     \n",
            "  inflating: sample/two001.png       \n",
            "  inflating: sample/zero001.png      \n"
          ],
          "name": "stdout"
        }
      ]
    },
    {
      "cell_type": "markdown",
      "metadata": {
        "id": "E7ITflj5bE2t",
        "colab_type": "text"
      },
      "source": [
        "ファイルをアップロードし終えたら、ファイル名を指定して推論してみましょう。\n",
        "\n",
        "img_path変数にアップロードしたファイル名を指定し、実行してみてください。\n",
        "\n",
        "こちらも正しい結果が得られたでしょうか。"
      ]
    },
    {
      "cell_type": "code",
      "metadata": {
        "id": "uDEx3_iRNpGK",
        "colab_type": "code",
        "outputId": "507fd3ff-046e-4bc0-88ef-b8814feaa22b",
        "colab": {
          "base_uri": "https://localhost:8080/",
          "height": 338
        }
      },
      "source": [
        "import cv2\n",
        "    \n",
        "# Google Colabにファイルをアップロード\n",
        "# アップロードしたファイルを指定\n",
        "img_path=\"./sample/three001.png\"\n",
        "\n",
        "if data_set==\"MNIST\":\n",
        "    img = cv2.imread(img_path,cv2.IMREAD_GRAYSCALE)\n",
        "    img = 255 - img #白黒反転\n",
        "    plt.imshow(img, 'gray')\n",
        "else:\n",
        "    img = cv2.imread(img_path,cv2.IMREAD_COLOR)\n",
        "    img = cv2.cvtColor(img, cv2.COLOR_BGR2RGB)    \n",
        "    plt.imshow(img)\n",
        "\n",
        "    \n",
        "img = cv2.resize(img, dsize=(img_size,img_size)) # 28 x 28にサイズ変更\n",
        "img = img.astype(np.float32)\n",
        "print(img.size)\n",
        "\n",
        "if model_structure==\"CNN\":\n",
        "    img = img.reshape(1, img_size, img_size ,img_color) # 2次元から4次元に変換\n",
        "else:    \n",
        "    img = img.reshape(1, img_size*img_size*img_color).astype(np.float32)\n",
        "\n",
        "pred = model.predict(img,verbose=1)\n",
        "\n",
        "# 推論処理\n",
        "print(\"クラスごとの確からしさ(%)：\"+str(np.round(pred,decimals=2)*100))\n",
        "print(\"推論結果：\"+str(labels[pred.argmax()]))"
      ],
      "execution_count": 29,
      "outputs": [
        {
          "output_type": "stream",
          "text": [
            "784\n",
            "\r1/1 [==============================] - 0s 2ms/sample\n",
            "クラスごとの確からしさ(%)：[[  0.   0.   0. 100.   0.   0.   0.   0.   0.   0.]]\n",
            "推論結果：3\n"
          ],
          "name": "stdout"
        },
        {
          "output_type": "display_data",
          "data": {
            "image/png": "[encoded data removed]",
            "text/plain": [
              "<Figure size 432x288 with 1 Axes>"
            ]
          },
          "metadata": {
            "tags": []
          }
        }
      ]
    },
    {
      "cell_type": "markdown",
      "metadata": {
        "id": "pQ4aUVfFVYfE",
        "colab_type": "text"
      },
      "source": [
        "予測精度の最終確認として、Confusion Matrixを表示してみます。\n",
        "\n",
        "X軸とY軸が一致する箇所に集中していれば(要するに左上から右下に斜めに赤くなっている)、精度の良いモデルと言えるでしょう。"
      ]
    },
    {
      "cell_type": "code",
      "metadata": {
        "id": "BIOawSjjUl0y",
        "colab_type": "code",
        "outputId": "1cccbb04-2cc2-4c13-96cc-6b3016601950",
        "colab": {
          "base_uri": "https://localhost:8080/",
          "height": 432
        }
      },
      "source": [
        "import pandas as pd\n",
        "import seaborn as sns\n",
        "from sklearn.metrics import confusion_matrix\n",
        "from sklearn.metrics import classification_report\n",
        "\n",
        "#print(classification_report(np.argmax(y_test, 1), np.argmax(classes, 1)))\n",
        "#print(confusion_matrix(np.argmax(y_test, 1), np.argmax(classes, 1)))\n",
        "\n",
        "cmatrix = confusion_matrix(np.argmax(y_test, 1), np.argmax(classes, 1))\n",
        "cmatrix_plt = pd.DataFrame(cmatrix, index=labels, columns=labels)\n",
        "\n",
        "plt.figure(figsize = (10,7))\n",
        "sns.heatmap(cmatrix_plt, annot=True, cmap=\"Reds\", fmt=\"d\")\n",
        "plt.show()"
      ],
      "execution_count": 24,
      "outputs": [
        {
          "output_type": "display_data",
          "data": {
            "image/png": "[encoded data removed]",
            "text/plain": [
              "<Figure size 720x504 with 2 Axes>"
            ]
          },
          "metadata": {
            "tags": []
          }
        }
      ]
    },
    {
      "cell_type": "markdown",
      "metadata": {
        "id": "D8ZcKoTgbbCf",
        "colab_type": "text"
      },
      "source": [
        "### 1.2.6 中間層データの可視化\n",
        "\n",
        "ここまでで、データを準備し、モデルを構築し、学習、推論させることができました。\n",
        "\n",
        "どのように実装し、どのように使うのか、簡単にイメージすることができたのではないでしょうか。\n",
        "\n",
        "この項では、モデルがどのように動きているか理解を深めるために、中間層のデータを見てみます。\n",
        "\n",
        "ただ、MLPでは1次元に変換してしまっているので、見てもよくわからないかもしれませんが。"
      ]
    },
    {
      "cell_type": "code",
      "metadata": {
        "id": "lVxresNopyLM",
        "colab_type": "code",
        "outputId": "1d27bbaa-efe5-4c2b-faa3-4f19d2e14822",
        "colab": {
          "base_uri": "https://localhost:8080/",
          "height": 501
        }
      },
      "source": [
        "from tensorflow.keras import backend as K\n",
        "import matplotlib.pyplot as plt\n",
        "from PIL import Image\n",
        "\n",
        "# 中間層の特徴マップを出力する\n",
        "def middle_layer_output(numlay, INPDATA):\n",
        "    get_layer = K.function([model.layers[0].input], [model.layers[numlay].output])\n",
        "    # InputLayerは除外(VGG16転移学習)\n",
        "    # print(str(model.layers[numlay].__class__.__name__))\n",
        "    if str(model.layers[numlay].__class__.__name__) == \"InputLayer\":\n",
        "        return\n",
        "    layer_name = model.layers[numlay].name\n",
        "    layer_output_comp = get_layer([INPDATA])[0]\n",
        "    if layer_output_comp.ndim == 4:\n",
        "        dim_n = layer_output_comp.shape[0]\n",
        "        dim_x = layer_output_comp.shape[1]\n",
        "        dim_y = layer_output_comp.shape[2]\n",
        "        dim_z = layer_output_comp.shape[3]\n",
        "    else:\n",
        "        dim_n = layer_output_comp.shape[0]\n",
        "        dim_z = layer_output_comp.shape[1]\n",
        "\n",
        "    #中間層の出力を図化する\n",
        "    plt.figure(figsize=(16,512))\n",
        "    for num_pic in range(dim_n):\n",
        "        if layer_output_comp.ndim == 4:\n",
        "            for num_map in range(dim_z):\n",
        "                img = layer_output_comp[num_pic, :, :, num_map]\n",
        "                img = Image.fromarray(np.uint8(img))\n",
        "                plt.subplot(128,8,num_map+1)\n",
        "                plt.axis('off')\n",
        "                plt.title(str(layer_name+':'+str(num_map+1)))\n",
        "                plt.imshow(img, cmap='gray')\n",
        "#                plt.imshow(img)\n",
        "    \n",
        "        else:\n",
        "            dims = int(len(layer_output_comp[0]))\n",
        "            img = layer_output_comp[num_pic, :]\n",
        "            img = img.reshape(1,dims).astype(np.float32)\n",
        "            plt.axis('off')\n",
        "            plt.title(str(layer_name))\n",
        "            plt.imshow(img, cmap='gray')\n",
        "#            plt.imshow(img)\n",
        "\n",
        "# レイヤーごとの特徴マップの出力\n",
        "for layers in range(len(model.layers)):\n",
        "    middle_layer_output(layers, img)"
      ],
      "execution_count": 25,
      "outputs": [
        {
          "output_type": "display_data",
          "data": {
            "image/png": "[encoded data removed]",
            "text/plain": [
              "<Figure size 1152x36864 with 1 Axes>"
            ]
          },
          "metadata": {
            "tags": []
          }
        },
        {
          "output_type": "display_data",
          "data": {
            "image/png": "[encoded data removed]",
            "text/plain": [
              "<Figure size 1152x36864 with 1 Axes>"
            ]
          },
          "metadata": {
            "tags": []
          }
        },
        {
          "output_type": "display_data",
          "data": {
            "image/png": "[encoded data removed]",
            "text/plain": [
              "<Figure size 1152x36864 with 1 Axes>"
            ]
          },
          "metadata": {
            "tags": []
          }
        },
        {
          "output_type": "display_data",
          "data": {
            "image/png": "[encoded data removed]",
            "text/plain": [
              "<Figure size 1152x36864 with 1 Axes>"
            ]
          },
          "metadata": {
            "tags": []
          }
        },
        {
          "output_type": "display_data",
          "data": {
            "image/png": "[encoded data removed]",
            "text/plain": [
              "<Figure size 1152x36864 with 1 Axes>"
            ]
          },
          "metadata": {
            "tags": []
          }
        },
        {
          "output_type": "display_data",
          "data": {
            "image/png": "[encoded data removed]",
            "text/plain": [
              "<Figure size 1152x36864 with 1 Axes>"
            ]
          },
          "metadata": {
            "tags": []
          }
        }
      ]
    },
    {
      "cell_type": "markdown",
      "metadata": {
        "id": "q26KDv1Icumj",
        "colab_type": "text"
      },
      "source": [
        "CNNでは、画像の形式で扱っているので、ConvolutionおよびMaxPoolingにおいてはINPUT画像の変化が見て取れます。\n",
        "\n",
        "直感的に理解できるものではありませんが、特徴量をどのように捉え推論しているか、理解の一助にはなるかと思います。\n",
        "\n",
        "なお、Deep Learningモデルにおいては、INPUTに対する最終的なOUTPUTだけでなく、中間層のOUTPUTを自由に取得することができるという点も非常に重要な特性であることは覚えておいてください。\n",
        "\n",
        "また、OUTPUTの観点だけでなく、INPUTも同様で、中間層にINPUTし、OUTPUTを得ることもできます。\n",
        "\n",
        "シーケンシャルなモデル構造でなく、複雑なモデルを構築していくにあたって重要な特性です。\n"
      ]
    },
    {
      "cell_type": "markdown",
      "metadata": {
        "id": "iIXwHVGJ0bIP",
        "colab_type": "text"
      },
      "source": [
        "参考までに、jupyter notebook上でモデル構造など可視化させてきましたが、TensorBoardでもどのように見えるのか試してみましょう。\n",
        "\n",
        "Google Colabでは、直接HTTPアクセスはできないので、ngrokを用いて参照させます。\n",
        "\n",
        "下記コード実行後し、出力されるURLにアクセスしてみましょう。"
      ]
    },
    {
      "cell_type": "code",
      "metadata": {
        "id": "Pyx_anHq0bIQ",
        "colab_type": "code",
        "outputId": "e1dbd181-bd29-4064-9fb1-617c11712ada",
        "colab": {
          "base_uri": "https://localhost:8080/",
          "height": 260
        }
      },
      "source": [
        "# Web参照のため、ngrokを利用\n",
        "if not os.path.exists('./ngrok'):\n",
        "    !wget https://bin.equinox.io/c/4VmDzA7iaHb/ngrok-stable-linux-amd64.zip\n",
        "    !unzip ngrok-stable-linux-amd64.zip\n",
        "\n",
        "# TensorBoardおよびngrokの起動\n",
        "import subprocess\n",
        "cmd = \"tensorboard --logdir=./logs --host 0.0.0.0 --port 6006 &\"\n",
        "proc_tb = subprocess.call(cmd, shell=True)\n",
        "\n",
        "cmd = \"./ngrok http 6006 &\"\n",
        "proc_ng = subprocess.call(cmd, shell=True)\n",
        "\n",
        "# TensorBoard URL\n",
        "!curl -s http://localhost:4040/api/tunnels | python -c \"import sys, json; print(json.load(sys.stdin)['tunnels'][0]['public_url'])\""
      ],
      "execution_count": 26,
      "outputs": [
        {
          "output_type": "stream",
          "text": [
            "--2019-06-25 09:58:13--  https://bin.equinox.io/c/4VmDzA7iaHb/ngrok-stable-linux-amd64.zip\n",
            "Resolving bin.equinox.io (bin.equinox.io)... 34.206.9.96, 52.203.53.176, 34.226.180.131, ...\n",
            "Connecting to bin.equinox.io (bin.equinox.io)|34.206.9.96|:443... connected.\n",
            "HTTP request sent, awaiting response... 200 OK\n",
            "Length: 17556757 (17M) [application/octet-stream]\n",
            "Saving to: ‘ngrok-stable-linux-amd64.zip’\n",
            "\n",
            "\r          ngrok-sta   0%[                    ]       0  --.-KB/s               \rngrok-stable-linux- 100%[===================>]  16.74M  90.6MB/s    in 0.2s    \n",
            "\n",
            "2019-06-25 09:58:14 (90.6 MB/s) - ‘ngrok-stable-linux-amd64.zip’ saved [17556757/17556757]\n",
            "\n",
            "Archive:  ngrok-stable-linux-amd64.zip\n",
            "  inflating: ngrok                   \n",
            "http://533b0551.ngrok.io\n"
          ],
          "name": "stdout"
        }
      ]
    },
    {
      "cell_type": "code",
      "metadata": {
        "id": "nH37JEOU0bIU",
        "colab_type": "code",
        "colab": {}
      },
      "source": [
        "# TensorBoardプロセスの停止\n",
        "#!ps -ef | grep tensorboard | grep -v grep | awk '{print \"kill -9\",$2}'| sh\n",
        "\n",
        "# ngrokプロセスの停止\n",
        "#!ps -ef | grep ngrok | grep -v grep | awk '{print \"kill -9\",$2}'| sh\n",
        "!mkdir model"
      ],
      "execution_count": 0,
      "outputs": []
    },
    {
      "cell_type": "markdown",
      "metadata": {
        "id": "sqbPWg1mfbA3",
        "colab_type": "text"
      },
      "source": [
        "### 1.2.7 モデルのファイル出力\n",
        "\n",
        "学習させたモデルを出力し、静的学習済みモデルとして外部で活用することもできます。\n",
        "\n",
        "ここでは、活用の汎用性を考えてTensorFlowのプロトコルバッファ形式にて出力してみます。\n",
        "\n",
        "静的学習済みモデルは、プログラムで読み込んで使うことも、GraphPipeやTensorFlow Serving等のモデルサーバーを用いてAPI化して利用することもできます。\n",
        "\n",
        "Google ColabではDockerを扱うことができないので、ローカルPCやクラウド環境等で試してみてください。"
      ]
    },
    {
      "cell_type": "code",
      "metadata": {
        "id": "_tcWm1vmlVvA",
        "colab_type": "code",
        "outputId": "23f6a329-fa08-469d-e99d-d987a5de8d99",
        "colab": {
          "base_uri": "https://localhost:8080/",
          "height": 211
        }
      },
      "source": [
        "from tensorflow.python.framework import graph_util\n",
        "from tensorflow.python.framework import graph_io\n",
        "from tensorflow import identity\n",
        "\n",
        "# 学習セッションからグラフを復元\n",
        "ksess = K.get_session()\n",
        "graph = ksess.graph\n",
        "kgraph = graph.as_graph_def()\n",
        "\n",
        "# Outputノード名を取得\n",
        "num_output = 1\n",
        "prefix = \"output\"\n",
        "pred = [None]*num_output\n",
        "outputName = [None]*num_output\n",
        "for i in range(num_output):\n",
        "    outputName[i] = prefix + str(i)\n",
        "    pred[i] = identity(model.get_output_at(i), name=outputName[i])\n",
        "print('output name: ', outputName)\n",
        "\n",
        "# 変数を定数に変換\n",
        "constant_graph = graph_util.convert_variables_to_constants(ksess, ksess.graph.as_graph_def(), outputName)\n",
        "\n",
        "output_dir = model_dir\n",
        "output_graph_name = f\"{model_structure}_{data_set}_{epochs}_frozen_graph.pb\"\n",
        "\n",
        "# 静的学習済みモデルを出力\n",
        "graph_io.write_graph(constant_graph, output_dir, output_graph_name, as_text=False)\n"
      ],
      "execution_count": 28,
      "outputs": [
        {
          "output_type": "stream",
          "text": [
            "output name:  ['output0']\n",
            "WARNING:tensorflow:From <ipython-input-28-9ab09f81b1e7>:21: convert_variables_to_constants (from tensorflow.python.framework.graph_util_impl) is deprecated and will be removed in a future version.\n",
            "Instructions for updating:\n",
            "Use tf.compat.v1.graph_util.convert_variables_to_constants\n",
            "WARNING:tensorflow:From /usr/local/lib/python3.6/dist-packages/tensorflow/python/framework/graph_util_impl.py:245: extract_sub_graph (from tensorflow.python.framework.graph_util_impl) is deprecated and will be removed in a future version.\n",
            "Instructions for updating:\n",
            "Use tf.compat.v1.graph_util.extract_sub_graph\n",
            "INFO:tensorflow:Froze 6 variables.\n",
            "INFO:tensorflow:Converted 6 variables to const ops.\n"
          ],
          "name": "stdout"
        },
        {
          "output_type": "execute_result",
          "data": {
            "text/plain": [
              "'/content/drive/My Drive/Colab Notebooks/ImageClassification/model/MLP_MNIST_10_frozen_graph.pb'"
            ]
          },
          "metadata": {
            "tags": []
          },
          "execution_count": 28
        }
      ]
    }
  ]
}