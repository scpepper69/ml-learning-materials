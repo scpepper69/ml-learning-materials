{
  "nbformat": 4,
  "nbformat_minor": 0,
  "metadata": {
    "colab": {
      "name": "TensorFlow_Keras_ImageClassificatioin_02.ipynb",
      "version": "0.3.2",
      "provenance": [],
      "toc_visible": true,
      "include_colab_link": true
    },
    "language_info": {
      "codemirror_mode": {
        "name": "ipython",
        "version": 3
      },
      "file_extension": ".py",
      "mimetype": "text/x-python",
      "name": "python",
      "nbconvert_exporter": "python",
      "pygments_lexer": "ipython3",
      "version": "3.6.6"
    },
    "kernelspec": {
      "name": "python3",
      "display_name": "Python 3"
    },
    "accelerator": "GPU"
  },
  "cells": [
    {
      "cell_type": "markdown",
      "metadata": {
        "id": "view-in-github",
        "colab_type": "text"
      },
      "source": [
        "<a href=\"https://colab.research.google.com/github/scpepper69/ml-learning-materials/blob/master/TensorFlow_Keras_ImageClassificatioin_02_draft.ipynb\" target=\"_parent\"><img src=\"https://colab.research.google.com/assets/colab-badge.svg\" alt=\"Open In Colab\"/></a>"
      ]
    },
    {
      "cell_type": "markdown",
      "metadata": {
        "id": "bYOnZhT30bGu",
        "colab_type": "text"
      },
      "source": [
        "# AI・機械学習 勉強会 #2\n",
        "## - オリジナル画像による画像分類モデルの構築 -\n"
      ]
    },
    {
      "cell_type": "markdown",
      "metadata": {
        "id": "nRUBscIZP3DA",
        "colab_type": "text"
      },
      "source": [
        "## 目次\n",
        "\n",
        "  \n",
        "2.1.   概要\n",
        "\n",
        "2.2.   実装プロセス\n",
        "\n",
        "1.   画像データの収集\n",
        "2.   環境準備\n",
        "3.   学習に向けたデータの準備\n",
        "4.   モデル構築\n",
        "5.   モデルの学習\n",
        "6.   モデルによる予測\n",
        "7.   モデルのファイル出力\n",
        "\n",
        "\n",
        "\n",
        "\n",
        "\n"
      ]
    },
    {
      "cell_type": "markdown",
      "metadata": {
        "id": "aNaQV4x5qxii",
        "colab_type": "text"
      },
      "source": [
        "\n",
        "\n",
        "---\n",
        "\n",
        "\n",
        "\n",
        "##2.1 概要\n",
        "「TensorFlow_Keras_ImageClassification_01」をベースとして、自分で収集した画像ファイルを用いて画像分類モデルを構築します。\n",
        "\n"
      ]
    },
    {
      "cell_type": "markdown",
      "metadata": {
        "id": "J2n0HLjd0bG3",
        "colab_type": "text"
      },
      "source": [
        "\n",
        "\n",
        "---\n",
        "\n",
        "\n",
        "\n",
        "## 2.2 実装プロセス"
      ]
    },
    {
      "cell_type": "markdown",
      "metadata": {
        "id": "HVNVVU2o0bG5",
        "colab_type": "text"
      },
      "source": [
        "画像データの準備は本ノートブック上では行えませんので、各自のPCにて実施します。\n",
        "\n",
        "各自のPCにて集めた画像(jpg形式を想定)データを用いて、学習を行います。\n",
        "\n",
        "データ準備以降のステップについては、「TensorFlow_Keras_ImageClassification_01」と基本的には同じです。\n"
      ]
    },
    {
      "cell_type": "markdown",
      "metadata": {
        "id": "juCkIfgekUSE",
        "colab_type": "text"
      },
      "source": [
        "###2.2.1 画像データの収集\n",
        "\n",
        "まずは、画像分類を行いたい画像を集めましょう。Webからスクレイピングするのも良し、自分で写真を撮って集めるのも良いです。\n",
        "\n",
        "Deep Learningにおいては、データの量が重要だと良く言われます。\n",
        "\n",
        "ただ、大量のデータといっても、品質が伴っていないと意味がありません。\n",
        "\n",
        "たとえば、判断不能なデータをラベリングし、学習させてしまっては、間違いを教えていることと同義になってしまいます。\n",
        "\n",
        "また、データは大量に用意できても、バリエーションに乏しければ、モデルの汎化性能は高くなりません。\n",
        "\n",
        "どのような画像が使えるのか、使えないのか、を知ることも精度の高いモデル構築に必要な知識です。\n",
        "\n",
        "かなり地味な作業となりますが、是非トライしてみてください。\n"
      ]
    },
    {
      "cell_type": "markdown",
      "metadata": {
        "id": "mDMe26ba_Bfs",
        "colab_type": "text"
      },
      "source": [
        "スクレイピングの方法はいくらでもありますが、Python使いであれば、下記が使いやすいので紹介しておきます。\n",
        "\n",
        "[Google Image Download](https://google-images-download.readthedocs.io/en/latest/index.html)\n",
        "\n",
        "こちらは[GitHub](https://github.com/hardikvasa/google-images-download)でソースも公開されています。\n",
        "\n",
        "Googleの画像検索から、指定したキーワードの結果を取得してくれます。\n",
        "\n",
        "本ノートブックで使うサンプルもこちらを用いて収集しました。\n"
      ]
    },
    {
      "cell_type": "markdown",
      "metadata": {
        "id": "AhfqR_vAk_GO",
        "colab_type": "text"
      },
      "source": [
        "本ノートブックでは、３クラス分類、64 x 64 のカラーの各クラス40枚(合計120枚)のサンプル画像をもとにソースコードを記載しています。\n",
        "\n",
        "各自準備したデータに応じて実装内容を調整してください。\n",
        "\n",
        "※サンプルデータでは、すべてのファイルを64 x 64に調整済みですが、コーディングにてreshapeする形でも問題ありません。\n"
      ]
    },
    {
      "cell_type": "code",
      "metadata": {
        "id": "czcjbvDBl82U",
        "colab_type": "code",
        "colab": {}
      },
      "source": [
        "# 分類クラス数\n",
        "num_classes = 3\n",
        "\n",
        "# クラス毎の画像ファイル数\n",
        "num_images = 40\n",
        "\n",
        "# 画像のサイズ\n",
        "height, width, color = 64, 64, 3"
      ],
      "execution_count": 0,
      "outputs": []
    },
    {
      "cell_type": "markdown",
      "metadata": {
        "id": "kfinbX-8rfFr",
        "colab_type": "text"
      },
      "source": [
        "### 2.2.2 環境準備\n",
        "\n",
        "モデル構造は、前回のノートブックと同様のシンプルなCNN、VGG16、RESNETv1/v2を用意しています。\n",
        "\n",
        "自力でデータ収集するとなると、それほど多くの画像ファイルは期待できないと思います。\n",
        "\n",
        "少量のデータの場合に、モデル構造によってどのような違いが出るのか比較するもの良いかと思います。\n"
      ]
    },
    {
      "cell_type": "code",
      "metadata": {
        "id": "8b5TKT0SrZVa",
        "colab_type": "code",
        "colab": {}
      },
      "source": [
        "# モデル構造を指定 (CNN, VGG16, RESNET1 or RESNET2)\n",
        "model_opt=\"RESNET2\""
      ],
      "execution_count": 0,
      "outputs": []
    },
    {
      "cell_type": "markdown",
      "metadata": {
        "id": "UZaJgfxvyLAy",
        "colab_type": "text"
      },
      "source": [
        "Google Colabratoryは、ランタイムが初期化されるとデータも失われます。\n",
        "\n",
        "学習した中のチェックポイントが学習済みモデルを再利用できるよう、Google Driveをマウントし、ここに出力できるようしておきましょう。"
      ]
    },
    {
      "cell_type": "code",
      "metadata": {
        "id": "bf6gYTI1xt0n",
        "colab_type": "code",
        "colab": {
          "base_uri": "https://localhost:8080/",
          "height": 122
        },
        "outputId": "49f44ba0-a324-47dc-dc84-ceb34ae21a27"
      },
      "source": [
        "import os, shutil\n",
        "from google.colab import drive\n",
        "drive.mount('/content/drive/')\n",
        "gdrive_base='/content/drive/My Drive/Colab Notebooks/'\n",
        "\n",
        "# TensorBorad用ログ\n",
        "log_dir=gdrive_base+'ImageClassification/logs/'\n",
        "if not os.path.exists(log_dir):\n",
        "    os.makedirs(log_dir)\n",
        "\n",
        "# チェックポイントおよび学習済みモデルファイル\n",
        "model_dir=gdrive_base+'ImageClassification/model/'\n",
        "if not os.path.exists(model_dir):\n",
        "    os.makedirs(model_dir)\n",
        "    "
      ],
      "execution_count": 3,
      "outputs": [
        {
          "output_type": "stream",
          "text": [
            "Go to this URL in a browser: https://accounts.google.com/o/oauth2/auth?client_id=947318989803-6bn6qk8qdgf4n4g3pfee6491hc0brc4i.apps.googleusercontent.com&redirect_uri=urn%3Aietf%3Awg%3Aoauth%3A2.0%3Aoob&scope=email%20https%3A%2F%2Fwww.googleapis.com%2Fauth%2Fdocs.test%20https%3A%2F%2Fwww.googleapis.com%2Fauth%2Fdrive%20https%3A%2F%2Fwww.googleapis.com%2Fauth%2Fdrive.photos.readonly%20https%3A%2F%2Fwww.googleapis.com%2Fauth%2Fpeopleapi.readonly&response_type=code\n",
            "\n",
            "Enter your authorization code:\n",
            "··········\n",
            "Mounted at /content/drive/\n"
          ],
          "name": "stdout"
        }
      ]
    },
    {
      "cell_type": "markdown",
      "metadata": {
        "id": "CFKVp80t0bG8",
        "colab_type": "text"
      },
      "source": [
        "### 2.2.3 学習に向けたデータの準備\n",
        "\n",
        "\n",
        "\n"
      ]
    },
    {
      "cell_type": "markdown",
      "metadata": {
        "id": "94oYsnmpjFNI",
        "colab_type": "text"
      },
      "source": [
        "収集した画像データをアップロードし、学習に使えるデータに変換していきます。\n",
        "\n",
        "全データを格納するための空のテンソルを準備します。\n",
        "\n",
        "テンソルは以下の５要素になります。\n",
        "\n",
        "- クラス番号(0～)\n",
        "- クラスごとのファイル番号(0～)\n",
        "- 画像のHeight\n",
        "- 画像のWidth\n",
        "- 画像のRBG"
      ]
    },
    {
      "cell_type": "code",
      "metadata": {
        "id": "_0t_rwbYO9kT",
        "colab_type": "code",
        "colab": {}
      },
      "source": [
        "import numpy as np\n",
        "import os\n",
        "import cv2\n",
        "from glob import glob\n",
        "\n",
        "# 空のテンソルを用意\n",
        "ary = np.zeros([num_classes, num_images, height, width, color], dtype=np.int)"
      ],
      "execution_count": 0,
      "outputs": []
    },
    {
      "cell_type": "markdown",
      "metadata": {
        "id": "zplsWRSw_xAV",
        "colab_type": "text"
      },
      "source": [
        "画像ファイルをGoogle Colabにアップロードし、１枚ずつ読み込み、テンソルに格納していきます。\n",
        "\n",
        "サンプルデータでは、ファイル名にてクラスを判別し、テンソルの１要素目(=クラス)を指定し、データを格納させています。\n",
        "\n",
        "Numpyには、テンソルデータを保存させておく機能があります。\n",
        "\n",
        "savez_compressed関数を使用し、作成したテンソルデータを再利用可能なようにファイル出力しておきましょう。"
      ]
    },
    {
      "cell_type": "code",
      "metadata": {
        "id": "gERS_nJSQVRR",
        "colab_type": "code",
        "outputId": "aaef55f1-e758-423f-d0ca-f5b9015552b7",
        "colab": {
          "base_uri": "https://localhost:8080/",
          "height": 204
        }
      },
      "source": [
        "# 学習データのアップロード\n",
        "# ここではサンプルデータをGitHubから取得していますが、適宜zip形式などでGoogle Colabにアップロードしてください。\n",
        "!wget -nc https://raw.githubusercontent.com/scpepper69/ml-learning-materials/master/sample/gface_images.zip\n",
        "!unzip -oq gface_images.zip\n",
        "\n",
        "dir_name='gface_images'\n",
        "\n",
        "c0=0 # rx-178:mk2\n",
        "c1=0 # msz-006:Z\n",
        "c2=0 # rx-93:Nu\n",
        "\n",
        "# 画像を順次読み込み、テンソルデータに変換\n",
        "for file in glob(dir_name + '/*.jpg'):\n",
        "    img = cv2.imread(file,cv2.IMREAD_COLOR)\n",
        "    img = cv2.cvtColor(img, cv2.COLOR_BGR2RGB)\n",
        "    if 'rx-178' in file:\n",
        "        ary[0, c0] = img\n",
        "        c0 += 1\n",
        "    elif 'msz-006' in file:\n",
        "        ary[1, c1] = img\n",
        "        c1 += 1\n",
        "    elif 'rx-93' in file:\n",
        "        ary[2, c2] = img\n",
        "        c2 += 1\n",
        "\n",
        "np.savez_compressed('gface_images.npz', ary)"
      ],
      "execution_count": 5,
      "outputs": [
        {
          "output_type": "stream",
          "text": [
            "--2019-07-12 06:58:08--  https://raw.githubusercontent.com/scpepper69/ml-learning-materials/master/sample/gface_images.zip\n",
            "Resolving raw.githubusercontent.com (raw.githubusercontent.com)... 151.101.0.133, 151.101.64.133, 151.101.128.133, ...\n",
            "Connecting to raw.githubusercontent.com (raw.githubusercontent.com)|151.101.0.133|:443... connected.\n",
            "HTTP request sent, awaiting response... 200 OK\n",
            "Length: 432372 (422K) [application/zip]\n",
            "Saving to: ‘gface_images.zip’\n",
            "\n",
            "\rgface_images.zip      0%[                    ]       0  --.-KB/s               \rgface_images.zip    100%[===================>] 422.24K  --.-KB/s    in 0.05s   \n",
            "\n",
            "2019-07-12 06:58:08 (8.26 MB/s) - ‘gface_images.zip’ saved [432372/432372]\n",
            "\n"
          ],
          "name": "stdout"
        }
      ]
    },
    {
      "cell_type": "markdown",
      "metadata": {
        "id": "ySt5HvoHBVAn",
        "colab_type": "text"
      },
      "source": [
        "ここまでで、収集データを１つのテンソルに纏めることができました。\n",
        "\n",
        "次に、このテンソルをもとに、画像データ用テンソルと、ラベル用テンソルを作成します。\n",
        "\n"
      ]
    },
    {
      "cell_type": "code",
      "metadata": {
        "id": "HGkHthXETusA",
        "colab_type": "code",
        "colab": {}
      },
      "source": [
        "#保存したnpzファイルはnp.loadにて読み込むことができます\n",
        "#ary = np.load(\"gface_images.npz\")['arr_0']\n",
        "\n",
        "# 画像データのテンソルをソートし、ラベル用テンソルを用意\n",
        "X_train = np.zeros([num_classes * num_images, height, width, color], dtype=np.int)\n",
        "for i in range(num_classes):\n",
        "    for j in range(num_images):\n",
        "        X_train[(i * num_images) + j] = ary[i][j]\n",
        "\n",
        "# X_trainはクラス番号でソートされて格納されているので、下記だけでラベルデータが生成できる\n",
        "Y_train = np.repeat(np.arange(num_classes), num_images)"
      ],
      "execution_count": 0,
      "outputs": []
    },
    {
      "cell_type": "markdown",
      "metadata": {
        "id": "0SnbE2e-DBZH",
        "colab_type": "text"
      },
      "source": [
        "Deep Learningには、学習データと検証データの２種類のデータが必要です。\n",
        "\n",
        "sklearnには、データを指定の割合で分割してくれる関数があります。これを利用して学習データと検証データに分割します。\n"
      ]
    },
    {
      "cell_type": "code",
      "metadata": {
        "id": "70olgK22Cw8g",
        "colab_type": "code",
        "outputId": "a636d6fd-596e-4505-cb30-5562b6f65f0e",
        "colab": {
          "base_uri": "https://localhost:8080/",
          "height": 51
        }
      },
      "source": [
        "from sklearn.model_selection import train_test_split\n",
        "\n",
        "# 検証データの割合を指定\n",
        "validate_rate=0.2\n",
        "\n",
        "# 学習データと検証データに分割\n",
        "x_train, x_test, y_train, y_test = train_test_split(X_train, Y_train, test_size=validate_rate)\n",
        "\n",
        "print(x_train.shape)\n",
        "print(x_test.shape)"
      ],
      "execution_count": 7,
      "outputs": [
        {
          "output_type": "stream",
          "text": [
            "(96, 64, 64, 3)\n",
            "(24, 64, 64, 3)\n"
          ],
          "name": "stdout"
        }
      ]
    },
    {
      "cell_type": "markdown",
      "metadata": {
        "id": "M3pSTYqA0bHI",
        "colab_type": "text"
      },
      "source": [
        "学習用画像データと画像に対応したラベルを表示してみます。\n",
        "\n",
        "画像表示には、matplotlibライブラリを用います。これはPythonにてグラフ表示によく使われるライブラリなので、使用方法は覚えておくと良いです。\n",
        "\n",
        "参考：https://matplotlib.org/api/pyplot_api.html\n"
      ]
    },
    {
      "cell_type": "code",
      "metadata": {
        "id": "T-XaTkOc0bHL",
        "colab_type": "code",
        "outputId": "e741043f-d595-404c-e9e1-8c15319e8c69",
        "colab": {
          "base_uri": "https://localhost:8080/",
          "height": 112
        }
      },
      "source": [
        "#jupyter notebook用マジックコマンド\n",
        "%matplotlib inline \n",
        "import matplotlib.pyplot as plt\n",
        "\n",
        "fig = plt.figure(figsize=(9, 15))\n",
        "fig.subplots_adjust(left=0, right=1, bottom=0, top=0.5, hspace=0.05, wspace=0.05)\n",
        "\n",
        "# 各MNIST画像の上に（タイトルとして）対応するラベルを表示\n",
        "for i in range(10):\n",
        "    ax = fig.add_subplot(1, 10, i + 1, xticks=[], yticks=[])\n",
        "    ax.set_title(str(y_train[i]))\n",
        "    ax.imshow(x_train[i], cmap='gray')"
      ],
      "execution_count": 8,
      "outputs": [
        {
          "output_type": "display_data",
          "data": {
            "image/png": "[encoded data removed]",
            "text/plain": [
              "<Figure size 648x1080 with 10 Axes>"
            ]
          },
          "metadata": {
            "tags": []
          }
        }
      ]
    },
    {
      "cell_type": "markdown",
      "metadata": {
        "id": "_ZCxZxgl0bHX",
        "colab_type": "text"
      },
      "source": [
        "ラベルデータをone-hot表現に変換します。\n",
        "\n",
        "keras.utils.to_categorical関数を使いましょう。\n"
      ]
    },
    {
      "cell_type": "code",
      "metadata": {
        "id": "DBvnPZCU0bHZ",
        "colab_type": "code",
        "colab": {}
      },
      "source": [
        "from tensorflow.keras.utils import to_categorical\n",
        "import numpy as np\n",
        "\n",
        "# ラベルデータをone-hot表現へ変換\n",
        "y_train = to_categorical(y_train, num_classes)\n",
        "y_test = to_categorical(y_test, num_classes)"
      ],
      "execution_count": 0,
      "outputs": []
    },
    {
      "cell_type": "code",
      "metadata": {
        "id": "AfE9xtc-0Mgo",
        "colab_type": "code",
        "colab": {}
      },
      "source": [
        "# 画像データの型を変換\n",
        "x_train = x_train.reshape(-1, height, width, color).astype(np.float32)\n",
        "x_test = x_test.reshape(-1, height, width, color).astype(np.float32)\n",
        "input_shape = (height, width, color)"
      ],
      "execution_count": 0,
      "outputs": []
    },
    {
      "cell_type": "markdown",
      "metadata": {
        "id": "bUUkN6qj0bHi",
        "colab_type": "text"
      },
      "source": [
        "### 2.2.4 モデル構築\n",
        "\n",
        "これから、学習モデルを構築します。\n",
        "\n",
        "モデルの構築は、モデルの「容器」としてSquential()を実施したのち、その中に順にレイヤーを追加していく流れになります。\n",
        "\n",
        "* [Sequential](https://keras.io/ja/models/sequential/)\n"
      ]
    },
    {
      "cell_type": "code",
      "metadata": {
        "id": "1rIGYTTK0bHk",
        "colab_type": "code",
        "colab": {}
      },
      "source": [
        "# モデル構築用ライブラリをインポート\n",
        "from tensorflow import keras\n",
        "from tensorflow.keras.models import Sequential, Model\n",
        "from tensorflow.keras.layers import Dense, Activation, Flatten\n",
        "\n",
        "# CNNモデル用ライブラリ\n",
        "from tensorflow.python.keras.layers import Conv2D, Convolution2D, MaxPooling2D, Dropout, BatchNormalization, GlobalAveragePooling2D,AveragePooling2D,Input\n",
        "from tensorflow.python.keras import initializers\n",
        "from tensorflow.keras.applications.vgg16 import VGG16\n",
        "from tensorflow.keras.regularizers import l2\n",
        "\n",
        "# モデルの「容器」を作成\n",
        "model = Sequential()"
      ],
      "execution_count": 0,
      "outputs": []
    },
    {
      "cell_type": "markdown",
      "metadata": {
        "id": "vWgvceiHbKnb",
        "colab_type": "text"
      },
      "source": [
        "今回は、シンプルなCNNモデルの他、VGG16、RESNETの関数を準備してあります。\n",
        "\n",
        "- VGG16\n",
        "\n",
        "    Oxford大学の研究グループが提案し2014年のILSVRで2位を獲得したモデルで、畳み込みが13層、全結合層が3層の合計16層からなるニューラルネットワークです。\n",
        "    Kerasでは関数として組み込まれており、容易に実装することが可能になっています。\n",
        "    \n",
        "- ResNet\n",
        "\n",
        "    ResNetは2015年にMicrosoftより発表された152層からなるニューラルネットワークです。今まで20層ほどで作られていたCNNを特別なユニットを挟むことで深くすることを可能にしています。\n"
      ]
    },
    {
      "cell_type": "code",
      "metadata": {
        "id": "nt0Xe1505Quo",
        "colab_type": "code",
        "colab": {}
      },
      "source": [
        "# VGG16モデル\n",
        "def cnn_vgg16():\n",
        "    input_tensor = Input(shape=input_shape)\n",
        "    vgg16 = VGG16(include_top=False, weights='imagenet', input_tensor=input_tensor)    \n",
        "    \n",
        "    add_model = Sequential()\n",
        "    add_model.add(Flatten())\n",
        "    add_model.add(Dense(256, kernel_initializer=initializers.TruncatedNormal(stddev=0.1), bias_initializer=initializers.Zeros()))\n",
        "    add_model.add(Activation('relu'))\n",
        "    add_model.add(BatchNormalization())\n",
        "    add_model.add(Dense(units=num_classes))\n",
        "    add_model.add(Activation('softmax'))\n",
        "    \n",
        "    vgg16_model = Model(inputs=vgg16.input, outputs=add_model(vgg16.output))\n",
        "\n",
        "    #fix weights VGG16 layers\n",
        "    for layer in vgg16.layers:\n",
        "        layer.trainable = False\n",
        "        \n",
        "    return vgg16_model"
      ],
      "execution_count": 0,
      "outputs": []
    },
    {
      "cell_type": "code",
      "metadata": {
        "id": "FLLXeRM3f7Fi",
        "colab_type": "code",
        "colab": {}
      },
      "source": [
        "# CNNモデル\n",
        "def cnn_model():\n",
        "    model.add(Conv2D(32, (3, 3), kernel_initializer=initializers.TruncatedNormal(stddev=0.1), bias_initializer=initializers.Zeros(), input_shape=input_shape))\n",
        "    model.add(Activation('relu'))\n",
        "    model.add(Conv2D(64, (3, 3), kernel_initializer=initializers.TruncatedNormal(stddev=0.1), bias_initializer=initializers.Zeros()))\n",
        "    model.add(Activation('relu'))\n",
        "    model.add(MaxPooling2D(pool_size=(2, 2)))\n",
        "\n",
        "    model.add(Flatten())\n",
        "    model.add(Dense(256, kernel_initializer=initializers.TruncatedNormal(stddev=0.1), bias_initializer=initializers.Zeros()))\n",
        "    model.add(Activation('relu'))\n",
        "    model.add(Dense(units=num_classes))\n",
        "    model.add(Activation('softmax'))\n",
        "\n",
        "    return model\n",
        "\n",
        "# CNNモデル w/Dropout\n",
        "def cnn_w_dropout():\n",
        "    model.add(Conv2D(32, (3, 3), kernel_initializer=initializers.TruncatedNormal(stddev=0.1), bias_initializer=initializers.Zeros(), input_shape=input_shape))\n",
        "    model.add(Activation('relu'))\n",
        "    model.add(Conv2D(64, (3, 3), kernel_initializer=initializers.TruncatedNormal(stddev=0.1), bias_initializer=initializers.Zeros()))\n",
        "    model.add(Activation('relu'))\n",
        "    model.add(MaxPooling2D(pool_size=(2, 2)))\n",
        "    model.add(Dropout(0.5))\n",
        "\n",
        "    model.add(Flatten())\n",
        "    model.add(Dense(256, kernel_initializer=initializers.TruncatedNormal(stddev=0.1), bias_initializer=initializers.Zeros()))\n",
        "    model.add(Activation('relu'))\n",
        "    model.add(Dropout(0.5))\n",
        "    model.add(Dense(units=num_classes))\n",
        "    model.add(Activation('softmax'))\n",
        "\n",
        "    return model\n",
        "    \n",
        "# CNNモデル w/Batch Normalization\n",
        "def cnn_w_batchnorm():\n",
        "    model.add(Conv2D(32, (3, 3), kernel_initializer=initializers.TruncatedNormal(stddev=0.1), bias_initializer=initializers.Zeros(), input_shape=input_shape))\n",
        "    model.add(Activation('relu'))\n",
        "    model.add(Conv2D(32, (3, 3), kernel_initializer=initializers.TruncatedNormal(stddev=0.1), bias_initializer=initializers.Zeros()))\n",
        "    model.add(Activation('relu'))\n",
        "    model.add(BatchNormalization())\n",
        "    model.add(MaxPooling2D(pool_size=(2, 2)))\n",
        "\n",
        "    model.add(Conv2D(64, (3, 3), kernel_initializer=initializers.TruncatedNormal(stddev=0.1), bias_initializer=initializers.Zeros(), input_shape=input_shape))\n",
        "    model.add(Activation('relu'))\n",
        "    model.add(Conv2D(64, (3, 3), kernel_initializer=initializers.TruncatedNormal(stddev=0.1), bias_initializer=initializers.Zeros()))\n",
        "    model.add(Activation('relu'))\n",
        "    model.add(BatchNormalization())\n",
        "    model.add(MaxPooling2D(pool_size=(2, 2)))\n",
        "\n",
        "    model.add(Flatten())\n",
        "    model.add(Dense(256, kernel_initializer=initializers.TruncatedNormal(stddev=0.1), bias_initializer=initializers.Zeros()))\n",
        "    model.add(Activation('relu'))\n",
        "    model.add(BatchNormalization())\n",
        "    model.add(Dense(units=num_classes))\n",
        "    model.add(Activation('softmax'))\n",
        "\n",
        "    return model\n",
        "    "
      ],
      "execution_count": 0,
      "outputs": []
    },
    {
      "cell_type": "code",
      "metadata": {
        "id": "OGWk7WWk5Ya3",
        "colab_type": "code",
        "colab": {}
      },
      "source": [
        "# ResNetモデル from Keras Documentation\n",
        "\n",
        "# Model parameter\n",
        "# ----------------------------------------------------------------------------\n",
        "#           |      | 200-epoch | Orig Paper| 200-epoch | Orig Paper| sec/epoch\n",
        "# Model     |  n   | ResNet v1 | ResNet v1 | ResNet v2 | ResNet v2 | GTX1080Ti\n",
        "#           |v1(v2)| %Accuracy | %Accuracy | %Accuracy | %Accuracy | v1 (v2)\n",
        "# ----------------------------------------------------------------------------\n",
        "# ResNet20  | 3 (2)| 92.16     | 91.25     | -----     | -----     | 35 (---)\n",
        "# ResNet32  | 5(NA)| 92.46     | 92.49     | NA        | NA        | 50 ( NA)\n",
        "# ResNet44  | 7(NA)| 92.50     | 92.83     | NA        | NA        | 70 ( NA)\n",
        "# ResNet56  | 9 (6)| 92.71     | 93.03     | 93.01     | NA        | 90 (100)\n",
        "# ResNet110 |18(12)| 92.65     | 93.39+-.16| 93.15     | 93.63     | 165(180)\n",
        "# ResNet164 |27(18)| -----     | 94.07     | -----     | 94.54     | ---(---)\n",
        "# ResNet1001| (111)| -----     | 92.39     | -----     | 95.08+-.14| ---(---)\n",
        "# ---------------------------------------------------------------------------\n",
        "n = 3\n",
        "\n",
        "# Model version\n",
        "# Orig paper: version = 1 (ResNet v1), Improved ResNet: version = 2 (ResNet v2)\n",
        "version = 1\n",
        "\n",
        "# Computed depth from supplied model parameter n\n",
        "#if version == 1:\n",
        "#    depth = n * 6 + 2\n",
        "#elif version == 2:\n",
        "#    depth = n * 9 + 2\n",
        "\n",
        "# ResNetモデル\n",
        "def resnet_layer(inputs,\n",
        "                 num_filters=16,\n",
        "                 kernel_size=3,\n",
        "                 strides=1,\n",
        "                 activation='relu',\n",
        "                 batch_normalization=True,\n",
        "                 conv_first=True):\n",
        "    \"\"\"2D Convolution-Batch Normalization-Activation stack builder\n",
        "\n",
        "    # Arguments\n",
        "        inputs (tensor): input tensor from input image or previous layer\n",
        "        num_filters (int): Conv2D number of filters\n",
        "        kernel_size (int): Conv2D square kernel dimensions\n",
        "        strides (int): Conv2D square stride dimensions\n",
        "        activation (string): activation name\n",
        "        batch_normalization (bool): whether to include batch normalization\n",
        "        conv_first (bool): conv-bn-activation (True) or\n",
        "            bn-activation-conv (False)\n",
        "\n",
        "    # Returns\n",
        "        x (tensor): tensor as input to the next layer\n",
        "    \"\"\"\n",
        "    conv = Conv2D(num_filters,\n",
        "                  kernel_size=kernel_size,\n",
        "                  strides=strides,\n",
        "                  padding='same',\n",
        "                  kernel_initializer='he_normal',\n",
        "                  kernel_regularizer=l2(1e-4))\n",
        "\n",
        "    x = inputs\n",
        "    if conv_first:\n",
        "        x = conv(x)\n",
        "        if batch_normalization:\n",
        "            x = BatchNormalization()(x)\n",
        "        if activation is not None:\n",
        "            x = Activation(activation)(x)\n",
        "    else:\n",
        "        if batch_normalization:\n",
        "            x = BatchNormalization()(x)\n",
        "        if activation is not None:\n",
        "            x = Activation(activation)(x)\n",
        "        x = conv(x)\n",
        "    return x\n",
        "\n",
        "\n",
        "def resnet_v1(input_shape, depth=20, num_classes=num_classes):\n",
        "    \"\"\"ResNet Version 1 Model builder [a]\n",
        "\n",
        "    Stacks of 2 x (3 x 3) Conv2D-BN-ReLU\n",
        "    Last ReLU is after the shortcut connection.\n",
        "    At the beginning of each stage, the feature map size is halved (downsampled)\n",
        "    by a convolutional layer with strides=2, while the number of filters is\n",
        "    doubled. Within each stage, the layers have the same number filters and the\n",
        "    same number of filters.\n",
        "    Features maps sizes:\n",
        "    stage 0: 32x32, 16\n",
        "    stage 1: 16x16, 32\n",
        "    stage 2:  8x8,  64\n",
        "    The Number of parameters is approx the same as Table 6 of [a]:\n",
        "    ResNet20 0.27M\n",
        "    ResNet32 0.46M\n",
        "    ResNet44 0.66M\n",
        "    ResNet56 0.85M\n",
        "    ResNet110 1.7M\n",
        "\n",
        "    # Arguments\n",
        "        input_shape (tensor): shape of input image tensor\n",
        "        depth (int): number of core convolutional layers\n",
        "        num_classes (int): number of classes (CIFAR10 has 10)\n",
        "\n",
        "    # Returns\n",
        "        model (Model): Keras model instance\n",
        "    \"\"\"\n",
        "    if (depth - 2) % 6 != 0:\n",
        "        raise ValueError('depth should be 6n+2 (eg 20, 32, 44 in [a])')\n",
        "    # Start model definition.\n",
        "    num_filters = 16\n",
        "    num_res_blocks = int((depth - 2) / 6)\n",
        "\n",
        "    inputs = Input(shape=input_shape)\n",
        "    x = resnet_layer(inputs=inputs)\n",
        "    # Instantiate the stack of residual units\n",
        "    for stack in range(3):\n",
        "        for res_block in range(num_res_blocks):\n",
        "            strides = 1\n",
        "            if stack > 0 and res_block == 0:  # first layer but not first stack\n",
        "                strides = 2  # downsample\n",
        "            y = resnet_layer(inputs=x,\n",
        "                             num_filters=num_filters,\n",
        "                             strides=strides)\n",
        "            y = resnet_layer(inputs=y,\n",
        "                             num_filters=num_filters,\n",
        "                             activation=None)\n",
        "            if stack > 0 and res_block == 0:  # first layer but not first stack\n",
        "                # linear projection residual shortcut connection to match\n",
        "                # changed dims\n",
        "                x = resnet_layer(inputs=x,\n",
        "                                 num_filters=num_filters,\n",
        "                                 kernel_size=1,\n",
        "                                 strides=strides,\n",
        "                                 activation=None,\n",
        "                                 batch_normalization=False)\n",
        "            x = keras.layers.add([x, y])\n",
        "            x = Activation('relu')(x)\n",
        "        num_filters *= 2\n",
        "\n",
        "    # Add classifier on top.\n",
        "    # v1 does not use BN after last shortcut connection-ReLU\n",
        "    x = AveragePooling2D(pool_size=8)(x)\n",
        "    y = Flatten()(x)\n",
        "    outputs = Dense(num_classes,\n",
        "                    activation='softmax',\n",
        "                    kernel_initializer='he_normal')(y)\n",
        "\n",
        "    # Instantiate model.\n",
        "    model = Model(inputs=inputs, outputs=outputs)\n",
        "    return model\n",
        "\n",
        "\n",
        "def resnet_v2(input_shape, depth=29, num_classes=num_classes):\n",
        "    \"\"\"ResNet Version 2 Model builder [b]\n",
        "\n",
        "    Stacks of (1 x 1)-(3 x 3)-(1 x 1) BN-ReLU-Conv2D or also known as\n",
        "    bottleneck layer\n",
        "    First shortcut connection per layer is 1 x 1 Conv2D.\n",
        "    Second and onwards shortcut connection is identity.\n",
        "    At the beginning of each stage, the feature map size is halved (downsampled)\n",
        "    by a convolutional layer with strides=2, while the number of filter maps is\n",
        "    doubled. Within each stage, the layers have the same number filters and the\n",
        "    same filter map sizes.\n",
        "    Features maps sizes:\n",
        "    conv1  : 32x32,  16\n",
        "    stage 0: 32x32,  64\n",
        "    stage 1: 16x16, 128\n",
        "    stage 2:  8x8,  256\n",
        "\n",
        "    # Arguments\n",
        "        input_shape (tensor): shape of input image tensor\n",
        "        depth (int): number of core convolutional layers\n",
        "        num_classes (int): number of classes (CIFAR10 has 10)\n",
        "\n",
        "    # Returns\n",
        "        model (Model): Keras model instance\n",
        "    \"\"\"\n",
        "    if (depth - 2) % 9 != 0:\n",
        "        raise ValueError('depth should be 9n+2 (eg 56 or 110 in [b])')\n",
        "    # Start model definition.\n",
        "    num_filters_in = 16\n",
        "    num_res_blocks = int((depth - 2) / 9)\n",
        "\n",
        "    inputs = Input(shape=input_shape)\n",
        "    # v2 performs Conv2D with BN-ReLU on input before splitting into 2 paths\n",
        "    x = resnet_layer(inputs=inputs,\n",
        "                     num_filters=num_filters_in,\n",
        "                     conv_first=True)\n",
        "\n",
        "    # Instantiate the stack of residual units\n",
        "    for stage in range(3):\n",
        "        for res_block in range(num_res_blocks):\n",
        "            activation = 'relu'\n",
        "            batch_normalization = True\n",
        "            strides = 1\n",
        "            if stage == 0:\n",
        "                num_filters_out = num_filters_in * 4\n",
        "                if res_block == 0:  # first layer and first stage\n",
        "                    activation = None\n",
        "                    batch_normalization = False\n",
        "            else:\n",
        "                num_filters_out = num_filters_in * 2\n",
        "                if res_block == 0:  # first layer but not first stage\n",
        "                    strides = 2    # downsample\n",
        "\n",
        "            # bottleneck residual unit\n",
        "            y = resnet_layer(inputs=x,\n",
        "                             num_filters=num_filters_in,\n",
        "                             kernel_size=1,\n",
        "                             strides=strides,\n",
        "                             activation=activation,\n",
        "                             batch_normalization=batch_normalization,\n",
        "                             conv_first=False)\n",
        "            y = resnet_layer(inputs=y,\n",
        "                             num_filters=num_filters_in,\n",
        "                             conv_first=False)\n",
        "            y = resnet_layer(inputs=y,\n",
        "                             num_filters=num_filters_out,\n",
        "                             kernel_size=1,\n",
        "                             conv_first=False)\n",
        "            if res_block == 0:\n",
        "                # linear projection residual shortcut connection to match\n",
        "                # changed dims\n",
        "                x = resnet_layer(inputs=x,\n",
        "                                 num_filters=num_filters_out,\n",
        "                                 kernel_size=1,\n",
        "                                 strides=strides,\n",
        "                                 activation=None,\n",
        "                                 batch_normalization=False)\n",
        "            x = keras.layers.add([x, y])\n",
        "\n",
        "        num_filters_in = num_filters_out\n",
        "\n",
        "    # Add classifier on top.\n",
        "    # v2 has BN-ReLU before Pooling\n",
        "    x = BatchNormalization()(x)\n",
        "    x = Activation('relu')(x)\n",
        "    x = AveragePooling2D(pool_size=8)(x)\n",
        "    y = Flatten()(x)\n",
        "    outputs = Dense(num_classes,\n",
        "                    activation='softmax',\n",
        "                    kernel_initializer='he_normal')(y)\n",
        "\n",
        "    # Instantiate model.\n",
        "    model = Model(inputs=inputs, outputs=outputs)\n",
        "    return model\n"
      ],
      "execution_count": 0,
      "outputs": []
    },
    {
      "cell_type": "markdown",
      "metadata": {
        "id": "3DNVsEupdMjn",
        "colab_type": "text"
      },
      "source": [
        "それでは、任意のモデルを選び、構築してみましょう。"
      ]
    },
    {
      "cell_type": "code",
      "metadata": {
        "id": "Nq7BxPyz0bH3",
        "colab_type": "code",
        "colab": {}
      },
      "source": [
        "# model構築\n",
        "if model_opt==\"VGG16\":\n",
        "    model = cnn_vgg16()\n",
        "elif model_opt==\"RESNET1\":\n",
        "    model = resnet_v1(input_shape=input_shape)\n",
        "elif model_opt==\"RESNET2\":\n",
        "    model = resnet_v2(input_shape=input_shape)\n",
        "else:\n",
        "#    model=cnn_model()\n",
        "#    model=cnn_w_dropout()\n",
        "    model=cnn_w_batchnorm()\n"
      ],
      "execution_count": 0,
      "outputs": []
    },
    {
      "cell_type": "markdown",
      "metadata": {
        "id": "E5Dz7x4Scrf8",
        "colab_type": "text"
      },
      "source": [
        "学習の開始にあたり、最後にcompile関数でコンパイルを行います。\n",
        "\n",
        "compile関数でも、学習にあたって以下のパラメータを指定する必要があります。\n",
        "\n",
        "* optimizer（最適化手法）\n",
        "* loss（損失関数）\n",
        "* metrics（評価関数（任意））\n",
        "\n",
        "以下サンプルコードでは、現在Kerasで利用できるoptimizerを並べてみました。こちらもそれぞれどのような結果になるか比較してみるといいでしょう。"
      ]
    },
    {
      "cell_type": "code",
      "metadata": {
        "id": "OI4UDcU60bH7",
        "colab_type": "code",
        "colab": {}
      },
      "source": [
        "from tensorflow.keras import optimizers\n",
        "from tensorflow.keras import losses\n",
        "# モデルの学習方法について指定しておく\n",
        "model.compile(loss='categorical_crossentropy', optimizer=optimizers.SGD(lr=0.001, momentum=0.9), metrics=['accuracy'])\n",
        "#model.compile(loss='categorical_crossentropy', optimizer=optimizers.Adam(lr=0.001), metrics=['accuracy'])\n",
        "#model.compile(loss='categorical_crossentropy', optimizer=optimizers.RMSprop(lr=0.001), metrics=['accuracy'])\n",
        "#model.compile(loss='categorical_crossentropy', optimizer=optimizers.Adagrad(lr=0.001), metrics=['accuracy'])\n",
        "#model.compile(loss='categorical_crossentropy', optimizer=optimizers.Adadelta(lr=0.001), metrics=['accuracy'])\n",
        "#model.compile(loss='categorical_crossentropy', optimizer=optimizers.Adamax(lr=0.001), metrics=['accuracy'])\n",
        "#model.compile(loss='categorical_crossentropy', optimizer=optimizers.Nadam(lr=0.001), metrics=['accuracy'])\n"
      ],
      "execution_count": 0,
      "outputs": []
    },
    {
      "cell_type": "markdown",
      "metadata": {
        "id": "1ZwzQE-FYxdR",
        "colab_type": "text"
      },
      "source": [
        "Optimizerアルゴリズムの動作イメージ(作者：Alec Radford)\n",
        "\n",
        "\n",
        "<img src=\"http://sebastianruder.com/content/images/2016/01/contours_evaluation_optimizers.gif\" width=\"400\">\n",
        "<img src=\"http://sebastianruder.com/content/images/2016/01/saddle_point_evaluation_optimizers.gif\" width=\"400\">\n"
      ]
    },
    {
      "cell_type": "markdown",
      "metadata": {
        "id": "5LYqpAQPO04I",
        "colab_type": "text"
      },
      "source": [
        "早速学習開始と行きたいところですが、学習の途中結果を記録する(Checkpoint)ことと、TensorBoard向けのログ情報を取得できるようにしておきましょう。\n",
        "\n",
        "モデル構造や結果等の視覚化することで、何がどのように動いているのか、理解の手助けとなります。\n",
        "\n",
        "このjupyter notebook上でも可視化ロジックを組み込んでいますが、通常のモデル開発においては、TensorBoardを用いるほうがスマートでしょう。\n"
      ]
    },
    {
      "cell_type": "markdown",
      "metadata": {
        "id": "weO_9YIVJ4dA",
        "colab_type": "text"
      },
      "source": [
        "TensorBoardでも参照できるよう、設定を組み込んでおきます。"
      ]
    },
    {
      "cell_type": "code",
      "metadata": {
        "id": "s80FRVRL0bH-",
        "colab_type": "code",
        "colab": {}
      },
      "source": [
        "# TensorBoardでの可視化のため、出力先の設定\n",
        "from tensorflow.keras import callbacks\n",
        "\n",
        "tb_cb = callbacks.TensorBoard(log_dir=log_dir, histogram_freq=1,write_images=1)"
      ],
      "execution_count": 0,
      "outputs": []
    },
    {
      "cell_type": "markdown",
      "metadata": {
        "id": "GJVjFnA8h5LT",
        "colab_type": "text"
      },
      "source": [
        "チェックポイントを生成しておくことで、中断した学習の再開や、チェックポイントを利用した静的モデルの出力を行うことができます。"
      ]
    },
    {
      "cell_type": "code",
      "metadata": {
        "id": "Rk3ohoKJhd9P",
        "colab_type": "code",
        "outputId": "e7c6764b-794c-4d2f-c67c-055add378b67",
        "colab": {
          "base_uri": "https://localhost:8080/",
          "height": 51
        }
      },
      "source": [
        "# チェックポイント出力先\n",
        "RUN = RUN + 1 if 'RUN' in locals() else 1\n",
        "checkpoint_path = model_dir + f'run{RUN}/' + model_opt + \"_cp-{epoch:04d}.ckpt\"\n",
        "checkpoint_dir = os.path.dirname(checkpoint_path)\n",
        "\n",
        "# チェックポイントコールバックを作る\n",
        "cp_cb = callbacks.ModelCheckpoint(checkpoint_path, save_weights_only=True, verbose=1, period=5)"
      ],
      "execution_count": 18,
      "outputs": [
        {
          "output_type": "stream",
          "text": [
            "WARNING: Logging before flag parsing goes to stderr.\n",
            "W0712 06:58:18.731832 140019297666944 callbacks.py:875] `period` argument is deprecated. Please use `save_freq` to specify the frequency in number of samples seen.\n"
          ],
          "name": "stderr"
        }
      ]
    },
    {
      "cell_type": "markdown",
      "metadata": {
        "id": "DMWlqNgvPBvp",
        "colab_type": "text"
      },
      "source": [
        "学習の実行の前に、モデルのサマリ情報を確認してみましょう。"
      ]
    },
    {
      "cell_type": "code",
      "metadata": {
        "id": "135NNq6iO-b2",
        "colab_type": "code",
        "outputId": "b5ee0b06-9a5f-41bb-9253-3e47ef98cc14",
        "colab": {
          "base_uri": "https://localhost:8080/",
          "height": 1000
        }
      },
      "source": [
        "# モデルのサマリ情報の表示\n",
        "model.summary()"
      ],
      "execution_count": 19,
      "outputs": [
        {
          "output_type": "stream",
          "text": [
            "Model: \"model\"\n",
            "__________________________________________________________________________________________________\n",
            "Layer (type)                    Output Shape         Param #     Connected to                     \n",
            "==================================================================================================\n",
            "input_1 (InputLayer)            [(None, 64, 64, 3)]  0                                            \n",
            "__________________________________________________________________________________________________\n",
            "conv2d (Conv2D)                 (None, 64, 64, 16)   448         input_1[0][0]                    \n",
            "__________________________________________________________________________________________________\n",
            "batch_normalization (BatchNorma (None, 64, 64, 16)   64          conv2d[0][0]                     \n",
            "__________________________________________________________________________________________________\n",
            "activation (Activation)         (None, 64, 64, 16)   0           batch_normalization[0][0]        \n",
            "__________________________________________________________________________________________________\n",
            "conv2d_1 (Conv2D)               (None, 64, 64, 16)   272         activation[0][0]                 \n",
            "__________________________________________________________________________________________________\n",
            "batch_normalization_1 (BatchNor (None, 64, 64, 16)   64          conv2d_1[0][0]                   \n",
            "__________________________________________________________________________________________________\n",
            "activation_1 (Activation)       (None, 64, 64, 16)   0           batch_normalization_1[0][0]      \n",
            "__________________________________________________________________________________________________\n",
            "conv2d_2 (Conv2D)               (None, 64, 64, 16)   2320        activation_1[0][0]               \n",
            "__________________________________________________________________________________________________\n",
            "batch_normalization_2 (BatchNor (None, 64, 64, 16)   64          conv2d_2[0][0]                   \n",
            "__________________________________________________________________________________________________\n",
            "activation_2 (Activation)       (None, 64, 64, 16)   0           batch_normalization_2[0][0]      \n",
            "__________________________________________________________________________________________________\n",
            "conv2d_4 (Conv2D)               (None, 64, 64, 64)   1088        activation[0][0]                 \n",
            "__________________________________________________________________________________________________\n",
            "conv2d_3 (Conv2D)               (None, 64, 64, 64)   1088        activation_2[0][0]               \n",
            "__________________________________________________________________________________________________\n",
            "add (Add)                       (None, 64, 64, 64)   0           conv2d_4[0][0]                   \n",
            "                                                                 conv2d_3[0][0]                   \n",
            "__________________________________________________________________________________________________\n",
            "batch_normalization_3 (BatchNor (None, 64, 64, 64)   256         add[0][0]                        \n",
            "__________________________________________________________________________________________________\n",
            "activation_3 (Activation)       (None, 64, 64, 64)   0           batch_normalization_3[0][0]      \n",
            "__________________________________________________________________________________________________\n",
            "conv2d_5 (Conv2D)               (None, 64, 64, 16)   1040        activation_3[0][0]               \n",
            "__________________________________________________________________________________________________\n",
            "batch_normalization_4 (BatchNor (None, 64, 64, 16)   64          conv2d_5[0][0]                   \n",
            "__________________________________________________________________________________________________\n",
            "activation_4 (Activation)       (None, 64, 64, 16)   0           batch_normalization_4[0][0]      \n",
            "__________________________________________________________________________________________________\n",
            "conv2d_6 (Conv2D)               (None, 64, 64, 16)   2320        activation_4[0][0]               \n",
            "__________________________________________________________________________________________________\n",
            "batch_normalization_5 (BatchNor (None, 64, 64, 16)   64          conv2d_6[0][0]                   \n",
            "__________________________________________________________________________________________________\n",
            "activation_5 (Activation)       (None, 64, 64, 16)   0           batch_normalization_5[0][0]      \n",
            "__________________________________________________________________________________________________\n",
            "conv2d_7 (Conv2D)               (None, 64, 64, 64)   1088        activation_5[0][0]               \n",
            "__________________________________________________________________________________________________\n",
            "add_1 (Add)                     (None, 64, 64, 64)   0           add[0][0]                        \n",
            "                                                                 conv2d_7[0][0]                   \n",
            "__________________________________________________________________________________________________\n",
            "batch_normalization_6 (BatchNor (None, 64, 64, 64)   256         add_1[0][0]                      \n",
            "__________________________________________________________________________________________________\n",
            "activation_6 (Activation)       (None, 64, 64, 64)   0           batch_normalization_6[0][0]      \n",
            "__________________________________________________________________________________________________\n",
            "conv2d_8 (Conv2D)               (None, 64, 64, 16)   1040        activation_6[0][0]               \n",
            "__________________________________________________________________________________________________\n",
            "batch_normalization_7 (BatchNor (None, 64, 64, 16)   64          conv2d_8[0][0]                   \n",
            "__________________________________________________________________________________________________\n",
            "activation_7 (Activation)       (None, 64, 64, 16)   0           batch_normalization_7[0][0]      \n",
            "__________________________________________________________________________________________________\n",
            "conv2d_9 (Conv2D)               (None, 64, 64, 16)   2320        activation_7[0][0]               \n",
            "__________________________________________________________________________________________________\n",
            "batch_normalization_8 (BatchNor (None, 64, 64, 16)   64          conv2d_9[0][0]                   \n",
            "__________________________________________________________________________________________________\n",
            "activation_8 (Activation)       (None, 64, 64, 16)   0           batch_normalization_8[0][0]      \n",
            "__________________________________________________________________________________________________\n",
            "conv2d_10 (Conv2D)              (None, 64, 64, 64)   1088        activation_8[0][0]               \n",
            "__________________________________________________________________________________________________\n",
            "add_2 (Add)                     (None, 64, 64, 64)   0           add_1[0][0]                      \n",
            "                                                                 conv2d_10[0][0]                  \n",
            "__________________________________________________________________________________________________\n",
            "batch_normalization_9 (BatchNor (None, 64, 64, 64)   256         add_2[0][0]                      \n",
            "__________________________________________________________________________________________________\n",
            "activation_9 (Activation)       (None, 64, 64, 64)   0           batch_normalization_9[0][0]      \n",
            "__________________________________________________________________________________________________\n",
            "conv2d_11 (Conv2D)              (None, 32, 32, 64)   4160        activation_9[0][0]               \n",
            "__________________________________________________________________________________________________\n",
            "batch_normalization_10 (BatchNo (None, 32, 32, 64)   256         conv2d_11[0][0]                  \n",
            "__________________________________________________________________________________________________\n",
            "activation_10 (Activation)      (None, 32, 32, 64)   0           batch_normalization_10[0][0]     \n",
            "__________________________________________________________________________________________________\n",
            "conv2d_12 (Conv2D)              (None, 32, 32, 64)   36928       activation_10[0][0]              \n",
            "__________________________________________________________________________________________________\n",
            "batch_normalization_11 (BatchNo (None, 32, 32, 64)   256         conv2d_12[0][0]                  \n",
            "__________________________________________________________________________________________________\n",
            "activation_11 (Activation)      (None, 32, 32, 64)   0           batch_normalization_11[0][0]     \n",
            "__________________________________________________________________________________________________\n",
            "conv2d_14 (Conv2D)              (None, 32, 32, 128)  8320        add_2[0][0]                      \n",
            "__________________________________________________________________________________________________\n",
            "conv2d_13 (Conv2D)              (None, 32, 32, 128)  8320        activation_11[0][0]              \n",
            "__________________________________________________________________________________________________\n",
            "add_3 (Add)                     (None, 32, 32, 128)  0           conv2d_14[0][0]                  \n",
            "                                                                 conv2d_13[0][0]                  \n",
            "__________________________________________________________________________________________________\n",
            "batch_normalization_12 (BatchNo (None, 32, 32, 128)  512         add_3[0][0]                      \n",
            "__________________________________________________________________________________________________\n",
            "activation_12 (Activation)      (None, 32, 32, 128)  0           batch_normalization_12[0][0]     \n",
            "__________________________________________________________________________________________________\n",
            "conv2d_15 (Conv2D)              (None, 32, 32, 64)   8256        activation_12[0][0]              \n",
            "__________________________________________________________________________________________________\n",
            "batch_normalization_13 (BatchNo (None, 32, 32, 64)   256         conv2d_15[0][0]                  \n",
            "__________________________________________________________________________________________________\n",
            "activation_13 (Activation)      (None, 32, 32, 64)   0           batch_normalization_13[0][0]     \n",
            "__________________________________________________________________________________________________\n",
            "conv2d_16 (Conv2D)              (None, 32, 32, 64)   36928       activation_13[0][0]              \n",
            "__________________________________________________________________________________________________\n",
            "batch_normalization_14 (BatchNo (None, 32, 32, 64)   256         conv2d_16[0][0]                  \n",
            "__________________________________________________________________________________________________\n",
            "activation_14 (Activation)      (None, 32, 32, 64)   0           batch_normalization_14[0][0]     \n",
            "__________________________________________________________________________________________________\n",
            "conv2d_17 (Conv2D)              (None, 32, 32, 128)  8320        activation_14[0][0]              \n",
            "__________________________________________________________________________________________________\n",
            "add_4 (Add)                     (None, 32, 32, 128)  0           add_3[0][0]                      \n",
            "                                                                 conv2d_17[0][0]                  \n",
            "__________________________________________________________________________________________________\n",
            "batch_normalization_15 (BatchNo (None, 32, 32, 128)  512         add_4[0][0]                      \n",
            "__________________________________________________________________________________________________\n",
            "activation_15 (Activation)      (None, 32, 32, 128)  0           batch_normalization_15[0][0]     \n",
            "__________________________________________________________________________________________________\n",
            "conv2d_18 (Conv2D)              (None, 32, 32, 64)   8256        activation_15[0][0]              \n",
            "__________________________________________________________________________________________________\n",
            "batch_normalization_16 (BatchNo (None, 32, 32, 64)   256         conv2d_18[0][0]                  \n",
            "__________________________________________________________________________________________________\n",
            "activation_16 (Activation)      (None, 32, 32, 64)   0           batch_normalization_16[0][0]     \n",
            "__________________________________________________________________________________________________\n",
            "conv2d_19 (Conv2D)              (None, 32, 32, 64)   36928       activation_16[0][0]              \n",
            "__________________________________________________________________________________________________\n",
            "batch_normalization_17 (BatchNo (None, 32, 32, 64)   256         conv2d_19[0][0]                  \n",
            "__________________________________________________________________________________________________\n",
            "activation_17 (Activation)      (None, 32, 32, 64)   0           batch_normalization_17[0][0]     \n",
            "__________________________________________________________________________________________________\n",
            "conv2d_20 (Conv2D)              (None, 32, 32, 128)  8320        activation_17[0][0]              \n",
            "__________________________________________________________________________________________________\n",
            "add_5 (Add)                     (None, 32, 32, 128)  0           add_4[0][0]                      \n",
            "                                                                 conv2d_20[0][0]                  \n",
            "__________________________________________________________________________________________________\n",
            "batch_normalization_18 (BatchNo (None, 32, 32, 128)  512         add_5[0][0]                      \n",
            "__________________________________________________________________________________________________\n",
            "activation_18 (Activation)      (None, 32, 32, 128)  0           batch_normalization_18[0][0]     \n",
            "__________________________________________________________________________________________________\n",
            "conv2d_21 (Conv2D)              (None, 16, 16, 128)  16512       activation_18[0][0]              \n",
            "__________________________________________________________________________________________________\n",
            "batch_normalization_19 (BatchNo (None, 16, 16, 128)  512         conv2d_21[0][0]                  \n",
            "__________________________________________________________________________________________________\n",
            "activation_19 (Activation)      (None, 16, 16, 128)  0           batch_normalization_19[0][0]     \n",
            "__________________________________________________________________________________________________\n",
            "conv2d_22 (Conv2D)              (None, 16, 16, 128)  147584      activation_19[0][0]              \n",
            "__________________________________________________________________________________________________\n",
            "batch_normalization_20 (BatchNo (None, 16, 16, 128)  512         conv2d_22[0][0]                  \n",
            "__________________________________________________________________________________________________\n",
            "activation_20 (Activation)      (None, 16, 16, 128)  0           batch_normalization_20[0][0]     \n",
            "__________________________________________________________________________________________________\n",
            "conv2d_24 (Conv2D)              (None, 16, 16, 256)  33024       add_5[0][0]                      \n",
            "__________________________________________________________________________________________________\n",
            "conv2d_23 (Conv2D)              (None, 16, 16, 256)  33024       activation_20[0][0]              \n",
            "__________________________________________________________________________________________________\n",
            "add_6 (Add)                     (None, 16, 16, 256)  0           conv2d_24[0][0]                  \n",
            "                                                                 conv2d_23[0][0]                  \n",
            "__________________________________________________________________________________________________\n",
            "batch_normalization_21 (BatchNo (None, 16, 16, 256)  1024        add_6[0][0]                      \n",
            "__________________________________________________________________________________________________\n",
            "activation_21 (Activation)      (None, 16, 16, 256)  0           batch_normalization_21[0][0]     \n",
            "__________________________________________________________________________________________________\n",
            "conv2d_25 (Conv2D)              (None, 16, 16, 128)  32896       activation_21[0][0]              \n",
            "__________________________________________________________________________________________________\n",
            "batch_normalization_22 (BatchNo (None, 16, 16, 128)  512         conv2d_25[0][0]                  \n",
            "__________________________________________________________________________________________________\n",
            "activation_22 (Activation)      (None, 16, 16, 128)  0           batch_normalization_22[0][0]     \n",
            "__________________________________________________________________________________________________\n",
            "conv2d_26 (Conv2D)              (None, 16, 16, 128)  147584      activation_22[0][0]              \n",
            "__________________________________________________________________________________________________\n",
            "batch_normalization_23 (BatchNo (None, 16, 16, 128)  512         conv2d_26[0][0]                  \n",
            "__________________________________________________________________________________________________\n",
            "activation_23 (Activation)      (None, 16, 16, 128)  0           batch_normalization_23[0][0]     \n",
            "__________________________________________________________________________________________________\n",
            "conv2d_27 (Conv2D)              (None, 16, 16, 256)  33024       activation_23[0][0]              \n",
            "__________________________________________________________________________________________________\n",
            "add_7 (Add)                     (None, 16, 16, 256)  0           add_6[0][0]                      \n",
            "                                                                 conv2d_27[0][0]                  \n",
            "__________________________________________________________________________________________________\n",
            "batch_normalization_24 (BatchNo (None, 16, 16, 256)  1024        add_7[0][0]                      \n",
            "__________________________________________________________________________________________________\n",
            "activation_24 (Activation)      (None, 16, 16, 256)  0           batch_normalization_24[0][0]     \n",
            "__________________________________________________________________________________________________\n",
            "conv2d_28 (Conv2D)              (None, 16, 16, 128)  32896       activation_24[0][0]              \n",
            "__________________________________________________________________________________________________\n",
            "batch_normalization_25 (BatchNo (None, 16, 16, 128)  512         conv2d_28[0][0]                  \n",
            "__________________________________________________________________________________________________\n",
            "activation_25 (Activation)      (None, 16, 16, 128)  0           batch_normalization_25[0][0]     \n",
            "__________________________________________________________________________________________________\n",
            "conv2d_29 (Conv2D)              (None, 16, 16, 128)  147584      activation_25[0][0]              \n",
            "__________________________________________________________________________________________________\n",
            "batch_normalization_26 (BatchNo (None, 16, 16, 128)  512         conv2d_29[0][0]                  \n",
            "__________________________________________________________________________________________________\n",
            "activation_26 (Activation)      (None, 16, 16, 128)  0           batch_normalization_26[0][0]     \n",
            "__________________________________________________________________________________________________\n",
            "conv2d_30 (Conv2D)              (None, 16, 16, 256)  33024       activation_26[0][0]              \n",
            "__________________________________________________________________________________________________\n",
            "add_8 (Add)                     (None, 16, 16, 256)  0           add_7[0][0]                      \n",
            "                                                                 conv2d_30[0][0]                  \n",
            "__________________________________________________________________________________________________\n",
            "batch_normalization_27 (BatchNo (None, 16, 16, 256)  1024        add_8[0][0]                      \n",
            "__________________________________________________________________________________________________\n",
            "activation_27 (Activation)      (None, 16, 16, 256)  0           batch_normalization_27[0][0]     \n",
            "__________________________________________________________________________________________________\n",
            "average_pooling2d (AveragePooli (None, 2, 2, 256)    0           activation_27[0][0]              \n",
            "__________________________________________________________________________________________________\n",
            "flatten (Flatten)               (None, 1024)         0           average_pooling2d[0][0]          \n",
            "__________________________________________________________________________________________________\n",
            "dense (Dense)                   (None, 3)            3075        flatten[0][0]                    \n",
            "==================================================================================================\n",
            "Total params: 849,507\n",
            "Trainable params: 844,291\n",
            "Non-trainable params: 5,216\n",
            "__________________________________________________________________________________________________\n"
          ],
          "name": "stdout"
        }
      ]
    },
    {
      "cell_type": "markdown",
      "metadata": {
        "id": "sUmiS87vdonR",
        "colab_type": "text"
      },
      "source": [
        "学習途上のチェックポイントから再開させることもできます。\n",
        "\n",
        "load_weights関数にてチェックポイントファイルから重みをロードします。"
      ]
    },
    {
      "cell_type": "code",
      "metadata": {
        "id": "dAQ_PWeidls-",
        "colab_type": "code",
        "colab": {}
      },
      "source": [
        "# チェックポイントから学習済みパラメータを復元\n",
        "#model.load_weights(f'{model_dir}run1/{model_structure}_{data_set}_cp-0010.ckpt')"
      ],
      "execution_count": 0,
      "outputs": []
    },
    {
      "cell_type": "markdown",
      "metadata": {
        "id": "6_yBnQiN0bID",
        "colab_type": "text"
      },
      "source": [
        "### 1.2.4 モデルの学習\n",
        "\n",
        "ようやく学習に入ります。今回は少ない画像データを水増しして学習させる方法を使います。\n",
        "\n",
        "この場合、学習処理にはfit_generator関数を使います。\n",
        "\n",
        "水増しというと聞こえが悪いですが、、、ImageDataGenerator関数を用いることで、画像データに若干の加工を行い、データのバリエーションを増やすことができます。\n",
        "\n",
        "サンプルでは、以下４点の設定を入れています。\n",
        "\n",
        "- rotation_range：画像を指定のレンジの幅で傾ける\n",
        "- zoom_range：画像の指定のレンジの幅で拡大する\n",
        "- height_shift_range：画像を指定のレンジの幅で縦にスライドする\n",
        "- width_shift_range：画像を指定のレンジの幅で横にスライドする\n",
        "\n"
      ]
    },
    {
      "cell_type": "code",
      "metadata": {
        "scrolled": false,
        "id": "_IQUEb790bIE",
        "colab_type": "code",
        "outputId": "284b9b70-369f-4a9c-f918-ecccf75190e0",
        "colab": {
          "base_uri": "https://localhost:8080/",
          "height": 714
        }
      },
      "source": [
        "from keras.preprocessing import image\n",
        "\n",
        "# epoch数を指定\n",
        "epochs=20\n",
        "\n",
        "# batchサイズを指定\n",
        "batch_size=500\n",
        "\n",
        "# 学習の実行(fit)\n",
        "#result = model.fit(x_train, y_train, batch_size=batch_size, epochs=epochs, verbose=1,callbacks=[tb_cb, cp_cb], validation_data=(x_test, y_test))\n",
        "\n",
        "# 画像データ生成器を作成する。\n",
        "params = {\n",
        "    'rotation_range': 20,\n",
        "    'zoom_range': 0.10,\n",
        "    'height_shift_range': 0.1,\n",
        "    'width_shift_range': 0.1\n",
        "}\n",
        "datagen = image.ImageDataGenerator(**params)\n",
        "datagen.fit(x_train)\n",
        "\n",
        "# 学習の実行 (fit_generator)\n",
        "result = model.fit_generator(datagen.flow(x_train, y_train, batch_size=16), steps_per_epoch=x_train.shape[0], epochs=epochs, validation_data=(x_test, y_test))\n",
        "\n"
      ],
      "execution_count": 21,
      "outputs": [
        {
          "output_type": "stream",
          "text": [
            "Using TensorFlow backend.\n"
          ],
          "name": "stderr"
        },
        {
          "output_type": "stream",
          "text": [
            "Epoch 1/20\n",
            "96/96 [==============================] - 19s 200ms/step - loss: 1.4964 - acc: 0.6732 - val_loss: 2.7477 - val_acc: 0.2917\n",
            "Epoch 2/20\n",
            "96/96 [==============================] - 10s 107ms/step - loss: 1.1674 - acc: 0.8646 - val_loss: 1.2646 - val_acc: 0.6667\n",
            "Epoch 3/20\n",
            "96/96 [==============================] - 10s 107ms/step - loss: 1.0071 - acc: 0.8952 - val_loss: 1.0428 - val_acc: 0.8750\n",
            "Epoch 4/20\n",
            "96/96 [==============================] - 10s 107ms/step - loss: 0.9218 - acc: 0.9134 - val_loss: 0.9405 - val_acc: 0.9167\n",
            "Epoch 5/20\n",
            "96/96 [==============================] - 10s 106ms/step - loss: 0.8614 - acc: 0.9336 - val_loss: 0.8917 - val_acc: 0.9167\n",
            "Epoch 6/20\n",
            "96/96 [==============================] - 10s 107ms/step - loss: 0.8401 - acc: 0.9395 - val_loss: 0.8695 - val_acc: 0.9167\n",
            "Epoch 7/20\n",
            "96/96 [==============================] - 10s 106ms/step - loss: 0.7959 - acc: 0.9557 - val_loss: 0.8462 - val_acc: 0.9167\n",
            "Epoch 8/20\n",
            "96/96 [==============================] - 10s 107ms/step - loss: 0.7726 - acc: 0.9609 - val_loss: 0.8283 - val_acc: 0.9167\n",
            "Epoch 9/20\n",
            "96/96 [==============================] - 10s 107ms/step - loss: 0.7511 - acc: 0.9635 - val_loss: 0.8180 - val_acc: 0.8750\n",
            "Epoch 10/20\n",
            "96/96 [==============================] - 10s 107ms/step - loss: 0.7383 - acc: 0.9714 - val_loss: 0.7855 - val_acc: 0.9167\n",
            "Epoch 11/20\n",
            "96/96 [==============================] - 10s 107ms/step - loss: 0.7218 - acc: 0.9759 - val_loss: 0.7766 - val_acc: 0.9167\n",
            "Epoch 12/20\n",
            "96/96 [==============================] - 10s 107ms/step - loss: 0.7213 - acc: 0.9707 - val_loss: 0.7729 - val_acc: 0.9167\n",
            "Epoch 13/20\n",
            "96/96 [==============================] - 10s 107ms/step - loss: 0.6942 - acc: 0.9837 - val_loss: 0.7657 - val_acc: 0.9167\n",
            "Epoch 14/20\n",
            "96/96 [==============================] - 10s 107ms/step - loss: 0.6841 - acc: 0.9896 - val_loss: 0.7646 - val_acc: 0.9167\n",
            "Epoch 15/20\n",
            "96/96 [==============================] - 10s 107ms/step - loss: 0.6883 - acc: 0.9844 - val_loss: 0.7832 - val_acc: 0.9167\n",
            "Epoch 16/20\n",
            "96/96 [==============================] - 10s 108ms/step - loss: 0.6729 - acc: 0.9896 - val_loss: 0.7686 - val_acc: 0.9167\n",
            "Epoch 17/20\n",
            "96/96 [==============================] - 10s 108ms/step - loss: 0.6684 - acc: 0.9928 - val_loss: 0.7572 - val_acc: 0.9167\n",
            "Epoch 18/20\n",
            "96/96 [==============================] - 10s 108ms/step - loss: 0.6610 - acc: 0.9922 - val_loss: 0.7532 - val_acc: 0.9167\n",
            "Epoch 19/20\n",
            "96/96 [==============================] - 10s 108ms/step - loss: 0.6563 - acc: 0.9941 - val_loss: 0.7460 - val_acc: 0.9167\n",
            "Epoch 20/20\n",
            "96/96 [==============================] - 10s 107ms/step - loss: 0.6543 - acc: 0.9941 - val_loss: 0.7667 - val_acc: 0.9583\n"
          ],
          "name": "stdout"
        }
      ]
    },
    {
      "cell_type": "markdown",
      "metadata": {
        "id": "XCLIozIF0bIJ",
        "colab_type": "text"
      },
      "source": [
        "学習結果の評価については、evaluate関数にて得ることができます。\n",
        "\n",
        "主な引数は次の通りです。\n",
        "\n",
        "* x：評価に使用する入力データ\n",
        "* y：評価に使用する出力データ\n",
        "* batch_size：1回の評価を行うにあたって用いるサンプル数\n",
        "* verbose：評価のログを出力するか（0:しない、1：する(デフォルト)）\n",
        "\n",
        "基本的には、損失(Loss)は低ければ低いほうが、評価(Accuracy)は高ければ高いほうが良いです。\n",
        "\n",
        "Accuracyはモデルの精度そのもの、Lossは学習が効率よく行われているかを示す指標で、Lossが高いまま収束していかない＝効率が良くなく、モデル構造やパラメータ改善の余地あり、という感覚でよいかと思います。\n"
      ]
    },
    {
      "cell_type": "code",
      "metadata": {
        "id": "Ys0GtCR60bIK",
        "colab_type": "code",
        "outputId": "ec458f24-6c62-4f66-b73c-1087ee455b0c",
        "colab": {
          "base_uri": "https://localhost:8080/",
          "height": 51
        }
      },
      "source": [
        "score = model.evaluate(x_test, y_test, verbose=0)\n",
        "print('Test loss:', score[0])\n",
        "print('Test accuracy:', score[1])"
      ],
      "execution_count": 22,
      "outputs": [
        {
          "output_type": "stream",
          "text": [
            "Test loss: 0.7852859497070312\n",
            "Test accuracy: 0.9583333\n"
          ],
          "name": "stdout"
        }
      ]
    },
    {
      "cell_type": "markdown",
      "metadata": {
        "id": "uvQIQuhhWdOo",
        "colab_type": "text"
      },
      "source": [
        "epochごとのAccuracyおよびLossの遷移をグラフ化してみましょう。\n",
        "\n",
        "fit関数のreturnから、データを取得することができます。"
      ]
    },
    {
      "cell_type": "code",
      "metadata": {
        "id": "UB8isRg_hfGT",
        "colab_type": "code",
        "outputId": "b68054c9-6759-4f51-fc2b-dd10fc5a6e17",
        "colab": {
          "base_uri": "https://localhost:8080/",
          "height": 644
        }
      },
      "source": [
        "result.history.keys() # ヒストリデータのラベルを見てみる\n",
        "print(epochs)\n",
        "print(result.history['acc'])\n",
        "plt.plot(range(1, epochs+1), result.history['acc'], label=\"training\")\n",
        "plt.plot(range(1, epochs+1), result.history['val_acc'], label=\"validation\")\n",
        "plt.title('Accuracy History')\n",
        "plt.xlabel('Epochs')\n",
        "plt.ylabel('Accuracy')\n",
        "plt.legend()\n",
        "plt.xlim([1,epochs])\n",
        "plt.ylim([0,1])\n",
        "plt.show()\n",
        "plt.savefig(model_opt+'_'+'acc.png')\n",
        "\n",
        "plt.plot(range(1, epochs+1), result.history['loss'], label=\"training\")\n",
        "plt.plot(range(1, epochs+1), result.history['val_loss'], label=\"validation\")\n",
        "plt.title('Loss History')\n",
        "plt.xlabel('Epochs')\n",
        "plt.ylabel('Loss')\n",
        "plt.legend()\n",
        "plt.xlim([1,epochs])\n",
        "plt.ylim([0,20])\n",
        "plt.show()\n",
        "plt.savefig(model_opt+'_'+'loss.png')"
      ],
      "execution_count": 23,
      "outputs": [
        {
          "output_type": "stream",
          "text": [
            "20\n",
            "[0.67317706, 0.8645833, 0.8951823, 0.91341144, 0.93359375, 0.9394531, 0.9557292, 0.9609375, 0.9635417, 0.9713542, 0.97591144, 0.9707031, 0.98372394, 0.9895833, 0.984375, 0.9895833, 0.99283856, 0.9921875, 0.9941406, 0.9941406]\n"
          ],
          "name": "stdout"
        },
        {
          "output_type": "display_data",
          "data": {
            "image/png": "[encoded data removed]",
            "text/plain": [
              "<Figure size 432x288 with 1 Axes>"
            ]
          },
          "metadata": {
            "tags": []
          }
        },
        {
          "output_type": "display_data",
          "data": {
            "image/png": "[encoded data removed]",
            "text/plain": [
              "<Figure size 432x288 with 1 Axes>"
            ]
          },
          "metadata": {
            "tags": []
          }
        },
        {
          "output_type": "display_data",
          "data": {
            "text/plain": [
              "<Figure size 432x288 with 0 Axes>"
            ]
          },
          "metadata": {
            "tags": []
          }
        }
      ]
    },
    {
      "cell_type": "markdown",
      "metadata": {
        "id": "Zq7fmArk0bIN",
        "colab_type": "text"
      },
      "source": [
        "### 2.2.6 モデルによる予測\n",
        "\n",
        "精度だけ見ても面白くないので、検証用データの予測結果を見てみましょう。\n",
        "\n",
        "Sequential.predict関数によって予測を行うことができます。\n",
        "\n",
        "主な引数は次の通りです。\n",
        "\n",
        "* x_test：予測に使用する入力データ\n",
        "* batch_size：まとめて1度に予測を行うサンプル数\n",
        "* verbose：評価のログを出力するか（0:しない(デフォルト)、1：する）"
      ]
    },
    {
      "cell_type": "code",
      "metadata": {
        "id": "m7CJSTL50bIN",
        "colab_type": "code",
        "outputId": "b9c9a127-13d9-4b75-e858-516792551efb",
        "colab": {
          "base_uri": "https://localhost:8080/",
          "height": 34
        }
      },
      "source": [
        "classes = model.predict(x_test, batch_size=128, verbose=1)"
      ],
      "execution_count": 24,
      "outputs": [
        {
          "output_type": "stream",
          "text": [
            "\r24/24 [==============================] - 0s 15ms/sample\n"
          ],
          "name": "stdout"
        }
      ]
    },
    {
      "cell_type": "markdown",
      "metadata": {
        "id": "kx85EWpfW7Nz",
        "colab_type": "text"
      },
      "source": [
        "上記コマンドで検証用データの予測を実施しています。\n",
        "\n",
        "どのような結果が得られているかイメージしやすくするために、画像を1枚抽出して、その結果を実際に見てみます。\n"
      ]
    },
    {
      "cell_type": "code",
      "metadata": {
        "id": "5sTY0plvOe-2",
        "colab_type": "code",
        "outputId": "0b53384c-a2cd-48a7-c3ef-979e8b11b8c0",
        "colab": {
          "base_uri": "https://localhost:8080/",
          "height": 303
        }
      },
      "source": [
        "# データセットの推論結果と元画像を確認\n",
        "# test_numを0～9999で指定してください\n",
        "%matplotlib inline\n",
        "test_num=9\n",
        "test_img = np.squeeze(x_test[test_num])\n",
        "\n",
        "labels = np.array([0,1,2,3,4,5,6,7,8,9])\n",
        "labels = np.array([\n",
        "        'rx-178',\n",
        "        'msz-006',\n",
        "        'rx-93'])\n",
        "\n",
        "print(\"クラスごとの確からしさ(%)：\"+str(np.round(classes[test_num],decimals=2)*100))\n",
        "\n",
        "print(\"推論結果：\"+str(labels[classes[test_num].argmax()]))\n",
        "plt.imshow(test_img.astype(np.int),'gray')\n",
        "plt.show()"
      ],
      "execution_count": 25,
      "outputs": [
        {
          "output_type": "stream",
          "text": [
            "クラスごとの確からしさ(%)：[ 4. 96.  0.]\n",
            "推論結果：msz-006\n"
          ],
          "name": "stdout"
        },
        {
          "output_type": "display_data",
          "data": {
            "image/png": "[encoded data removed]",
            "text/plain": [
              "<Figure size 432x288 with 1 Axes>"
            ]
          },
          "metadata": {
            "tags": []
          }
        }
      ]
    },
    {
      "cell_type": "markdown",
      "metadata": {
        "id": "pQ4aUVfFVYfE",
        "colab_type": "text"
      },
      "source": [
        "予測精度の最終確認として、Confusion Matrixを表示してみます。\n",
        "\n",
        "X軸とY軸が一致する箇所に集中していれば(要するに左上から右下に斜めに赤くなっている)、精度の良いモデルと言えるでしょう。"
      ]
    },
    {
      "cell_type": "code",
      "metadata": {
        "id": "BIOawSjjUl0y",
        "colab_type": "code",
        "outputId": "c1ef3226-06e4-4c49-c323-c420953ef2f9",
        "colab": {
          "base_uri": "https://localhost:8080/",
          "height": 432
        }
      },
      "source": [
        "import pandas as pd\n",
        "import seaborn as sns\n",
        "from sklearn.metrics import confusion_matrix\n",
        "from sklearn.metrics import classification_report\n",
        "\n",
        "#print(classification_report(np.argmax(y_test, 1), np.argmax(classes, 1)))\n",
        "#print(confusion_matrix(np.argmax(y_test, 1), np.argmax(classes, 1)))\n",
        "\n",
        "cmatrix = confusion_matrix(np.argmax(y_test, 1), np.argmax(classes, 1))\n",
        "cmatrix_plt = pd.DataFrame(cmatrix, index=labels, columns=labels)\n",
        "\n",
        "plt.figure(figsize = (10,7))\n",
        "sns.heatmap(cmatrix_plt, annot=True, cmap=\"Reds\", fmt=\"d\")\n",
        "plt.show()"
      ],
      "execution_count": 26,
      "outputs": [
        {
          "output_type": "display_data",
          "data": {
            "image/png": "[encoded data removed]",
            "text/plain": [
              "<Figure size 720x504 with 2 Axes>"
            ]
          },
          "metadata": {
            "tags": []
          }
        }
      ]
    },
    {
      "cell_type": "markdown",
      "metadata": {
        "id": "sqbPWg1mfbA3",
        "colab_type": "text"
      },
      "source": [
        "### 2.2.7 モデルのファイル出力\n",
        "\n",
        "学習させたモデルを出力し、静的学習済みモデルとして外部で活用することもできます。\n",
        "\n",
        "ここでは、Keras形式に加えて、TensorFlowのSaved Model形式も試してみます。"
      ]
    },
    {
      "cell_type": "code",
      "metadata": {
        "id": "_tcWm1vmlVvA",
        "colab_type": "code",
        "outputId": "740d25bf-40da-4f0d-81a0-3e9ced704da9",
        "colab": {
          "base_uri": "https://localhost:8080/",
          "height": 1000
        }
      },
      "source": [
        "# Keras形式でモデルを出力\n",
        "output_keras_name = f\"{model_dir}02_{model_opt}_{epochs}_frozen_graph.h5\"\n",
        "model.save(output_keras_name, include_optimizer=False)\n",
        "\n",
        "# TensorFlow Saved Model形式でモデルを出力\n",
        "from tensorflow.contrib import saved_model\n",
        "\n",
        "out_tf_saved_model = f\"{model_dir}02_{model_opt}_{epochs}_saved_models\"\n",
        "\n",
        "if os.path.exists(out_tf_saved_model):\n",
        "    shutil.rmtree(out_tf_saved_model)\n",
        "#saved_model_path = saved_model.save_keras_model(model, out_tf_saved_model)\n",
        "saved_model_path = saved_model.save_keras_model(model, \"./saved_modelxy\")\n"
      ],
      "execution_count": 27,
      "outputs": [
        {
          "output_type": "stream",
          "text": [
            "W0712 07:02:05.427572 140019297666944 deprecation.py:506] From /usr/local/lib/python3.6/dist-packages/tensorflow/python/ops/init_ops.py:97: calling VarianceScaling.__init__ (from tensorflow.python.ops.init_ops) with dtype is deprecated and will be removed in a future version.\n",
            "Instructions for updating:\n",
            "Call initializer instance with the dtype argument instead of passing it to the constructor\n",
            "W0712 07:02:05.429402 140019297666944 deprecation.py:506] From /usr/local/lib/python3.6/dist-packages/tensorflow/python/ops/init_ops.py:97: calling Zeros.__init__ (from tensorflow.python.ops.init_ops) with dtype is deprecated and will be removed in a future version.\n",
            "Instructions for updating:\n",
            "Call initializer instance with the dtype argument instead of passing it to the constructor\n",
            "W0712 07:02:05.459376 140019297666944 deprecation.py:506] From /usr/local/lib/python3.6/dist-packages/tensorflow/python/ops/init_ops.py:97: calling Ones.__init__ (from tensorflow.python.ops.init_ops) with dtype is deprecated and will be removed in a future version.\n",
            "Instructions for updating:\n",
            "Call initializer instance with the dtype argument instead of passing it to the constructor\n",
            "W0712 07:02:13.526880 140019297666944 deprecation.py:323] From /usr/local/lib/python3.6/dist-packages/tensorflow/python/saved_model/signature_def_utils_impl.py:253: build_tensor_info (from tensorflow.python.saved_model.utils_impl) is deprecated and will be removed in a future version.\n",
            "Instructions for updating:\n",
            "This function will only be available through the v1 compatibility library as tf.compat.v1.saved_model.utils.build_tensor_info or tf.compat.v1.saved_model.build_tensor_info.\n",
            "W0712 07:02:13.528868 140019297666944 export_utils.py:182] Export includes no default signature!\n",
            "W0712 07:02:18.477467 140019297666944 export_utils.py:182] Export includes no default signature!\n",
            "W0712 07:02:20.730558 140019297666944 util.py:244] Unresolved object in checkpoint: (root).layer_with_weights-1._updates\n",
            "W0712 07:02:20.732207 140019297666944 util.py:244] Unresolved object in checkpoint: (root).layer_with_weights-3._updates\n",
            "W0712 07:02:20.737928 140019297666944 util.py:244] Unresolved object in checkpoint: (root).layer_with_weights-5._updates\n",
            "W0712 07:02:20.739681 140019297666944 util.py:244] Unresolved object in checkpoint: (root).layer_with_weights-8._updates\n",
            "W0712 07:02:20.741731 140019297666944 util.py:244] Unresolved object in checkpoint: (root).layer_with_weights-10._updates\n",
            "W0712 07:02:20.743557 140019297666944 util.py:244] Unresolved object in checkpoint: (root).layer_with_weights-12._updates\n",
            "W0712 07:02:20.745907 140019297666944 util.py:244] Unresolved object in checkpoint: (root).layer_with_weights-14._updates\n",
            "W0712 07:02:20.747919 140019297666944 util.py:244] Unresolved object in checkpoint: (root).layer_with_weights-16._updates\n",
            "W0712 07:02:20.749972 140019297666944 util.py:244] Unresolved object in checkpoint: (root).layer_with_weights-18._updates\n",
            "W0712 07:02:20.751935 140019297666944 util.py:244] Unresolved object in checkpoint: (root).layer_with_weights-20._updates\n",
            "W0712 07:02:20.753929 140019297666944 util.py:244] Unresolved object in checkpoint: (root).layer_with_weights-22._updates\n",
            "W0712 07:02:20.756004 140019297666944 util.py:244] Unresolved object in checkpoint: (root).layer_with_weights-24._updates\n",
            "W0712 07:02:20.758124 140019297666944 util.py:244] Unresolved object in checkpoint: (root).layer_with_weights-27._updates\n",
            "W0712 07:02:20.760372 140019297666944 util.py:244] Unresolved object in checkpoint: (root).layer_with_weights-29._updates\n",
            "W0712 07:02:20.762562 140019297666944 util.py:244] Unresolved object in checkpoint: (root).layer_with_weights-31._updates\n",
            "W0712 07:02:20.765097 140019297666944 util.py:244] Unresolved object in checkpoint: (root).layer_with_weights-33._updates\n",
            "W0712 07:02:20.768019 140019297666944 util.py:244] Unresolved object in checkpoint: (root).layer_with_weights-35._updates\n",
            "W0712 07:02:20.769976 140019297666944 util.py:244] Unresolved object in checkpoint: (root).layer_with_weights-37._updates\n",
            "W0712 07:02:20.772171 140019297666944 util.py:244] Unresolved object in checkpoint: (root).layer_with_weights-39._updates\n",
            "W0712 07:02:20.773956 140019297666944 util.py:244] Unresolved object in checkpoint: (root).layer_with_weights-41._updates\n",
            "W0712 07:02:20.775869 140019297666944 util.py:244] Unresolved object in checkpoint: (root).layer_with_weights-43._updates\n",
            "W0712 07:02:20.777520 140019297666944 util.py:244] Unresolved object in checkpoint: (root).layer_with_weights-46._updates\n",
            "W0712 07:02:20.779489 140019297666944 util.py:244] Unresolved object in checkpoint: (root).layer_with_weights-48._updates\n",
            "W0712 07:02:20.781364 140019297666944 util.py:244] Unresolved object in checkpoint: (root).layer_with_weights-50._updates\n",
            "W0712 07:02:20.783636 140019297666944 util.py:244] Unresolved object in checkpoint: (root).layer_with_weights-52._updates\n",
            "W0712 07:02:20.785667 140019297666944 util.py:244] Unresolved object in checkpoint: (root).layer_with_weights-54._updates\n",
            "W0712 07:02:20.787399 140019297666944 util.py:244] Unresolved object in checkpoint: (root).layer_with_weights-56._updates\n",
            "W0712 07:02:20.789269 140019297666944 util.py:244] Unresolved object in checkpoint: (root).layer_with_weights-58._updates\n",
            "W0712 07:02:20.790977 140019297666944 util.py:244] Unresolved object in checkpoint: (root).optimizer.decay\n",
            "W0712 07:02:20.792953 140019297666944 util.py:244] Unresolved object in checkpoint: (root).optimizer.learning_rate\n",
            "W0712 07:02:20.794739 140019297666944 util.py:244] Unresolved object in checkpoint: (root).optimizer.momentum\n",
            "W0712 07:02:20.796727 140019297666944 util.py:244] Unresolved object in checkpoint: (root).optimizer's state 'momentum' for (root).layer_with_weights-0.kernel\n",
            "W0712 07:02:20.798446 140019297666944 util.py:244] Unresolved object in checkpoint: (root).optimizer's state 'momentum' for (root).layer_with_weights-0.bias\n",
            "W0712 07:02:20.801171 140019297666944 util.py:244] Unresolved object in checkpoint: (root).optimizer's state 'momentum' for (root).layer_with_weights-1.gamma\n",
            "W0712 07:02:20.802736 140019297666944 util.py:244] Unresolved object in checkpoint: (root).optimizer's state 'momentum' for (root).layer_with_weights-1.beta\n",
            "W0712 07:02:20.804390 140019297666944 util.py:244] Unresolved object in checkpoint: (root).optimizer's state 'momentum' for (root).layer_with_weights-2.kernel\n",
            "W0712 07:02:20.805710 140019297666944 util.py:244] Unresolved object in checkpoint: (root).optimizer's state 'momentum' for (root).layer_with_weights-2.bias\n",
            "W0712 07:02:20.807877 140019297666944 util.py:244] Unresolved object in checkpoint: (root).optimizer's state 'momentum' for (root).layer_with_weights-3.gamma\n",
            "W0712 07:02:20.809528 140019297666944 util.py:244] Unresolved object in checkpoint: (root).optimizer's state 'momentum' for (root).layer_with_weights-3.beta\n",
            "W0712 07:02:20.811012 140019297666944 util.py:244] Unresolved object in checkpoint: (root).optimizer's state 'momentum' for (root).layer_with_weights-4.kernel\n",
            "W0712 07:02:20.812676 140019297666944 util.py:244] Unresolved object in checkpoint: (root).optimizer's state 'momentum' for (root).layer_with_weights-4.bias\n",
            "W0712 07:02:20.814352 140019297666944 util.py:244] Unresolved object in checkpoint: (root).optimizer's state 'momentum' for (root).layer_with_weights-5.gamma\n",
            "W0712 07:02:20.816045 140019297666944 util.py:244] Unresolved object in checkpoint: (root).optimizer's state 'momentum' for (root).layer_with_weights-5.beta\n",
            "W0712 07:02:20.817673 140019297666944 util.py:244] Unresolved object in checkpoint: (root).optimizer's state 'momentum' for (root).layer_with_weights-6.kernel\n",
            "W0712 07:02:20.819013 140019297666944 util.py:244] Unresolved object in checkpoint: (root).optimizer's state 'momentum' for (root).layer_with_weights-6.bias\n",
            "W0712 07:02:20.820585 140019297666944 util.py:244] Unresolved object in checkpoint: (root).optimizer's state 'momentum' for (root).layer_with_weights-7.kernel\n",
            "W0712 07:02:20.822259 140019297666944 util.py:244] Unresolved object in checkpoint: (root).optimizer's state 'momentum' for (root).layer_with_weights-7.bias\n",
            "W0712 07:02:20.823754 140019297666944 util.py:244] Unresolved object in checkpoint: (root).optimizer's state 'momentum' for (root).layer_with_weights-8.gamma\n",
            "W0712 07:02:20.825424 140019297666944 util.py:244] Unresolved object in checkpoint: (root).optimizer's state 'momentum' for (root).layer_with_weights-8.beta\n",
            "W0712 07:02:20.827175 140019297666944 util.py:244] Unresolved object in checkpoint: (root).optimizer's state 'momentum' for (root).layer_with_weights-9.kernel\n",
            "W0712 07:02:20.828838 140019297666944 util.py:244] Unresolved object in checkpoint: (root).optimizer's state 'momentum' for (root).layer_with_weights-9.bias\n",
            "W0712 07:02:20.830238 140019297666944 util.py:244] Unresolved object in checkpoint: (root).optimizer's state 'momentum' for (root).layer_with_weights-10.gamma\n",
            "W0712 07:02:20.831815 140019297666944 util.py:244] Unresolved object in checkpoint: (root).optimizer's state 'momentum' for (root).layer_with_weights-10.beta\n",
            "W0712 07:02:20.833542 140019297666944 util.py:244] Unresolved object in checkpoint: (root).optimizer's state 'momentum' for (root).layer_with_weights-11.kernel\n",
            "W0712 07:02:20.835104 140019297666944 util.py:244] Unresolved object in checkpoint: (root).optimizer's state 'momentum' for (root).layer_with_weights-11.bias\n",
            "W0712 07:02:20.836377 140019297666944 util.py:244] Unresolved object in checkpoint: (root).optimizer's state 'momentum' for (root).layer_with_weights-12.gamma\n",
            "W0712 07:02:20.838460 140019297666944 util.py:244] Unresolved object in checkpoint: (root).optimizer's state 'momentum' for (root).layer_with_weights-12.beta\n",
            "W0712 07:02:20.840087 140019297666944 util.py:244] Unresolved object in checkpoint: (root).optimizer's state 'momentum' for (root).layer_with_weights-13.kernel\n",
            "W0712 07:02:20.841902 140019297666944 util.py:244] Unresolved object in checkpoint: (root).optimizer's state 'momentum' for (root).layer_with_weights-13.bias\n",
            "W0712 07:02:20.843581 140019297666944 util.py:244] Unresolved object in checkpoint: (root).optimizer's state 'momentum' for (root).layer_with_weights-14.gamma\n",
            "W0712 07:02:20.845128 140019297666944 util.py:244] Unresolved object in checkpoint: (root).optimizer's state 'momentum' for (root).layer_with_weights-14.beta\n",
            "W0712 07:02:20.846821 140019297666944 util.py:244] Unresolved object in checkpoint: (root).optimizer's state 'momentum' for (root).layer_with_weights-15.kernel\n",
            "W0712 07:02:20.848456 140019297666944 util.py:244] Unresolved object in checkpoint: (root).optimizer's state 'momentum' for (root).layer_with_weights-15.bias\n",
            "W0712 07:02:20.850294 140019297666944 util.py:244] Unresolved object in checkpoint: (root).optimizer's state 'momentum' for (root).layer_with_weights-16.gamma\n",
            "W0712 07:02:20.851993 140019297666944 util.py:244] Unresolved object in checkpoint: (root).optimizer's state 'momentum' for (root).layer_with_weights-16.beta\n",
            "W0712 07:02:20.853806 140019297666944 util.py:244] Unresolved object in checkpoint: (root).optimizer's state 'momentum' for (root).layer_with_weights-17.kernel\n",
            "W0712 07:02:20.855271 140019297666944 util.py:244] Unresolved object in checkpoint: (root).optimizer's state 'momentum' for (root).layer_with_weights-17.bias\n",
            "W0712 07:02:20.857206 140019297666944 util.py:244] Unresolved object in checkpoint: (root).optimizer's state 'momentum' for (root).layer_with_weights-18.gamma\n",
            "W0712 07:02:20.858937 140019297666944 util.py:244] Unresolved object in checkpoint: (root).optimizer's state 'momentum' for (root).layer_with_weights-18.beta\n",
            "W0712 07:02:20.860630 140019297666944 util.py:244] Unresolved object in checkpoint: (root).optimizer's state 'momentum' for (root).layer_with_weights-19.kernel\n",
            "W0712 07:02:20.862241 140019297666944 util.py:244] Unresolved object in checkpoint: (root).optimizer's state 'momentum' for (root).layer_with_weights-19.bias\n",
            "W0712 07:02:20.863886 140019297666944 util.py:244] Unresolved object in checkpoint: (root).optimizer's state 'momentum' for (root).layer_with_weights-20.gamma\n",
            "W0712 07:02:20.865302 140019297666944 util.py:244] Unresolved object in checkpoint: (root).optimizer's state 'momentum' for (root).layer_with_weights-20.beta\n",
            "W0712 07:02:20.867073 140019297666944 util.py:244] Unresolved object in checkpoint: (root).optimizer's state 'momentum' for (root).layer_with_weights-21.kernel\n",
            "W0712 07:02:20.868880 140019297666944 util.py:244] Unresolved object in checkpoint: (root).optimizer's state 'momentum' for (root).layer_with_weights-21.bias\n",
            "W0712 07:02:20.870469 140019297666944 util.py:244] Unresolved object in checkpoint: (root).optimizer's state 'momentum' for (root).layer_with_weights-22.gamma\n",
            "W0712 07:02:20.872077 140019297666944 util.py:244] Unresolved object in checkpoint: (root).optimizer's state 'momentum' for (root).layer_with_weights-22.beta\n",
            "W0712 07:02:20.873763 140019297666944 util.py:244] Unresolved object in checkpoint: (root).optimizer's state 'momentum' for (root).layer_with_weights-23.kernel\n",
            "W0712 07:02:20.875404 140019297666944 util.py:244] Unresolved object in checkpoint: (root).optimizer's state 'momentum' for (root).layer_with_weights-23.bias\n",
            "W0712 07:02:20.876723 140019297666944 util.py:244] Unresolved object in checkpoint: (root).optimizer's state 'momentum' for (root).layer_with_weights-24.gamma\n",
            "W0712 07:02:20.878341 140019297666944 util.py:244] Unresolved object in checkpoint: (root).optimizer's state 'momentum' for (root).layer_with_weights-24.beta\n",
            "W0712 07:02:20.879904 140019297666944 util.py:244] Unresolved object in checkpoint: (root).optimizer's state 'momentum' for (root).layer_with_weights-25.kernel\n",
            "W0712 07:02:20.881705 140019297666944 util.py:244] Unresolved object in checkpoint: (root).optimizer's state 'momentum' for (root).layer_with_weights-25.bias\n",
            "W0712 07:02:20.883280 140019297666944 util.py:244] Unresolved object in checkpoint: (root).optimizer's state 'momentum' for (root).layer_with_weights-26.kernel\n",
            "W0712 07:02:20.884573 140019297666944 util.py:244] Unresolved object in checkpoint: (root).optimizer's state 'momentum' for (root).layer_with_weights-26.bias\n",
            "W0712 07:02:20.886159 140019297666944 util.py:244] Unresolved object in checkpoint: (root).optimizer's state 'momentum' for (root).layer_with_weights-27.gamma\n",
            "W0712 07:02:20.887770 140019297666944 util.py:244] Unresolved object in checkpoint: (root).optimizer's state 'momentum' for (root).layer_with_weights-27.beta\n",
            "W0712 07:02:20.889336 140019297666944 util.py:244] Unresolved object in checkpoint: (root).optimizer's state 'momentum' for (root).layer_with_weights-28.kernel\n",
            "W0712 07:02:20.890866 140019297666944 util.py:244] Unresolved object in checkpoint: (root).optimizer's state 'momentum' for (root).layer_with_weights-28.bias\n",
            "W0712 07:02:20.892673 140019297666944 util.py:244] Unresolved object in checkpoint: (root).optimizer's state 'momentum' for (root).layer_with_weights-29.gamma\n",
            "W0712 07:02:20.894282 140019297666944 util.py:244] Unresolved object in checkpoint: (root).optimizer's state 'momentum' for (root).layer_with_weights-29.beta\n",
            "W0712 07:02:20.895917 140019297666944 util.py:244] Unresolved object in checkpoint: (root).optimizer's state 'momentum' for (root).layer_with_weights-30.kernel\n",
            "W0712 07:02:20.897423 140019297666944 util.py:244] Unresolved object in checkpoint: (root).optimizer's state 'momentum' for (root).layer_with_weights-30.bias\n",
            "W0712 07:02:20.899021 140019297666944 util.py:244] Unresolved object in checkpoint: (root).optimizer's state 'momentum' for (root).layer_with_weights-31.gamma\n",
            "W0712 07:02:20.900797 140019297666944 util.py:244] Unresolved object in checkpoint: (root).optimizer's state 'momentum' for (root).layer_with_weights-31.beta\n",
            "W0712 07:02:20.902430 140019297666944 util.py:244] Unresolved object in checkpoint: (root).optimizer's state 'momentum' for (root).layer_with_weights-32.kernel\n",
            "W0712 07:02:20.903959 140019297666944 util.py:244] Unresolved object in checkpoint: (root).optimizer's state 'momentum' for (root).layer_with_weights-32.bias\n",
            "W0712 07:02:20.905297 140019297666944 util.py:244] Unresolved object in checkpoint: (root).optimizer's state 'momentum' for (root).layer_with_weights-33.gamma\n",
            "W0712 07:02:20.906872 140019297666944 util.py:244] Unresolved object in checkpoint: (root).optimizer's state 'momentum' for (root).layer_with_weights-33.beta\n",
            "W0712 07:02:20.908385 140019297666944 util.py:244] Unresolved object in checkpoint: (root).optimizer's state 'momentum' for (root).layer_with_weights-34.kernel\n",
            "W0712 07:02:20.910066 140019297666944 util.py:244] Unresolved object in checkpoint: (root).optimizer's state 'momentum' for (root).layer_with_weights-34.bias\n",
            "W0712 07:02:20.911668 140019297666944 util.py:244] Unresolved object in checkpoint: (root).optimizer's state 'momentum' for (root).layer_with_weights-35.gamma\n",
            "W0712 07:02:20.913280 140019297666944 util.py:244] Unresolved object in checkpoint: (root).optimizer's state 'momentum' for (root).layer_with_weights-35.beta\n",
            "W0712 07:02:20.914581 140019297666944 util.py:244] Unresolved object in checkpoint: (root).optimizer's state 'momentum' for (root).layer_with_weights-36.kernel\n",
            "W0712 07:02:20.916137 140019297666944 util.py:244] Unresolved object in checkpoint: (root).optimizer's state 'momentum' for (root).layer_with_weights-36.bias\n",
            "W0712 07:02:20.917612 140019297666944 util.py:244] Unresolved object in checkpoint: (root).optimizer's state 'momentum' for (root).layer_with_weights-37.gamma\n",
            "W0712 07:02:20.919119 140019297666944 util.py:244] Unresolved object in checkpoint: (root).optimizer's state 'momentum' for (root).layer_with_weights-37.beta\n",
            "W0712 07:02:20.920851 140019297666944 util.py:244] Unresolved object in checkpoint: (root).optimizer's state 'momentum' for (root).layer_with_weights-38.kernel\n",
            "W0712 07:02:20.922478 140019297666944 util.py:244] Unresolved object in checkpoint: (root).optimizer's state 'momentum' for (root).layer_with_weights-38.bias\n",
            "W0712 07:02:20.924010 140019297666944 util.py:244] Unresolved object in checkpoint: (root).optimizer's state 'momentum' for (root).layer_with_weights-39.gamma\n",
            "W0712 07:02:20.925397 140019297666944 util.py:244] Unresolved object in checkpoint: (root).optimizer's state 'momentum' for (root).layer_with_weights-39.beta\n",
            "W0712 07:02:20.927051 140019297666944 util.py:244] Unresolved object in checkpoint: (root).optimizer's state 'momentum' for (root).layer_with_weights-40.kernel\n",
            "W0712 07:02:20.928975 140019297666944 util.py:244] Unresolved object in checkpoint: (root).optimizer's state 'momentum' for (root).layer_with_weights-40.bias\n",
            "W0712 07:02:20.930827 140019297666944 util.py:244] Unresolved object in checkpoint: (root).optimizer's state 'momentum' for (root).layer_with_weights-41.gamma\n",
            "W0712 07:02:20.933162 140019297666944 util.py:244] Unresolved object in checkpoint: (root).optimizer's state 'momentum' for (root).layer_with_weights-41.beta\n",
            "W0712 07:02:20.935292 140019297666944 util.py:244] Unresolved object in checkpoint: (root).optimizer's state 'momentum' for (root).layer_with_weights-42.kernel\n",
            "W0712 07:02:20.936891 140019297666944 util.py:244] Unresolved object in checkpoint: (root).optimizer's state 'momentum' for (root).layer_with_weights-42.bias\n",
            "W0712 07:02:20.938428 140019297666944 util.py:244] Unresolved object in checkpoint: (root).optimizer's state 'momentum' for (root).layer_with_weights-43.gamma\n",
            "W0712 07:02:20.940020 140019297666944 util.py:244] Unresolved object in checkpoint: (root).optimizer's state 'momentum' for (root).layer_with_weights-43.beta\n",
            "W0712 07:02:20.941455 140019297666944 util.py:244] Unresolved object in checkpoint: (root).optimizer's state 'momentum' for (root).layer_with_weights-44.kernel\n",
            "W0712 07:02:20.943728 140019297666944 util.py:244] Unresolved object in checkpoint: (root).optimizer's state 'momentum' for (root).layer_with_weights-44.bias\n",
            "W0712 07:02:20.945502 140019297666944 util.py:244] Unresolved object in checkpoint: (root).optimizer's state 'momentum' for (root).layer_with_weights-45.kernel\n",
            "W0712 07:02:20.947093 140019297666944 util.py:244] Unresolved object in checkpoint: (root).optimizer's state 'momentum' for (root).layer_with_weights-45.bias\n",
            "W0712 07:02:20.948701 140019297666944 util.py:244] Unresolved object in checkpoint: (root).optimizer's state 'momentum' for (root).layer_with_weights-46.gamma\n",
            "W0712 07:02:20.950254 140019297666944 util.py:244] Unresolved object in checkpoint: (root).optimizer's state 'momentum' for (root).layer_with_weights-46.beta\n",
            "W0712 07:02:20.951874 140019297666944 util.py:244] Unresolved object in checkpoint: (root).optimizer's state 'momentum' for (root).layer_with_weights-47.kernel\n",
            "W0712 07:02:20.954102 140019297666944 util.py:244] Unresolved object in checkpoint: (root).optimizer's state 'momentum' for (root).layer_with_weights-47.bias\n",
            "W0712 07:02:20.956485 140019297666944 util.py:244] Unresolved object in checkpoint: (root).optimizer's state 'momentum' for (root).layer_with_weights-48.gamma\n",
            "W0712 07:02:20.958360 140019297666944 util.py:244] Unresolved object in checkpoint: (root).optimizer's state 'momentum' for (root).layer_with_weights-48.beta\n",
            "W0712 07:02:20.959644 140019297666944 util.py:244] Unresolved object in checkpoint: (root).optimizer's state 'momentum' for (root).layer_with_weights-49.kernel\n",
            "W0712 07:02:20.961917 140019297666944 util.py:244] Unresolved object in checkpoint: (root).optimizer's state 'momentum' for (root).layer_with_weights-49.bias\n",
            "W0712 07:02:20.964086 140019297666944 util.py:244] Unresolved object in checkpoint: (root).optimizer's state 'momentum' for (root).layer_with_weights-50.gamma\n",
            "W0712 07:02:20.965679 140019297666944 util.py:244] Unresolved object in checkpoint: (root).optimizer's state 'momentum' for (root).layer_with_weights-50.beta\n",
            "W0712 07:02:20.967962 140019297666944 util.py:244] Unresolved object in checkpoint: (root).optimizer's state 'momentum' for (root).layer_with_weights-51.kernel\n",
            "W0712 07:02:20.969774 140019297666944 util.py:244] Unresolved object in checkpoint: (root).optimizer's state 'momentum' for (root).layer_with_weights-51.bias\n",
            "W0712 07:02:20.971471 140019297666944 util.py:244] Unresolved object in checkpoint: (root).optimizer's state 'momentum' for (root).layer_with_weights-52.gamma\n",
            "W0712 07:02:20.973426 140019297666944 util.py:244] Unresolved object in checkpoint: (root).optimizer's state 'momentum' for (root).layer_with_weights-52.beta\n",
            "W0712 07:02:20.975128 140019297666944 util.py:244] Unresolved object in checkpoint: (root).optimizer's state 'momentum' for (root).layer_with_weights-53.kernel\n",
            "W0712 07:02:20.976128 140019297666944 util.py:244] Unresolved object in checkpoint: (root).optimizer's state 'momentum' for (root).layer_with_weights-53.bias\n",
            "W0712 07:02:20.978483 140019297666944 util.py:244] Unresolved object in checkpoint: (root).optimizer's state 'momentum' for (root).layer_with_weights-54.gamma\n",
            "W0712 07:02:20.980255 140019297666944 util.py:244] Unresolved object in checkpoint: (root).optimizer's state 'momentum' for (root).layer_with_weights-54.beta\n",
            "W0712 07:02:20.981930 140019297666944 util.py:244] Unresolved object in checkpoint: (root).optimizer's state 'momentum' for (root).layer_with_weights-55.kernel\n",
            "W0712 07:02:20.983207 140019297666944 util.py:244] Unresolved object in checkpoint: (root).optimizer's state 'momentum' for (root).layer_with_weights-55.bias\n",
            "W0712 07:02:20.985474 140019297666944 util.py:244] Unresolved object in checkpoint: (root).optimizer's state 'momentum' for (root).layer_with_weights-56.gamma\n",
            "W0712 07:02:20.987745 140019297666944 util.py:244] Unresolved object in checkpoint: (root).optimizer's state 'momentum' for (root).layer_with_weights-56.beta\n",
            "W0712 07:02:20.989270 140019297666944 util.py:244] Unresolved object in checkpoint: (root).optimizer's state 'momentum' for (root).layer_with_weights-57.kernel\n",
            "W0712 07:02:20.991442 140019297666944 util.py:244] Unresolved object in checkpoint: (root).optimizer's state 'momentum' for (root).layer_with_weights-57.bias\n",
            "W0712 07:02:20.992979 140019297666944 util.py:244] Unresolved object in checkpoint: (root).optimizer's state 'momentum' for (root).layer_with_weights-58.gamma\n",
            "W0712 07:02:20.994581 140019297666944 util.py:244] Unresolved object in checkpoint: (root).optimizer's state 'momentum' for (root).layer_with_weights-58.beta\n",
            "W0712 07:02:20.996474 140019297666944 util.py:244] Unresolved object in checkpoint: (root).optimizer's state 'momentum' for (root).layer_with_weights-59.kernel\n",
            "W0712 07:02:20.998080 140019297666944 util.py:244] Unresolved object in checkpoint: (root).optimizer's state 'momentum' for (root).layer_with_weights-59.bias\n",
            "W0712 07:02:20.999433 140019297666944 util.py:252] A checkpoint was restored (e.g. tf.train.Checkpoint.restore or tf.keras.Model.load_weights) but not all checkpointed values were used. See above for specific issues. Use expect_partial() on the load status object, e.g. tf.train.Checkpoint.restore(...).expect_partial(), to silence these warnings, or use assert_consumed() to make the check explicit. See https://www.tensorflow.org/alpha/guide/checkpoints#loading_mechanics for details.\n"
          ],
          "name": "stderr"
        }
      ]
    }
  ]
}