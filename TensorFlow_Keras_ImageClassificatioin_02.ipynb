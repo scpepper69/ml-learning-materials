{
  "nbformat": 4,
  "nbformat_minor": 0,
  "metadata": {
    "colab": {
      "name": "TensorFlow_Keras_ImageClassificatioin_02.ipynb",
      "version": "0.3.2",
      "provenance": [],
      "toc_visible": true,
      "include_colab_link": true
    },
    "language_info": {
      "codemirror_mode": {
        "name": "ipython",
        "version": 3
      },
      "file_extension": ".py",
      "mimetype": "text/x-python",
      "name": "python",
      "nbconvert_exporter": "python",
      "pygments_lexer": "ipython3",
      "version": "3.6.6"
    },
    "kernelspec": {
      "name": "python3",
      "display_name": "Python 3"
    },
    "accelerator": "GPU"
  },
  "cells": [
    {
      "cell_type": "markdown",
      "metadata": {
        "id": "view-in-github",
        "colab_type": "text"
      },
      "source": [
        "<a href=\"https://colab.research.google.com/github/scpepper69/ml-learning-materials/blob/master/TensorFlow_Keras_ImageClassificatioin_02.ipynb\" target=\"_parent\"><img src=\"https://colab.research.google.com/assets/colab-badge.svg\" alt=\"Open In Colab\"/></a>"
      ]
    },
    {
      "cell_type": "markdown",
      "metadata": {
        "id": "bYOnZhT30bGu",
        "colab_type": "text"
      },
      "source": [
        "# AI・機械学習 勉強会 #2\n",
        "## - オリジナル画像による画像分類モデルの構築 -\n"
      ]
    },
    {
      "cell_type": "markdown",
      "metadata": {
        "id": "nRUBscIZP3DA",
        "colab_type": "text"
      },
      "source": [
        "## 目次\n",
        "\n",
        "  \n",
        "2.1.   概要\n",
        "\n",
        "2.2.   実装プロセス\n",
        "\n",
        "1.   画像データの収集\n",
        "2.   環境準備\n",
        "3.   学習に向けたデータの準備\n",
        "4.   モデル構築\n",
        "5.   モデルの学習\n",
        "6.   モデルによる予測\n",
        "7.   モデルのファイル出力\n",
        "\n",
        "\n",
        "\n",
        "\n",
        "\n"
      ]
    },
    {
      "cell_type": "markdown",
      "metadata": {
        "id": "aNaQV4x5qxii",
        "colab_type": "text"
      },
      "source": [
        "\n",
        "\n",
        "---\n",
        "\n",
        "\n",
        "\n",
        "##2.1 概要\n",
        "「TensorFlow_Keras_ImageClassification_01」をベースとして、自分で収集した画像ファイルを用いて画像分類モデルを構築します。\n",
        "\n"
      ]
    },
    {
      "cell_type": "markdown",
      "metadata": {
        "id": "J2n0HLjd0bG3",
        "colab_type": "text"
      },
      "source": [
        "\n",
        "\n",
        "---\n",
        "\n",
        "\n",
        "\n",
        "## 2.2 実装プロセス"
      ]
    },
    {
      "cell_type": "markdown",
      "metadata": {
        "id": "HVNVVU2o0bG5",
        "colab_type": "text"
      },
      "source": [
        "画像データの準備は本ノートブック上では行えませんので、各自のPCにて実施します。\n",
        "\n",
        "各自のPCにて集めた画像(jpg形式を想定)データを用いて、学習を行います。\n",
        "\n",
        "データ準備以降のステップについては、「TensorFlow_Keras_ImageClassification_01」と基本的には同じです。\n"
      ]
    },
    {
      "cell_type": "markdown",
      "metadata": {
        "id": "juCkIfgekUSE",
        "colab_type": "text"
      },
      "source": [
        "###2.2.1 画像データの収集\n",
        "\n",
        "まずは、画像分類を行いたい画像を集めましょう。Webからスクレイピングするのも良し、自分で写真を撮って集めるのも良いです。\n",
        "\n",
        "Deep Learningにおいては、データの量が重要だと良く言われます。\n",
        "\n",
        "ただ、大量のデータといっても、品質が伴っていないと意味がありません。\n",
        "\n",
        "たとえば、判断不能なデータをラベリングし、学習させてしまっては、間違いを教えていることと同義になってしまいます。\n",
        "\n",
        "また、データは大量に用意できても、バリエーションに乏しければ、モデルの汎化性能は高くなりません。\n",
        "\n",
        "どのような画像が使えるのか、使えないのか、を知ることも精度の高いモデル構築に必要な知識です。\n",
        "\n",
        "かなり地味な作業となりますが、是非トライしてみてください。\n"
      ]
    },
    {
      "cell_type": "markdown",
      "metadata": {
        "id": "mDMe26ba_Bfs",
        "colab_type": "text"
      },
      "source": [
        "スクレイピングの方法はいくらでもありますが、Python使いであれば、下記が使いやすいので紹介しておきます。\n",
        "\n",
        "[Google Image Download](https://google-images-download.readthedocs.io/en/latest/index.html)\n",
        "\n",
        "こちらは[GitHub](https://github.com/hardikvasa/google-images-download)でソースも公開されています。\n",
        "\n",
        "Googleの画像検索から、指定したキーワードの結果を取得してくれます。\n",
        "\n",
        "本ノートブックで使うサンプルもこちらを用いて収集しました。\n"
      ]
    },
    {
      "cell_type": "markdown",
      "metadata": {
        "id": "AhfqR_vAk_GO",
        "colab_type": "text"
      },
      "source": [
        "本ノートブックでは、３クラス分類、64 x 64 のカラーの各クラス40枚(合計120枚)のサンプル画像をもとにソースコードを記載しています。\n",
        "\n",
        "各自準備したデータに応じて実装内容を調整してください。\n",
        "\n",
        "※サンプルデータでは、すべてのファイルを64 x 64に調整済みですが、コーディングにてreshapeする形でも問題ありません。\n"
      ]
    },
    {
      "cell_type": "code",
      "metadata": {
        "id": "czcjbvDBl82U",
        "colab_type": "code",
        "colab": {}
      },
      "source": [
        "# 分類クラス数\n",
        "num_classes = 4\n",
        "\n",
        "# クラス毎の画像ファイル数\n",
        "num_images = 40\n",
        "\n",
        "# 画像のサイズ\n",
        "height, width, color = 64, 64, 3"
      ],
      "execution_count": 0,
      "outputs": []
    },
    {
      "cell_type": "markdown",
      "metadata": {
        "id": "kfinbX-8rfFr",
        "colab_type": "text"
      },
      "source": [
        "### 2.2.2 環境準備\n",
        "\n",
        "モデル構造は、前回のノートブックと同様のシンプルなCNN、VGG16、RESNETv1/v2を用意しています。\n",
        "\n",
        "自力でデータ収集するとなると、それほど多くの画像ファイルは期待できないと思います。\n",
        "\n",
        "少量のデータの場合に、モデル構造によってどのような違いが出るのか比較するもの良いかと思います。\n"
      ]
    },
    {
      "cell_type": "code",
      "metadata": {
        "id": "8b5TKT0SrZVa",
        "colab_type": "code",
        "colab": {}
      },
      "source": [
        "# モデル構造を指定 (CNN, VGG16, RESNET1 or RESNET2)\n",
        "model_opt=\"RESNET2\""
      ],
      "execution_count": 0,
      "outputs": []
    },
    {
      "cell_type": "markdown",
      "metadata": {
        "id": "UZaJgfxvyLAy",
        "colab_type": "text"
      },
      "source": [
        "Google Colabratoryは、ランタイムが初期化されるとデータも失われます。\n",
        "\n",
        "学習した中のチェックポイントが学習済みモデルを再利用できるよう、Google Driveをマウントし、ここに出力できるようしておきましょう。"
      ]
    },
    {
      "cell_type": "code",
      "metadata": {
        "id": "bf6gYTI1xt0n",
        "colab_type": "code",
        "colab": {}
      },
      "source": [
        "import os, shutil\n",
        "from google.colab import drive\n",
        "drive.mount('/content/drive/')\n",
        "gdrive_base='/content/drive/My Drive/Colab Notebooks/'\n",
        "\n",
        "# TensorBorad用ログ\n",
        "log_dir=gdrive_base+'ImageClassification/logs/'\n",
        "if not os.path.exists(log_dir):\n",
        "    os.makedirs(log_dir)\n",
        "\n",
        "# チェックポイントおよび学習済みモデルファイル\n",
        "model_dir=gdrive_base+'ImageClassification/model/'\n",
        "if not os.path.exists(model_dir):\n",
        "    os.makedirs(model_dir)\n",
        "    "
      ],
      "execution_count": 0,
      "outputs": []
    },
    {
      "cell_type": "markdown",
      "metadata": {
        "id": "CFKVp80t0bG8",
        "colab_type": "text"
      },
      "source": [
        "### 2.2.3 学習に向けたデータの準備\n",
        "\n",
        "\n",
        "\n"
      ]
    },
    {
      "cell_type": "markdown",
      "metadata": {
        "id": "94oYsnmpjFNI",
        "colab_type": "text"
      },
      "source": [
        "収集した画像データをアップロードし、学習に使えるデータに変換していきます。\n",
        "\n",
        "全データを格納するための空のテンソルを準備します。\n",
        "\n",
        "テンソルは以下の５要素になります。\n",
        "\n",
        "- クラス番号(0～)\n",
        "- クラスごとのファイル番号(0～)\n",
        "- 画像のHeight\n",
        "- 画像のWidth\n",
        "- 画像のRBG"
      ]
    },
    {
      "cell_type": "code",
      "metadata": {
        "id": "_0t_rwbYO9kT",
        "colab_type": "code",
        "colab": {}
      },
      "source": [
        "import numpy as np\n",
        "import os\n",
        "import cv2\n",
        "from glob import glob\n",
        "\n",
        "# 空のテンソルを用意\n",
        "ary = np.zeros([num_classes, num_images, height, width, color], dtype=np.int)"
      ],
      "execution_count": 0,
      "outputs": []
    },
    {
      "cell_type": "markdown",
      "metadata": {
        "id": "zplsWRSw_xAV",
        "colab_type": "text"
      },
      "source": [
        "画像ファイルをGoogle Colabにアップロードし、１枚ずつ読み込み、テンソルに格納していきます。\n",
        "\n",
        "サンプルデータでは、ファイル名にてクラスを判別し、テンソルの１要素目(=クラス)を指定し、データを格納させています。\n",
        "\n",
        "Numpyには、テンソルデータを保存させておく機能があります。\n",
        "\n",
        "savez_compressed関数を使用し、作成したテンソルデータを再利用可能なようにファイル出力しておきましょう。"
      ]
    },
    {
      "cell_type": "code",
      "metadata": {
        "id": "gERS_nJSQVRR",
        "colab_type": "code",
        "outputId": "8d59ed20-2434-47fb-f016-2f04671456ea",
        "colab": {
          "base_uri": "https://localhost:8080/",
          "height": 204
        }
      },
      "source": [
        "# 学習データのアップロード\n",
        "# ここではサンプルデータをGitHubから取得していますが、適宜zip形式などでGoogle Colabにアップロードしてください。\n",
        "!wget -nc https://raw.githubusercontent.com/scpepper69/ml-learning-materials/master/sample/gface64x64.zip\n",
        "!unzip -oq gface64x64.zip\n",
        "\n",
        "dir_name='gface64x64'\n",
        "\n",
        "c0=0 # rx-178:mk2\n",
        "c1=0 # msz-006:Z\n",
        "c2=0 # rx-93:Nu\n",
        "c3=0 # ms-06:Zaku\n",
        "\n",
        "# 画像を順次読み込み、テンソルデータに変換\n",
        "for file in glob(dir_name + '/*.jpg'):\n",
        "    img = cv2.imread(file,cv2.IMREAD_COLOR)\n",
        "    img = cv2.cvtColor(img, cv2.COLOR_BGR2RGB)\n",
        "    if 'rx-178' in file:\n",
        "        ary[0, c0] = img\n",
        "        c0 += 1\n",
        "    elif 'msz-006' in file:\n",
        "        ary[1, c1] = img\n",
        "        c1 += 1\n",
        "    elif 'rx-93' in file:\n",
        "        ary[2, c2] = img\n",
        "        c2 += 1\n",
        "    elif 'ms-06' in file:\n",
        "        ary[3, c3] = img\n",
        "        c3 += 1\n",
        "\n",
        "np.savez_compressed('gface_images.npz', ary)"
      ],
      "execution_count": 5,
      "outputs": [
        {
          "output_type": "stream",
          "text": [
            "--2019-07-22 12:33:03--  https://raw.githubusercontent.com/scpepper69/ml-learning-materials/master/sample/gface64x64.zip\n",
            "Resolving raw.githubusercontent.com (raw.githubusercontent.com)... 151.101.0.133, 151.101.64.133, 151.101.128.133, ...\n",
            "Connecting to raw.githubusercontent.com (raw.githubusercontent.com)|151.101.0.133|:443... connected.\n",
            "HTTP request sent, awaiting response... 200 OK\n",
            "Length: 504181 (492K) [application/zip]\n",
            "Saving to: ‘gface64x64.zip’\n",
            "\n",
            "gface64x64.zip      100%[===================>] 492.36K  --.-KB/s    in 0.06s   \n",
            "\n",
            "2019-07-22 12:33:04 (7.51 MB/s) - ‘gface64x64.zip’ saved [504181/504181]\n",
            "\n"
          ],
          "name": "stdout"
        }
      ]
    },
    {
      "cell_type": "markdown",
      "metadata": {
        "id": "ySt5HvoHBVAn",
        "colab_type": "text"
      },
      "source": [
        "ここまでで、収集データを１つのテンソルに纏めることができました。\n",
        "\n",
        "次に、このテンソルをもとに、画像データ用テンソルと、ラベル用テンソルを作成します。\n",
        "\n"
      ]
    },
    {
      "cell_type": "code",
      "metadata": {
        "id": "HGkHthXETusA",
        "colab_type": "code",
        "colab": {}
      },
      "source": [
        "#保存したnpzファイルはnp.loadにて読み込むことができます\n",
        "#ary = np.load(\"gface_images.npz\")['arr_0']\n",
        "\n",
        "# 画像データのテンソルをソートし、ラベル用テンソルを用意\n",
        "X_train = np.zeros([num_classes * num_images, height, width, color], dtype=np.int)\n",
        "for i in range(num_classes):\n",
        "    for j in range(num_images):\n",
        "        X_train[(i * num_images) + j] = ary[i][j]\n",
        "\n",
        "# X_trainはクラス番号でソートされて格納されているので、下記だけでラベルデータが生成できる\n",
        "Y_train = np.repeat(np.arange(num_classes), num_images)"
      ],
      "execution_count": 0,
      "outputs": []
    },
    {
      "cell_type": "markdown",
      "metadata": {
        "id": "0SnbE2e-DBZH",
        "colab_type": "text"
      },
      "source": [
        "Deep Learningには、学習データと検証データの２種類のデータが必要です。\n",
        "\n",
        "sklearnには、データを指定の割合で分割してくれる関数があります。これを利用して学習データと検証データに分割します。\n"
      ]
    },
    {
      "cell_type": "code",
      "metadata": {
        "id": "70olgK22Cw8g",
        "colab_type": "code",
        "outputId": "5042f7f8-3cbe-44ec-9054-804cdbf20f61",
        "colab": {
          "base_uri": "https://localhost:8080/",
          "height": 51
        }
      },
      "source": [
        "from sklearn.model_selection import train_test_split\n",
        "\n",
        "# 検証データの割合を指定\n",
        "validate_rate=0.2\n",
        "\n",
        "# 学習データと検証データに分割\n",
        "x_train, x_test, y_train, y_test = train_test_split(X_train, Y_train, test_size=validate_rate)\n",
        "\n",
        "print(x_train.shape)\n",
        "print(x_test.shape)"
      ],
      "execution_count": 7,
      "outputs": [
        {
          "output_type": "stream",
          "text": [
            "(128, 64, 64, 3)\n",
            "(32, 64, 64, 3)\n"
          ],
          "name": "stdout"
        }
      ]
    },
    {
      "cell_type": "markdown",
      "metadata": {
        "id": "z2-51a7GmiIm",
        "colab_type": "text"
      },
      "source": [
        "今回はもう一つ、ラベルを追加してみます。"
      ]
    },
    {
      "cell_type": "code",
      "metadata": {
        "id": "nztymPcumerE",
        "colab_type": "code",
        "colab": {}
      },
      "source": [
        "import copy\n",
        "\n",
        "# 全体のラベルから複製して構成\n",
        "def add_label(y):\n",
        "    y2 = copy.deepcopy(y)\n",
        "    for i in range(len(y)):\n",
        "        # Gundam\n",
        "        if y2[i] in [0,1,2]:\n",
        "            y2[i] = 0\n",
        "        # Zeon\n",
        "        else:\n",
        "            y2[i] = 1\n",
        "    return y2\n",
        "\n",
        "num_classes2 = 2\n",
        "y_train2 = add_label(y_train)\n",
        "y_test2 = add_label(y_test)\n"
      ],
      "execution_count": 0,
      "outputs": []
    },
    {
      "cell_type": "markdown",
      "metadata": {
        "id": "M3pSTYqA0bHI",
        "colab_type": "text"
      },
      "source": [
        "学習用画像データと画像に対応したラベルを表示してみます。\n",
        "\n",
        "画像表示には、matplotlibライブラリを用います。これはPythonにてグラフ表示によく使われるライブラリなので、使用方法は覚えておくと良いです。\n",
        "\n",
        "参考：https://matplotlib.org/api/pyplot_api.html\n"
      ]
    },
    {
      "cell_type": "code",
      "metadata": {
        "id": "T-XaTkOc0bHL",
        "colab_type": "code",
        "colab": {
          "base_uri": "https://localhost:8080/",
          "height": 112
        },
        "outputId": "955276e0-5b99-4022-ede5-df0815ee28d7"
      },
      "source": [
        "#jupyter notebook用マジックコマンド\n",
        "%matplotlib inline \n",
        "import matplotlib.pyplot as plt\n",
        "\n",
        "fig = plt.figure(figsize=(9, 15))\n",
        "fig.subplots_adjust(left=0, right=1, bottom=0, top=0.5, hspace=0.05, wspace=0.05)\n",
        "\n",
        "# 各MNIST画像の上に（タイトルとして）対応するラベルを表示\n",
        "for i in range(10):\n",
        "    ax = fig.add_subplot(1, 10, i + 1, xticks=[], yticks=[])\n",
        "    ax.set_title(str(y_train[i]))\n",
        "    ax.imshow(x_train[i], cmap='gray')"
      ],
      "execution_count": 11,
      "outputs": [
        {
          "output_type": "display_data",
          "data": {
            "image/png": "[encoded data removed]",
            "text/plain": [
              "<Figure size 648x1080 with 10 Axes>"
            ]
          },
          "metadata": {
            "tags": []
          }
        }
      ]
    },
    {
      "cell_type": "markdown",
      "metadata": {
        "id": "_ZCxZxgl0bHX",
        "colab_type": "text"
      },
      "source": [
        "ラベルデータをone-hot表現に変換します。\n",
        "\n",
        "keras.utils.to_categorical関数を使いましょう。\n"
      ]
    },
    {
      "cell_type": "code",
      "metadata": {
        "id": "DBvnPZCU0bHZ",
        "colab_type": "code",
        "colab": {}
      },
      "source": [
        "from tensorflow.keras.utils import to_categorical\n",
        "import numpy as np\n",
        "\n",
        "# ラベルデータをone-hot表現へ変換\n",
        "y_train = to_categorical(y_train, num_classes)\n",
        "y_test = to_categorical(y_test, num_classes)\n",
        "\n",
        "# 追加ラベルも同じく変換\n",
        "y_train2 = to_categorical(y_train2, num_classes2)\n",
        "y_test2 = to_categorical(y_test2, num_classes2)"
      ],
      "execution_count": 0,
      "outputs": []
    },
    {
      "cell_type": "code",
      "metadata": {
        "id": "AfE9xtc-0Mgo",
        "colab_type": "code",
        "colab": {}
      },
      "source": [
        "# 画像データの型を変換\n",
        "x_train = x_train.reshape(-1, height, width, color).astype(np.float32)\n",
        "x_test = x_test.reshape(-1, height, width, color).astype(np.float32)\n",
        "input_shape = (height, width, color)"
      ],
      "execution_count": 0,
      "outputs": []
    },
    {
      "cell_type": "markdown",
      "metadata": {
        "id": "bUUkN6qj0bHi",
        "colab_type": "text"
      },
      "source": [
        "### 2.2.4 モデル構築\n",
        "\n",
        "これから、学習モデルを構築します。\n",
        "\n",
        "モデルの構築は、モデルの「容器」としてSquential()を実施したのち、その中に順にレイヤーを追加していく流れになります。\n",
        "\n",
        "* [Sequential](https://keras.io/ja/models/sequential/)\n"
      ]
    },
    {
      "cell_type": "code",
      "metadata": {
        "id": "1rIGYTTK0bHk",
        "colab_type": "code",
        "colab": {}
      },
      "source": [
        "# モデル構築用ライブラリをインポート\n",
        "from tensorflow import keras\n",
        "from tensorflow.keras.models import Sequential, Model\n",
        "from tensorflow.keras.layers import Dense, Activation, Flatten\n",
        "\n",
        "# CNNモデル用ライブラリ\n",
        "from tensorflow.python.keras.layers import Conv2D, Convolution2D, MaxPooling2D, Dropout, BatchNormalization, GlobalAveragePooling2D,AveragePooling2D,Input\n",
        "from tensorflow.python.keras import initializers\n",
        "from tensorflow.keras.applications.vgg16 import VGG16\n",
        "from tensorflow.keras.regularizers import l2\n",
        "\n",
        "# モデルの「容器」を作成\n",
        "model = Sequential()"
      ],
      "execution_count": 0,
      "outputs": []
    },
    {
      "cell_type": "markdown",
      "metadata": {
        "id": "vWgvceiHbKnb",
        "colab_type": "text"
      },
      "source": [
        "今回は、シンプルなCNNモデルの他、VGG16、RESNETの関数を準備してあります。\n",
        "\n",
        "- VGG16\n",
        "\n",
        "    Oxford大学の研究グループが提案し2014年のILSVRで2位を獲得したモデルで、畳み込みが13層、全結合層が3層の合計16層からなるニューラルネットワークです。\n",
        "    Kerasでは関数として組み込まれており、容易に実装することが可能になっています。\n",
        "    \n",
        "- ResNet\n",
        "\n",
        "    ResNetは2015年にMicrosoftより発表された152層からなるニューラルネットワークです。今まで20層ほどで作られていたCNNを特別なユニットを挟むことで深くすることを可能にしています。\n"
      ]
    },
    {
      "cell_type": "code",
      "metadata": {
        "id": "nt0Xe1505Quo",
        "colab_type": "code",
        "colab": {}
      },
      "source": [
        "# VGG16モデル\n",
        "def cnn_vgg16():\n",
        "    input_tensor = Input(shape=input_shape)\n",
        "    vgg16 = VGG16(include_top=False, weights='imagenet', input_tensor=input_tensor)    \n",
        "    \n",
        "    add_model = Sequential()\n",
        "    add_model.add(Flatten())\n",
        "    add_model.add(Dense(256, kernel_initializer=initializers.TruncatedNormal(stddev=0.1), bias_initializer=initializers.Zeros()))\n",
        "    add_model.add(Activation('relu'))\n",
        "    add_model.add(BatchNormalization())\n",
        "    add_model.add(Dense(units=num_classes))\n",
        "    add_model.add(Activation('softmax'))\n",
        "    \n",
        "    vgg16_model = Model(inputs=vgg16.input, outputs=add_model(vgg16.output))\n",
        "\n",
        "    #fix weights VGG16 layers\n",
        "    for layer in vgg16.layers:\n",
        "        layer.trainable = False\n",
        "        \n",
        "    return vgg16_model"
      ],
      "execution_count": 0,
      "outputs": []
    },
    {
      "cell_type": "code",
      "metadata": {
        "id": "FLLXeRM3f7Fi",
        "colab_type": "code",
        "colab": {}
      },
      "source": [
        "# CNNモデル\n",
        "def cnn_model():\n",
        "    model.add(Conv2D(32, (3, 3), kernel_initializer=initializers.TruncatedNormal(stddev=0.1), bias_initializer=initializers.Zeros(), input_shape=input_shape))\n",
        "    model.add(Activation('relu'))\n",
        "    model.add(Conv2D(64, (3, 3), kernel_initializer=initializers.TruncatedNormal(stddev=0.1), bias_initializer=initializers.Zeros()))\n",
        "    model.add(Activation('relu'))\n",
        "    model.add(MaxPooling2D(pool_size=(2, 2)))\n",
        "\n",
        "    model.add(Flatten())\n",
        "    model.add(Dense(256, kernel_initializer=initializers.TruncatedNormal(stddev=0.1), bias_initializer=initializers.Zeros()))\n",
        "    model.add(Activation('relu'))\n",
        "    model.add(Dense(units=num_classes))\n",
        "    model.add(Activation('softmax'))\n",
        "\n",
        "    return model\n",
        "\n",
        "# CNNモデル w/Dropout\n",
        "def cnn_w_dropout():\n",
        "    model.add(Conv2D(32, (3, 3), kernel_initializer=initializers.TruncatedNormal(stddev=0.1), bias_initializer=initializers.Zeros(), input_shape=input_shape))\n",
        "    model.add(Activation('relu'))\n",
        "    model.add(Conv2D(64, (3, 3), kernel_initializer=initializers.TruncatedNormal(stddev=0.1), bias_initializer=initializers.Zeros()))\n",
        "    model.add(Activation('relu'))\n",
        "    model.add(MaxPooling2D(pool_size=(2, 2)))\n",
        "    model.add(Dropout(0.5))\n",
        "\n",
        "    model.add(Flatten())\n",
        "    model.add(Dense(256, kernel_initializer=initializers.TruncatedNormal(stddev=0.1), bias_initializer=initializers.Zeros()))\n",
        "    model.add(Activation('relu'))\n",
        "    model.add(Dropout(0.5))\n",
        "    model.add(Dense(units=num_classes))\n",
        "    model.add(Activation('softmax'))\n",
        "\n",
        "    return model\n",
        "    \n",
        "# CNNモデル w/Batch Normalization\n",
        "def cnn_w_batchnorm():\n",
        "    model.add(Conv2D(32, (3, 3), kernel_initializer=initializers.TruncatedNormal(stddev=0.1), bias_initializer=initializers.Zeros(), input_shape=input_shape))\n",
        "    model.add(Activation('relu'))\n",
        "    model.add(Conv2D(32, (3, 3), kernel_initializer=initializers.TruncatedNormal(stddev=0.1), bias_initializer=initializers.Zeros()))\n",
        "    model.add(Activation('relu'))\n",
        "    model.add(BatchNormalization())\n",
        "    model.add(MaxPooling2D(pool_size=(2, 2)))\n",
        "\n",
        "    model.add(Conv2D(64, (3, 3), kernel_initializer=initializers.TruncatedNormal(stddev=0.1), bias_initializer=initializers.Zeros(), input_shape=input_shape))\n",
        "    model.add(Activation('relu'))\n",
        "    model.add(Conv2D(64, (3, 3), kernel_initializer=initializers.TruncatedNormal(stddev=0.1), bias_initializer=initializers.Zeros()))\n",
        "    model.add(Activation('relu'))\n",
        "    model.add(BatchNormalization())\n",
        "    model.add(MaxPooling2D(pool_size=(2, 2)))\n",
        "\n",
        "    model.add(Flatten())\n",
        "    model.add(Dense(256, kernel_initializer=initializers.TruncatedNormal(stddev=0.1), bias_initializer=initializers.Zeros()))\n",
        "    model.add(Activation('relu'))\n",
        "    model.add(BatchNormalization())\n",
        "    model.add(Dense(units=num_classes))\n",
        "    model.add(Activation('softmax'))\n",
        "\n",
        "    return model\n",
        "    "
      ],
      "execution_count": 0,
      "outputs": []
    },
    {
      "cell_type": "code",
      "metadata": {
        "id": "OGWk7WWk5Ya3",
        "colab_type": "code",
        "colab": {}
      },
      "source": [
        "# ResNetモデル from Keras Documentation\n",
        "\n",
        "# Model parameter\n",
        "# ----------------------------------------------------------------------------\n",
        "#           |      | 200-epoch | Orig Paper| 200-epoch | Orig Paper| sec/epoch\n",
        "# Model     |  n   | ResNet v1 | ResNet v1 | ResNet v2 | ResNet v2 | GTX1080Ti\n",
        "#           |v1(v2)| %Accuracy | %Accuracy | %Accuracy | %Accuracy | v1 (v2)\n",
        "# ----------------------------------------------------------------------------\n",
        "# ResNet20  | 3 (2)| 92.16     | 91.25     | -----     | -----     | 35 (---)\n",
        "# ResNet32  | 5(NA)| 92.46     | 92.49     | NA        | NA        | 50 ( NA)\n",
        "# ResNet44  | 7(NA)| 92.50     | 92.83     | NA        | NA        | 70 ( NA)\n",
        "# ResNet56  | 9 (6)| 92.71     | 93.03     | 93.01     | NA        | 90 (100)\n",
        "# ResNet110 |18(12)| 92.65     | 93.39+-.16| 93.15     | 93.63     | 165(180)\n",
        "# ResNet164 |27(18)| -----     | 94.07     | -----     | 94.54     | ---(---)\n",
        "# ResNet1001| (111)| -----     | 92.39     | -----     | 95.08+-.14| ---(---)\n",
        "# ---------------------------------------------------------------------------\n",
        "n = 3\n",
        "\n",
        "# Model version\n",
        "# Orig paper: version = 1 (ResNet v1), Improved ResNet: version = 2 (ResNet v2)\n",
        "version = 1\n",
        "\n",
        "# Computed depth from supplied model parameter n\n",
        "#if version == 1:\n",
        "#    depth = n * 6 + 2\n",
        "#elif version == 2:\n",
        "#    depth = n * 9 + 2\n",
        "\n",
        "# ResNetモデル\n",
        "def resnet_layer(inputs,\n",
        "                 num_filters=16,\n",
        "                 kernel_size=3,\n",
        "                 strides=1,\n",
        "                 activation='relu',\n",
        "                 batch_normalization=True,\n",
        "                 conv_first=True):\n",
        "    \"\"\"2D Convolution-Batch Normalization-Activation stack builder\n",
        "\n",
        "    # Arguments\n",
        "        inputs (tensor): input tensor from input image or previous layer\n",
        "        num_filters (int): Conv2D number of filters\n",
        "        kernel_size (int): Conv2D square kernel dimensions\n",
        "        strides (int): Conv2D square stride dimensions\n",
        "        activation (string): activation name\n",
        "        batch_normalization (bool): whether to include batch normalization\n",
        "        conv_first (bool): conv-bn-activation (True) or\n",
        "            bn-activation-conv (False)\n",
        "\n",
        "    # Returns\n",
        "        x (tensor): tensor as input to the next layer\n",
        "    \"\"\"\n",
        "    conv = Conv2D(num_filters,\n",
        "                  kernel_size=kernel_size,\n",
        "                  strides=strides,\n",
        "                  padding='same',\n",
        "                  kernel_initializer='he_normal',\n",
        "                  kernel_regularizer=l2(1e-4))\n",
        "\n",
        "    x = inputs\n",
        "    if conv_first:\n",
        "        x = conv(x)\n",
        "        if batch_normalization:\n",
        "            x = BatchNormalization()(x)\n",
        "        if activation is not None:\n",
        "            x = Activation(activation)(x)\n",
        "    else:\n",
        "        if batch_normalization:\n",
        "            x = BatchNormalization()(x)\n",
        "        if activation is not None:\n",
        "            x = Activation(activation)(x)\n",
        "        x = conv(x)\n",
        "    return x\n",
        "\n",
        "\n",
        "def resnet_v1(input_shape, depth=20, num_classes=num_classes):\n",
        "    \"\"\"ResNet Version 1 Model builder [a]\n",
        "\n",
        "    Stacks of 2 x (3 x 3) Conv2D-BN-ReLU\n",
        "    Last ReLU is after the shortcut connection.\n",
        "    At the beginning of each stage, the feature map size is halved (downsampled)\n",
        "    by a convolutional layer with strides=2, while the number of filters is\n",
        "    doubled. Within each stage, the layers have the same number filters and the\n",
        "    same number of filters.\n",
        "    Features maps sizes:\n",
        "    stage 0: 32x32, 16\n",
        "    stage 1: 16x16, 32\n",
        "    stage 2:  8x8,  64\n",
        "    The Number of parameters is approx the same as Table 6 of [a]:\n",
        "    ResNet20 0.27M\n",
        "    ResNet32 0.46M\n",
        "    ResNet44 0.66M\n",
        "    ResNet56 0.85M\n",
        "    ResNet110 1.7M\n",
        "\n",
        "    # Arguments\n",
        "        input_shape (tensor): shape of input image tensor\n",
        "        depth (int): number of core convolutional layers\n",
        "        num_classes (int): number of classes (CIFAR10 has 10)\n",
        "\n",
        "    # Returns\n",
        "        model (Model): Keras model instance\n",
        "    \"\"\"\n",
        "    if (depth - 2) % 6 != 0:\n",
        "        raise ValueError('depth should be 6n+2 (eg 20, 32, 44 in [a])')\n",
        "    # Start model definition.\n",
        "    num_filters = 16\n",
        "    num_res_blocks = int((depth - 2) / 6)\n",
        "\n",
        "    inputs = Input(shape=input_shape)\n",
        "    x = resnet_layer(inputs=inputs)\n",
        "    # Instantiate the stack of residual units\n",
        "    for stack in range(3):\n",
        "        for res_block in range(num_res_blocks):\n",
        "            strides = 1\n",
        "            if stack > 0 and res_block == 0:  # first layer but not first stack\n",
        "                strides = 2  # downsample\n",
        "            y = resnet_layer(inputs=x,\n",
        "                             num_filters=num_filters,\n",
        "                             strides=strides)\n",
        "            y = resnet_layer(inputs=y,\n",
        "                             num_filters=num_filters,\n",
        "                             activation=None)\n",
        "            if stack > 0 and res_block == 0:  # first layer but not first stack\n",
        "                # linear projection residual shortcut connection to match\n",
        "                # changed dims\n",
        "                x = resnet_layer(inputs=x,\n",
        "                                 num_filters=num_filters,\n",
        "                                 kernel_size=1,\n",
        "                                 strides=strides,\n",
        "                                 activation=None,\n",
        "                                 batch_normalization=False)\n",
        "            x = keras.layers.add([x, y])\n",
        "            x = Activation('relu')(x)\n",
        "        num_filters *= 2\n",
        "\n",
        "    # Add classifier on top.\n",
        "    # v1 does not use BN after last shortcut connection-ReLU\n",
        "    x = AveragePooling2D(pool_size=8)(x)\n",
        "    y = Flatten()(x)\n",
        "    outputs = Dense(num_classes,\n",
        "                    activation='softmax',\n",
        "                    kernel_initializer='he_normal')(y)\n",
        "\n",
        "    # Instantiate model.\n",
        "    model = Model(inputs=inputs, outputs=outputs)\n",
        "    return model\n",
        "\n",
        "\n",
        "def resnet_v2(input_shape, depth=29, num_classes=num_classes):\n",
        "    \"\"\"ResNet Version 2 Model builder [b]\n",
        "\n",
        "    Stacks of (1 x 1)-(3 x 3)-(1 x 1) BN-ReLU-Conv2D or also known as\n",
        "    bottleneck layer\n",
        "    First shortcut connection per layer is 1 x 1 Conv2D.\n",
        "    Second and onwards shortcut connection is identity.\n",
        "    At the beginning of each stage, the feature map size is halved (downsampled)\n",
        "    by a convolutional layer with strides=2, while the number of filter maps is\n",
        "    doubled. Within each stage, the layers have the same number filters and the\n",
        "    same filter map sizes.\n",
        "    Features maps sizes:\n",
        "    conv1  : 32x32,  16\n",
        "    stage 0: 32x32,  64\n",
        "    stage 1: 16x16, 128\n",
        "    stage 2:  8x8,  256\n",
        "\n",
        "    # Arguments\n",
        "        input_shape (tensor): shape of input image tensor\n",
        "        depth (int): number of core convolutional layers\n",
        "        num_classes (int): number of classes (CIFAR10 has 10)\n",
        "\n",
        "    # Returns\n",
        "        model (Model): Keras model instance\n",
        "    \"\"\"\n",
        "    if (depth - 2) % 9 != 0:\n",
        "        raise ValueError('depth should be 9n+2 (eg 56 or 110 in [b])')\n",
        "    # Start model definition.\n",
        "    num_filters_in = 16\n",
        "    num_res_blocks = int((depth - 2) / 9)\n",
        "\n",
        "    inputs = Input(shape=input_shape)\n",
        "    # v2 performs Conv2D with BN-ReLU on input before splitting into 2 paths\n",
        "    x = resnet_layer(inputs=inputs,\n",
        "                     num_filters=num_filters_in,\n",
        "                     conv_first=True)\n",
        "\n",
        "    # Instantiate the stack of residual units\n",
        "    for stage in range(3):\n",
        "        for res_block in range(num_res_blocks):\n",
        "            activation = 'relu'\n",
        "            batch_normalization = True\n",
        "            strides = 1\n",
        "            if stage == 0:\n",
        "                num_filters_out = num_filters_in * 4\n",
        "                if res_block == 0:  # first layer and first stage\n",
        "                    activation = None\n",
        "                    batch_normalization = False\n",
        "            else:\n",
        "                num_filters_out = num_filters_in * 2\n",
        "                if res_block == 0:  # first layer but not first stage\n",
        "                    strides = 2    # downsample\n",
        "\n",
        "            # bottleneck residual unit\n",
        "            y = resnet_layer(inputs=x,\n",
        "                             num_filters=num_filters_in,\n",
        "                             kernel_size=1,\n",
        "                             strides=strides,\n",
        "                             activation=activation,\n",
        "                             batch_normalization=batch_normalization,\n",
        "                             conv_first=False)\n",
        "            y = resnet_layer(inputs=y,\n",
        "                             num_filters=num_filters_in,\n",
        "                             conv_first=False)\n",
        "            y = resnet_layer(inputs=y,\n",
        "                             num_filters=num_filters_out,\n",
        "                             kernel_size=1,\n",
        "                             conv_first=False)\n",
        "            if res_block == 0:\n",
        "                # linear projection residual shortcut connection to match\n",
        "                # changed dims\n",
        "                x = resnet_layer(inputs=x,\n",
        "                                 num_filters=num_filters_out,\n",
        "                                 kernel_size=1,\n",
        "                                 strides=strides,\n",
        "                                 activation=None,\n",
        "                                 batch_normalization=False)\n",
        "            x = keras.layers.add([x, y])\n",
        "\n",
        "        num_filters_in = num_filters_out\n",
        "\n",
        "    # Add classifier on top.\n",
        "    # v2 has BN-ReLU before Pooling\n",
        "    x = BatchNormalization()(x)\n",
        "    x = Activation('relu')(x)\n",
        "    x = AveragePooling2D(pool_size=8)(x)\n",
        "#    y = Flatten()(x)\n",
        "#    outputs = Dense(num_classes,\n",
        "#                    activation='softmax',\n",
        "#                    kernel_initializer='he_normal')(y)\n",
        "    \n",
        "    x = Flatten()(x)\n",
        "    x = Dense(512, activation='relu')(x)\n",
        "    x = Dropout(0.5)(x)\n",
        "\n",
        "    # original labels, 0 to 9, as output1\n",
        "    output1 = Dense(num_classes, activation='softmax', name='output1')(x)\n",
        "    # second labels, 0 or 1, as output2\n",
        "    output2 = Dense(num_classes2, activation='softmax', name='output2')(x)\n",
        "    \n",
        "    # Instantiate model.\n",
        "    model = Model(inputs=inputs, outputs=[output1, output2])\n",
        "    return model\n"
      ],
      "execution_count": 0,
      "outputs": []
    },
    {
      "cell_type": "markdown",
      "metadata": {
        "id": "3DNVsEupdMjn",
        "colab_type": "text"
      },
      "source": [
        "それでは、任意のモデルを選び、構築してみましょう。"
      ]
    },
    {
      "cell_type": "code",
      "metadata": {
        "id": "Nq7BxPyz0bH3",
        "colab_type": "code",
        "colab": {
          "base_uri": "https://localhost:8080/",
          "height": 105
        },
        "outputId": "e170f119-dfe8-4763-af9f-ca682568efe4"
      },
      "source": [
        "# model構築\n",
        "if model_opt==\"VGG16\":\n",
        "    model = cnn_vgg16()\n",
        "elif model_opt==\"RESNET1\":\n",
        "    model = resnet_v1(input_shape=input_shape)\n",
        "elif model_opt==\"RESNET2\":\n",
        "    model = resnet_v2(input_shape=input_shape)\n",
        "else:\n",
        "#    model=cnn_model()\n",
        "#    model=cnn_w_dropout()\n",
        "    model=cnn_w_batchnorm()\n"
      ],
      "execution_count": 18,
      "outputs": [
        {
          "output_type": "stream",
          "text": [
            "WARNING: Logging before flag parsing goes to stderr.\n",
            "W0722 12:35:21.680166 140675736770432 deprecation.py:506] From /usr/local/lib/python3.6/dist-packages/tensorflow/python/ops/init_ops.py:1251: calling VarianceScaling.__init__ (from tensorflow.python.ops.init_ops) with dtype is deprecated and will be removed in a future version.\n",
            "Instructions for updating:\n",
            "Call initializer instance with the dtype argument instead of passing it to the constructor\n"
          ],
          "name": "stderr"
        }
      ]
    },
    {
      "cell_type": "markdown",
      "metadata": {
        "id": "E5Dz7x4Scrf8",
        "colab_type": "text"
      },
      "source": [
        "学習の開始にあたり、最後にcompile関数でコンパイルを行います。\n",
        "\n",
        "compile関数でも、学習にあたって以下のパラメータを指定する必要があります。\n",
        "\n",
        "* optimizer（最適化手法）\n",
        "* loss（損失関数）\n",
        "* metrics（評価関数（任意））\n",
        "\n",
        "以下サンプルコードでは、現在Kerasで利用できるoptimizerを並べてみました。こちらもそれぞれどのような結果になるか比較してみるといいでしょう。"
      ]
    },
    {
      "cell_type": "code",
      "metadata": {
        "id": "OI4UDcU60bH7",
        "colab_type": "code",
        "colab": {}
      },
      "source": [
        "from tensorflow.keras import optimizers\n",
        "from tensorflow.keras import losses\n",
        "# モデルの学習方法について指定しておく\n",
        "model.compile(loss={'output1': 'categorical_crossentropy','output2': 'categorical_crossentropy'}, optimizer=optimizers.SGD(lr=0.001, momentum=0.9), metrics=['accuracy'])\n",
        "#model.compile(loss='categorical_crossentropy', optimizer=optimizers.Adam(lr=0.001), metrics=['accuracy'])\n",
        "#model.compile(loss='categorical_crossentropy', optimizer=optimizers.RMSprop(lr=0.001), metrics=['accuracy'])\n",
        "#model.compile(loss='categorical_crossentropy', optimizer=optimizers.Adagrad(lr=0.001), metrics=['accuracy'])\n",
        "#model.compile(loss='categorical_crossentropy', optimizer=optimizers.Adadelta(lr=0.001), metrics=['accuracy'])\n",
        "#model.compile(loss='categorical_crossentropy', optimizer=optimizers.Adamax(lr=0.001), metrics=['accuracy'])\n",
        "#model.compile(loss='categorical_crossentropy', optimizer=optimizers.Nadam(lr=0.001), metrics=['accuracy'])\n"
      ],
      "execution_count": 0,
      "outputs": []
    },
    {
      "cell_type": "markdown",
      "metadata": {
        "id": "1ZwzQE-FYxdR",
        "colab_type": "text"
      },
      "source": [
        "Optimizerアルゴリズムの動作イメージ(作者：Alec Radford)\n",
        "\n",
        "\n",
        "<img src=\"http://sebastianruder.com/content/images/2016/01/contours_evaluation_optimizers.gif\" width=\"400\">\n",
        "<img src=\"http://sebastianruder.com/content/images/2016/01/saddle_point_evaluation_optimizers.gif\" width=\"400\">\n"
      ]
    },
    {
      "cell_type": "markdown",
      "metadata": {
        "id": "5LYqpAQPO04I",
        "colab_type": "text"
      },
      "source": [
        "早速学習開始と行きたいところですが、学習の途中結果を記録する(Checkpoint)ことと、TensorBoard向けのログ情報を取得できるようにしておきましょう。\n",
        "\n",
        "モデル構造や結果等の視覚化することで、何がどのように動いているのか、理解の手助けとなります。\n",
        "\n",
        "このjupyter notebook上でも可視化ロジックを組み込んでいますが、通常のモデル開発においては、TensorBoardを用いるほうがスマートでしょう。\n"
      ]
    },
    {
      "cell_type": "markdown",
      "metadata": {
        "id": "weO_9YIVJ4dA",
        "colab_type": "text"
      },
      "source": [
        "TensorBoardでも参照できるよう、設定を組み込んでおきます。"
      ]
    },
    {
      "cell_type": "code",
      "metadata": {
        "id": "s80FRVRL0bH-",
        "colab_type": "code",
        "colab": {}
      },
      "source": [
        "# TensorBoardでの可視化のため、出力先の設定\n",
        "from tensorflow.keras import callbacks\n",
        "\n",
        "tb_cb = callbacks.TensorBoard(log_dir=log_dir, histogram_freq=1,write_images=1)"
      ],
      "execution_count": 0,
      "outputs": []
    },
    {
      "cell_type": "markdown",
      "metadata": {
        "id": "GJVjFnA8h5LT",
        "colab_type": "text"
      },
      "source": [
        "チェックポイントを生成しておくことで、中断した学習の再開や、チェックポイントを利用した静的モデルの出力を行うことができます。"
      ]
    },
    {
      "cell_type": "code",
      "metadata": {
        "id": "Rk3ohoKJhd9P",
        "colab_type": "code",
        "outputId": "af7cc4a7-3fc8-4dba-f9a9-c0598bb82ac4",
        "colab": {
          "base_uri": "https://localhost:8080/",
          "height": 34
        }
      },
      "source": [
        "# チェックポイント出力先\n",
        "RUN = RUN + 1 if 'RUN' in locals() else 1\n",
        "checkpoint_path = model_dir + f'run{RUN}/' + model_opt + \"_cp-{epoch:04d}.ckpt\"\n",
        "checkpoint_dir = os.path.dirname(checkpoint_path)\n",
        "\n",
        "# チェックポイントコールバックを作る\n",
        "cp_cb = callbacks.ModelCheckpoint(checkpoint_path, save_weights_only=True, verbose=1, period=5)"
      ],
      "execution_count": 21,
      "outputs": [
        {
          "output_type": "stream",
          "text": [
            "W0722 12:35:38.586133 140675736770432 callbacks.py:875] `period` argument is deprecated. Please use `save_freq` to specify the frequency in number of samples seen.\n"
          ],
          "name": "stderr"
        }
      ]
    },
    {
      "cell_type": "markdown",
      "metadata": {
        "id": "DMWlqNgvPBvp",
        "colab_type": "text"
      },
      "source": [
        "学習の実行の前に、モデルのサマリ情報を確認してみましょう。"
      ]
    },
    {
      "cell_type": "code",
      "metadata": {
        "id": "135NNq6iO-b2",
        "colab_type": "code",
        "outputId": "fd332d54-105c-4a4e-dac0-d055b3c99b01",
        "colab": {
          "base_uri": "https://localhost:8080/",
          "height": 1000
        }
      },
      "source": [
        "# モデルのサマリ情報の表示\n",
        "model.summary()"
      ],
      "execution_count": 22,
      "outputs": [
        {
          "output_type": "stream",
          "text": [
            "Model: \"model\"\n",
            "__________________________________________________________________________________________________\n",
            "Layer (type)                    Output Shape         Param #     Connected to                     \n",
            "==================================================================================================\n",
            "input_1 (InputLayer)            [(None, 64, 64, 3)]  0                                            \n",
            "__________________________________________________________________________________________________\n",
            "conv2d (Conv2D)                 (None, 64, 64, 16)   448         input_1[0][0]                    \n",
            "__________________________________________________________________________________________________\n",
            "batch_normalization (BatchNorma (None, 64, 64, 16)   64          conv2d[0][0]                     \n",
            "__________________________________________________________________________________________________\n",
            "activation (Activation)         (None, 64, 64, 16)   0           batch_normalization[0][0]        \n",
            "__________________________________________________________________________________________________\n",
            "conv2d_1 (Conv2D)               (None, 64, 64, 16)   272         activation[0][0]                 \n",
            "__________________________________________________________________________________________________\n",
            "batch_normalization_1 (BatchNor (None, 64, 64, 16)   64          conv2d_1[0][0]                   \n",
            "__________________________________________________________________________________________________\n",
            "activation_1 (Activation)       (None, 64, 64, 16)   0           batch_normalization_1[0][0]      \n",
            "__________________________________________________________________________________________________\n",
            "conv2d_2 (Conv2D)               (None, 64, 64, 16)   2320        activation_1[0][0]               \n",
            "__________________________________________________________________________________________________\n",
            "batch_normalization_2 (BatchNor (None, 64, 64, 16)   64          conv2d_2[0][0]                   \n",
            "__________________________________________________________________________________________________\n",
            "activation_2 (Activation)       (None, 64, 64, 16)   0           batch_normalization_2[0][0]      \n",
            "__________________________________________________________________________________________________\n",
            "conv2d_4 (Conv2D)               (None, 64, 64, 64)   1088        activation[0][0]                 \n",
            "__________________________________________________________________________________________________\n",
            "conv2d_3 (Conv2D)               (None, 64, 64, 64)   1088        activation_2[0][0]               \n",
            "__________________________________________________________________________________________________\n",
            "add (Add)                       (None, 64, 64, 64)   0           conv2d_4[0][0]                   \n",
            "                                                                 conv2d_3[0][0]                   \n",
            "__________________________________________________________________________________________________\n",
            "batch_normalization_3 (BatchNor (None, 64, 64, 64)   256         add[0][0]                        \n",
            "__________________________________________________________________________________________________\n",
            "activation_3 (Activation)       (None, 64, 64, 64)   0           batch_normalization_3[0][0]      \n",
            "__________________________________________________________________________________________________\n",
            "conv2d_5 (Conv2D)               (None, 64, 64, 16)   1040        activation_3[0][0]               \n",
            "__________________________________________________________________________________________________\n",
            "batch_normalization_4 (BatchNor (None, 64, 64, 16)   64          conv2d_5[0][0]                   \n",
            "__________________________________________________________________________________________________\n",
            "activation_4 (Activation)       (None, 64, 64, 16)   0           batch_normalization_4[0][0]      \n",
            "__________________________________________________________________________________________________\n",
            "conv2d_6 (Conv2D)               (None, 64, 64, 16)   2320        activation_4[0][0]               \n",
            "__________________________________________________________________________________________________\n",
            "batch_normalization_5 (BatchNor (None, 64, 64, 16)   64          conv2d_6[0][0]                   \n",
            "__________________________________________________________________________________________________\n",
            "activation_5 (Activation)       (None, 64, 64, 16)   0           batch_normalization_5[0][0]      \n",
            "__________________________________________________________________________________________________\n",
            "conv2d_7 (Conv2D)               (None, 64, 64, 64)   1088        activation_5[0][0]               \n",
            "__________________________________________________________________________________________________\n",
            "add_1 (Add)                     (None, 64, 64, 64)   0           add[0][0]                        \n",
            "                                                                 conv2d_7[0][0]                   \n",
            "__________________________________________________________________________________________________\n",
            "batch_normalization_6 (BatchNor (None, 64, 64, 64)   256         add_1[0][0]                      \n",
            "__________________________________________________________________________________________________\n",
            "activation_6 (Activation)       (None, 64, 64, 64)   0           batch_normalization_6[0][0]      \n",
            "__________________________________________________________________________________________________\n",
            "conv2d_8 (Conv2D)               (None, 64, 64, 16)   1040        activation_6[0][0]               \n",
            "__________________________________________________________________________________________________\n",
            "batch_normalization_7 (BatchNor (None, 64, 64, 16)   64          conv2d_8[0][0]                   \n",
            "__________________________________________________________________________________________________\n",
            "activation_7 (Activation)       (None, 64, 64, 16)   0           batch_normalization_7[0][0]      \n",
            "__________________________________________________________________________________________________\n",
            "conv2d_9 (Conv2D)               (None, 64, 64, 16)   2320        activation_7[0][0]               \n",
            "__________________________________________________________________________________________________\n",
            "batch_normalization_8 (BatchNor (None, 64, 64, 16)   64          conv2d_9[0][0]                   \n",
            "__________________________________________________________________________________________________\n",
            "activation_8 (Activation)       (None, 64, 64, 16)   0           batch_normalization_8[0][0]      \n",
            "__________________________________________________________________________________________________\n",
            "conv2d_10 (Conv2D)              (None, 64, 64, 64)   1088        activation_8[0][0]               \n",
            "__________________________________________________________________________________________________\n",
            "add_2 (Add)                     (None, 64, 64, 64)   0           add_1[0][0]                      \n",
            "                                                                 conv2d_10[0][0]                  \n",
            "__________________________________________________________________________________________________\n",
            "batch_normalization_9 (BatchNor (None, 64, 64, 64)   256         add_2[0][0]                      \n",
            "__________________________________________________________________________________________________\n",
            "activation_9 (Activation)       (None, 64, 64, 64)   0           batch_normalization_9[0][0]      \n",
            "__________________________________________________________________________________________________\n",
            "conv2d_11 (Conv2D)              (None, 32, 32, 64)   4160        activation_9[0][0]               \n",
            "__________________________________________________________________________________________________\n",
            "batch_normalization_10 (BatchNo (None, 32, 32, 64)   256         conv2d_11[0][0]                  \n",
            "__________________________________________________________________________________________________\n",
            "activation_10 (Activation)      (None, 32, 32, 64)   0           batch_normalization_10[0][0]     \n",
            "__________________________________________________________________________________________________\n",
            "conv2d_12 (Conv2D)              (None, 32, 32, 64)   36928       activation_10[0][0]              \n",
            "__________________________________________________________________________________________________\n",
            "batch_normalization_11 (BatchNo (None, 32, 32, 64)   256         conv2d_12[0][0]                  \n",
            "__________________________________________________________________________________________________\n",
            "activation_11 (Activation)      (None, 32, 32, 64)   0           batch_normalization_11[0][0]     \n",
            "__________________________________________________________________________________________________\n",
            "conv2d_14 (Conv2D)              (None, 32, 32, 128)  8320        add_2[0][0]                      \n",
            "__________________________________________________________________________________________________\n",
            "conv2d_13 (Conv2D)              (None, 32, 32, 128)  8320        activation_11[0][0]              \n",
            "__________________________________________________________________________________________________\n",
            "add_3 (Add)                     (None, 32, 32, 128)  0           conv2d_14[0][0]                  \n",
            "                                                                 conv2d_13[0][0]                  \n",
            "__________________________________________________________________________________________________\n",
            "batch_normalization_12 (BatchNo (None, 32, 32, 128)  512         add_3[0][0]                      \n",
            "__________________________________________________________________________________________________\n",
            "activation_12 (Activation)      (None, 32, 32, 128)  0           batch_normalization_12[0][0]     \n",
            "__________________________________________________________________________________________________\n",
            "conv2d_15 (Conv2D)              (None, 32, 32, 64)   8256        activation_12[0][0]              \n",
            "__________________________________________________________________________________________________\n",
            "batch_normalization_13 (BatchNo (None, 32, 32, 64)   256         conv2d_15[0][0]                  \n",
            "__________________________________________________________________________________________________\n",
            "activation_13 (Activation)      (None, 32, 32, 64)   0           batch_normalization_13[0][0]     \n",
            "__________________________________________________________________________________________________\n",
            "conv2d_16 (Conv2D)              (None, 32, 32, 64)   36928       activation_13[0][0]              \n",
            "__________________________________________________________________________________________________\n",
            "batch_normalization_14 (BatchNo (None, 32, 32, 64)   256         conv2d_16[0][0]                  \n",
            "__________________________________________________________________________________________________\n",
            "activation_14 (Activation)      (None, 32, 32, 64)   0           batch_normalization_14[0][0]     \n",
            "__________________________________________________________________________________________________\n",
            "conv2d_17 (Conv2D)              (None, 32, 32, 128)  8320        activation_14[0][0]              \n",
            "__________________________________________________________________________________________________\n",
            "add_4 (Add)                     (None, 32, 32, 128)  0           add_3[0][0]                      \n",
            "                                                                 conv2d_17[0][0]                  \n",
            "__________________________________________________________________________________________________\n",
            "batch_normalization_15 (BatchNo (None, 32, 32, 128)  512         add_4[0][0]                      \n",
            "__________________________________________________________________________________________________\n",
            "activation_15 (Activation)      (None, 32, 32, 128)  0           batch_normalization_15[0][0]     \n",
            "__________________________________________________________________________________________________\n",
            "conv2d_18 (Conv2D)              (None, 32, 32, 64)   8256        activation_15[0][0]              \n",
            "__________________________________________________________________________________________________\n",
            "batch_normalization_16 (BatchNo (None, 32, 32, 64)   256         conv2d_18[0][0]                  \n",
            "__________________________________________________________________________________________________\n",
            "activation_16 (Activation)      (None, 32, 32, 64)   0           batch_normalization_16[0][0]     \n",
            "__________________________________________________________________________________________________\n",
            "conv2d_19 (Conv2D)              (None, 32, 32, 64)   36928       activation_16[0][0]              \n",
            "__________________________________________________________________________________________________\n",
            "batch_normalization_17 (BatchNo (None, 32, 32, 64)   256         conv2d_19[0][0]                  \n",
            "__________________________________________________________________________________________________\n",
            "activation_17 (Activation)      (None, 32, 32, 64)   0           batch_normalization_17[0][0]     \n",
            "__________________________________________________________________________________________________\n",
            "conv2d_20 (Conv2D)              (None, 32, 32, 128)  8320        activation_17[0][0]              \n",
            "__________________________________________________________________________________________________\n",
            "add_5 (Add)                     (None, 32, 32, 128)  0           add_4[0][0]                      \n",
            "                                                                 conv2d_20[0][0]                  \n",
            "__________________________________________________________________________________________________\n",
            "batch_normalization_18 (BatchNo (None, 32, 32, 128)  512         add_5[0][0]                      \n",
            "__________________________________________________________________________________________________\n",
            "activation_18 (Activation)      (None, 32, 32, 128)  0           batch_normalization_18[0][0]     \n",
            "__________________________________________________________________________________________________\n",
            "conv2d_21 (Conv2D)              (None, 16, 16, 128)  16512       activation_18[0][0]              \n",
            "__________________________________________________________________________________________________\n",
            "batch_normalization_19 (BatchNo (None, 16, 16, 128)  512         conv2d_21[0][0]                  \n",
            "__________________________________________________________________________________________________\n",
            "activation_19 (Activation)      (None, 16, 16, 128)  0           batch_normalization_19[0][0]     \n",
            "__________________________________________________________________________________________________\n",
            "conv2d_22 (Conv2D)              (None, 16, 16, 128)  147584      activation_19[0][0]              \n",
            "__________________________________________________________________________________________________\n",
            "batch_normalization_20 (BatchNo (None, 16, 16, 128)  512         conv2d_22[0][0]                  \n",
            "__________________________________________________________________________________________________\n",
            "activation_20 (Activation)      (None, 16, 16, 128)  0           batch_normalization_20[0][0]     \n",
            "__________________________________________________________________________________________________\n",
            "conv2d_24 (Conv2D)              (None, 16, 16, 256)  33024       add_5[0][0]                      \n",
            "__________________________________________________________________________________________________\n",
            "conv2d_23 (Conv2D)              (None, 16, 16, 256)  33024       activation_20[0][0]              \n",
            "__________________________________________________________________________________________________\n",
            "add_6 (Add)                     (None, 16, 16, 256)  0           conv2d_24[0][0]                  \n",
            "                                                                 conv2d_23[0][0]                  \n",
            "__________________________________________________________________________________________________\n",
            "batch_normalization_21 (BatchNo (None, 16, 16, 256)  1024        add_6[0][0]                      \n",
            "__________________________________________________________________________________________________\n",
            "activation_21 (Activation)      (None, 16, 16, 256)  0           batch_normalization_21[0][0]     \n",
            "__________________________________________________________________________________________________\n",
            "conv2d_25 (Conv2D)              (None, 16, 16, 128)  32896       activation_21[0][0]              \n",
            "__________________________________________________________________________________________________\n",
            "batch_normalization_22 (BatchNo (None, 16, 16, 128)  512         conv2d_25[0][0]                  \n",
            "__________________________________________________________________________________________________\n",
            "activation_22 (Activation)      (None, 16, 16, 128)  0           batch_normalization_22[0][0]     \n",
            "__________________________________________________________________________________________________\n",
            "conv2d_26 (Conv2D)              (None, 16, 16, 128)  147584      activation_22[0][0]              \n",
            "__________________________________________________________________________________________________\n",
            "batch_normalization_23 (BatchNo (None, 16, 16, 128)  512         conv2d_26[0][0]                  \n",
            "__________________________________________________________________________________________________\n",
            "activation_23 (Activation)      (None, 16, 16, 128)  0           batch_normalization_23[0][0]     \n",
            "__________________________________________________________________________________________________\n",
            "conv2d_27 (Conv2D)              (None, 16, 16, 256)  33024       activation_23[0][0]              \n",
            "__________________________________________________________________________________________________\n",
            "add_7 (Add)                     (None, 16, 16, 256)  0           add_6[0][0]                      \n",
            "                                                                 conv2d_27[0][0]                  \n",
            "__________________________________________________________________________________________________\n",
            "batch_normalization_24 (BatchNo (None, 16, 16, 256)  1024        add_7[0][0]                      \n",
            "__________________________________________________________________________________________________\n",
            "activation_24 (Activation)      (None, 16, 16, 256)  0           batch_normalization_24[0][0]     \n",
            "__________________________________________________________________________________________________\n",
            "conv2d_28 (Conv2D)              (None, 16, 16, 128)  32896       activation_24[0][0]              \n",
            "__________________________________________________________________________________________________\n",
            "batch_normalization_25 (BatchNo (None, 16, 16, 128)  512         conv2d_28[0][0]                  \n",
            "__________________________________________________________________________________________________\n",
            "activation_25 (Activation)      (None, 16, 16, 128)  0           batch_normalization_25[0][0]     \n",
            "__________________________________________________________________________________________________\n",
            "conv2d_29 (Conv2D)              (None, 16, 16, 128)  147584      activation_25[0][0]              \n",
            "__________________________________________________________________________________________________\n",
            "batch_normalization_26 (BatchNo (None, 16, 16, 128)  512         conv2d_29[0][0]                  \n",
            "__________________________________________________________________________________________________\n",
            "activation_26 (Activation)      (None, 16, 16, 128)  0           batch_normalization_26[0][0]     \n",
            "__________________________________________________________________________________________________\n",
            "conv2d_30 (Conv2D)              (None, 16, 16, 256)  33024       activation_26[0][0]              \n",
            "__________________________________________________________________________________________________\n",
            "add_8 (Add)                     (None, 16, 16, 256)  0           add_7[0][0]                      \n",
            "                                                                 conv2d_30[0][0]                  \n",
            "__________________________________________________________________________________________________\n",
            "batch_normalization_27 (BatchNo (None, 16, 16, 256)  1024        add_8[0][0]                      \n",
            "__________________________________________________________________________________________________\n",
            "activation_27 (Activation)      (None, 16, 16, 256)  0           batch_normalization_27[0][0]     \n",
            "__________________________________________________________________________________________________\n",
            "average_pooling2d (AveragePooli (None, 2, 2, 256)    0           activation_27[0][0]              \n",
            "__________________________________________________________________________________________________\n",
            "flatten (Flatten)               (None, 1024)         0           average_pooling2d[0][0]          \n",
            "__________________________________________________________________________________________________\n",
            "dense (Dense)                   (None, 512)          524800      flatten[0][0]                    \n",
            "__________________________________________________________________________________________________\n",
            "dropout (Dropout)               (None, 512)          0           dense[0][0]                      \n",
            "__________________________________________________________________________________________________\n",
            "output1 (Dense)                 (None, 4)            2052        dropout[0][0]                    \n",
            "__________________________________________________________________________________________________\n",
            "output2 (Dense)                 (None, 2)            1026        dropout[0][0]                    \n",
            "==================================================================================================\n",
            "Total params: 1,374,310\n",
            "Trainable params: 1,369,094\n",
            "Non-trainable params: 5,216\n",
            "__________________________________________________________________________________________________\n"
          ],
          "name": "stdout"
        }
      ]
    },
    {
      "cell_type": "markdown",
      "metadata": {
        "id": "sUmiS87vdonR",
        "colab_type": "text"
      },
      "source": [
        "学習途上のチェックポイントから再開させることもできます。\n",
        "\n",
        "load_weights関数にてチェックポイントファイルから重みをロードします。"
      ]
    },
    {
      "cell_type": "code",
      "metadata": {
        "id": "dAQ_PWeidls-",
        "colab_type": "code",
        "colab": {}
      },
      "source": [
        "# チェックポイントから学習済みパラメータを復元\n",
        "#model.load_weights(f'{model_dir}run1/{model_structure}_{data_set}_cp-0010.ckpt')"
      ],
      "execution_count": 0,
      "outputs": []
    },
    {
      "cell_type": "markdown",
      "metadata": {
        "id": "6_yBnQiN0bID",
        "colab_type": "text"
      },
      "source": [
        "### 1.2.4 モデルの学習\n",
        "\n",
        "ようやく学習に入ります。今回は少ない画像データを水増しして学習させる方法を使います。\n",
        "\n",
        "この場合、学習処理にはfit_generator関数を使います。\n",
        "\n",
        "水増しというと聞こえが悪いですが、、、ImageDataGenerator関数を用いることで、画像データに若干の加工を行い、データのバリエーションを増やすことができます。\n",
        "\n",
        "サンプルでは、以下４点の設定を入れています。\n",
        "\n",
        "- rotation_range：画像を指定のレンジの幅で傾ける\n",
        "- zoom_range：画像の指定のレンジの幅で拡大する\n",
        "- height_shift_range：画像を指定のレンジの幅で縦にスライドする\n",
        "- width_shift_range：画像を指定のレンジの幅で横にスライドする\n",
        "\n"
      ]
    },
    {
      "cell_type": "code",
      "metadata": {
        "scrolled": false,
        "id": "_IQUEb790bIE",
        "colab_type": "code",
        "outputId": "f1789469-6b72-49f6-888c-28b1358c852d",
        "colab": {
          "base_uri": "https://localhost:8080/",
          "height": 394
        }
      },
      "source": [
        "from keras.preprocessing import image\n",
        "\n",
        "# epoch数を指定\n",
        "epochs=10\n",
        "\n",
        "# batchサイズを指定\n",
        "batch_size=500\n",
        "\n",
        "# 学習の実行(fit)\n",
        "#result = model.fit(x_train, y_train, batch_size=batch_size, epochs=epochs, verbose=1,callbacks=[tb_cb, cp_cb], validation_data=(x_test, y_test))\n",
        "\n",
        "# 画像データ生成器を作成する。\n",
        "params = {\n",
        "    'rotation_range': 20,\n",
        "    'zoom_range': 0.10,\n",
        "    'height_shift_range': 0.1,\n",
        "    'width_shift_range': 0.1\n",
        "}\n",
        "#datagen = image.ImageDataGenerator(**params)\n",
        "#datagen.fit(x_train)\n",
        "\n",
        "def generator(x, y1, y2, batch_size):\n",
        "    batch_size = 8\n",
        "    \n",
        "    while True:\n",
        "        yield x, {'output1': y1, 'output2': y2}\n",
        "\n",
        "xx = generator(x_train, y_train, y_train2, 16)        \n",
        "print(xx)\n",
        "    \n",
        "# 学習の実行 (fit_generator)\n",
        "#result = model.fit_generator(datagen.flow(x_train, y_train, batch_size=16), steps_per_epoch=x_train.shape[0], epochs=epochs, validation_data=(x_test, y_test))\n",
        "#result = model.fit_generator(datagen.flow(x_train, [y_train, y_train2], batch_size=16), steps_per_epoch=x_train.shape[0], epochs=epochs, validation_data=(x_test, [y_test, y_test2]))\n",
        "result = model.fit_generator(generator(x_train, y_train, y_train2, 16), steps_per_epoch=x_train.shape[0], epochs=epochs, validation_data=generator(x_test, y_test, y_test2, 16), validation_steps=2)\n"
      ],
      "execution_count": 44,
      "outputs": [
        {
          "output_type": "stream",
          "text": [
            "<generator object generator at 0x7ff1305f1e60>\n",
            "Epoch 1/10\n",
            "128/128 [==============================] - 69s 538ms/step - loss: 2.0334 - output1_loss: 1.0203 - output2_loss: 0.4069 - output1_acc: 0.5956 - output2_acc: 0.8227 - val_loss: 12.6304 - val_output1_loss: 5.1380 - val_output2_loss: 6.8865 - val_output1_acc: 0.4062 - val_output2_acc: 0.7188\n",
            "Epoch 2/10\n",
            "128/128 [==============================] - 68s 529ms/step - loss: 1.1745 - output1_loss: 0.4489 - output2_loss: 0.1197 - output1_acc: 0.8998 - output2_acc: 0.9723 - val_loss: 1.1377 - val_output1_loss: 0.3646 - val_output2_loss: 0.1675 - val_output1_acc: 0.8750 - val_output2_acc: 0.9062\n",
            "Epoch 3/10\n",
            "128/128 [==============================] - 68s 530ms/step - loss: 0.8634 - output1_loss: 0.2159 - output2_loss: 0.0421 - output1_acc: 0.9666 - output2_acc: 0.9970 - val_loss: 0.9391 - val_output1_loss: 0.2597 - val_output2_loss: 0.0741 - val_output1_acc: 0.9375 - val_output2_acc: 0.9688\n",
            "Epoch 4/10\n",
            "128/128 [==============================] - 68s 529ms/step - loss: 0.7448 - output1_loss: 0.1192 - output2_loss: 0.0204 - output1_acc: 0.9898 - output2_acc: 0.9996 - val_loss: 0.9099 - val_output1_loss: 0.2363 - val_output2_loss: 0.0685 - val_output1_acc: 0.9375 - val_output2_acc: 0.9688\n",
            "Epoch 5/10\n",
            "128/128 [==============================] - 68s 530ms/step - loss: 0.6928 - output1_loss: 0.0748 - output2_loss: 0.0131 - output1_acc: 0.9954 - output2_acc: 0.9999 - val_loss: 0.8961 - val_output1_loss: 0.2267 - val_output2_loss: 0.0647 - val_output1_acc: 0.9062 - val_output2_acc: 0.9688\n",
            "Epoch 6/10\n",
            "128/128 [==============================] - 68s 531ms/step - loss: 0.6643 - output1_loss: 0.0508 - output2_loss: 0.0090 - output1_acc: 0.9982 - output2_acc: 1.0000 - val_loss: 0.8830 - val_output1_loss: 0.2193 - val_output2_loss: 0.0594 - val_output1_acc: 0.9062 - val_output2_acc: 0.9688\n",
            "Epoch 7/10\n",
            "128/128 [==============================] - 68s 528ms/step - loss: 0.6474 - output1_loss: 0.0363 - output2_loss: 0.0070 - output1_acc: 0.9995 - output2_acc: 1.0000 - val_loss: 0.8811 - val_output1_loss: 0.2156 - val_output2_loss: 0.0614 - val_output1_acc: 0.9062 - val_output2_acc: 0.9688\n",
            "Epoch 8/10\n",
            "128/128 [==============================] - 68s 531ms/step - loss: 0.6366 - output1_loss: 0.0273 - output2_loss: 0.0054 - output1_acc: 0.9995 - output2_acc: 1.0000 - val_loss: 0.8765 - val_output1_loss: 0.2163 - val_output2_loss: 0.0564 - val_output1_acc: 0.9062 - val_output2_acc: 0.9375\n",
            "Epoch 9/10\n",
            "128/128 [==============================] - 68s 530ms/step - loss: 0.6295 - output1_loss: 0.0216 - output2_loss: 0.0043 - output1_acc: 0.9999 - output2_acc: 1.0000 - val_loss: 0.8791 - val_output1_loss: 0.2165 - val_output2_loss: 0.0592 - val_output1_acc: 0.9062 - val_output2_acc: 0.9688\n",
            "Epoch 10/10\n",
            "128/128 [==============================] - 68s 530ms/step - loss: 0.6246 - output1_loss: 0.0177 - output2_loss: 0.0037 - output1_acc: 0.9998 - output2_acc: 1.0000 - val_loss: 0.8741 - val_output1_loss: 0.2153 - val_output2_loss: 0.0557 - val_output1_acc: 0.9375 - val_output2_acc: 0.9375\n"
          ],
          "name": "stdout"
        }
      ]
    },
    {
      "cell_type": "markdown",
      "metadata": {
        "id": "XCLIozIF0bIJ",
        "colab_type": "text"
      },
      "source": [
        "学習結果の評価については、evaluate関数にて得ることができます。\n",
        "\n",
        "主な引数は次の通りです。\n",
        "\n",
        "* x：評価に使用する入力データ\n",
        "* y：評価に使用する出力データ\n",
        "* batch_size：1回の評価を行うにあたって用いるサンプル数\n",
        "* verbose：評価のログを出力するか（0:しない、1：する(デフォルト)）\n",
        "\n",
        "基本的には、損失(Loss)は低ければ低いほうが、評価(Accuracy)は高ければ高いほうが良いです。\n",
        "\n",
        "Accuracyはモデルの精度そのもの、Lossは学習が効率よく行われているかを示す指標で、Lossが高いまま収束していかない＝効率が良くなく、モデル構造やパラメータ改善の余地あり、という感覚でよいかと思います。\n"
      ]
    },
    {
      "cell_type": "code",
      "metadata": {
        "id": "Ys0GtCR60bIK",
        "colab_type": "code",
        "outputId": "93766b5b-1f7f-473a-c119-44b1df42b5cd",
        "colab": {
          "base_uri": "https://localhost:8080/",
          "height": 85
        }
      },
      "source": [
        "#score = model.evaluate(x_test, y_test, verbose=0)\n",
        "score = model.evaluate(x_test, {'output1': y_test,'output2': y_test2}, verbose=0)\n",
        "print('Label#1 Test loss:', score[1])\n",
        "print('Label#1 Test accuracy:', score[3])\n",
        "\n",
        "print('Label#2 Test loss:', score[2])\n",
        "print('Label#2 Test accuracy:', score[4])"
      ],
      "execution_count": 52,
      "outputs": [
        {
          "output_type": "stream",
          "text": [
            "Label#1 Test loss: 0.2152661\n",
            "Label#1 Test accuracy: 0.9375\n",
            "Label#2 Test loss: 0.055720806\n",
            "Label#2 Test accuracy: 0.9375\n"
          ],
          "name": "stdout"
        }
      ]
    },
    {
      "cell_type": "markdown",
      "metadata": {
        "id": "uvQIQuhhWdOo",
        "colab_type": "text"
      },
      "source": [
        "epochごとのAccuracyおよびLossの遷移をグラフ化してみましょう。\n",
        "\n",
        "fit関数のreturnから、データを取得することができます。"
      ]
    },
    {
      "cell_type": "code",
      "metadata": {
        "id": "UB8isRg_hfGT",
        "colab_type": "code",
        "outputId": "4efde1b5-121f-4b7e-e206-e82aa2a1cc76",
        "colab": {
          "base_uri": "https://localhost:8080/",
          "height": 590
        }
      },
      "source": [
        "result.history.keys() # ヒストリデータのラベルを見てみる\n",
        "\n",
        "plt.plot(range(1, epochs+1), result.history['output1_acc'], label=\"training#1\")\n",
        "plt.plot(range(1, epochs+1), result.history['output2_acc'], label=\"training#2\")\n",
        "plt.plot(range(1, epochs+1), result.history['val_output1_acc'], label=\"validation#1\")\n",
        "plt.plot(range(1, epochs+1), result.history['val_output2_acc'], label=\"validation#2\")\n",
        "plt.title('Accuracy History')\n",
        "plt.xlabel('Epochs')\n",
        "plt.ylabel('Accuracy')\n",
        "plt.legend()\n",
        "plt.xlim([1,epochs])\n",
        "plt.ylim([0,1])\n",
        "plt.show()\n",
        "plt.savefig(model_opt+'_'+'acc.png')\n",
        "\n",
        "plt.plot(range(1, epochs+1), result.history['output1_loss'], label=\"training#1\")\n",
        "plt.plot(range(1, epochs+1), result.history['output2_loss'], label=\"training#2\")\n",
        "plt.plot(range(1, epochs+1), result.history['val_output1_loss'], label=\"validation#1\")\n",
        "plt.plot(range(1, epochs+1), result.history['val_output2_loss'], label=\"validation#2\")\n",
        "plt.title('Loss History')\n",
        "plt.xlabel('Epochs')\n",
        "plt.ylabel('Loss')\n",
        "plt.legend()\n",
        "plt.xlim([1,epochs])\n",
        "plt.ylim([0,20])\n",
        "plt.show()\n",
        "plt.savefig(model_opt+'_'+'loss.png')"
      ],
      "execution_count": 58,
      "outputs": [
        {
          "output_type": "display_data",
          "data": {
            "image/png": "[encoded data removed]",
            "text/plain": [
              "<Figure size 432x288 with 1 Axes>"
            ]
          },
          "metadata": {
            "tags": []
          }
        },
        {
          "output_type": "display_data",
          "data": {
            "image/png": "[encoded data removed]",
            "text/plain": [
              "<Figure size 432x288 with 1 Axes>"
            ]
          },
          "metadata": {
            "tags": []
          }
        },
        {
          "output_type": "display_data",
          "data": {
            "text/plain": [
              "<Figure size 432x288 with 0 Axes>"
            ]
          },
          "metadata": {
            "tags": []
          }
        }
      ]
    },
    {
      "cell_type": "markdown",
      "metadata": {
        "id": "Zq7fmArk0bIN",
        "colab_type": "text"
      },
      "source": [
        "### 2.2.6 モデルによる予測\n",
        "\n",
        "精度だけ見ても面白くないので、検証用データの予測結果を見てみましょう。\n",
        "\n",
        "Sequential.predict関数によって予測を行うことができます。\n",
        "\n",
        "主な引数は次の通りです。\n",
        "\n",
        "* x_test：予測に使用する入力データ\n",
        "* batch_size：まとめて1度に予測を行うサンプル数\n",
        "* verbose：評価のログを出力するか（0:しない(デフォルト)、1：する）"
      ]
    },
    {
      "cell_type": "code",
      "metadata": {
        "id": "m7CJSTL50bIN",
        "colab_type": "code",
        "outputId": "fdd64a16-f69d-427a-e6f9-6bac5dd4a21f",
        "colab": {
          "base_uri": "https://localhost:8080/",
          "height": 34
        }
      },
      "source": [
        "classes = model.predict(x_test, batch_size=128, verbose=1)"
      ],
      "execution_count": 59,
      "outputs": [
        {
          "output_type": "stream",
          "text": [
            "\r32/32 [==============================] - 0s 14ms/sample\n"
          ],
          "name": "stdout"
        }
      ]
    },
    {
      "cell_type": "code",
      "metadata": {
        "id": "BqkLFJLT96O-",
        "colab_type": "code",
        "colab": {
          "base_uri": "https://localhost:8080/",
          "height": 561
        },
        "outputId": "d9de5b17-b517-4816-c759-27c303db173a"
      },
      "source": [
        "print(classes[0])"
      ],
      "execution_count": 68,
      "outputs": [
        {
          "output_type": "stream",
          "text": [
            "[[5.64101501e-04 1.64904377e-05 1.28847038e-04 9.99290466e-01]\n",
            " [7.27542613e-07 9.99998331e-01 9.55515247e-07 2.43201215e-09]\n",
            " [1.70783717e-02 9.36556753e-05 4.52455832e-03 9.78303492e-01]\n",
            " [9.98973727e-01 7.82833900e-04 2.40348760e-04 3.12305929e-06]\n",
            " [7.35291839e-03 9.85241950e-01 3.96453124e-03 3.44051979e-03]\n",
            " [2.59671833e-05 9.99971151e-01 2.79945630e-06 4.96545827e-09]\n",
            " [2.18433365e-02 8.68842304e-01 1.09300785e-01 1.35302344e-05]\n",
            " [6.66748822e-01 2.54803244e-02 2.89483279e-01 1.82875600e-02]\n",
            " [9.20610666e-01 7.49917328e-02 4.38994588e-03 7.63802382e-06]\n",
            " [9.85255837e-01 1.42651647e-02 4.59434610e-04 1.95213215e-05]\n",
            " [4.46275444e-05 9.99951601e-01 3.68280507e-06 9.88275630e-08]\n",
            " [2.09427662e-02 1.42477173e-03 5.13976336e-01 4.63656127e-01]\n",
            " [7.91065861e-04 1.25896186e-05 1.39418655e-04 9.99056876e-01]\n",
            " [5.63104140e-06 9.99873400e-01 1.19738004e-04 1.25683141e-06]\n",
            " [6.55680776e-01 3.54085490e-03 4.73969663e-03 3.36038619e-01]\n",
            " [7.54360444e-05 2.60604907e-06 8.37625557e-05 9.99838114e-01]\n",
            " [5.63298911e-02 7.31813252e-01 2.08493128e-01 3.36364703e-03]\n",
            " [5.78256045e-03 3.98706761e-05 5.66673581e-04 9.93610919e-01]\n",
            " [1.19338324e-07 9.99999881e-01 4.72636081e-08 8.15941981e-10]\n",
            " [5.94012206e-03 5.69399272e-04 9.91558194e-01 1.93228782e-03]\n",
            " [1.13598572e-03 9.90697801e-01 8.10712017e-03 5.90137424e-05]\n",
            " [3.79567617e-03 2.23608644e-04 2.84946105e-03 9.93131340e-01]\n",
            " [1.01356499e-03 9.97564316e-01 1.41960313e-03 2.56149360e-06]\n",
            " [1.58013536e-05 9.99873400e-01 1.10507237e-04 2.61326250e-07]\n",
            " [9.99613822e-01 3.22152191e-04 6.06597096e-05 3.46592242e-06]\n",
            " [6.15348993e-03 2.22817343e-02 9.71051693e-01 5.13061357e-04]\n",
            " [9.99619842e-01 1.56673064e-04 1.42181070e-05 2.09266582e-04]\n",
            " [6.87649334e-03 1.95208914e-03 9.91118252e-01 5.31953192e-05]\n",
            " [2.45394975e-01 3.78052006e-03 9.38764121e-03 7.41436899e-01]\n",
            " [4.10538055e-02 1.39404703e-02 9.44769681e-01 2.36040069e-04]\n",
            " [1.80975962e-02 3.74980242e-04 6.00660546e-03 9.75520849e-01]\n",
            " [3.48135181e-05 9.99963880e-01 1.30751482e-06 2.50613805e-08]]\n"
          ],
          "name": "stdout"
        }
      ]
    },
    {
      "cell_type": "markdown",
      "metadata": {
        "id": "kx85EWpfW7Nz",
        "colab_type": "text"
      },
      "source": [
        "上記コマンドで検証用データの予測を実施しています。\n",
        "\n",
        "どのような結果が得られているかイメージしやすくするために、画像を1枚抽出して、その結果を実際に見てみます。\n"
      ]
    },
    {
      "cell_type": "code",
      "metadata": {
        "id": "5sTY0plvOe-2",
        "colab_type": "code",
        "colab": {
          "base_uri": "https://localhost:8080/",
          "height": 337
        },
        "outputId": "7c861be3-4cc4-4881-ab5f-fb06d131d1bf"
      },
      "source": [
        "# データセットの推論結果と元画像を確認\n",
        "# test_numを0～9999で指定してください\n",
        "%matplotlib inline\n",
        "test_num=17\n",
        "test_img = np.squeeze(x_test[test_num])\n",
        "\n",
        "#labels = np.array([0,1,2,3,4,5,6,7,8,9])\n",
        "labels1 = np.array([\n",
        "        'rx-178',\n",
        "        'msz-006',\n",
        "        'rx-93',\n",
        "        'ms-06'])\n",
        "\n",
        "labels2 = np.array([\n",
        "        'EFF',\n",
        "        'Zeon'])\n",
        "\n",
        "\n",
        "print(\"ラベル#1の確からしさ(%)：\"+str(np.round(classes[0][test_num],decimals=2)*100))\n",
        "print(\"推論結果：\"+str(labels1[classes[0][test_num].argmax()]))\n",
        "\n",
        "print(\"ラベル#2の確からしさ(%)：\"+str(np.round(classes[1][test_num],decimals=2)*100))\n",
        "print(\"推論結果：\"+str(labels2[classes[1][test_num].argmax()]))\n",
        "\n",
        "\n",
        "plt.imshow(test_img.astype(np.int),'gray')\n",
        "plt.show()"
      ],
      "execution_count": 77,
      "outputs": [
        {
          "output_type": "stream",
          "text": [
            "ラベル#1の確からしさ(%)：[ 1.  0.  0. 99.]\n",
            "推論結果：ms-06\n",
            "ラベル#2の確からしさ(%)：[ 1. 99.]\n",
            "推論結果：Zeon\n"
          ],
          "name": "stdout"
        },
        {
          "output_type": "display_data",
          "data": {
            "image/png": "[encoded data removed]",
            "text/plain": [
              "<Figure size 432x288 with 1 Axes>"
            ]
          },
          "metadata": {
            "tags": []
          }
        }
      ]
    },
    {
      "cell_type": "markdown",
      "metadata": {
        "id": "pQ4aUVfFVYfE",
        "colab_type": "text"
      },
      "source": [
        "予測精度の最終確認として、Confusion Matrixを表示してみます。\n",
        "\n",
        "X軸とY軸が一致する箇所に集中していれば(要するに左上から右下に斜めに赤くなっている)、精度の良いモデルと言えるでしょう。"
      ]
    },
    {
      "cell_type": "code",
      "metadata": {
        "id": "BIOawSjjUl0y",
        "colab_type": "code",
        "outputId": "b9884112-f9ec-4550-951f-5a6a072bcb45",
        "colab": {
          "base_uri": "https://localhost:8080/",
          "height": 847
        }
      },
      "source": [
        "import pandas as pd\n",
        "import seaborn as sns\n",
        "from sklearn.metrics import confusion_matrix\n",
        "from sklearn.metrics import classification_report\n",
        "\n",
        "# ラベル#1のマトリックス\n",
        "cmatrix = confusion_matrix(np.argmax(y_test, 1), np.argmax(classes[0], 1))\n",
        "cmatrix_plt = pd.DataFrame(cmatrix, index=labels1, columns=labels1)\n",
        "\n",
        "plt.figure(figsize = (10,7))\n",
        "sns.heatmap(cmatrix_plt, annot=True, cmap=\"Reds\", fmt=\"d\")\n",
        "plt.show()\n",
        "\n",
        "# ラベル#2のマトリックス\n",
        "cmatrix = confusion_matrix(np.argmax(y_test2, 1), np.argmax(classes[1], 1))\n",
        "cmatrix_plt = pd.DataFrame(cmatrix, index=labels2, columns=labels2)\n",
        "\n",
        "plt.figure(figsize = (10,7))\n",
        "sns.heatmap(cmatrix_plt, annot=True, cmap=\"Blues\", fmt=\"d\")\n",
        "plt.show()"
      ],
      "execution_count": 83,
      "outputs": [
        {
          "output_type": "display_data",
          "data": {
            "image/png": "[encoded data removed]",
            "text/plain": [
              "<Figure size 720x504 with 2 Axes>"
            ]
          },
          "metadata": {
            "tags": []
          }
        },
        {
          "output_type": "display_data",
          "data": {
            "image/png": "[encoded data removed]",
            "text/plain": [
              "<Figure size 720x504 with 2 Axes>"
            ]
          },
          "metadata": {
            "tags": []
          }
        }
      ]
    },
    {
      "cell_type": "markdown",
      "metadata": {
        "id": "sqbPWg1mfbA3",
        "colab_type": "text"
      },
      "source": [
        "### 2.2.7 モデルのファイル出力\n",
        "\n",
        "学習させたモデルを出力し、静的学習済みモデルとして外部で活用することもできます。\n",
        "\n",
        "ここでは、Keras形式に加えて、TensorFlowのSaved Model形式も試してみます。"
      ]
    },
    {
      "cell_type": "code",
      "metadata": {
        "id": "_tcWm1vmlVvA",
        "colab_type": "code",
        "outputId": "2e5dc309-1a13-4c5d-ed4a-934c2b13d4f1",
        "colab": {
          "base_uri": "https://localhost:8080/",
          "height": 1000
        }
      },
      "source": [
        "# Keras形式でモデルを出力\n",
        "output_keras_name = f\"{model_dir}02_{model_opt}_{epochs}_frozen_graph.h5\"\n",
        "model.save(output_keras_name, include_optimizer=False)\n",
        "\n",
        "# TensorFlow Saved Model形式でモデルを出力\n",
        "from tensorflow.contrib import saved_model\n",
        "\n",
        "out_tf_saved_model = f\"{model_dir}02_{model_opt}_{epochs}_saved_models\"\n",
        "\n",
        "if os.path.exists(out_tf_saved_model):\n",
        "    shutil.rmtree(out_tf_saved_model)\n",
        "#saved_model_path = saved_model.save_keras_model(model, out_tf_saved_model)\n",
        "saved_model_path = saved_model.save_keras_model(model, \"./saved_model\")\n"
      ],
      "execution_count": 84,
      "outputs": [
        {
          "output_type": "stream",
          "text": [
            "W0722 14:01:13.177535 140675736770432 deprecation.py:506] From /usr/local/lib/python3.6/dist-packages/tensorflow/python/ops/init_ops.py:97: calling Zeros.__init__ (from tensorflow.python.ops.init_ops) with dtype is deprecated and will be removed in a future version.\n",
            "Instructions for updating:\n",
            "Call initializer instance with the dtype argument instead of passing it to the constructor\n",
            "W0722 14:01:13.207022 140675736770432 deprecation.py:506] From /usr/local/lib/python3.6/dist-packages/tensorflow/python/ops/init_ops.py:97: calling Ones.__init__ (from tensorflow.python.ops.init_ops) with dtype is deprecated and will be removed in a future version.\n",
            "Instructions for updating:\n",
            "Call initializer instance with the dtype argument instead of passing it to the constructor\n",
            "W0722 14:01:14.949930 140675736770432 deprecation.py:506] From /usr/local/lib/python3.6/dist-packages/tensorflow/python/ops/init_ops.py:97: calling GlorotUniform.__init__ (from tensorflow.python.ops.init_ops) with dtype is deprecated and will be removed in a future version.\n",
            "Instructions for updating:\n",
            "Call initializer instance with the dtype argument instead of passing it to the constructor\n",
            "W0722 14:01:21.729635 140675736770432 deprecation.py:323] From /usr/local/lib/python3.6/dist-packages/tensorflow/python/saved_model/signature_def_utils_impl.py:253: build_tensor_info (from tensorflow.python.saved_model.utils_impl) is deprecated and will be removed in a future version.\n",
            "Instructions for updating:\n",
            "This function will only be available through the v1 compatibility library as tf.compat.v1.saved_model.utils.build_tensor_info or tf.compat.v1.saved_model.build_tensor_info.\n",
            "W0722 14:01:21.731822 140675736770432 export_utils.py:182] Export includes no default signature!\n",
            "W0722 14:01:27.015445 140675736770432 export_utils.py:182] Export includes no default signature!\n",
            "W0722 14:01:30.006997 140675736770432 util.py:244] Unresolved object in checkpoint: (root).layer_with_weights-1._updates\n",
            "W0722 14:01:30.008479 140675736770432 util.py:244] Unresolved object in checkpoint: (root).layer_with_weights-3._updates\n",
            "W0722 14:01:30.009378 140675736770432 util.py:244] Unresolved object in checkpoint: (root).layer_with_weights-5._updates\n",
            "W0722 14:01:30.017719 140675736770432 util.py:244] Unresolved object in checkpoint: (root).layer_with_weights-8._updates\n",
            "W0722 14:01:30.019563 140675736770432 util.py:244] Unresolved object in checkpoint: (root).layer_with_weights-10._updates\n",
            "W0722 14:01:30.021569 140675736770432 util.py:244] Unresolved object in checkpoint: (root).layer_with_weights-12._updates\n",
            "W0722 14:01:30.023806 140675736770432 util.py:244] Unresolved object in checkpoint: (root).layer_with_weights-14._updates\n",
            "W0722 14:01:30.026608 140675736770432 util.py:244] Unresolved object in checkpoint: (root).layer_with_weights-16._updates\n",
            "W0722 14:01:30.029359 140675736770432 util.py:244] Unresolved object in checkpoint: (root).layer_with_weights-18._updates\n",
            "W0722 14:01:30.031175 140675736770432 util.py:244] Unresolved object in checkpoint: (root).layer_with_weights-20._updates\n",
            "W0722 14:01:30.033626 140675736770432 util.py:244] Unresolved object in checkpoint: (root).layer_with_weights-22._updates\n",
            "W0722 14:01:30.035326 140675736770432 util.py:244] Unresolved object in checkpoint: (root).layer_with_weights-24._updates\n",
            "W0722 14:01:30.037632 140675736770432 util.py:244] Unresolved object in checkpoint: (root).layer_with_weights-27._updates\n",
            "W0722 14:01:30.039373 140675736770432 util.py:244] Unresolved object in checkpoint: (root).layer_with_weights-29._updates\n",
            "W0722 14:01:30.041585 140675736770432 util.py:244] Unresolved object in checkpoint: (root).layer_with_weights-31._updates\n",
            "W0722 14:01:30.042598 140675736770432 util.py:244] Unresolved object in checkpoint: (root).layer_with_weights-33._updates\n",
            "W0722 14:01:30.044096 140675736770432 util.py:244] Unresolved object in checkpoint: (root).layer_with_weights-35._updates\n",
            "W0722 14:01:30.046224 140675736770432 util.py:244] Unresolved object in checkpoint: (root).layer_with_weights-37._updates\n",
            "W0722 14:01:30.047934 140675736770432 util.py:244] Unresolved object in checkpoint: (root).layer_with_weights-39._updates\n",
            "W0722 14:01:30.051179 140675736770432 util.py:244] Unresolved object in checkpoint: (root).layer_with_weights-41._updates\n",
            "W0722 14:01:30.054722 140675736770432 util.py:244] Unresolved object in checkpoint: (root).layer_with_weights-43._updates\n",
            "W0722 14:01:30.057457 140675736770432 util.py:244] Unresolved object in checkpoint: (root).layer_with_weights-46._updates\n",
            "W0722 14:01:30.060598 140675736770432 util.py:244] Unresolved object in checkpoint: (root).layer_with_weights-48._updates\n",
            "W0722 14:01:30.064443 140675736770432 util.py:244] Unresolved object in checkpoint: (root).layer_with_weights-50._updates\n",
            "W0722 14:01:30.068249 140675736770432 util.py:244] Unresolved object in checkpoint: (root).layer_with_weights-52._updates\n",
            "W0722 14:01:30.070442 140675736770432 util.py:244] Unresolved object in checkpoint: (root).layer_with_weights-54._updates\n",
            "W0722 14:01:30.074469 140675736770432 util.py:244] Unresolved object in checkpoint: (root).layer_with_weights-56._updates\n",
            "W0722 14:01:30.076250 140675736770432 util.py:244] Unresolved object in checkpoint: (root).layer_with_weights-58._updates\n",
            "W0722 14:01:30.078312 140675736770432 util.py:244] Unresolved object in checkpoint: (root).optimizer.decay\n",
            "W0722 14:01:30.080741 140675736770432 util.py:244] Unresolved object in checkpoint: (root).optimizer.learning_rate\n",
            "W0722 14:01:30.082169 140675736770432 util.py:244] Unresolved object in checkpoint: (root).optimizer.momentum\n",
            "W0722 14:01:30.084085 140675736770432 util.py:244] Unresolved object in checkpoint: (root).optimizer's state 'momentum' for (root).layer_with_weights-0.kernel\n",
            "W0722 14:01:30.086934 140675736770432 util.py:244] Unresolved object in checkpoint: (root).optimizer's state 'momentum' for (root).layer_with_weights-0.bias\n",
            "W0722 14:01:30.088831 140675736770432 util.py:244] Unresolved object in checkpoint: (root).optimizer's state 'momentum' for (root).layer_with_weights-1.gamma\n",
            "W0722 14:01:30.090795 140675736770432 util.py:244] Unresolved object in checkpoint: (root).optimizer's state 'momentum' for (root).layer_with_weights-1.beta\n",
            "W0722 14:01:30.093139 140675736770432 util.py:244] Unresolved object in checkpoint: (root).optimizer's state 'momentum' for (root).layer_with_weights-2.kernel\n",
            "W0722 14:01:30.094530 140675736770432 util.py:244] Unresolved object in checkpoint: (root).optimizer's state 'momentum' for (root).layer_with_weights-2.bias\n",
            "W0722 14:01:30.096294 140675736770432 util.py:244] Unresolved object in checkpoint: (root).optimizer's state 'momentum' for (root).layer_with_weights-3.gamma\n",
            "W0722 14:01:30.099182 140675736770432 util.py:244] Unresolved object in checkpoint: (root).optimizer's state 'momentum' for (root).layer_with_weights-3.beta\n",
            "W0722 14:01:30.101109 140675736770432 util.py:244] Unresolved object in checkpoint: (root).optimizer's state 'momentum' for (root).layer_with_weights-4.kernel\n",
            "W0722 14:01:30.103022 140675736770432 util.py:244] Unresolved object in checkpoint: (root).optimizer's state 'momentum' for (root).layer_with_weights-4.bias\n",
            "W0722 14:01:30.105282 140675736770432 util.py:244] Unresolved object in checkpoint: (root).optimizer's state 'momentum' for (root).layer_with_weights-5.gamma\n",
            "W0722 14:01:30.107132 140675736770432 util.py:244] Unresolved object in checkpoint: (root).optimizer's state 'momentum' for (root).layer_with_weights-5.beta\n",
            "W0722 14:01:30.109138 140675736770432 util.py:244] Unresolved object in checkpoint: (root).optimizer's state 'momentum' for (root).layer_with_weights-6.kernel\n",
            "W0722 14:01:30.111503 140675736770432 util.py:244] Unresolved object in checkpoint: (root).optimizer's state 'momentum' for (root).layer_with_weights-6.bias\n",
            "W0722 14:01:30.113275 140675736770432 util.py:244] Unresolved object in checkpoint: (root).optimizer's state 'momentum' for (root).layer_with_weights-7.kernel\n",
            "W0722 14:01:30.115247 140675736770432 util.py:244] Unresolved object in checkpoint: (root).optimizer's state 'momentum' for (root).layer_with_weights-7.bias\n",
            "W0722 14:01:30.117642 140675736770432 util.py:244] Unresolved object in checkpoint: (root).optimizer's state 'momentum' for (root).layer_with_weights-8.gamma\n",
            "W0722 14:01:30.119557 140675736770432 util.py:244] Unresolved object in checkpoint: (root).optimizer's state 'momentum' for (root).layer_with_weights-8.beta\n",
            "W0722 14:01:30.121516 140675736770432 util.py:244] Unresolved object in checkpoint: (root).optimizer's state 'momentum' for (root).layer_with_weights-9.kernel\n",
            "W0722 14:01:30.123437 140675736770432 util.py:244] Unresolved object in checkpoint: (root).optimizer's state 'momentum' for (root).layer_with_weights-9.bias\n",
            "W0722 14:01:30.125743 140675736770432 util.py:244] Unresolved object in checkpoint: (root).optimizer's state 'momentum' for (root).layer_with_weights-10.gamma\n",
            "W0722 14:01:30.127702 140675736770432 util.py:244] Unresolved object in checkpoint: (root).optimizer's state 'momentum' for (root).layer_with_weights-10.beta\n",
            "W0722 14:01:30.129680 140675736770432 util.py:244] Unresolved object in checkpoint: (root).optimizer's state 'momentum' for (root).layer_with_weights-11.kernel\n",
            "W0722 14:01:30.131607 140675736770432 util.py:244] Unresolved object in checkpoint: (root).optimizer's state 'momentum' for (root).layer_with_weights-11.bias\n",
            "W0722 14:01:30.134165 140675736770432 util.py:244] Unresolved object in checkpoint: (root).optimizer's state 'momentum' for (root).layer_with_weights-12.gamma\n",
            "W0722 14:01:30.136040 140675736770432 util.py:244] Unresolved object in checkpoint: (root).optimizer's state 'momentum' for (root).layer_with_weights-12.beta\n",
            "W0722 14:01:30.138049 140675736770432 util.py:244] Unresolved object in checkpoint: (root).optimizer's state 'momentum' for (root).layer_with_weights-13.kernel\n",
            "W0722 14:01:30.140456 140675736770432 util.py:244] Unresolved object in checkpoint: (root).optimizer's state 'momentum' for (root).layer_with_weights-13.bias\n",
            "W0722 14:01:30.142481 140675736770432 util.py:244] Unresolved object in checkpoint: (root).optimizer's state 'momentum' for (root).layer_with_weights-14.gamma\n",
            "W0722 14:01:30.144527 140675736770432 util.py:244] Unresolved object in checkpoint: (root).optimizer's state 'momentum' for (root).layer_with_weights-14.beta\n",
            "W0722 14:01:30.146878 140675736770432 util.py:244] Unresolved object in checkpoint: (root).optimizer's state 'momentum' for (root).layer_with_weights-15.kernel\n",
            "W0722 14:01:30.148772 140675736770432 util.py:244] Unresolved object in checkpoint: (root).optimizer's state 'momentum' for (root).layer_with_weights-15.bias\n",
            "W0722 14:01:30.150673 140675736770432 util.py:244] Unresolved object in checkpoint: (root).optimizer's state 'momentum' for (root).layer_with_weights-16.gamma\n",
            "W0722 14:01:30.153145 140675736770432 util.py:244] Unresolved object in checkpoint: (root).optimizer's state 'momentum' for (root).layer_with_weights-16.beta\n",
            "W0722 14:01:30.155084 140675736770432 util.py:244] Unresolved object in checkpoint: (root).optimizer's state 'momentum' for (root).layer_with_weights-17.kernel\n",
            "W0722 14:01:30.157018 140675736770432 util.py:244] Unresolved object in checkpoint: (root).optimizer's state 'momentum' for (root).layer_with_weights-17.bias\n",
            "W0722 14:01:30.159144 140675736770432 util.py:244] Unresolved object in checkpoint: (root).optimizer's state 'momentum' for (root).layer_with_weights-18.gamma\n",
            "W0722 14:01:30.161069 140675736770432 util.py:244] Unresolved object in checkpoint: (root).optimizer's state 'momentum' for (root).layer_with_weights-18.beta\n",
            "W0722 14:01:30.163491 140675736770432 util.py:244] Unresolved object in checkpoint: (root).optimizer's state 'momentum' for (root).layer_with_weights-19.kernel\n",
            "W0722 14:01:30.165252 140675736770432 util.py:244] Unresolved object in checkpoint: (root).optimizer's state 'momentum' for (root).layer_with_weights-19.bias\n",
            "W0722 14:01:30.167233 140675736770432 util.py:244] Unresolved object in checkpoint: (root).optimizer's state 'momentum' for (root).layer_with_weights-20.gamma\n",
            "W0722 14:01:30.169781 140675736770432 util.py:244] Unresolved object in checkpoint: (root).optimizer's state 'momentum' for (root).layer_with_weights-20.beta\n",
            "W0722 14:01:30.171771 140675736770432 util.py:244] Unresolved object in checkpoint: (root).optimizer's state 'momentum' for (root).layer_with_weights-21.kernel\n",
            "W0722 14:01:30.173928 140675736770432 util.py:244] Unresolved object in checkpoint: (root).optimizer's state 'momentum' for (root).layer_with_weights-21.bias\n",
            "W0722 14:01:30.175936 140675736770432 util.py:244] Unresolved object in checkpoint: (root).optimizer's state 'momentum' for (root).layer_with_weights-22.gamma\n",
            "W0722 14:01:30.177783 140675736770432 util.py:244] Unresolved object in checkpoint: (root).optimizer's state 'momentum' for (root).layer_with_weights-22.beta\n",
            "W0722 14:01:30.180279 140675736770432 util.py:244] Unresolved object in checkpoint: (root).optimizer's state 'momentum' for (root).layer_with_weights-23.kernel\n",
            "W0722 14:01:30.182145 140675736770432 util.py:244] Unresolved object in checkpoint: (root).optimizer's state 'momentum' for (root).layer_with_weights-23.bias\n",
            "W0722 14:01:30.183966 140675736770432 util.py:244] Unresolved object in checkpoint: (root).optimizer's state 'momentum' for (root).layer_with_weights-24.gamma\n",
            "W0722 14:01:30.186194 140675736770432 util.py:244] Unresolved object in checkpoint: (root).optimizer's state 'momentum' for (root).layer_with_weights-24.beta\n",
            "W0722 14:01:30.188124 140675736770432 util.py:244] Unresolved object in checkpoint: (root).optimizer's state 'momentum' for (root).layer_with_weights-25.kernel\n",
            "W0722 14:01:30.190073 140675736770432 util.py:244] Unresolved object in checkpoint: (root).optimizer's state 'momentum' for (root).layer_with_weights-25.bias\n",
            "W0722 14:01:30.191947 140675736770432 util.py:244] Unresolved object in checkpoint: (root).optimizer's state 'momentum' for (root).layer_with_weights-26.kernel\n",
            "W0722 14:01:30.193967 140675736770432 util.py:244] Unresolved object in checkpoint: (root).optimizer's state 'momentum' for (root).layer_with_weights-26.bias\n",
            "W0722 14:01:30.196375 140675736770432 util.py:244] Unresolved object in checkpoint: (root).optimizer's state 'momentum' for (root).layer_with_weights-27.gamma\n",
            "W0722 14:01:30.198091 140675736770432 util.py:244] Unresolved object in checkpoint: (root).optimizer's state 'momentum' for (root).layer_with_weights-27.beta\n",
            "W0722 14:01:30.200021 140675736770432 util.py:244] Unresolved object in checkpoint: (root).optimizer's state 'momentum' for (root).layer_with_weights-28.kernel\n",
            "W0722 14:01:30.201908 140675736770432 util.py:244] Unresolved object in checkpoint: (root).optimizer's state 'momentum' for (root).layer_with_weights-28.bias\n",
            "W0722 14:01:30.203662 140675736770432 util.py:244] Unresolved object in checkpoint: (root).optimizer's state 'momentum' for (root).layer_with_weights-29.gamma\n",
            "W0722 14:01:30.205955 140675736770432 util.py:244] Unresolved object in checkpoint: (root).optimizer's state 'momentum' for (root).layer_with_weights-29.beta\n",
            "W0722 14:01:30.207877 140675736770432 util.py:244] Unresolved object in checkpoint: (root).optimizer's state 'momentum' for (root).layer_with_weights-30.kernel\n",
            "W0722 14:01:30.210891 140675736770432 util.py:244] Unresolved object in checkpoint: (root).optimizer's state 'momentum' for (root).layer_with_weights-30.bias\n",
            "W0722 14:01:30.212671 140675736770432 util.py:244] Unresolved object in checkpoint: (root).optimizer's state 'momentum' for (root).layer_with_weights-31.gamma\n",
            "W0722 14:01:30.214440 140675736770432 util.py:244] Unresolved object in checkpoint: (root).optimizer's state 'momentum' for (root).layer_with_weights-31.beta\n",
            "W0722 14:01:30.216953 140675736770432 util.py:244] Unresolved object in checkpoint: (root).optimizer's state 'momentum' for (root).layer_with_weights-32.kernel\n",
            "W0722 14:01:30.218673 140675736770432 util.py:244] Unresolved object in checkpoint: (root).optimizer's state 'momentum' for (root).layer_with_weights-32.bias\n",
            "W0722 14:01:30.220432 140675736770432 util.py:244] Unresolved object in checkpoint: (root).optimizer's state 'momentum' for (root).layer_with_weights-33.gamma\n",
            "W0722 14:01:30.222671 140675736770432 util.py:244] Unresolved object in checkpoint: (root).optimizer's state 'momentum' for (root).layer_with_weights-33.beta\n",
            "W0722 14:01:30.224457 140675736770432 util.py:244] Unresolved object in checkpoint: (root).optimizer's state 'momentum' for (root).layer_with_weights-34.kernel\n",
            "W0722 14:01:30.226210 140675736770432 util.py:244] Unresolved object in checkpoint: (root).optimizer's state 'momentum' for (root).layer_with_weights-34.bias\n",
            "W0722 14:01:30.228920 140675736770432 util.py:244] Unresolved object in checkpoint: (root).optimizer's state 'momentum' for (root).layer_with_weights-35.gamma\n",
            "W0722 14:01:30.231033 140675736770432 util.py:244] Unresolved object in checkpoint: (root).optimizer's state 'momentum' for (root).layer_with_weights-35.beta\n",
            "W0722 14:01:30.232894 140675736770432 util.py:244] Unresolved object in checkpoint: (root).optimizer's state 'momentum' for (root).layer_with_weights-36.kernel\n",
            "W0722 14:01:30.235187 140675736770432 util.py:244] Unresolved object in checkpoint: (root).optimizer's state 'momentum' for (root).layer_with_weights-36.bias\n",
            "W0722 14:01:30.237552 140675736770432 util.py:244] Unresolved object in checkpoint: (root).optimizer's state 'momentum' for (root).layer_with_weights-37.gamma\n",
            "W0722 14:01:30.239522 140675736770432 util.py:244] Unresolved object in checkpoint: (root).optimizer's state 'momentum' for (root).layer_with_weights-37.beta\n",
            "W0722 14:01:30.241039 140675736770432 util.py:244] Unresolved object in checkpoint: (root).optimizer's state 'momentum' for (root).layer_with_weights-38.kernel\n",
            "W0722 14:01:30.244020 140675736770432 util.py:244] Unresolved object in checkpoint: (root).optimizer's state 'momentum' for (root).layer_with_weights-38.bias\n",
            "W0722 14:01:30.245766 140675736770432 util.py:244] Unresolved object in checkpoint: (root).optimizer's state 'momentum' for (root).layer_with_weights-39.gamma\n",
            "W0722 14:01:30.253235 140675736770432 util.py:244] Unresolved object in checkpoint: (root).optimizer's state 'momentum' for (root).layer_with_weights-39.beta\n",
            "W0722 14:01:30.257016 140675736770432 util.py:244] Unresolved object in checkpoint: (root).optimizer's state 'momentum' for (root).layer_with_weights-40.kernel\n",
            "W0722 14:01:30.257964 140675736770432 util.py:244] Unresolved object in checkpoint: (root).optimizer's state 'momentum' for (root).layer_with_weights-40.bias\n",
            "W0722 14:01:30.260987 140675736770432 util.py:244] Unresolved object in checkpoint: (root).optimizer's state 'momentum' for (root).layer_with_weights-41.gamma\n",
            "W0722 14:01:30.264499 140675736770432 util.py:244] Unresolved object in checkpoint: (root).optimizer's state 'momentum' for (root).layer_with_weights-41.beta\n",
            "W0722 14:01:30.266373 140675736770432 util.py:244] Unresolved object in checkpoint: (root).optimizer's state 'momentum' for (root).layer_with_weights-42.kernel\n",
            "W0722 14:01:30.269966 140675736770432 util.py:244] Unresolved object in checkpoint: (root).optimizer's state 'momentum' for (root).layer_with_weights-42.bias\n",
            "W0722 14:01:30.272196 140675736770432 util.py:244] Unresolved object in checkpoint: (root).optimizer's state 'momentum' for (root).layer_with_weights-43.gamma\n",
            "W0722 14:01:30.273888 140675736770432 util.py:244] Unresolved object in checkpoint: (root).optimizer's state 'momentum' for (root).layer_with_weights-43.beta\n",
            "W0722 14:01:30.277294 140675736770432 util.py:244] Unresolved object in checkpoint: (root).optimizer's state 'momentum' for (root).layer_with_weights-44.kernel\n",
            "W0722 14:01:30.280535 140675736770432 util.py:244] Unresolved object in checkpoint: (root).optimizer's state 'momentum' for (root).layer_with_weights-44.bias\n",
            "W0722 14:01:30.282876 140675736770432 util.py:244] Unresolved object in checkpoint: (root).optimizer's state 'momentum' for (root).layer_with_weights-45.kernel\n",
            "W0722 14:01:30.287935 140675736770432 util.py:244] Unresolved object in checkpoint: (root).optimizer's state 'momentum' for (root).layer_with_weights-45.bias\n",
            "W0722 14:01:30.289806 140675736770432 util.py:244] Unresolved object in checkpoint: (root).optimizer's state 'momentum' for (root).layer_with_weights-46.gamma\n",
            "W0722 14:01:30.291925 140675736770432 util.py:244] Unresolved object in checkpoint: (root).optimizer's state 'momentum' for (root).layer_with_weights-46.beta\n",
            "W0722 14:01:30.293616 140675736770432 util.py:244] Unresolved object in checkpoint: (root).optimizer's state 'momentum' for (root).layer_with_weights-47.kernel\n",
            "W0722 14:01:30.295387 140675736770432 util.py:244] Unresolved object in checkpoint: (root).optimizer's state 'momentum' for (root).layer_with_weights-47.bias\n",
            "W0722 14:01:30.298545 140675736770432 util.py:244] Unresolved object in checkpoint: (root).optimizer's state 'momentum' for (root).layer_with_weights-48.gamma\n",
            "W0722 14:01:30.300027 140675736770432 util.py:244] Unresolved object in checkpoint: (root).optimizer's state 'momentum' for (root).layer_with_weights-48.beta\n",
            "W0722 14:01:30.302666 140675736770432 util.py:244] Unresolved object in checkpoint: (root).optimizer's state 'momentum' for (root).layer_with_weights-49.kernel\n",
            "W0722 14:01:30.304358 140675736770432 util.py:244] Unresolved object in checkpoint: (root).optimizer's state 'momentum' for (root).layer_with_weights-49.bias\n",
            "W0722 14:01:30.306191 140675736770432 util.py:244] Unresolved object in checkpoint: (root).optimizer's state 'momentum' for (root).layer_with_weights-50.gamma\n",
            "W0722 14:01:30.308079 140675736770432 util.py:244] Unresolved object in checkpoint: (root).optimizer's state 'momentum' for (root).layer_with_weights-50.beta\n",
            "W0722 14:01:30.309580 140675736770432 util.py:244] Unresolved object in checkpoint: (root).optimizer's state 'momentum' for (root).layer_with_weights-51.kernel\n",
            "W0722 14:01:30.311523 140675736770432 util.py:244] Unresolved object in checkpoint: (root).optimizer's state 'momentum' for (root).layer_with_weights-51.bias\n",
            "W0722 14:01:30.313940 140675736770432 util.py:244] Unresolved object in checkpoint: (root).optimizer's state 'momentum' for (root).layer_with_weights-52.gamma\n",
            "W0722 14:01:30.315119 140675736770432 util.py:244] Unresolved object in checkpoint: (root).optimizer's state 'momentum' for (root).layer_with_weights-52.beta\n",
            "W0722 14:01:30.317947 140675736770432 util.py:244] Unresolved object in checkpoint: (root).optimizer's state 'momentum' for (root).layer_with_weights-53.kernel\n",
            "W0722 14:01:30.319694 140675736770432 util.py:244] Unresolved object in checkpoint: (root).optimizer's state 'momentum' for (root).layer_with_weights-53.bias\n",
            "W0722 14:01:30.321316 140675736770432 util.py:244] Unresolved object in checkpoint: (root).optimizer's state 'momentum' for (root).layer_with_weights-54.gamma\n",
            "W0722 14:01:30.323849 140675736770432 util.py:244] Unresolved object in checkpoint: (root).optimizer's state 'momentum' for (root).layer_with_weights-54.beta\n",
            "W0722 14:01:30.326694 140675736770432 util.py:244] Unresolved object in checkpoint: (root).optimizer's state 'momentum' for (root).layer_with_weights-55.kernel\n",
            "W0722 14:01:30.328438 140675736770432 util.py:244] Unresolved object in checkpoint: (root).optimizer's state 'momentum' for (root).layer_with_weights-55.bias\n",
            "W0722 14:01:30.330163 140675736770432 util.py:244] Unresolved object in checkpoint: (root).optimizer's state 'momentum' for (root).layer_with_weights-56.gamma\n",
            "W0722 14:01:30.331828 140675736770432 util.py:244] Unresolved object in checkpoint: (root).optimizer's state 'momentum' for (root).layer_with_weights-56.beta\n",
            "W0722 14:01:30.333722 140675736770432 util.py:244] Unresolved object in checkpoint: (root).optimizer's state 'momentum' for (root).layer_with_weights-57.kernel\n",
            "W0722 14:01:30.335543 140675736770432 util.py:244] Unresolved object in checkpoint: (root).optimizer's state 'momentum' for (root).layer_with_weights-57.bias\n",
            "W0722 14:01:30.337841 140675736770432 util.py:244] Unresolved object in checkpoint: (root).optimizer's state 'momentum' for (root).layer_with_weights-58.gamma\n",
            "W0722 14:01:30.340206 140675736770432 util.py:244] Unresolved object in checkpoint: (root).optimizer's state 'momentum' for (root).layer_with_weights-58.beta\n",
            "W0722 14:01:30.342972 140675736770432 util.py:244] Unresolved object in checkpoint: (root).optimizer's state 'momentum' for (root).layer_with_weights-59.kernel\n",
            "W0722 14:01:30.344969 140675736770432 util.py:244] Unresolved object in checkpoint: (root).optimizer's state 'momentum' for (root).layer_with_weights-59.bias\n",
            "W0722 14:01:30.347938 140675736770432 util.py:244] Unresolved object in checkpoint: (root).optimizer's state 'momentum' for (root).layer_with_weights-60.kernel\n",
            "W0722 14:01:30.349726 140675736770432 util.py:244] Unresolved object in checkpoint: (root).optimizer's state 'momentum' for (root).layer_with_weights-60.bias\n",
            "W0722 14:01:30.351459 140675736770432 util.py:244] Unresolved object in checkpoint: (root).optimizer's state 'momentum' for (root).layer_with_weights-61.kernel\n",
            "W0722 14:01:30.353720 140675736770432 util.py:244] Unresolved object in checkpoint: (root).optimizer's state 'momentum' for (root).layer_with_weights-61.bias\n",
            "W0722 14:01:30.356974 140675736770432 util.py:252] A checkpoint was restored (e.g. tf.train.Checkpoint.restore or tf.keras.Model.load_weights) but not all checkpointed values were used. See above for specific issues. Use expect_partial() on the load status object, e.g. tf.train.Checkpoint.restore(...).expect_partial(), to silence these warnings, or use assert_consumed() to make the check explicit. See https://www.tensorflow.org/alpha/guide/checkpoints#loading_mechanics for details.\n"
          ],
          "name": "stderr"
        }
      ]
    }
  ]
}